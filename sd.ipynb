{
    "cells": [
        {
            "cell_type": "code",
            "execution_count": null,
            "metadata": {},
            "outputs": [],
            "source": [
                "import comfyui\n",
                "import funcs_jinja\n",
                "import json\n",
                "import random\n",
                "import sd_images\n",
                "import sd_to_album"
            ]
        },
        {
            "cell_type": "code",
            "execution_count": null,
            "metadata": {},
            "outputs": [],
            "source": [
                "template_path = '/Users/georgebennett/Documents/Code/script_writer/workflows/workflow_api.json'\n",
                "\n",
                "# template_path = \"/Users/georgebennett/Documents/Code/script_writer/workflows/comfyui_default_template.txt\"\n",
                "# Read the template content from the file\n",
                "with open(template_path, 'r') as file:\n",
                "    template_content = file.read()\n",
                "\n",
                "template_variables = funcs_jinja.extract_variables_from_template(template_content)\n",
                "print(template_variables)\n",
                "\n",
                "\n",
                "random_number = random.randint(1000, 1000000)\n",
                "my_prompt_text = \"Close up documentary image of a sexy a young blonde 20 y.o. mongolian 1girl, in a crowded office, nude, sat on an office chair legs spread wide. knees up. smiling\"\n",
                "variables_dict = {\"seed\": random_number, \"prompt_text\": my_prompt_text}\n",
                "template_rendered = funcs_jinja.render_from_template(template_content, variables_dict)\n",
                "print(template_rendered)\n",
                "images = comfyui.get_images(template_rendered)\n",
                "\n",
                "# images = comfyui.get_images(template_content)"
            ]
        },
        {
            "cell_type": "code",
            "execution_count": null,
            "metadata": {},
            "outputs": [],
            "source": [
                "binaries = comfyui.collect_image_binaries(images)"
            ]
        },
        {
            "cell_type": "code",
            "execution_count": null,
            "metadata": {},
            "outputs": [],
            "source": [
                "# This function will save each image to a file\n",
                "def save_images(image_data_list):\n",
                "    for index, binary_data in enumerate(image_data_list):\n",
                "        # Construct a filename for each image\n",
                "        filename = f\"image_{index + 1}.jpg\"  # Change the file extension if necessary\n",
                "\n",
                "        # Open a new file in binary write mode and write the image data\n",
                "        with open(filename, 'wb') as image_file:\n",
                "            image_file.write(binary_data)\n",
                "        print(f\"Image saved as {filename}\")\n",
                "\n",
                "# Call the function with your list of image binaries\n",
                "save_images(binaries)"
            ]
        },
        {
            "cell_type": "code",
            "execution_count": null,
            "metadata": {},
            "outputs": [],
            "source": []
        },
        {
            "cell_type": "code",
            "execution_count": null,
            "metadata": {},
            "outputs": [],
            "source": []
        },
        {
            "cell_type": "code",
            "execution_count": null,
            "metadata": {},
            "outputs": [],
            "source": []
        },
        {
            "cell_type": "code",
            "execution_count": null,
            "metadata": {},
            "outputs": [],
            "source": [
                "import sd_images\n",
                "# test_data = {'seed': 277276572, 'workflow_id': 4, 'prompt_text': '(Small cute boy, cute), sitting, house front porch, daytime'}\n",
                "test_data = {'workflow_id': 4, 'prompt_text': '(Small fluffy dog, cute), sitting, house front porch, daytime'}\n",
                "imgs = sd_images.get_images(test_data)\n",
                "print(imgs)"
            ]
        },
        {
            "cell_type": "code",
            "execution_count": null,
            "metadata": {},
            "outputs": [],
            "source": []
        },
        {
            "cell_type": "code",
            "execution_count": null,
            "metadata": {},
            "outputs": [],
            "source": [
                "fetch(\"https://comfy.ngrok.app/extensions\", {\n",
                "  \"headers\": {\n",
                "    \"accept\": \"*/*\",\n",
                "    \"accept-language\": \"en-GB,en-US;q=0.9,en;q=0.8\",\n",
                "    \"sec-ch-ua\": \"\\\"Google Chrome\\\";v=\\\"119\\\", \\\"Chromium\\\";v=\\\"119\\\", \\\"Not?A_Brand\\\";v=\\\"24\\\"\",\n",
                "    \"sec-ch-ua-mobile\": \"?0\",\n",
                "    \"sec-ch-ua-platform\": \"\\\"macOS\\\"\",\n",
                "    \"sec-fetch-dest\": \"empty\",\n",
                "    \"sec-fetch-mode\": \"cors\",\n",
                "    \"sec-fetch-site\": \"same-origin\"\n",
                "  },\n",
                "  \"referrer\": \"https://comfy.ngrok.app/\",\n",
                "  \"referrerPolicy\": \"strict-origin-when-cross-origin\",\n",
                "  \"body\": null,\n",
                "  \"method\": \"GET\",\n",
                "  \"mode\": \"cors\",\n",
                "  \"credentials\": \"omit\"\n",
                "});"
            ]
        },
        {
            "cell_type": "code",
            "execution_count": 6,
            "metadata": {},
            "outputs": [],
            "source": [
                "data = [{'name': 'project_id', 'value': ''}, {'name': 'workflow_id', 'value': '5'}, {'name': 'prompt_start', 'value': 'HELLO masterpiece HDR'}, {'name': 'prompt_text', 'value': '{{man}} bakes pizza'}, {'name': 'prompt_end', 'value': 'SHARP focus, amazing fine detail, hyper realistic, lifelike, dramatic lighting'}, {'name': 'prompt_neg', 'value': 'hands, text, watermark, nsfw, painting, drawing, sketch, cartoon, anime, manga, render, 3d, watermark, signature, label, long neck'}, {'name': 'seed', 'value': '4956763'}, {'name': 'batch_size', 'value': '5'}, {'name': 'size-width', 'value': '512'}, {'name': 'size-height', 'value': '512'}, {'name': 'cfg_scale', 'value': '7'}, {'name': 'steps', 'value': '30'}, {'name': 'hi_res_fix', 'value': 'on'}, {'name': 'model', 'value': 'protovisionXLHighFidelity3D_beta0520Bakedvae.safetensors'}, {'name': 'prompt_variables[0][key]', 'value': 'man'}, {'name': 'prompt_variables[0][value]', 'value': 'indian rabi'}, {'name': 'prompt_variables[1][key]', 'value': 'city'}, {'name': 'prompt_variables[1][value]', 'value': 'London'}, {'name': 'prompt_variables[2][key]', 'value': 'dog'}, {'name': 'prompt_variables[2][value]', 'value': 'Golden retriever'}]"
            ]
        },
        {
            "cell_type": "code",
            "execution_count": 8,
            "metadata": {},
            "outputs": [
                {
                    "name": "stdout",
                    "output_type": "stream",
                    "text": [
                        "<class 'tuple'>\n"
                    ]
                }
            ],
            "source": [
                "import sd_images\n",
                "prompt_variables, cleaned = sd_images.get_prompt_variables(data)\n",
                "print(type(prompt_variables))"
            ]
        }
    ],
    "metadata": {
        "kernelspec": {
            "display_name": "myenv",
            "language": "python",
            "name": "python3"
        },
        "language_info": {
            "codemirror_mode": {
                "name": "ipython",
                "version": 3
            },
            "file_extension": ".py",
            "mimetype": "text/x-python",
            "name": "python",
            "nbconvert_exporter": "python",
            "pygments_lexer": "ipython3",
            "version": "3.11.6"
        }
    },
    "nbformat": 4,
    "nbformat_minor": 2
}