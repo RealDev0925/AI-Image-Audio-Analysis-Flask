{
    "cells": [
        {
            "cell_type": "code",
            "execution_count": null,
            "metadata": {},
            "outputs": [],
            "source": [
                "import os\n",
                "import requests\n",
                "import funcs_supabase"
            ]
        },
        {
            "cell_type": "code",
            "execution_count": null,
            "metadata": {},
            "outputs": [],
            "source": [
                "def clean_dictionary_values(input_dict):\n",
                "    \"\"\"\n",
                "    This function takes a dictionary as input, and for each string value,\n",
                "    it removes leading and trailing whitespaces, extra lines, and converts it to lower case.\n",
                "    \"\"\"\n",
                "    # Iterate over all key-value pairs in the dictionary\n",
                "    for key, value in input_dict.items():\n",
                "        if isinstance(value, str):  # Check if the value is a string\n",
                "            # Strip leading/trailing whitespace, replace newlines with space, and convert to lower case\n",
                "            cleaned_value = ' '.join(value.split()).lower()\n",
                "            # Update the value in the dictionary\n",
                "            input_dict[key] = cleaned_value\n",
                "\n",
                "    return input_dict\n",
                "\n",
                "# # Example dictionary\n",
                "# example_dict = {\n",
                "#     'key1': '   Some TEXT with Extra   Spaces   \\n and new lines\\n',\n",
                "#     'key2': '\\n\\nAnother\\nValue With \\t Whitespaces\\n   and lines. '\n",
                "# }\n",
                "\n",
                "# # Clean the dictionary values\n",
                "# cleaned_dict = clean_dictionary_values(example_dict)\n",
                "# cleaned_dict\n",
                "\n",
                "\n",
                "def get_prompt_variables(data):\n",
                "    \"\"\"gets the prompt variables for a given list of data, also removes the prompt_variables from the list\n",
                "    input and output data format is a list of dictionaries:\n",
                "    [{'name': 'workflow_id', 'value': '5'},\n",
                "\n",
                "    \"\"\"\n",
                "    prompt_variables_dict = {}\n",
                "    for item in data:\n",
                "        if 'prompt_variables' in item['name']:\n",
                "            parts = item['name'].split('[')\n",
                "            position = int(parts[1].split(']')[0])\n",
                "            key_or_value = parts[2].split(']')[0]\n",
                "            if position not in prompt_variables_dict:\n",
                "                prompt_variables_dict[position] = {}            \n",
                "            prompt_variables_dict[position][key_or_value] = item['value']\n",
                "\n",
                "    prompt_variables = [val for key, val in sorted(prompt_variables_dict.items())]\n",
                "    \n",
                "    # clean the prompt_variables\n",
                "    prompt_variables_cleaned = []\n",
                "    for pv in prompt_variables:\n",
                "        pv = clean_dictionary_values(pv)\n",
                "        prompt_variables_cleaned.append(pv)\n",
                "    \n",
                "    prompt_variables = prompt_variables_cleaned\n",
                "\n",
                "    # remove the prompt_variables from the list\n",
                "    cleaned_list = []  #\n",
                "    for item in data:\n",
                "        if 'prompt_variables' not in item['name']:\n",
                "            cleaned_list.append(item)\n",
                "\n",
                "    # cleaned_list.append({'name': 'prompt_variables', 'value': prompt_variables})        \n",
                "    return (prompt_variables, cleaned_list)\n",
                "\n",
                "# prompt_variables, input_data_cleaned = get_prompt_variables(input_data)\n",
                "# print(prompt_variables)\n",
                "# print(input_data_cleaned)\n"
            ]
        },
        {
            "cell_type": "code",
            "execution_count": null,
            "metadata": {},
            "outputs": [],
            "source": [
                "def name_value_to_dict(list_of_dicts):\n",
                "    \"\"\"Converts a list of dicts with 'name'/'key' and 'value' keys to a single dict.\"\"\"\n",
                "    # Initialize an empty dictionary to store the results\n",
                "    combined_dict = {}\n",
                "    \n",
                "    # Loop over each dictionary in the list\n",
                "    for item in list_of_dicts:\n",
                "        # The key can be under either 'name' or 'key'\n",
                "        # We use the `get` method to try 'name' first, then 'key' if 'name' doesn't exist\n",
                "        key = item.get('name') or item.get('key')\n",
                "        value = item['value']\n",
                "        \n",
                "        # Add the key-value pair to the combined dictionary\n",
                "        combined_dict[key] = value\n",
                "        \n",
                "    return combined_dict\n"
            ]
        },
        {
            "cell_type": "code",
            "execution_count": null,
            "metadata": {},
            "outputs": [],
            "source": [
                "import funcs_jinja\n",
                "def variables_into_prompts(input_data_cleaned, prompt_variables):\n",
                "\n",
                "    for item in input_data_cleaned:\n",
                "        if \"prompt\" in item:\n",
                "            # print (item, input_data_cleaned[item])\n",
                "            template = input_data_cleaned[item]\n",
                "            input_data_cleaned[item] = funcs_jinja.render_from_template(template, prompt_variables, False)\n",
                "            # print (input_data_cleaned[item])\n",
                "\n",
                "    return input_data_cleaned\n",
                "\n",
                "# print(input_data_cleaned)\n",
                "# input_data_cleaned_w_vars = variables_into_prompts(input_data_cleaned, prompt_variables)\n",
                "# print(input_data_cleaned_w_vars)"
            ]
        },
        {
            "cell_type": "code",
            "execution_count": null,
            "metadata": {},
            "outputs": [],
            "source": [
                "def add_to_media_link_table(data):\n",
                "    # add to media table and get id\n",
                "    media_id = funcs_supabase.insert_data(\"media\", data)\n",
                "    return media_id\n",
                "\n",
                "def upload_media(upload_filepath, file_content, add_to_media_table=True):\n",
                "    # upload to storage \n",
                "    upload = funcs_supabase.upload_file(\"media\", upload_filepath, file_content)\n",
                "    final_link = f\"https://fpyltvtkpkrkzortucoa.supabase.co/storage/v1/object/public/media/{upload_filepath}\"\n",
                "    print(final_link)\n",
                "\n",
                "    if add_to_media_table:\n",
                "        data_to_send  = {\"url\": final_link, \"type\": \"image\"}\n",
                "        media_id = add_to_media_link_table(data_to_send)\n",
                "        print(media_id)\n",
                "        return media_id\n",
                "\n",
                "    else: \n",
                "        return final_link\n",
                "\n"
            ]
        },
        {
            "cell_type": "code",
            "execution_count": null,
            "metadata": {},
            "outputs": [],
            "source": [
                "import comfyui\n",
                "import random\n",
                "def send_data_get_imgs(rendered_template):\n",
                "    images_dict = comfyui.get_images(rendered_template)\n",
                "    image_binaries = comfyui.collect_image_binaries(images_dict)\n",
                "    outputs_list = []\n",
                "    # upload_filepath = f\"final_media/{project_id}/{timestamp}.mp4\"\n",
                "    for index, binary_data in enumerate(image_binaries):\n",
                "        # Construct a filename for each image\n",
                "        random_number = random.randint(1000, 1000000)\n",
                "        filename = f\"{random_number}_{index + 1}.jpg\"\n",
                "        media_complete = upload_media(filename, binary_data)\n",
                "        outputs_list.append(media_complete)\n",
                "    return outputs_list\n",
                " "
            ]
        },
        {
            "cell_type": "code",
            "execution_count": null,
            "metadata": {},
            "outputs": [],
            "source": [
                "def get_images_2(input_data_original):\n",
                "\n",
                "    #1 extract prompt variables and remove from input data\n",
                "    prompt_variables, input_data_cleaned = get_prompt_variables(input_data_original)\n",
                "    # print(prompt_variables)\n",
                "    # print(input_data_cleaned)\n",
                "\n",
                "    #2 convert input data and prompt variables to dicts\n",
                "    prompt_variables = name_value_to_dict(prompt_variables)\n",
                "    print(prompt_variables)\n",
                "    input_data = name_value_to_dict(input_data_cleaned)\n",
                "    # print(input_data)\n",
                "\n",
                "    #3 puts the prompt variables into the input data dict\n",
                "    input_data = variables_into_prompts(input_data, prompt_variables)\n",
                "    # print(input_data)\n",
                "\n",
                "    #4 get the workflow template \n",
                "    workflow_id = input_data.get('workflow_id')\n",
                "    workflow_data = funcs_supabase.select_data('sd_workflows', 'id', workflow_id)\n",
                "    workflow_data = workflow_data[0]\n",
                "    workflow_template = workflow_data['workflow_template']\n",
                "    \n",
                "    #5 replace the variables in the workflow_template with new input data.\n",
                "    rendered_template = funcs_jinja.render_from_template(workflow_template, input_data, True)\n",
                "    print(rendered_template)\n",
                "    print(type(rendered_template))\n",
                "\n",
                "    # # get the images\n",
                "    imgs = send_data_get_imgs(rendered_template)\n",
                "    return imgs\n",
                "    \n",
                "\n",
                "    \n",
                "input_data = [{'name': 'workflow_id', 'value': '5'}, {'name': 'prompt_start', 'value': 'masterpiece HDR'}, {'name': 'prompt_text', 'value': '{{man}} in {{city}} with {{dog}}'}, {'name': 'prompt_end', 'value': 'sharp focus, amazing fine detail, hyper realistic, lifelike, dramatic lighting'}, {'name': 'prompt_neg', 'value': 'bad hands, text, watermark, nsfw, painting, drawing, sketch, cartoon, anime, manga, render, 3d, watermark, signature, label, long neck'}, {'name': 'seed', 'value': '3688084'}, {'name': 'batch_size', 'value': '3'}, {'name': 'size-width', 'value': '512'}, {'name': 'size-height', 'value': '512'}, {'name': 'cfg_scale', 'value': '7'}, {'name': 'steps', 'value': '30'}, {'name': 'hi_res_fix', 'value': 'on'}, {'name': 'model', 'value': 'protovisionXLHighFidelity3D_beta0520Bakedvae.safetensors'}, {'name': 'prompt_variables[0][key]', 'value': 'man'}, {'name': 'prompt_variables[0][value]', 'value': 'Sexy, blonde, big butt, skimpy outfit'}, {'name': 'prompt_variables[1][key]', 'value': 'city'}, {'name': 'prompt_variables[1][value]', 'value': 'new york city, chrysler building in the background'}, {'name': 'prompt_variables[2][key]', 'value': 'dog'}, {'name': 'prompt_variables[2][value]', 'value': 'Merle cockapoo'}]\n",
                "get_images_2(input_data)\n",
                "\n"
            ]
        },
        {
            "cell_type": "code",
            "execution_count": null,
            "metadata": {},
            "outputs": [],
            "source": [
                "def extract_prompt_variables_from_dict(data_dict):\n",
                "    \"\"\"\n",
                "    This function takes a dictionary input and extracts the 'prompt_variables' key-value pairs.\n",
                "    The 'prompt_variables' are then converted into a dictionary of their own and returned.\n",
                "    \"\"\"\n",
                "    # Initialize an empty dictionary for the prompt variables\n",
                "    prompt_variables_dict = {}\n",
                "    \n",
                "    # Loop through the data_dict to find all prompt variable entries\n",
                "    for item in data_dict:\n",
                "        if item.startswith('prompt_variables'):\n",
                "            # Extract the key and value for the prompt variable\n",
                "            key = data_dict[item]['key']\n",
                "            value = data_dict[item]['value']\n",
                "            # Add to the prompt variables dictionary\n",
                "            prompt_variables_dict[key] = value\n",
                "\n",
                "    return prompt_variables_dict"
            ]
        },
        {
            "cell_type": "code",
            "execution_count": null,
            "metadata": {},
            "outputs": [],
            "source": [
                "input_data = [{'name': 'workflow_id', 'value': '5'}, {'name': 'prompt_start', 'value': 'HELLO masterpiece HDR'}, {'name': 'prompt_text', 'value': '(man, black hair, New York City skyline in the background), standing alone'}, {'name': 'prompt_end', 'value': 'SHARP focus, amazing fine detail, hyper realistic, lifelike, dramatic lighting'}, {'name': 'prompt_neg', 'value': 'hands, text, watermark, nsfw, painting, drawing, sketch, cartoon, anime, manga, render, 3d, watermark, signature, label, long neck'}, {'name': 'seed', 'value': '4956763'}, {'name': 'batch_size', 'value': '5'}, {'name': 'size-width', 'value': '512'}, {'name': 'size-height', 'value': '512'}, {'name': 'cfg_scale', 'value': '7'}, {'name': 'steps', 'value': '30'}, {'name': 'hi_res_fix', 'value': 'on'}, {'name': 'model', 'value': 'protovisionXLHighFidelity3D_beta0520Bakedvae.safetensors'}, {'name': 'prompt_variables', 'value': [{'key': 'man', 'value': 'indian rabi'}, {'key': 'city', 'value': 'London'}, {'key': 'dog', 'value': 'Golden retriever'}]}]\n",
                "prompt_variables = extract_prompt_variables_from_dict(input_data)"
            ]
        },
        {
            "cell_type": "code",
            "execution_count": null,
            "metadata": {},
            "outputs": [],
            "source": [
                "input_data = [{'name': 'workflow_id', 'value': '5'}, {'name': 'prompt_start', 'value': 'masterpiece HDR'}, {'name': 'prompt_text', 'value': '{{man}} in {{city}} with {{dog}}'}, {'name': 'prompt_end', 'value': 'sharp focus, amazing fine detail, hyper realistic, lifelike, dramatic lighting'}, {'name': 'prompt_neg', 'value': 'bad hands, text, watermark, nsfw, painting, drawing, sketch, cartoon, anime, manga, render, 3d, watermark, signature, label, long neck'}, {'name': 'seed', 'value': '3688084'}, {'name': 'batch_size', 'value': '3'}, {'name': 'size-width', 'value': '512'}, {'name': 'size-height', 'value': '512'}, {'name': 'cfg_scale', 'value': '7'}, {'name': 'steps', 'value': '30'}, {'name': 'hi_res_fix', 'value': 'on'}, {'name': 'model', 'value': 'protovisionXLHighFidelity3D_beta0520Bakedvae.safetensors'}, {'name': 'prompt_variables[0][key]', 'value': 'man'}, {'name': 'prompt_variables[0][value]', 'value': 'Sexy, blonde, big butt, skimpy outfit'}, {'name': 'prompt_variables[1][key]', 'value': 'city'}, {'name': 'prompt_variables[1][value]', 'value': 'new york city, chrysler building in the background'}, {'name': 'prompt_variables[2][key]', 'value': 'dog'}, {'name': 'prompt_variables[2][value]', 'value': 'Merle cockapoo'}]\n",
                "input_data_2 = name_value_to_dict(input_data)\n",
                "print(type(input_data_2))\n",
                "\n",
                "prompt_variables = extract_prompt_variables_from_dict(input_data_2)\n",
                "print(prompt_variables)\n"
            ]
        },
        {
            "cell_type": "code",
            "execution_count": null,
            "metadata": {},
            "outputs": [],
            "source": [
                "comfyui.queue_prompt(input_data)"
            ]
        },
        {
            "cell_type": "code",
            "execution_count": null,
            "metadata": {},
            "outputs": [],
            "source": []
        },
        {
            "cell_type": "code",
            "execution_count": null,
            "metadata": {},
            "outputs": [],
            "source": [
                "\n",
                "# images_dict = comfyui.get_images(json_string)\n",
                "# image_binaries = comfyui.collect_image_binaries(images_dict)"
            ]
        },
        {
            "cell_type": "code",
            "execution_count": null,
            "metadata": {},
            "outputs": [],
            "source": []
        },
        {
            "cell_type": "code",
            "execution_count": null,
            "metadata": {},
            "outputs": [],
            "source": []
        },
        {
            "cell_type": "code",
            "execution_count": null,
            "metadata": {},
            "outputs": [],
            "source": []
        },
        {
            "cell_type": "code",
            "execution_count": null,
            "metadata": {},
            "outputs": [],
            "source": [
                "def get_value_from_name(data, key_name):\n",
                "    \"\"\"\n",
                "    Retrieves the value for a given key name from a list of dictionaries.\n",
                "    \n",
                "    Parameters:\n",
                "    data (list): A list of dictionaries, each containing 'name' and 'value' pairs.\n",
                "    key_name (str): The name of the key for which the value is to be retrieved.\n",
                "    \n",
                "    Returns:\n",
                "    str: The value corresponding to the given key name.\n",
                "    None: If the key name is not found in the data.\n",
                "    \"\"\"\n",
                "    # Iterate through the list of dictionaries\n",
                "    for item in data:\n",
                "        # Check if the 'name' key exists and if it matches the 'key_name'\n",
                "        if 'name' in item and item['name'] == key_name:\n",
                "            # Return the 'value' associated with the 'name'\n",
                "            return item['value']\n",
                "    # If the key_name is not found, return None\n",
                "    return None"
            ]
        },
        {
            "cell_type": "code",
            "execution_count": null,
            "metadata": {},
            "outputs": [],
            "source": [
                "inputs = workflow_data.get(\"inputs\", [])\n",
                "print(inputs)\n",
                "\n",
                "# Initialize an empty dictionary to store the extracted keys and values\n",
                "workflow_inputs = {}\n",
                "# Iterate over each dictionary in the list and add the key-value pairs to the extracted_dict\n",
                "for item in inputs:\n",
                "    key = item.get('key')\n",
                "    value = item.get('value')\n",
                "    if key and value:  # Make sure the key and value are not None\n",
                "        workflow_inputs[key] = value\n",
                "\n",
                "\n",
                "print(workflow_inputs) "
            ]
        },
        {
            "cell_type": "code",
            "execution_count": null,
            "metadata": {},
            "outputs": [],
            "source": [
                "print(input_data_cleaned)\n",
                "print(prompt_variables)\n",
                "print(workflow_data)\n",
                "print(workflow_inputs)"
            ]
        },
        {
            "cell_type": "code",
            "execution_count": null,
            "metadata": {},
            "outputs": [],
            "source": [
                "for item in input_data_cleaned:\n",
                "    print(item)"
            ]
        },
        {
            "cell_type": "code",
            "execution_count": null,
            "metadata": {},
            "outputs": [],
            "source": [
                "# replace variables in the input data with the project variables.\n",
                "# replace the variables in the workflow_template with new input data.\n",
                "\n",
                "\n"
            ]
        },
        {
            "cell_type": "code",
            "execution_count": null,
            "metadata": {},
            "outputs": [],
            "source": []
        },
        {
            "cell_type": "code",
            "execution_count": null,
            "metadata": {},
            "outputs": [],
            "source": [
                "\n",
                "# input form, get images\n",
                "def get_images(input_data):\n",
                "    # print(input_data)\n",
                "    sd_workflow = input_data[\"workflow_id\"]\n",
                "    workflow_data = funcs_supabase.select_data('sd_workflows', 'id', sd_workflow)\n",
                "    workflow_data = workflow_data[0]\n",
                "    print(\"WORKFLOW DATA\")\n",
                "    print(workflow_data)\n",
                "\n",
                "    inputs = workflow_data.get(\"inputs\", [])\n",
                "    print(\"INPUTS\")\n",
                "    print(inputs)\n",
                "\n",
                "\n",
                "\n",
                "\n",
                "    # Initialize an empty dictionary to store the extracted keys and values\n",
                "    inputs_dict = {}\n",
                "    # Iterate over each dictionary in the list and add the key-value pairs to the extracted_dict\n",
                "    for item in inputs:\n",
                "        key = item.get('key')\n",
                "        value = item.get('value')\n",
                "        if key and value:  # Make sure the key and value are not None\n",
                "            inputs_dict[key] = value\n",
                "\n",
                "\n",
                "\n",
                "\n",
                "    # print(\"INPUTS DICT\")\n",
                "    # print(inputs_dict)\n",
                "\n",
                "\n",
                "\n",
                "    inputs_updated = update_inputs(inputs_dict, input_data)\n",
                "\n",
                "    workflow_template = workflow_data.get(\"workflow_template\")\n",
                "    # print(\"WORKFLOW TEMPLATE\")\n",
                "    # print(workflow_template)\n",
                "\n",
                "    # Render the template with the inputs\n",
                "    rendered_template = funcs_jinja.render_from_template(workflow_template, inputs_updated)\n",
                "    print(\"SENDING TO COMFY:\")\n",
                "    print(rendered_template)\n",
                "\n",
                "\n",
                "    # random_number = random.randint(1000, 1000000)\n",
                "    # my_prompt_text = \"Close up documentary image of a sexy a young blonde 20 y.o. mongolian 1girl, in a crowded office, nude, sat on an office chair legs spread wide. knees up. smiling\"\n",
                "    # variables_dict = {\"seed\": random_number, \"prompt_text\": my_prompt_text}\n",
                "\n",
                "\n",
                "    # template_rendered = funcs_jinja.render_from_template(template_content, inputs)\n",
                "    # print(template_rendered)\n",
                "\n",
                "    images_dict = comfyui.get_images(rendered_template)\n",
                "    image_binaries = comfyui.collect_image_binaries(images_dict)\n",
                "\n",
                "    outputs_list = []\n",
                "    # upload_filepath = f\"final_media/{project_id}/{timestamp}.mp4\"\n",
                "\n",
                "    for index, binary_data in enumerate(image_binaries):\n",
                "        # Construct a filename for each image\n",
                "        random_number = random.randint(1000, 1000000)\n",
                "\n",
                "        filename = f\"{random_number}_{index + 1}.jpg\"\n",
                "\n",
                "        media_complete = upload_media(filename, binary_data)\n",
                "\n",
                "        outputs_list.append(media_complete)\n",
                "\n",
                "\n",
                "    return outputs_list\n",
                " \n",
                "\n",
                "\n"
            ]
        },
        {
            "cell_type": "code",
            "execution_count": null,
            "metadata": {},
            "outputs": [],
            "source": []
        },
        {
            "cell_type": "code",
            "execution_count": null,
            "metadata": {},
            "outputs": [],
            "source": []
        },
        {
            "cell_type": "code",
            "execution_count": null,
            "metadata": {},
            "outputs": [],
            "source": []
        },
        {
            "cell_type": "code",
            "execution_count": null,
            "metadata": {},
            "outputs": [],
            "source": []
        },
        {
            "cell_type": "code",
            "execution_count": 13,
            "metadata": {},
            "outputs": [],
            "source": [
                "def get_value_for_name(list_of_dicts, key)   :\n",
                "    for item in list_of_dicts:\n",
                "        if item['name'] == key:\n",
                "            return item['value']"
            ]
        },
        {
            "cell_type": "code",
            "execution_count": 16,
            "metadata": {},
            "outputs": [
                {
                    "name": "stdout",
                    "output_type": "stream",
                    "text": [
                        "[{'name': 'workflow_id', 'value': '5'}, {'name': 'prompt_start', 'value': 'HELLO masterpiece HDR'}, {'name': 'prompt_text', 'value': '(man, black hair, New York City skyline in the background), standing alone'}, {'name': 'prompt_end', 'value': 'SHARP focus, amazing fine detail, hyper realistic, lifelike, dramatic lighting'}, {'name': 'prompt_neg', 'value': 'hands, text, watermark, nsfw, painting, drawing, sketch, cartoon, anime, manga, render, 3d, watermark, signature, label, long neck'}, {'name': 'seed', 'value': '4956763'}, {'name': 'batch_size', 'value': '5'}, {'name': 'size-width', 'value': '512'}, {'name': 'size-height', 'value': '512'}, {'name': 'cfg_scale', 'value': '7'}, {'name': 'steps', 'value': '30'}, {'name': 'hi_res_fix', 'value': 'on'}, {'name': 'model', 'value': 'protovisionXLHighFidelity3D_beta0520Bakedvae.safetensors'}]\n"
                    ]
                }
            ],
            "source": [
                "def remove_name_for_value (list_of_dicts, key):\n",
                "    for item in list_of_dicts:\n",
                "        if item['name'] == key:\n",
                "            list_of_dicts.remove(item)\n",
                "            return list_of_dicts\n",
                "        \n",
                "key = 'prompt_variables'\n",
                "removed_list = remove_name_for_value(data, key)\n",
                "print(removed_list)"
            ]
        },
        {
            "cell_type": "code",
            "execution_count": null,
            "metadata": {},
            "outputs": [],
            "source": [
                "# Saved Data Format:\n",
                "\n",
                "\n",
                "input_data = [{'name': 'project_id', 'value': ''}, {'name': 'workflow_id', 'value': '5'}, {'name': 'prompt_start', 'value': 'HELLO masterpiece HDR'}, {'name': 'prompt_text', 'value': '{{man}} bakes pizza'}, {'name': 'prompt_end', 'value': 'SHARP focus, amazing fine detail, hyper realistic, lifelike, dramatic lighting'}, {'name': 'prompt_neg', 'value': 'hands, text, watermark, nsfw, painting, drawing, sketch, cartoon, anime, manga, render, 3d, watermark, signature, label, long neck'}, {'name': 'seed', 'value': '4956763'}, {'name': 'batch_size', 'value': '5'}, {'name': 'size-width', 'value': '512'}, {'name': 'size-height', 'value': '512'}, {'name': 'cfg_scale', 'value': '7'}, {'name': 'steps', 'value': '30'}, {'name': 'hi_res_fix', 'value': 'on'}, {'name': 'model', 'value': 'protovisionXLHighFidelity3D_beta0520Bakedvae.safetensors'}, {'name': 'prompt_variables[0][key]', 'value': 'man'}, {'name': 'prompt_variables[0][value]', 'value': 'indian rabi'}, {'name': 'prompt_variables[1][key]', 'value': 'city'}, {'name': 'prompt_variables[1][value]', 'value': 'London'}, {'name': 'prompt_variables[2][key]', 'value': 'dog'}, {'name': 'prompt_variables[2][value]', 'value': 'Golden retriever'}]\n",
                "\n",
                "data = [{'name': 'workflow_id', 'value': '5'}, {'name': 'prompt_start', 'value': 'HELLO masterpiece HDR'}, {'name': 'prompt_text', 'value': '(man, black hair, New York City skyline in the background), standing alone'}, {'name': 'prompt_end', 'value': 'SHARP focus, amazing fine detail, hyper realistic, lifelike, dramatic lighting'}, {'name': 'prompt_neg', 'value': 'hands, text, watermark, nsfw, painting, drawing, sketch, cartoon, anime, manga, render, 3d, watermark, signature, label, long neck'}, {'name': 'seed', 'value': '4956763'}, {'name': 'batch_size', 'value': '5'}, {'name': 'size-width', 'value': '512'}, {'name': 'size-height', 'value': '512'}, {'name': 'cfg_scale', 'value': '7'}, {'name': 'steps', 'value': '30'}, {'name': 'hi_res_fix', 'value': 'on'}, {'name': 'model', 'value': 'protovisionXLHighFidelity3D_beta0520Bakedvae.safetensors'}, {'name': 'prompt_variables', 'value': [{'key': 'man', 'value': 'indian rabi'}, {'key': 'city', 'value': 'London'}, {'key': 'dog', 'value': 'Golden retriever'}]}]\n"
            ]
        },
        {
            "cell_type": "code",
            "execution_count": 15,
            "metadata": {},
            "outputs": [
                {
                    "name": "stdout",
                    "output_type": "stream",
                    "text": [
                        "[{'key': 'man', 'value': 'indian rabi'}, {'key': 'city', 'value': 'London'}, {'key': 'dog', 'value': 'Golden retriever'}]\n"
                    ]
                }
            ],
            "source": [
                "prompt_variables= get_value_for_name(data, 'prompt_variables')\n",
                "print(prompt_variables)"
            ]
        },
        {
            "cell_type": "code",
            "execution_count": null,
            "metadata": {},
            "outputs": [],
            "source": [
                "import sd_images\n",
                "sd_images.get_images_2(data)\n",
                "\n"
            ]
        },
        {
            "cell_type": "code",
            "execution_count": 12,
            "metadata": {},
            "outputs": [
                {
                    "ename": "IndexError",
                    "evalue": "list index out of range",
                    "output_type": "error",
                    "traceback": [
                        "\u001b[0;31m---------------------------------------------------------------------------\u001b[0m",
                        "\u001b[0;31mIndexError\u001b[0m                                Traceback (most recent call last)",
                        "\u001b[1;32m/Users/georgebennett/Documents/Code/script_writer/sd_input.ipynb Cell 31\u001b[0m line \u001b[0;36m1\n\u001b[0;32m----> <a href='vscode-notebook-cell:/Users/georgebennett/Documents/Code/script_writer/sd_input.ipynb#X42sZmlsZQ%3D%3D?line=0'>1</a>\u001b[0m get_prompt_variables(data)\n",
                        "\u001b[1;32m/Users/georgebennett/Documents/Code/script_writer/sd_input.ipynb Cell 31\u001b[0m line \u001b[0;36m3\n\u001b[1;32m     <a href='vscode-notebook-cell:/Users/georgebennett/Documents/Code/script_writer/sd_input.ipynb#X42sZmlsZQ%3D%3D?line=34'>35</a>\u001b[0m \u001b[39mif\u001b[39;00m \u001b[39m'\u001b[39m\u001b[39mprompt_variables\u001b[39m\u001b[39m'\u001b[39m \u001b[39min\u001b[39;00m item[\u001b[39m'\u001b[39m\u001b[39mname\u001b[39m\u001b[39m'\u001b[39m]:\n\u001b[1;32m     <a href='vscode-notebook-cell:/Users/georgebennett/Documents/Code/script_writer/sd_input.ipynb#X42sZmlsZQ%3D%3D?line=35'>36</a>\u001b[0m     parts \u001b[39m=\u001b[39m item[\u001b[39m'\u001b[39m\u001b[39mname\u001b[39m\u001b[39m'\u001b[39m]\u001b[39m.\u001b[39msplit(\u001b[39m'\u001b[39m\u001b[39m[\u001b[39m\u001b[39m'\u001b[39m)\n\u001b[0;32m---> <a href='vscode-notebook-cell:/Users/georgebennett/Documents/Code/script_writer/sd_input.ipynb#X42sZmlsZQ%3D%3D?line=36'>37</a>\u001b[0m     position \u001b[39m=\u001b[39m \u001b[39mint\u001b[39m(parts[\u001b[39m1\u001b[39;49m]\u001b[39m.\u001b[39msplit(\u001b[39m'\u001b[39m\u001b[39m]\u001b[39m\u001b[39m'\u001b[39m)[\u001b[39m0\u001b[39m])\n\u001b[1;32m     <a href='vscode-notebook-cell:/Users/georgebennett/Documents/Code/script_writer/sd_input.ipynb#X42sZmlsZQ%3D%3D?line=37'>38</a>\u001b[0m     key_or_value \u001b[39m=\u001b[39m parts[\u001b[39m2\u001b[39m]\u001b[39m.\u001b[39msplit(\u001b[39m'\u001b[39m\u001b[39m]\u001b[39m\u001b[39m'\u001b[39m)[\u001b[39m0\u001b[39m]\n\u001b[1;32m     <a href='vscode-notebook-cell:/Users/georgebennett/Documents/Code/script_writer/sd_input.ipynb#X42sZmlsZQ%3D%3D?line=38'>39</a>\u001b[0m     \u001b[39mif\u001b[39;00m position \u001b[39mnot\u001b[39;00m \u001b[39min\u001b[39;00m prompt_variables_dict:\n",
                        "\u001b[0;31mIndexError\u001b[0m: list index out of range"
                    ]
                }
            ],
            "source": [
                "get_prompt_variables(data)"
            ]
        },
        {
            "cell_type": "code",
            "execution_count": 5,
            "metadata": {},
            "outputs": [
                {
                    "name": "stderr",
                    "output_type": "stream",
                    "text": [
                        "2023-11-10 11:53:22,626:INFO - HTTP Request: GET https://fpyltvtkpkrkzortucoa.supabase.co/rest/v1/scenes?select=%2A&id=eq.301 \"HTTP/1.1 200 OK\"\n",
                        "2023-11-10 11:53:22,731:INFO - HTTP Request: GET https://fpyltvtkpkrkzortucoa.supabase.co/rest/v1/video_creator_projects?select=%2A&id=eq.38 \"HTTP/1.1 200 OK\"\n",
                        "2023-11-10 11:53:22,849:INFO - HTTP Request: GET https://fpyltvtkpkrkzortucoa.supabase.co/rest/v1/sd_workflows?select=%2A&id=eq.5 \"HTTP/1.1 200 OK\"\n"
                    ]
                },
                {
                    "name": "stdout",
                    "output_type": "stream",
                    "text": [
                        "{'id': 38, 'created_at': '2023-11-10T11:21:52.890954+00:00', 'project_name': 'Jimmy', 'uuid': 'a688b04e-7f96-4255-b285-82785333a5a6', 'status': 'Active', 'project_description': None, 'project_settings': None, 'speech_audio': None, 'subtitles_file': None, 'words_list': None, 'final_media': None, 'sd_settings': [{'name': 'workflow_id', 'value': '5'}, {'name': 'prompt_start', 'value': 'masterpiece HDR'}, {'name': 'prompt_text', 'value': ''}, {'name': 'prompt_end', 'value': 'sharp focus, amazing fine detail, hyper realistic, lifelike, dramatic lighting'}, {'name': 'prompt_neg', 'value': 'hands, text, watermark, nsfw, painting, drawing, sketch, cartoon, anime, manga, render, 3d, watermark, signature, label, long neck'}, {'name': 'seed', 'value': '49567633'}, {'name': 'batch_size', 'value': '3'}, {'name': 'size-width', 'value': '512'}, {'name': 'size-height', 'value': '512'}, {'name': 'cfg_scale', 'value': '7'}, {'name': 'steps', 'value': '30'}, {'name': 'hi_res_fix', 'value': 'on'}, {'name': 'model', 'value': 'protovisionXLHighFidelity3D_beta0520Bakedvae.safetensors'}, {'name': 'prompt_variables', 'value': [{'key': 'man', 'value': 'indian rabi'}, {'key': 'city', 'value': 'London'}, {'key': 'dog', 'value': 'Golden retriever'}]}]}\n",
                        "[{'name': 'workflow_id', 'value': '5'}, {'name': 'prompt_start', 'value': 'masterpiece HDR'}, {'name': 'prompt_text', 'value': ''}, {'name': 'prompt_end', 'value': 'sharp focus, amazing fine detail, hyper realistic, lifelike, dramatic lighting'}, {'name': 'prompt_neg', 'value': 'hands, text, watermark, nsfw, painting, drawing, sketch, cartoon, anime, manga, render, 3d, watermark, signature, label, long neck'}, {'name': 'seed', 'value': '49567633'}, {'name': 'batch_size', 'value': '3'}, {'name': 'size-width', 'value': '512'}, {'name': 'size-height', 'value': '512'}, {'name': 'cfg_scale', 'value': '7'}, {'name': 'steps', 'value': '30'}, {'name': 'hi_res_fix', 'value': 'on'}, {'name': 'model', 'value': 'protovisionXLHighFidelity3D_beta0520Bakedvae.safetensors'}, {'name': 'prompt_variables', 'value': [{'key': 'man', 'value': 'indian rabi'}, {'key': 'city', 'value': 'London'}, {'key': 'dog', 'value': 'Golden retriever'}]}]\n",
                        "[{'name': 'workflow_id', 'value': '5'}, {'name': 'prompt_start', 'value': 'masterpiece HDR'}, {'name': 'prompt_text', 'value': '((curly blonde hair male, 27 year old guy, happy, gentle)) playing with (Merle golden doodle, puppy)'}, {'name': 'prompt_end', 'value': 'sharp focus, amazing fine detail, hyper realistic, lifelike, dramatic lighting'}, {'name': 'prompt_neg', 'value': 'hands, text, watermark, nsfw, painting, drawing, sketch, cartoon, anime, manga, render, 3d, watermark, signature, label, long neck'}, {'name': 'seed', 'value': '49567633'}, {'name': 'batch_size', 'value': '3'}, {'name': 'size-width', 'value': '512'}, {'name': 'size-height', 'value': '512'}, {'name': 'cfg_scale', 'value': '7'}, {'name': 'steps', 'value': '30'}, {'name': 'hi_res_fix', 'value': 'on'}, {'name': 'model', 'value': 'protovisionXLHighFidelity3D_beta0520Bakedvae.safetensors'}, {'name': 'prompt_variables', 'value': [{'key': 'man', 'value': 'indian rabi'}, {'key': 'city', 'value': 'London'}, {'key': 'dog', 'value': 'Golden retriever'}]}]\n",
                        "SENDING TO COMFY:\n",
                        "{'3': {'inputs': {'seed': 49567633, 'steps': 30, 'cfg': 8, 'sampler_name': 'dpmpp_sde', 'scheduler': 'normal', 'denoise': 1, 'model': ['16', 0], 'positive': ['6', 0], 'negative': ['7', 0], 'latent_image': ['5', 0]}, 'class_type': 'KSampler'}, '5': {'inputs': {'width': 512, 'height': 512, 'batch_size': 3}, 'class_type': 'EmptyLatentImage'}, '6': {'inputs': {'text': 'masterpiece HDR ((curly blonde hair male, 27 year old guy, happy, gentle)) playing with (Merle golden doodle, puppy) sharp focus, amazing fine detail, hyper realistic, lifelike, dramatic lighting', 'clip': ['16', 1]}, 'class_type': 'CLIPTextEncode'}, '7': {'inputs': {'text': 'hands, text, watermark, nsfw, painting, drawing, sketch, cartoon, anime, manga, render, 3d, watermark, signature, label, long neck', 'clip': ['16', 1]}, 'class_type': 'CLIPTextEncode'}, '10': {'inputs': {'upscale_method': 'nearest-exact', 'width': 1024, 'height': 1024, 'crop': 'disabled', 'samples': ['3', 0]}, 'class_type': 'LatentUpscale'}, '11': {'inputs': {'seed': 49567633, 'steps': 30, 'cfg': 8, 'sampler_name': 'dpmpp_2m', 'scheduler': 'simple', 'denoise': 0.5, 'model': ['16', 0], 'positive': ['6', 0], 'negative': ['7', 0], 'latent_image': ['10', 0]}, 'class_type': 'KSampler'}, '12': {'inputs': {'filename_prefix': 'ComfyUI', 'images': ['13', 0]}, 'class_type': 'SaveImage'}, '13': {'inputs': {'samples': ['11', 0], 'vae': ['16', 2]}, 'class_type': 'VAEDecode'}, '16': {'inputs': {'ckpt_name': 'protovisionXLHighFidelity3D_beta0520Bakedvae.safetensors'}, 'class_type': 'CheckpointLoaderSimple'}}\n",
                        "prompt_id: 62a8d573-ec91-49b0-8a69-bddd4e8949f8\n",
                        "{'exec_info': {'queue_remaining': 1}}\n",
                        "not done\n",
                        "{'exec_info': {'queue_remaining': 1}}\n",
                        "not done\n",
                        "{'exec_info': {'queue_remaining': 1}}\n",
                        "not done\n",
                        "{'exec_info': {'queue_remaining': 1}}\n",
                        "not done\n",
                        "{'exec_info': {'queue_remaining': 1}}\n",
                        "not done\n",
                        "{'exec_info': {'queue_remaining': 1}}\n",
                        "not done\n",
                        "{'exec_info': {'queue_remaining': 1}}\n",
                        "not done\n",
                        "{'exec_info': {'queue_remaining': 1}}\n",
                        "not done\n",
                        "{'exec_info': {'queue_remaining': 1}}\n",
                        "not done\n",
                        "{'exec_info': {'queue_remaining': 1}}\n",
                        "not done\n",
                        "{'exec_info': {'queue_remaining': 1}}\n",
                        "not done\n",
                        "{'exec_info': {'queue_remaining': 1}}\n",
                        "not done\n",
                        "{'exec_info': {'queue_remaining': 1}}\n",
                        "not done\n",
                        "{'exec_info': {'queue_remaining': 1}}\n",
                        "not done\n",
                        "{'exec_info': {'queue_remaining': 1}}\n",
                        "not done\n",
                        "{'exec_info': {'queue_remaining': 0}}\n",
                        "done\n"
                    ]
                },
                {
                    "name": "stderr",
                    "output_type": "stream",
                    "text": [
                        "2023-11-10 11:54:09,133:INFO - HTTP Request: POST https://fpyltvtkpkrkzortucoa.supabase.co/storage/v1/object/media/200566_1.jpg \"HTTP/1.1 200 OK\"\n"
                    ]
                },
                {
                    "name": "stdout",
                    "output_type": "stream",
                    "text": [
                        "https://fpyltvtkpkrkzortucoa.supabase.co/storage/v1/object/public/media/200566_1.jpg\n"
                    ]
                },
                {
                    "name": "stderr",
                    "output_type": "stream",
                    "text": [
                        "2023-11-10 11:54:09,350:INFO - HTTP Request: POST https://fpyltvtkpkrkzortucoa.supabase.co/rest/v1/media \"HTTP/1.1 201 Created\"\n"
                    ]
                },
                {
                    "name": "stdout",
                    "output_type": "stream",
                    "text": [
                        "{'id': 6936, 'created_at': '2023-11-10T11:54:09.342654+00:00', 'description': None, 'tags': None, 'custom_fields': None, 'url': 'https://fpyltvtkpkrkzortucoa.supabase.co/storage/v1/object/public/media/200566_1.jpg', 'type': 'image', 'caption': None, 'old_filename': None, 'bucket': None, 'filename': None, 'media_data': None, 'thumbnail_url': None, 'source': None, 'source_data': None, 'url_remote': None, 'source_type': None, 'source_id': None, 'input_phrase': None, 'terms': None}\n"
                    ]
                },
                {
                    "name": "stderr",
                    "output_type": "stream",
                    "text": [
                        "2023-11-10 11:54:10,694:INFO - HTTP Request: POST https://fpyltvtkpkrkzortucoa.supabase.co/storage/v1/object/media/629969_2.jpg \"HTTP/1.1 200 OK\"\n",
                        "2023-11-10 11:54:10,808:INFO - HTTP Request: POST https://fpyltvtkpkrkzortucoa.supabase.co/rest/v1/media \"HTTP/1.1 201 Created\"\n"
                    ]
                },
                {
                    "name": "stdout",
                    "output_type": "stream",
                    "text": [
                        "https://fpyltvtkpkrkzortucoa.supabase.co/storage/v1/object/public/media/629969_2.jpg\n",
                        "{'id': 6937, 'created_at': '2023-11-10T11:54:10.799235+00:00', 'description': None, 'tags': None, 'custom_fields': None, 'url': 'https://fpyltvtkpkrkzortucoa.supabase.co/storage/v1/object/public/media/629969_2.jpg', 'type': 'image', 'caption': None, 'old_filename': None, 'bucket': None, 'filename': None, 'media_data': None, 'thumbnail_url': None, 'source': None, 'source_data': None, 'url_remote': None, 'source_type': None, 'source_id': None, 'input_phrase': None, 'terms': None}\n"
                    ]
                },
                {
                    "name": "stderr",
                    "output_type": "stream",
                    "text": [
                        "2023-11-10 11:54:12,055:INFO - HTTP Request: POST https://fpyltvtkpkrkzortucoa.supabase.co/storage/v1/object/media/367895_3.jpg \"HTTP/1.1 200 OK\"\n",
                        "2023-11-10 11:54:12,168:INFO - HTTP Request: POST https://fpyltvtkpkrkzortucoa.supabase.co/rest/v1/media \"HTTP/1.1 201 Created\"\n"
                    ]
                },
                {
                    "name": "stdout",
                    "output_type": "stream",
                    "text": [
                        "https://fpyltvtkpkrkzortucoa.supabase.co/storage/v1/object/public/media/367895_3.jpg\n",
                        "{'id': 6938, 'created_at': '2023-11-10T11:54:12.155803+00:00', 'description': None, 'tags': None, 'custom_fields': None, 'url': 'https://fpyltvtkpkrkzortucoa.supabase.co/storage/v1/object/public/media/367895_3.jpg', 'type': 'image', 'caption': None, 'old_filename': None, 'bucket': None, 'filename': None, 'media_data': None, 'thumbnail_url': None, 'source': None, 'source_data': None, 'url_remote': None, 'source_type': None, 'source_id': None, 'input_phrase': None, 'terms': None}\n",
                        "{'id': 6936, 'created_at': '2023-11-10T11:54:09.342654+00:00', 'description': None, 'tags': None, 'custom_fields': None, 'url': 'https://fpyltvtkpkrkzortucoa.supabase.co/storage/v1/object/public/media/200566_1.jpg', 'type': 'image', 'caption': None, 'old_filename': None, 'bucket': None, 'filename': None, 'media_data': None, 'thumbnail_url': None, 'source': None, 'source_data': None, 'url_remote': None, 'source_type': None, 'source_id': None, 'input_phrase': None, 'terms': None}\n"
                    ]
                },
                {
                    "name": "stderr",
                    "output_type": "stream",
                    "text": [
                        "2023-11-10 11:54:12,582:INFO - HTTP Request: POST https://fpyltvtkpkrkzortucoa.supabase.co/rest/v1/album_media_link \"HTTP/1.1 201 Created\"\n",
                        "2023-11-10 11:54:12,656:INFO - HTTP Request: POST https://fpyltvtkpkrkzortucoa.supabase.co/rest/v1/album_media_link \"HTTP/1.1 201 Created\"\n",
                        "2023-11-10 11:54:12,737:INFO - HTTP Request: POST https://fpyltvtkpkrkzortucoa.supabase.co/rest/v1/album_media_link \"HTTP/1.1 201 Created\"\n"
                    ]
                },
                {
                    "name": "stdout",
                    "output_type": "stream",
                    "text": [
                        "{'id': 6937, 'created_at': '2023-11-10T11:54:10.799235+00:00', 'description': None, 'tags': None, 'custom_fields': None, 'url': 'https://fpyltvtkpkrkzortucoa.supabase.co/storage/v1/object/public/media/629969_2.jpg', 'type': 'image', 'caption': None, 'old_filename': None, 'bucket': None, 'filename': None, 'media_data': None, 'thumbnail_url': None, 'source': None, 'source_data': None, 'url_remote': None, 'source_type': None, 'source_id': None, 'input_phrase': None, 'terms': None}\n",
                        "{'id': 6938, 'created_at': '2023-11-10T11:54:12.155803+00:00', 'description': None, 'tags': None, 'custom_fields': None, 'url': 'https://fpyltvtkpkrkzortucoa.supabase.co/storage/v1/object/public/media/367895_3.jpg', 'type': 'image', 'caption': None, 'old_filename': None, 'bucket': None, 'filename': None, 'media_data': None, 'thumbnail_url': None, 'source': None, 'source_data': None, 'url_remote': None, 'source_type': None, 'source_id': None, 'input_phrase': None, 'terms': None}\n"
                    ]
                }
            ],
            "source": [
                "import sd_images\n",
                "sd_images.process_scene(301)"
            ]
        },
        {
            "cell_type": "code",
            "execution_count": 9,
            "metadata": {},
            "outputs": [
                {
                    "name": "stderr",
                    "output_type": "stream",
                    "text": [
                        "2023-11-10 12:08:09,743:INFO - HTTP Request: GET https://fpyltvtkpkrkzortucoa.supabase.co/rest/v1/scenes?select=%2A&project_id=eq.38&status=eq.Active \"HTTP/1.1 200 OK\"\n",
                        "2023-11-10 12:08:09,851:INFO - HTTP Request: GET https://fpyltvtkpkrkzortucoa.supabase.co/rest/v1/video_creator_projects?select=%2A&id=eq.38 \"HTTP/1.1 200 OK\"\n",
                        "2023-11-10 12:08:10,032:INFO - HTTP Request: GET https://fpyltvtkpkrkzortucoa.supabase.co/rest/v1/video_creator_projects?select=%2A&id=eq.38 \"HTTP/1.1 200 OK\"\n",
                        "2023-11-10 12:08:10,146:INFO - HTTP Request: GET https://fpyltvtkpkrkzortucoa.supabase.co/rest/v1/video_creator_projects?select=%2A&id=eq.38 \"HTTP/1.1 200 OK\"\n",
                        "2023-11-10 12:08:10,244:INFO - HTTP Request: GET https://fpyltvtkpkrkzortucoa.supabase.co/rest/v1/video_creator_projects?select=%2A&id=eq.38 \"HTTP/1.1 200 OK\"\n",
                        "2023-11-10 12:08:10,313:INFO - HTTP Request: GET https://fpyltvtkpkrkzortucoa.supabase.co/rest/v1/video_creator_projects?select=%2A&id=eq.38 \"HTTP/1.1 200 OK\"\n",
                        "2023-11-10 12:08:10,410:INFO - HTTP Request: GET https://fpyltvtkpkrkzortucoa.supabase.co/rest/v1/video_creator_projects?select=%2A&id=eq.38 \"HTTP/1.1 200 OK\"\n",
                        "2023-11-10 12:08:10,507:INFO - HTTP Request: GET https://fpyltvtkpkrkzortucoa.supabase.co/rest/v1/video_creator_projects?select=%2A&id=eq.38 \"HTTP/1.1 200 OK\"\n",
                        "2023-11-10 12:08:10,958:INFO - HTTP Request: GET https://fpyltvtkpkrkzortucoa.supabase.co/rest/v1/scenes?select=%2A&project_id=eq.38&status=eq.Active \"HTTP/1.1 200 OK\"\n"
                    ]
                },
                {
                    "name": "stdout",
                    "output_type": "stream",
                    "text": [
                        "The number of scenes in the database and the number of scenes in the processed scene timings do not match.\n"
                    ]
                }
            ],
            "source": [
                "import scene_timings\n",
                "scene_timings.process(38)"
            ]
        },
        {
            "cell_type": "code",
            "execution_count": null,
            "metadata": {},
            "outputs": [],
            "source": []
        }
    ],
    "metadata": {
        "kernelspec": {
            "display_name": "myenv",
            "language": "python",
            "name": "python3"
        },
        "language_info": {
            "codemirror_mode": {
                "name": "ipython",
                "version": 3
            },
            "file_extension": ".py",
            "mimetype": "text/x-python",
            "name": "python",
            "nbconvert_exporter": "python",
            "pygments_lexer": "ipython3",
            "version": "3.11.6"
        }
    },
    "nbformat": 4,
    "nbformat_minor": 2
}