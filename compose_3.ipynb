{
 "cells": [
  {
   "cell_type": "code",
   "execution_count": 2,
   "metadata": {},
   "outputs": [
    {
     "name": "stderr",
     "output_type": "stream",
     "text": [
      "[nltk_data] Error loading punkt: <urlopen error [SSL:\n",
      "[nltk_data]     CERTIFICATE_VERIFY_FAILED] certificate verify failed:\n",
      "[nltk_data]     unable to get local issuer certificate (_ssl.c:1006)>\n"
     ]
    }
   ],
   "source": [
    "import compose_2"
   ]
  },
  {
   "cell_type": "code",
   "execution_count": 3,
   "metadata": {},
   "outputs": [
    {
     "name": "stderr",
     "output_type": "stream",
     "text": [
      "2023-11-03 14:32:29,724:INFO - HTTP Request: GET https://fpyltvtkpkrkzortucoa.supabase.co/rest/v1/video_creator_projects?select=%2A&id=eq.29 \"HTTP/1.1 200 OK\"\n",
      "2023-11-03 14:32:29,853:INFO - HTTP Request: GET https://fpyltvtkpkrkzortucoa.supabase.co/rest/v1/scenes?select=%2A&project_id=eq.29&status=eq.Active \"HTTP/1.1 200 OK\"\n",
      "2023-11-03 14:32:29,933:INFO - HTTP Request: GET https://fpyltvtkpkrkzortucoa.supabase.co/rest/v1/scenes?select=%2A&project_id=eq.29&status=eq.Active \"HTTP/1.1 200 OK\"\n",
      "2023-11-03 14:32:30,370:INFO - HTTP Request: GET https://fpyltvtkpkrkzortucoa.supabase.co/rest/v1/video_creator_projects?select=%2A&id=eq.29 \"HTTP/1.1 200 OK\"\n",
      "2023-11-03 14:32:30,451:INFO - HTTP Request: GET https://fpyltvtkpkrkzortucoa.supabase.co/rest/v1/video_creator_projects?select=%2A&id=eq.29 \"HTTP/1.1 200 OK\"\n",
      "2023-11-03 14:32:30,530:INFO - HTTP Request: GET https://fpyltvtkpkrkzortucoa.supabase.co/rest/v1/video_creator_projects?select=%2A&id=eq.29 \"HTTP/1.1 200 OK\"\n",
      "2023-11-03 14:32:30,602:INFO - HTTP Request: GET https://fpyltvtkpkrkzortucoa.supabase.co/rest/v1/video_creator_projects?select=%2A&id=eq.29 \"HTTP/1.1 200 OK\"\n",
      "2023-11-03 14:32:30,683:INFO - HTTP Request: GET https://fpyltvtkpkrkzortucoa.supabase.co/rest/v1/video_creator_projects?select=%2A&id=eq.29 \"HTTP/1.1 200 OK\"\n",
      "2023-11-03 14:32:30,756:INFO - HTTP Request: GET https://fpyltvtkpkrkzortucoa.supabase.co/rest/v1/video_creator_projects?select=%2A&id=eq.29 \"HTTP/1.1 200 OK\"\n",
      "2023-11-03 14:32:30,833:INFO - HTTP Request: GET https://fpyltvtkpkrkzortucoa.supabase.co/rest/v1/video_creator_projects?select=%2A&id=eq.29 \"HTTP/1.1 200 OK\"\n",
      "2023-11-03 14:32:30,917:INFO - HTTP Request: GET https://fpyltvtkpkrkzortucoa.supabase.co/rest/v1/video_creator_projects?select=%2A&id=eq.29 \"HTTP/1.1 200 OK\"\n",
      "2023-11-03 14:32:32,021:INFO - HTTP Request: GET https://fpyltvtkpkrkzortucoa.supabase.co/rest/v1/scenes?select=%2A&project_id=eq.29&status=eq.Active \"HTTP/1.1 200 OK\"\n",
      "2023-11-03 14:32:32,101:INFO - HTTP Request: PATCH https://fpyltvtkpkrkzortucoa.supabase.co/rest/v1/scenes?id=eq.223 \"HTTP/1.1 200 OK\"\n",
      "2023-11-03 14:32:32,185:INFO - HTTP Request: PATCH https://fpyltvtkpkrkzortucoa.supabase.co/rest/v1/scenes?id=eq.224 \"HTTP/1.1 200 OK\"\n"
     ]
    },
    {
     "name": "stdout",
     "output_type": "stream",
     "text": [
      "updating scene 223 with {'length': 7.892, 'start': 0, 'end': 7.892}\n",
      "[{'id': 223, 'created_at': '2023-11-03T14:10:34.386779+00:00', 'project_id': 29, 'scene_order_position': 0, 'scene_text': 'In a small village cradled by emerald hills, there lived a boy with eyes like the twilight sky, named Eli.', 'status': 'Active', 'album_id': 237, 'theme_keywords': None, 'sd_prompts': ['(boy, twilight eyes, village background, emerald hills, small rustic houses), full body, standing, looking out towards the hills'], 'final_clip': 673, 'timings': {'end': 7.892, 'start': 0, 'length': 7.892}}]\n",
      "\n",
      "\n",
      "updating scene 224 with {'length': 10.685, 'start': 7.892, 'end': 18.577}\n",
      "[{'id': 224, 'created_at': '2023-11-03T14:10:34.580635+00:00', 'project_id': 29, 'scene_order_position': 1, 'scene_text': 'His heart was as boundless as the sprawling meadows he sprinted through, where he dreamed not of dragons or treasure, but of helping those in silent need.', 'status': 'Active', 'album_id': 238, 'theme_keywords': None, 'sd_prompts': ['(boy, twilight eyes, radiant smile), running through sprawling meadows under a clear sky, a cluster of villagers in the background, appearing in need'], 'final_clip': None, 'timings': {'end': 18.577, 'start': 7.892, 'length': 10.685}}]\n",
      "\n",
      "\n",
      "updating scene 225 with {'length': 11.428, 'start': 18.577, 'end': 30.005}\n"
     ]
    },
    {
     "name": "stderr",
     "output_type": "stream",
     "text": [
      "2023-11-03 14:32:32,266:INFO - HTTP Request: PATCH https://fpyltvtkpkrkzortucoa.supabase.co/rest/v1/scenes?id=eq.225 \"HTTP/1.1 200 OK\"\n",
      "2023-11-03 14:32:32,379:INFO - HTTP Request: PATCH https://fpyltvtkpkrkzortucoa.supabase.co/rest/v1/scenes?id=eq.226 \"HTTP/1.1 200 OK\"\n",
      "2023-11-03 14:32:32,446:INFO - HTTP Request: PATCH https://fpyltvtkpkrkzortucoa.supabase.co/rest/v1/scenes?id=eq.227 \"HTTP/1.1 200 OK\"\n"
     ]
    },
    {
     "name": "stdout",
     "output_type": "stream",
     "text": [
      "[{'id': 225, 'created_at': '2023-11-03T14:10:34.846359+00:00', 'project_id': 29, 'scene_order_position': 2, 'scene_text': 'One gusty autumn evening, as amber leaves danced like flames in the wind, a cry for help clung to the breeze, leading Eli to a doe trapped in the thorny embrace of an old bramble.', 'status': 'Active', 'album_id': 239, 'theme_keywords': None, 'sd_prompts': ['(boy, twilight eyes, determination), bramble, trapped doe, gusty autumn evening, swirling amber leaves'], 'final_clip': None, 'timings': {'end': 30.005, 'start': 18.577, 'length': 11.428}}]\n",
      "\n",
      "\n",
      "updating scene 226 with {'length': 10.086, 'start': 30.005, 'end': 40.091}\n",
      "[{'id': 226, 'created_at': '2023-11-03T14:10:35.054969+00:00', 'project_id': 29, 'scene_order_position': 3, 'scene_text': \"Without a thought for his own scratched arms, he worked tirelessly, speaking in soothing whispers until the doe's wide, frightened eyes softened.\", 'status': 'Active', 'album_id': 240, 'theme_keywords': None, 'sd_prompts': ['(boy, twilight eyes, focused, scratched arms), whispering, working, freeing the doe, thorny bramble, softened doe eyes, twilight hues'], 'final_clip': 374, 'timings': {'end': 40.091, 'start': 30.005, 'length': 10.086}}]\n",
      "\n",
      "\n",
      "updating scene 227 with {'length': 11.868, 'start': 40.091, 'end': 51.959}\n",
      "[{'id': 227, 'created_at': '2023-11-03T14:10:35.23968+00:00', 'project_id': 29, 'scene_order_position': 4, 'scene_text': 'As nightfall draped over the land, the doe, now free, nudged Eli with a gratitude that needed no words, just as the village lanterns flickered to life in the distance.', 'status': 'Active', 'album_id': 241, 'theme_keywords': None, 'sd_prompts': ['(boy, twilight eyes, satisfaction), nightfall, free doe nudging him, background of village lanterns glowing, serene silence'], 'final_clip': None, 'timings': {'end': 51.959, 'start': 40.091, 'length': 11.868}}]\n",
      "\n",
      "\n",
      "updating scene 228 with {'length': 7.088, 'start': 51.959, 'end': 59.047}\n"
     ]
    },
    {
     "name": "stderr",
     "output_type": "stream",
     "text": [
      "2023-11-03 14:32:32,535:INFO - HTTP Request: PATCH https://fpyltvtkpkrkzortucoa.supabase.co/rest/v1/scenes?id=eq.228 \"HTTP/1.1 200 OK\"\n",
      "2023-11-03 14:32:32,621:INFO - HTTP Request: PATCH https://fpyltvtkpkrkzortucoa.supabase.co/rest/v1/scenes?id=eq.229 \"HTTP/1.1 200 OK\"\n",
      "2023-11-03 14:32:32,710:INFO - HTTP Request: GET https://fpyltvtkpkrkzortucoa.supabase.co/rest/v1/media?select=%2A&id=eq.673 \"HTTP/1.1 200 OK\"\n"
     ]
    },
    {
     "name": "stdout",
     "output_type": "stream",
     "text": [
      "[{'id': 228, 'created_at': '2023-11-03T14:10:35.392136+00:00', 'project_id': 29, 'scene_order_position': 5, 'scene_text': \"Eli returned home under the quilt of stars, his heroic deed unseen by all but the moon's silent, watchful gaze.\", 'status': 'Active', 'album_id': 242, 'theme_keywords': None, 'sd_prompts': [\"(boy, twilight eyes,), walking alone under starry quilt, outline of village in the distance, moon's gaze, night sky\"], 'final_clip': None, 'timings': {'end': 59.047, 'start': 51.959, 'length': 7.088}}]\n",
      "\n",
      "\n",
      "updating scene 229 with {'length': 6.233, 'start': 59.047, 'end': 65.28}\n",
      "[{'id': 229, 'created_at': '2023-11-03T14:10:35.590526+00:00', 'project_id': 29, 'scene_order_position': 6, 'scene_text': 'Yet in his heart, he carried the weightless gold of a day when courage and kindness had been his truest companions.', 'status': 'Active', 'album_id': 243, 'theme_keywords': None, 'sd_prompts': ['(boy, twilight eyes, contentment), heart close up, translucent images of courage and kindness within, golden hue, clear indication of internal fulfillment.'], 'final_clip': None, 'timings': {'end': 65.28, 'start': 59.047, 'length': 6.233}}]\n",
      "\n",
      "\n",
      "Downloaded: composed_videos/29_20231103143229/673.mp4\n",
      "Random image URL: https://images.pexels.com/photos/18862463/pexels-photo-18862463.jpeg\n",
      "Downloaded: composed_videos/29_20231103143229/224_random.jpeg\n",
      "Random image URL: https://images.pexels.com/photos/18903723/pexels-photo-18903723.jpeg\n"
     ]
    },
    {
     "name": "stderr",
     "output_type": "stream",
     "text": [
      "2023-11-03 14:32:35,620:INFO - HTTP Request: GET https://fpyltvtkpkrkzortucoa.supabase.co/rest/v1/media?select=%2A&id=eq.374 \"HTTP/1.1 200 OK\"\n"
     ]
    },
    {
     "name": "stdout",
     "output_type": "stream",
     "text": [
      "Downloaded: composed_videos/29_20231103143229/225_random.jpeg\n",
      "Downloaded: composed_videos/29_20231103143229/374.mp4\n",
      "Random image URL: https://images.pexels.com/photos/18855407/pexels-photo-18855407.jpeg\n",
      "Downloaded: composed_videos/29_20231103143229/227_random.jpeg\n",
      "Random image URL: https://images.pexels.com/photos/18799511/pexels-photo-18799511.jpeg\n",
      "Downloaded: composed_videos/29_20231103143229/228_random.jpeg\n",
      "Random image URL: https://images.pexels.com/photos/18838159/pexels-photo-18838159.jpeg\n",
      "Downloaded: composed_videos/29_20231103143229/229_random.jpeg\n"
     ]
    },
    {
     "ename": "TypeError",
     "evalue": "unsupported operand type(s) for -: 'dict' and 'int'",
     "output_type": "error",
     "traceback": [
      "\u001b[0;31m---------------------------------------------------------------------------\u001b[0m",
      "\u001b[0;31mTypeError\u001b[0m                                 Traceback (most recent call last)",
      "\u001b[1;32m/Users/georgebennett/Documents/Code/script_writer/compose_3.ipynb Cell 2\u001b[0m line \u001b[0;36m1\n\u001b[1;32m      <a href='vscode-notebook-cell:/Users/georgebennett/Documents/Code/script_writer/compose_3.ipynb#W1sZmlsZQ%3D%3D?line=6'>7</a>\u001b[0m \u001b[39m# scenes = project.get_all_scenes()\u001b[39;00m\n\u001b[1;32m      <a href='vscode-notebook-cell:/Users/georgebennett/Documents/Code/script_writer/compose_3.ipynb#W1sZmlsZQ%3D%3D?line=7'>8</a>\u001b[0m \u001b[39m# for scene in scenes :\u001b[39;00m\n\u001b[1;32m      <a href='vscode-notebook-cell:/Users/georgebennett/Documents/Code/script_writer/compose_3.ipynb#W1sZmlsZQ%3D%3D?line=8'>9</a>\u001b[0m \u001b[39m#     if scene.get(\"timings\") is None:\u001b[39;00m\n\u001b[1;32m     <a href='vscode-notebook-cell:/Users/georgebennett/Documents/Code/script_writer/compose_3.ipynb#W1sZmlsZQ%3D%3D?line=9'>10</a>\u001b[0m \u001b[39m#         scene_timings.process(project_id)\u001b[39;00m\n\u001b[1;32m     <a href='vscode-notebook-cell:/Users/georgebennett/Documents/Code/script_writer/compose_3.ipynb#W1sZmlsZQ%3D%3D?line=10'>11</a>\u001b[0m \u001b[39m#         project = ComposeVideo(project_id)\u001b[39;00m\n\u001b[1;32m     <a href='vscode-notebook-cell:/Users/georgebennett/Documents/Code/script_writer/compose_3.ipynb#W1sZmlsZQ%3D%3D?line=13'>14</a>\u001b[0m project\u001b[39m.\u001b[39mdownload_all_files_for_project()\n\u001b[0;32m---> <a href='vscode-notebook-cell:/Users/georgebennett/Documents/Code/script_writer/compose_3.ipynb#W1sZmlsZQ%3D%3D?line=14'>15</a>\u001b[0m project\u001b[39m.\u001b[39;49mget_clips_for_project()\n\u001b[1;32m     <a href='vscode-notebook-cell:/Users/georgebennett/Documents/Code/script_writer/compose_3.ipynb#W1sZmlsZQ%3D%3D?line=15'>16</a>\u001b[0m project\u001b[39m.\u001b[39mdownload_and_create_speech_clip()\n\u001b[1;32m     <a href='vscode-notebook-cell:/Users/georgebennett/Documents/Code/script_writer/compose_3.ipynb#W1sZmlsZQ%3D%3D?line=16'>17</a>\u001b[0m processed_clips \u001b[39m=\u001b[39m project\u001b[39m.\u001b[39mvideo_clips_list\n",
      "File \u001b[0;32m~/Documents/Code/script_writer/compose_2.py:146\u001b[0m, in \u001b[0;36mComposeVideo.get_clips_for_project\u001b[0;34m(self)\u001b[0m\n\u001b[1;32m    143\u001b[0m     \u001b[39mcontinue\u001b[39;00m  \u001b[39m# Skip this scene if the format is unsupported\u001b[39;00m\n\u001b[1;32m    145\u001b[0m \u001b[39m# Assuming trim_clip and crop_clip are predefined functions\u001b[39;00m\n\u001b[0;32m--> 146\u001b[0m trimmed_clip \u001b[39m=\u001b[39m video_processing\u001b[39m.\u001b[39;49mtrim_clip(clip, start_trim\u001b[39m=\u001b[39;49m\u001b[39m0\u001b[39;49m, end_trim\u001b[39m=\u001b[39;49mlength)\n\u001b[1;32m    148\u001b[0m height \u001b[39m=\u001b[39m \u001b[39mself\u001b[39m\u001b[39m.\u001b[39mget_project_data(\u001b[39m'\u001b[39m\u001b[39mheight\u001b[39m\u001b[39m'\u001b[39m) \u001b[39mor\u001b[39;00m \u001b[39m1080\u001b[39m\n\u001b[1;32m    149\u001b[0m width \u001b[39m=\u001b[39m \u001b[39mself\u001b[39m\u001b[39m.\u001b[39mget_project_data(\u001b[39m'\u001b[39m\u001b[39mwidth\u001b[39m\u001b[39m'\u001b[39m) \u001b[39mor\u001b[39;00m \u001b[39m1920\u001b[39m  \u001b[39m# Adjusted to a more common width for videos\u001b[39;00m\n",
      "File \u001b[0;32m~/Documents/Code/script_writer/video_processing.py:17\u001b[0m, in \u001b[0;36mtrim_clip\u001b[0;34m(clip, start_trim, end_trim)\u001b[0m\n\u001b[1;32m      6\u001b[0m \u001b[39m\u001b[39m\u001b[39m\"\"\"\u001b[39;00m\n\u001b[1;32m      7\u001b[0m \u001b[39mTrim a video clip to fit a new length between start_trim and end_trim.\u001b[39;00m\n\u001b[1;32m      8\u001b[0m \u001b[39m\u001b[39;00m\n\u001b[0;32m   (...)\u001b[0m\n\u001b[1;32m     13\u001b[0m \u001b[39m:return: Adjusted video clip.\u001b[39;00m\n\u001b[1;32m     14\u001b[0m \u001b[39m\"\"\"\u001b[39;00m\n\u001b[1;32m     16\u001b[0m current_duration \u001b[39m=\u001b[39m clip\u001b[39m.\u001b[39mduration\n\u001b[0;32m---> 17\u001b[0m target_duration \u001b[39m=\u001b[39m end_trim \u001b[39m-\u001b[39;49m start_trim\n\u001b[1;32m     19\u001b[0m \u001b[39mprint\u001b[39m(\u001b[39mf\u001b[39m\u001b[39m\"\u001b[39m\u001b[39mCurrent clip length: \u001b[39m\u001b[39m{\u001b[39;00mcurrent_duration\u001b[39m}\u001b[39;00m\u001b[39m\"\u001b[39m)\n\u001b[1;32m     20\u001b[0m \u001b[39mprint\u001b[39m(\u001b[39mf\u001b[39m\u001b[39m\"\u001b[39m\u001b[39mTarget length: \u001b[39m\u001b[39m{\u001b[39;00mtarget_duration\u001b[39m}\u001b[39;00m\u001b[39m\"\u001b[39m)\n",
      "\u001b[0;31mTypeError\u001b[0m: unsupported operand type(s) for -: 'dict' and 'int'"
     ]
    }
   ],
   "source": [
    "\n",
    "project_id= 29\n",
    "project = compose_2.ComposeVideo(project_id)\n",
    "\n",
    "\n",
    "compose_2.scene_timings.process(project_id)\n",
    "\n",
    "# scenes = project.get_all_scenes()\n",
    "# for scene in scenes :\n",
    "#     if scene.get(\"timings\") is None:\n",
    "#         scene_timings.process(project_id)\n",
    "#         project = ComposeVideo(project_id)\n",
    "\n",
    "\n",
    "project.download_all_files_for_project()\n",
    "\n",
    "\n",
    "\n",
    "project.get_clips_for_project()\n",
    "\n",
    "\n",
    "\n",
    "project.download_and_create_speech_clip()\n",
    "processed_clips = project.video_clips_list\n",
    "\n",
    "min_fps = 24\n",
    "\n",
    "# remove audio from clips\n",
    "for clip in processed_clips:\n",
    "    clip.audio = None\n",
    "\n",
    "# if clip.fps:\n",
    "#     print(f\"Clip FPS: {clip.fps}\")\n",
    "\n",
    "\n",
    "speech_clip = project.speech_clip\n",
    "# Set the audio of each clip to None\n",
    "\n",
    "\n",
    "# Concatenate the clips without audio\n",
    "final_clip_no_audio = compose_2.concatenate_videoclips(processed_clips)\n",
    "print(f\"Final clip duration: {final_clip_no_audio.duration}\")\n",
    "# final_clip_no_audio.write_videofile(\"final_clip_no_audio.mp4\", fps=min_fps)\n",
    "\n"
   ]
  },
  {
   "cell_type": "code",
   "execution_count": null,
   "metadata": {},
   "outputs": [],
   "source": [
    "\n",
    "\n",
    "    # get subs clip\n",
    "    words_list = project.get_project_data('words_list')\n",
    "    final_video_no_audio_with_subs = burn_subs.get_subs_clip(words_list,final_clip_no_audio)\n",
    "\n",
    "\n",
    "    final_video_no_audio_with_subs.write_videofile(\"final_video_no_audio_with_subs.mp4\", audio_codec='aac', fps=min_fps)\n",
    "    \n",
    "    \n",
    "    # final_clip_audio_subs = final_video_no_audio_with_subs.set_audio(speech_clip)\n",
    "    final_video_audio_subs = final_video_no_audio_with_subs.set_audio(speech_clip)\n",
    "    final_video_audio_subs.write_videofile(\"final_video_audio_subs.mp4\", audio_codec='aac', fps=min_fps)\n",
    "\n",
    "    link = upload_final_video(project_id, \"final_video_audio_subs.mp4\")\n",
    "    return link\n",
    "\n",
    "# process(27) "
   ]
  }
 ],
 "metadata": {
  "kernelspec": {
   "display_name": "myenv",
   "language": "python",
   "name": "python3"
  },
  "language_info": {
   "codemirror_mode": {
    "name": "ipython",
    "version": 3
   },
   "file_extension": ".py",
   "mimetype": "text/x-python",
   "name": "python",
   "nbconvert_exporter": "python",
   "pygments_lexer": "ipython3",
   "version": "3.11.6"
  }
 },
 "nbformat": 4,
 "nbformat_minor": 2
}
