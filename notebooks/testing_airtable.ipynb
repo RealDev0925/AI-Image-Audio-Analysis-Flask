{
 "cells": [
  {
   "cell_type": "code",
   "execution_count": 52,
   "metadata": {},
   "outputs": [
    {
     "name": "stdout",
     "output_type": "stream",
     "text": [
      "Airtable API Key: keyIFmCvE7F1euVng\n"
     ]
    },
    {
     "name": "stderr",
     "output_type": "stream",
     "text": [
      "/var/folders/3s/kn49swd57t94z643kjmg9byc0000gn/T/ipykernel_49111/3045613739.py:5: DeprecationWarning: Passing API keys or base IDs to pyairtable.Table is deprecated; use Api.table() or Base.table() instead. See https://pyairtable.rtfd.org/en/latest/migrations.html for details.\n",
      "  table = Table(api_key, \"appTydARXWr2jFYRf\", \"Actions\")\n"
     ]
    },
    {
     "name": "stdout",
     "output_type": "stream",
     "text": [
      "Record Data: {'id': 'recW0NVYMNAGJAeTZ', 'createdTime': '2023-08-31T22:16:15.000Z', 'fields': {'Response': '---\\nSystem: You are the worlds greatest copywriter. \\n---\\n\\n[[Generate Casino Avatar Prompt]]\\n---\\n', 'Generate Response': True, 'Import Saved Content': ['rec5OscaRCXeE8D8y'], 'Saved Response': ['recpdZr5VBxMt1MQ1'], 'Settings': '{\\n\"temperature\":2,\\n\"messages\":[]\\n}', 'Content': '---\\nSystem: You are the worlds greatest copywriter. \\n---\\n\\n[[Generate Casino Avatar Prompt]]\\n---\\n', 'Name': 'Generate Avatar', 'Save Response': {'label': 'Save Response', 'url': 'https://airtable.com/tblo4wbnM3c8bGMuu/recW0NVYMNAGJAeTZ?blocks=bliLmgJIp9LMsL60L'}, 'Record_ID': 'recW0NVYMNAGJAeTZ'}}\n"
     ]
    }
   ],
   "source": [
    "from pyairtable import Table\n",
    "import os\n",
    "\n",
    "def get_record_by_id(api_key, record_id):\n",
    "    table = Table(api_key, \"appTydARXWr2jFYRf\", \"Actions\")\n",
    "    record = table.get(record_id)\n",
    "    return record\n",
    "\n",
    "# Example usage:\n",
    "airtable_api_key = os.getenv(\"AIRTABLE_API_KEY\")\n",
    "print(\"Airtable API Key:\", airtable_api_key)\n",
    "record_id = \"recW0NVYMNAGJAeTZ\"  # Replace with the actual record ID you are interested in\n",
    "\n",
    "record_data = get_record_by_id(airtable_api_key, record_id)\n",
    "print(\"Record Data:\", record_data)\n",
    "\n"
   ]
  },
  {
   "cell_type": "code",
   "execution_count": 44,
   "metadata": {},
   "outputs": [
    {
     "name": "stderr",
     "output_type": "stream",
     "text": [
      "/var/folders/3s/kn49swd57t94z643kjmg9byc0000gn/T/ipykernel_49111/2333274415.py:5: DeprecationWarning: Passing API keys or base IDs to pyairtable.Table is deprecated; use Api.table() or Base.table() instead. See https://pyairtable.rtfd.org/en/latest/migrations.html for details.\n",
      "  table = Table(airtable_api_key, base, table_name)\n"
     ]
    },
    {
     "name": "stdout",
     "output_type": "stream",
     "text": [
      "{'id': 'rece6y7T5kJK0ncYR', 'createdTime': '2023-08-31T22:16:15.000Z', 'fields': {'Response': 'AVATAR:\\n[[Generated Casino Avatar Response 1 Sep 2023 at 00:19:31]]\\n---\\n[[Generate Offer Prompt]]\\nexample_new_data\\n', 'Import Saved Content': ['recpdZr5VBxMt1MQ1', 'reczPaWGPcrRz1hMl'], 'Content': 'AVATAR:\\n[[Generated Casino Avatar Response 1 Sep 2023 at 00:19:31]]\\n---\\n[[Generate Offer Prompt]]', 'Name': 'Generate Offer Description', 'Save Response': {'label': 'Save Response', 'url': 'https://airtable.com/tblo4wbnM3c8bGMuu/rece6y7T5kJK0ncYR?blocks=bliLmgJIp9LMsL60L'}, 'Record_ID': 'rece6y7T5kJK0ncYR'}}\n"
     ]
    }
   ],
   "source": [
    "base = \"appTydARXWr2jFYRf\"\n",
    "\n",
    "def append_data_to_column(table_name, record_id, column_name, new_data):\n",
    "\n",
    "    table = Table(airtable_api_key, base, table_name)\n",
    "\n",
    "    # Fetch the existing record by its ID\n",
    "    existing_record = table.get(record_id)\n",
    "    \n",
    "    # Fetch the existing value from the specified column (field)\n",
    "    existing_value = existing_record.get(\"fields\", {}).get(column_name, \"\")\n",
    "    \n",
    "    # Append the new data to the existing value\n",
    "    updated_value = existing_value + new_data\n",
    "    \n",
    "    # Prepare the data to update\n",
    "    updated_data = {\n",
    "        \"fields\": {\n",
    "            column_name: updated_value\n",
    "        }\n",
    "    }\n",
    "    \n",
    "    # Update the record\n",
    "\n",
    "    resp = table.update(record_id, {column_name:updated_value})\n",
    "\n",
    "    # table.update(record_id, updated_data)\n",
    "\n",
    "    return resp\n",
    "\n",
    "# Example usage\n",
    "table_name = \"Actions\"  # Replace with the name of the table you want to update\n",
    "record_id = \"rece6y7T5kJK0ncYR\"  # Replace with the ID of the record you want to update\n",
    "column_name = \"Response\"  # Replace with the name of the column (field) you want to update\n",
    "new_data = \"example_new_data\"  # Replace with the new data you want to append\n",
    "\n",
    "resp = append_data_to_column(table_name, record_id, column_name, new_data)\n",
    "print(resp)\n"
   ]
  },
  {
   "cell_type": "code",
   "execution_count": 5,
   "metadata": {},
   "outputs": [
    {
     "name": "stdout",
     "output_type": "stream",
     "text": [
      "---\n",
      "System: You are the worlds greatest copywriter. \n",
      "---\n",
      "\n",
      "[[Generate Casino Avatar Prompt]]\n",
      "---\n",
      "\n"
     ]
    }
   ],
   "source": [
    "import funcs_airtable\n",
    "\n",
    "\n",
    "\n",
    "record_id = \"recW0NVYMNAGJAeTZ\"  # Replace with the actual record ID you are interested in\n",
    "in_table = \"Actions\"\n",
    "data = funcs_airtable.Get_Record_Data_From_ID(in_table, record_id)\n",
    "content= data.get(\"Content\")\n",
    "print(content)\n",
    "\n",
    "\n"
   ]
  },
  {
   "cell_type": "code",
   "execution_count": 2,
   "metadata": {},
   "outputs": [
    {
     "name": "stdout",
     "output_type": "stream",
     "text": [
      "Unique Values: ['Generated Casino Avatar Response 1 Sep 2023 at 00:19:31', 'Generate Offer Prompt']\n"
     ]
    }
   ],
   "source": [
    "import re\n",
    "\n",
    "def find_unique_bracket_values(input_string):\n",
    "    pattern = r'{{(.*?)}}'\n",
    "    found_values = re.findall(pattern, input_string)\n",
    "    unique_values = list(set(found_values))\n",
    "    return unique_values\n",
    "\n",
    "# Example usage:\n",
    "input_string = '''\n",
    "AVATAR:\n",
    "{{Generated Casino Avatar Response 1 Sep 2023 at 00:19:31}}\n",
    "---\n",
    "{{Generate Offer Prompt}}\n",
    "'''\n",
    "\n",
    "bracket_values_found_list = find_unique_bracket_values(input_string)\n",
    "print(\"Unique Values:\", bracket_values_found_list)\n"
   ]
  },
  {
   "cell_type": "code",
   "execution_count": 36,
   "metadata": {},
   "outputs": [
    {
     "name": "stdout",
     "output_type": "stream",
     "text": [
      "Looking for: Another Prompt\n",
      "Matched Data: None\n",
      "Looking for: Generate Casino Avatar Prompt\n",
      "Matched Data: qweqw\n",
      "{'Another Prompt': '', 'Generate Casino Avatar Prompt': 'qweqw'}\n"
     ]
    }
   ],
   "source": [
    "def get_bracket_values_content_dict(input_list):\n",
    "    \"\"\"\n",
    "    Searches a list of Names and returns a dictionary of Name:Content pairs\n",
    "    \"\"\"\n",
    "\n",
    "    # Specify the Airtable table and columns to search in\n",
    "    Find_in_Table = \"Saved\"\n",
    "    Find_In_Column = \"Name\"\n",
    "    Return_Value_From_Column = \"Content\"\n",
    "\n",
    "    # Initialize an empty dictionary to hold the bracket value-content pairs\n",
    "    combined_dict = {}\n",
    "\n",
    "    # Loop through each bracket value in the input list\n",
    "    for b_v in input_list:\n",
    "        print(f\"Looking for: {b_v}\")\n",
    "\n",
    "        # Use the Get_Record_Info function from funcs_airtable to look up the content\n",
    "        matched_data = funcs_airtable.Get_Record_Info(Find_in_Table, Find_In_Column, b_v, Return_Value_From_Column)\n",
    "        \n",
    "        print(f\"Matched Data: {matched_data}\")\n",
    "\n",
    "        # If matching content is found, add it to the dictionary, otherwise set to None or empty string\n",
    "        combined_dict[b_v] = matched_data if matched_data else ''\n",
    "\n",
    "    return combined_dict\n",
    "\n",
    "\n",
    "if bracket_values_found_list:\n",
    "    bv = get_bracket_values_content_dict(bracket_values_found_list)\n",
    "    print(bv)"
   ]
  },
  {
   "cell_type": "code",
   "execution_count": 4,
   "metadata": {},
   "outputs": [
    {
     "name": "stdout",
     "output_type": "stream",
     "text": [
      "\n",
      "AVATAR:\n",
      "qweqwe\n",
      "---\n",
      "asw\n"
     ]
    }
   ],
   "source": [
    "from jinja2 import Template\n",
    "\n",
    "def render_template_with_dict(template_str, input_dict):\n",
    "    \"\"\"\n",
    "    This function takes a Jinja2 template string and a dictionary.\n",
    "    It renders the template string using the values from the dictionary.\n",
    "    \"\"\"\n",
    "    # Create a Jinja2 template object\n",
    "    template = Template(template_str)\n",
    "\n",
    "    # Replace None values with an empty string or any other default value\n",
    "    for key, value in input_dict.items():\n",
    "        if value is None:\n",
    "            input_dict[key] = ''  # or any other default value\n",
    "\n",
    "    # Jinja2 template variables cannot contain spaces, so we need to replace them\n",
    "    corrected_dict = {key.replace(' ', '_'): value for key, value in input_dict.items()}\n",
    "\n",
    "    # Render the template\n",
    "    return template.render(**corrected_dict)\n",
    "\n",
    "template = \"\"\"\n",
    "AVATAR:\n",
    "{{Generated}}\n",
    "---\n",
    "{{offer}}\n",
    "\"\"\"\n",
    "\n",
    "input_dict = {'Generated': 'qweqwe', 'offer': 'asw'}\n",
    "\n",
    "\n",
    "result = render_template_with_dict(template, input_dict)\n",
    "print(result)\n"
   ]
  },
  {
   "cell_type": "code",
   "execution_count": 51,
   "metadata": {},
   "outputs": [
    {
     "name": "stdout",
     "output_type": "stream",
     "text": [
      "2023-09-01 16:41:10\n"
     ]
    }
   ],
   "source": [
    "from datetime import datetime\n",
    "import pytz\n",
    "\n",
    "def current_time_london():\n",
    "    # Define the time zone for London\n",
    "    london_tz = pytz.timezone('Europe/London')\n",
    "    \n",
    "    # Get the current time in UTC and convert it to London time\n",
    "    utc_now = datetime.now(pytz.utc)\n",
    "    london_time = utc_now.astimezone(london_tz)\n",
    "    \n",
    "    # Format the time string\n",
    "    formatted_time = london_time.strftime('%Y-%m-%d %H:%M:%S')\n",
    "    \n",
    "    return formatted_time\n",
    "\n",
    "# Example usage\n",
    "print(current_time_london())\n"
   ]
  },
  {
   "cell_type": "code",
   "execution_count": 4,
   "metadata": {},
   "outputs": [
    {
     "name": "stdout",
     "output_type": "stream",
     "text": [
      "It's crucial to remember while discussing this that not all people in any population will fit a particular stereotype, such as \"all Indians are skinny.\" Respecting the diversity within each country is essential. However, some common factors that may influence body size and shape in parts of India include diet and lifestyle. A significant portion of the traditional Indian diet consists of plant-based, fiber-rich foods such as fruits, vegetables, lentils, and grains, which can contribute to maintaining a healthy weight. Activities such as yoga, which originated in ancient India, may also play a role.\n",
      "\n",
      "But it's important to note that India, like many countries, faces health issues related to weight, although the nature of these issues can differ from Western trends. In fact, India has a growing obesity problem, particularly in cities, reflecting lifestyle and diet changes. Therefore, it would be misrepresentive to characterize all Indians as skinny.\n"
     ]
    }
   ],
   "source": [
    "import requests\n",
    "\n",
    "API_URL = \"https://flowise-85mv.onrender.com/api/v1/prediction/8fcfb719-ba9c-4d63-9dc7-35f2734d086b\"\n",
    "\n",
    "def query(payload):\n",
    "    response = requests.post(API_URL, json=payload)\n",
    "    return response.json()\n",
    "    \n",
    "output = query({\n",
    "    \"question\": \"Hey, how are indians so skinny??\",\n",
    "})\n",
    "\n",
    "print(output)"
   ]
  }
 ],
 "metadata": {
  "kernelspec": {
   "display_name": "myenv",
   "language": "python",
   "name": "python3"
  },
  "language_info": {
   "codemirror_mode": {
    "name": "ipython",
    "version": 3
   },
   "file_extension": ".py",
   "mimetype": "text/x-python",
   "name": "python",
   "nbconvert_exporter": "python",
   "pygments_lexer": "ipython3",
   "version": "3.10.6"
  },
  "orig_nbformat": 4
 },
 "nbformat": 4,
 "nbformat_minor": 2
}
