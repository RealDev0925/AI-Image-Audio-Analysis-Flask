{
 "cells": [
  {
   "cell_type": "code",
   "execution_count": 2,
   "metadata": {},
   "outputs": [],
   "source": [
    "def get_prompts_list(input_text):\n",
    "    lines = input_text.split(\"\\n\")\n",
    "\n",
    "    # Initialize an empty list to store non-empty lines\n",
    "    filtered_lines = []\n",
    "\n",
    "    # Split the original string into lines and loop through them\n",
    "    for line in lines:\n",
    "        # Remove leading and trailing whitespaces and check if the line is empty\n",
    "        if line.strip():\n",
    "            # If the line is not empty, append it to the filtered_lines list\n",
    "            filtered_lines.append(line.strip())\n",
    "\n",
    "    # print(filtered_lines)\n",
    "\n",
    "    descriptions = []\n",
    "    for line in filtered_lines:\n",
    "        # print(line)\n",
    "        # Split the string by \": \" and get the second part\n",
    "        description = line.split(\": \", 1)[1]\n",
    "        # Append the description to the descriptions list\n",
    "        description = [description]\n",
    "        descriptions.append(description)\n",
    "\n",
    "    return descriptions"
   ]
  },
  {
   "cell_type": "code",
   "execution_count": 3,
   "metadata": {},
   "outputs": [
    {
     "name": "stderr",
     "output_type": "stream",
     "text": [
      "2023-09-19 22:10:11,116:INFO - HTTP Request: GET https://fpyltvtkpkrkzortucoa.supabase.co/rest/v1/scenes?select=%2A&project_id=eq.19&status=eq.Active \"HTTP/1.1 200 OK\"\n"
     ]
    },
    {
     "name": "stdout",
     "output_type": "stream",
     "text": [
      "dict_to_send: \n",
      "{'model': 'gpt-4', 'temperature': 1.05, 'max_tokens': 500, 'top_p': 1, 'frequency_penalty': 0, 'presence_penalty': 0, 'messages': [{'role': 'user', 'content': \"You are a storyboard artist. \\nYou work with an artist to visually plan and illustrate each scene or sequence of the movie. \\nFor each scene you must represent it with an image that will perfectly capture what is happening for the entire scene. \\nStoryboards serve as a visual blueprint and communication tool for the entire production team.\\n\\nSCENES:\\nScene 0: Once upon a time, Emily faced the colossal mountain of student debt, feeling overwhelmed and suffocated by the numbers.\\nScene 1: Each bill in the mailbox served as a constant reminder of her inability to pursue her true passion: wildlife photography.\\nScene 2: Then one day, inspired by a lecture from a famous photographer, she took out her old camera and began capturing the beauty of the local forests.\\nScene 3: She used her small social media following to display her work, and soon enough, she attracted the attention of a local art gallery.\\nScene 4: The gallery offered to host an exhibition of her photography, and it was a resounding success.\\nScene 5: Using the funds from the sold pieces, Emily managed to pay off a significant chunk of her debt, liberating her to take more daring trips for even better shots.\\nScene 6: More exhibitions followed, each more successful than the last, until she was finally free of debt.\\nScene 7: With her newfound financial freedom, Emily established a wildlife sanctuary, combining her passion for photography and conservation.\\nScene 8: Her story spread, and soon she was invited to give lectures, inspiring the next generation to conquer their obstacles just as she had.\\nScene 9: Emily looked at her life, realizing that she had transformed her mountain of debt into a mountain of dreams, climbed and conquered.\\n\\nTASK:\\nYou are creating a storyboard for a short film.\\nList every scene.\\nFor the scene write a description of a image which could perfectly represent this scene.\\nEach description should capture the essence of the scene in a single, visually descriptive image.\\nThe description does not need to be an exact description of the scene, it can be a visual representation of the scene.\\nFor some scenes, when appropriate, you can describe an image which will represent the scene in a more creative and abstract way.\\nDo not namc characters in the scene, only describe them. \\nTry to keep character descriptions consistent across scenes, unless their appearance changes in the scene.\\n\\nFORMAT:\\nThe format for your output should be suitable for a text-to-image AI to create these images. \\nUse a comma separated list, use only verbs, nouns and adjectives to describe your image. \\n\\nEXAMPLE:\\nScene 4: He was barely able to make enough money to survive, let alone save for the future.\\nScene 4 image: (Male, 40 years old, Short dark disheveled hair, stubble, worn-out jeans, stained white tee shirt, hunched posture), counting money, kitchen table, worried expression, shabby apartment\\nScene 6: He was absolutely miserable and not to mention, completely exhausted.\\nScene 6 image: (Male, 40 years old, Short dark disheveled hair, stubble, worn-out jeans, stained white tee shirt, hunched posture), Face Close Up, fatigue, stress, miserable , exhaustion, backdrop of a setting sun\\nScene 7: He wanted to turn his life around but didn't have any time or even a spare penny.\\nScene 7 image: (Male, 40 years old, Short dark disheveled hair, stubble, worn-out jeans, stained white tee shirt, hunched posture), sitting, slouched,  looking at a piggy bank, empty checklist in background\\nScene 8: He felt trapped and it was scary.\\nScene 8 image: (Male, 40 years old, Short dark disheveled hair, stubble, worn-out jeans, stained white tee shirt, hunched posture), anxious, trapped, standing against a closed door, in jail\\nScene 9: Raymond was scrolling social media when he saw a friend had recently won a couple of thousand dollars, using a free bonus.\\nScene 9 image: (Male, 40 years old, Short dark disheveled hair, stubble, worn-out jeans, stained white tee shirt, hunched posture), ((staring at cell-phone)), surprised face, mouth open, glowing background\\nScene 10: It was from an offer giving away 100 free chances to win over $1 million.\\nScene 10 image: slot machine on a phone screen\"}]}\n"
     ]
    },
    {
     "name": "stderr",
     "output_type": "stream",
     "text": [
      "2023-09-19 22:10:36,789:INFO - HTTP Request: PATCH https://fpyltvtkpkrkzortucoa.supabase.co/rest/v1/scenes?id=eq.113 \"HTTP/1.1 200 OK\"\n"
     ]
    },
    {
     "name": "stdout",
     "output_type": "stream",
     "text": [
      "gpt_resp: \n",
      "{\n",
      "  \"id\": \"chatcmpl-80cGxjMpt3SDLuD4DQIoHvCPV8bYt\",\n",
      "  \"object\": \"chat.completion\",\n",
      "  \"created\": 1695157811,\n",
      "  \"model\": \"gpt-4-0613\",\n",
      "  \"choices\": [\n",
      "    {\n",
      "      \"index\": 0,\n",
      "      \"message\": {\n",
      "        \"role\": \"assistant\",\n",
      "        \"content\": \"Scene 0 image: (Female, 20s, brown hair, stressed, glasses), sitting at kitchen table, bills and calculator, mountain-shaped shadow\\n\\nScene 1 image: (Female, 20s, brown hair, glasses), opening mailbox, fear, flowing bills, camera necklace\\n\\nScene 2 image: (Female, 20s, brown hair, glasses, interested), green forest vista, holding old camera, taking picture\\n\\nScene 3 image: (Female, 20s, brown hair, surprised, glasses), uploading photos, small follower count growing, social media logo\\n\\nScene 4 image: (Female, 20s, brown hair, excited, glasses), shaking hands with art gallery owner, wildlife photos, gallery background\\n\\nScene 5 image: (Female, 20s, brown hair, glasses, relieved), handing over banknotes, chip in mountain-shaped debt shadow\\n\\nScene 6 image: (Female, 20s, brown hair, glasses, ecstatic), clipping last bill from string, balloons, white debt counter zero \\n\\nScene 7 image: (Female, 20s, brown hair, glasses), unveiling wildlife sanctuary sign, lush green forest, comfortable wildlife surround\\n\\nScene 8 image: (Female, 20s, brown hair, glasses), public speaking in University Hall, inspired students, applause\\n\\nScene 9 image: (Female, 20s, brown hair, glasses, satisfied), atop mountain, shooting photo, mountain-shaped shadow, far smaller\"\n",
      "      },\n",
      "      \"finish_reason\": \"stop\"\n",
      "    }\n",
      "  ],\n",
      "  \"usage\": {\n",
      "    \"prompt_tokens\": 924,\n",
      "    \"completion_tokens\": 305,\n",
      "    \"total_tokens\": 1229\n",
      "  }\n",
      "}\n",
      "GPT RESPONSE HERE: \n",
      "Scene 0 image: (Female, 20s, brown hair, stressed, glasses), sitting at kitchen table, bills and calculator, mountain-shaped shadow\n",
      "\n",
      "Scene 1 image: (Female, 20s, brown hair, glasses), opening mailbox, fear, flowing bills, camera necklace\n",
      "\n",
      "Scene 2 image: (Female, 20s, brown hair, glasses, interested), green forest vista, holding old camera, taking picture\n",
      "\n",
      "Scene 3 image: (Female, 20s, brown hair, surprised, glasses), uploading photos, small follower count growing, social media logo\n",
      "\n",
      "Scene 4 image: (Female, 20s, brown hair, excited, glasses), shaking hands with art gallery owner, wildlife photos, gallery background\n",
      "\n",
      "Scene 5 image: (Female, 20s, brown hair, glasses, relieved), handing over banknotes, chip in mountain-shaped debt shadow\n",
      "\n",
      "Scene 6 image: (Female, 20s, brown hair, glasses, ecstatic), clipping last bill from string, balloons, white debt counter zero \n",
      "\n",
      "Scene 7 image: (Female, 20s, brown hair, glasses), unveiling wildlife sanctuary sign, lush green forest, comfortable wildlife surround\n",
      "\n",
      "Scene 8 image: (Female, 20s, brown hair, glasses), public speaking in University Hall, inspired students, applause\n",
      "\n",
      "Scene 9 image: (Female, 20s, brown hair, glasses, satisfied), atop mountain, shooting photo, mountain-shaped shadow, far smaller\n",
      "KEYWORDS LIST HERE: \n",
      "[['(Female, 20s, brown hair, stressed, glasses), sitting at kitchen table, bills and calculator, mountain-shaped shadow'], ['(Female, 20s, brown hair, glasses), opening mailbox, fear, flowing bills, camera necklace'], ['(Female, 20s, brown hair, glasses, interested), green forest vista, holding old camera, taking picture'], ['(Female, 20s, brown hair, surprised, glasses), uploading photos, small follower count growing, social media logo'], ['(Female, 20s, brown hair, excited, glasses), shaking hands with art gallery owner, wildlife photos, gallery background'], ['(Female, 20s, brown hair, glasses, relieved), handing over banknotes, chip in mountain-shaped debt shadow'], ['(Female, 20s, brown hair, glasses, ecstatic), clipping last bill from string, balloons, white debt counter zero'], ['(Female, 20s, brown hair, glasses), unveiling wildlife sanctuary sign, lush green forest, comfortable wildlife surround'], ['(Female, 20s, brown hair, glasses), public speaking in University Hall, inspired students, applause'], ['(Female, 20s, brown hair, glasses, satisfied), atop mountain, shooting photo, mountain-shaped shadow, far smaller']]\n",
      "[{'sd_prompts': ['(Female, 20s, brown hair, stressed, glasses), sitting at kitchen table, bills and calculator, mountain-shaped shadow'], 'id': 113}, {'sd_prompts': ['(Female, 20s, brown hair, glasses), opening mailbox, fear, flowing bills, camera necklace'], 'id': 114}, {'sd_prompts': ['(Female, 20s, brown hair, glasses, interested), green forest vista, holding old camera, taking picture'], 'id': 115}, {'sd_prompts': ['(Female, 20s, brown hair, surprised, glasses), uploading photos, small follower count growing, social media logo'], 'id': 116}, {'sd_prompts': ['(Female, 20s, brown hair, excited, glasses), shaking hands with art gallery owner, wildlife photos, gallery background'], 'id': 117}, {'sd_prompts': ['(Female, 20s, brown hair, glasses, relieved), handing over banknotes, chip in mountain-shaped debt shadow'], 'id': 118}, {'sd_prompts': ['(Female, 20s, brown hair, glasses, ecstatic), clipping last bill from string, balloons, white debt counter zero'], 'id': 119}, {'sd_prompts': ['(Female, 20s, brown hair, glasses), unveiling wildlife sanctuary sign, lush green forest, comfortable wildlife surround'], 'id': 120}, {'sd_prompts': ['(Female, 20s, brown hair, glasses), public speaking in University Hall, inspired students, applause'], 'id': 121}, {'sd_prompts': ['(Female, 20s, brown hair, glasses, satisfied), atop mountain, shooting photo, mountain-shaped shadow, far smaller'], 'id': 122}]\n"
     ]
    },
    {
     "name": "stderr",
     "output_type": "stream",
     "text": [
      "2023-09-19 22:10:36,888:INFO - HTTP Request: PATCH https://fpyltvtkpkrkzortucoa.supabase.co/rest/v1/scenes?id=eq.114 \"HTTP/1.1 200 OK\"\n",
      "2023-09-19 22:10:36,991:INFO - HTTP Request: PATCH https://fpyltvtkpkrkzortucoa.supabase.co/rest/v1/scenes?id=eq.115 \"HTTP/1.1 200 OK\"\n",
      "2023-09-19 22:10:37,090:INFO - HTTP Request: PATCH https://fpyltvtkpkrkzortucoa.supabase.co/rest/v1/scenes?id=eq.116 \"HTTP/1.1 200 OK\"\n",
      "2023-09-19 22:10:37,190:INFO - HTTP Request: PATCH https://fpyltvtkpkrkzortucoa.supabase.co/rest/v1/scenes?id=eq.117 \"HTTP/1.1 200 OK\"\n",
      "2023-09-19 22:10:37,300:INFO - HTTP Request: PATCH https://fpyltvtkpkrkzortucoa.supabase.co/rest/v1/scenes?id=eq.118 \"HTTP/1.1 200 OK\"\n",
      "2023-09-19 22:10:37,383:INFO - HTTP Request: PATCH https://fpyltvtkpkrkzortucoa.supabase.co/rest/v1/scenes?id=eq.119 \"HTTP/1.1 200 OK\"\n",
      "2023-09-19 22:10:37,491:INFO - HTTP Request: PATCH https://fpyltvtkpkrkzortucoa.supabase.co/rest/v1/scenes?id=eq.120 \"HTTP/1.1 200 OK\"\n",
      "2023-09-19 22:10:37,610:INFO - HTTP Request: PATCH https://fpyltvtkpkrkzortucoa.supabase.co/rest/v1/scenes?id=eq.121 \"HTTP/1.1 200 OK\"\n",
      "2023-09-19 22:10:37,714:INFO - HTTP Request: PATCH https://fpyltvtkpkrkzortucoa.supabase.co/rest/v1/scenes?id=eq.122 \"HTTP/1.1 200 OK\"\n"
     ]
    },
    {
     "name": "stdout",
     "output_type": "stream",
     "text": [
      "{'responses': [[{'id': 113, 'created_at': '2023-09-19T21:05:10.329772+00:00', 'project_id': 19, 'scene_order_position': 0, 'scene_text': 'Once upon a time, Emily faced the colossal mountain of student debt, feeling overwhelmed and suffocated by the numbers.', 'status': 'Active', 'album_id': 127, 'theme_keywords': None, 'sd_prompts': ['(Female, 20s, brown hair, stressed, glasses), sitting at kitchen table, bills and calculator, mountain-shaped shadow']}], [{'id': 114, 'created_at': '2023-09-19T21:05:10.575248+00:00', 'project_id': 19, 'scene_order_position': 1, 'scene_text': 'Each bill in the mailbox served as a constant reminder of her inability to pursue her true passion: wildlife photography.', 'status': 'Active', 'album_id': 128, 'theme_keywords': None, 'sd_prompts': ['(Female, 20s, brown hair, glasses), opening mailbox, fear, flowing bills, camera necklace']}], [{'id': 115, 'created_at': '2023-09-19T21:05:10.723034+00:00', 'project_id': 19, 'scene_order_position': 2, 'scene_text': 'Then one day, inspired by a lecture from a famous photographer, she took out her old camera and began capturing the beauty of the local forests.', 'status': 'Active', 'album_id': 129, 'theme_keywords': None, 'sd_prompts': ['(Female, 20s, brown hair, glasses, interested), green forest vista, holding old camera, taking picture']}], [{'id': 116, 'created_at': '2023-09-19T21:05:10.8952+00:00', 'project_id': 19, 'scene_order_position': 3, 'scene_text': 'She used her small social media following to display her work, and soon enough, she attracted the attention of a local art gallery.', 'status': 'Active', 'album_id': 130, 'theme_keywords': None, 'sd_prompts': ['(Female, 20s, brown hair, surprised, glasses), uploading photos, small follower count growing, social media logo']}], [{'id': 117, 'created_at': '2023-09-19T21:05:11.053315+00:00', 'project_id': 19, 'scene_order_position': 4, 'scene_text': 'The gallery offered to host an exhibition of her photography, and it was a resounding success.', 'status': 'Active', 'album_id': 131, 'theme_keywords': None, 'sd_prompts': ['(Female, 20s, brown hair, excited, glasses), shaking hands with art gallery owner, wildlife photos, gallery background']}], [{'id': 118, 'created_at': '2023-09-19T21:05:11.229489+00:00', 'project_id': 19, 'scene_order_position': 5, 'scene_text': 'Using the funds from the sold pieces, Emily managed to pay off a significant chunk of her debt, liberating her to take more daring trips for even better shots.', 'status': 'Active', 'album_id': 132, 'theme_keywords': None, 'sd_prompts': ['(Female, 20s, brown hair, glasses, relieved), handing over banknotes, chip in mountain-shaped debt shadow']}], [{'id': 119, 'created_at': '2023-09-19T21:05:11.41906+00:00', 'project_id': 19, 'scene_order_position': 6, 'scene_text': 'More exhibitions followed, each more successful than the last, until she was finally free of debt.', 'status': 'Active', 'album_id': 133, 'theme_keywords': None, 'sd_prompts': ['(Female, 20s, brown hair, glasses, ecstatic), clipping last bill from string, balloons, white debt counter zero']}], [{'id': 120, 'created_at': '2023-09-19T21:05:11.565514+00:00', 'project_id': 19, 'scene_order_position': 7, 'scene_text': 'With her newfound financial freedom, Emily established a wildlife sanctuary, combining her passion for photography and conservation.', 'status': 'Active', 'album_id': 134, 'theme_keywords': None, 'sd_prompts': ['(Female, 20s, brown hair, glasses), unveiling wildlife sanctuary sign, lush green forest, comfortable wildlife surround']}], [{'id': 121, 'created_at': '2023-09-19T21:05:11.772131+00:00', 'project_id': 19, 'scene_order_position': 8, 'scene_text': 'Her story spread, and soon she was invited to give lectures, inspiring the next generation to conquer their obstacles just as she had.', 'status': 'Active', 'album_id': 135, 'theme_keywords': None, 'sd_prompts': ['(Female, 20s, brown hair, glasses), public speaking in University Hall, inspired students, applause']}], [{'id': 122, 'created_at': '2023-09-19T21:05:11.94337+00:00', 'project_id': 19, 'scene_order_position': 9, 'scene_text': 'Emily looked at her life, realizing that she had transformed her mountain of debt into a mountain of dreams, climbed and conquered.', 'status': 'Active', 'album_id': 136, 'theme_keywords': None, 'sd_prompts': ['(Female, 20s, brown hair, glasses, satisfied), atop mountain, shooting photo, mountain-shaped shadow, far smaller']}]]}\n"
     ]
    }
   ],
   "source": [
    "from actions import *\n",
    "\n",
    "def get_scene_prompts(project_id, sd_workflow=\"sd_imgs_1\"):\n",
    "\n",
    "    # scenes = actions.get_active_scenes(project_id)\n",
    "    scenes = get_active_scenes(project_id)\n",
    "    joined_scenes = get_joined_scenes(scenes)\n",
    "\n",
    "    # render the prompt for GPT using joined scenes and saved prompt as jijna template\n",
    "    variables = {'input': joined_scenes}\n",
    "    file_path = f'prompts/{sd_workflow}.txt'\n",
    "    rendered_content = render_template_from_file(file_path, variables)\n",
    "    # print(rendered_content)\n",
    "\n",
    "    # get response from GPT\n",
    "    gpt_resp = get_gpt_response(rendered_content)\n",
    "    print(\"GPT RESPONSE HERE: \")\n",
    "    print(gpt_resp)\n",
    "\n",
    "    \n",
    "    keywords_list = get_prompts_list(gpt_resp)\n",
    "    print(\"KEYWORDS LIST HERE: \")\n",
    "    print(keywords_list)\n",
    "\n",
    "    # print(keywords_list)\n",
    "    # print(scenes)\n",
    "\n",
    "    if len(keywords_list) == len(scenes):\n",
    "        data_list = create_data_list(keywords_list, scenes, keyword_column=\"sd_prompts\")\n",
    "        print(data_list)\n",
    "\n",
    "        update_resp = funcs_supabase.update_multiple_rows(\"scenes\", data_list)\n",
    "        print(update_resp)\n",
    "\n",
    "    #     return data_list\n",
    "\n",
    "    # else:\n",
    "    #     print(\"The lengths of keywords_list and scenes do not match.\")\n",
    "\n",
    "\n",
    "\n",
    "\n",
    "get_scene_prompts(19)"
   ]
  },
  {
   "cell_type": "code",
   "execution_count": 9,
   "metadata": {},
   "outputs": [
    {
     "ename": "RuntimeError",
     "evalue": "This event loop is already running",
     "output_type": "error",
     "traceback": [
      "\u001b[0;31m---------------------------------------------------------------------------\u001b[0m",
      "\u001b[0;31mRuntimeError\u001b[0m                              Traceback (most recent call last)",
      "\u001b[1;32m/Users/georgebennett/Documents/GitHub/script_writer/stable_diffusion1.ipynb Cell 3\u001b[0m line \u001b[0;36m2\n\u001b[1;32m     <a href='vscode-notebook-cell:/Users/georgebennett/Documents/GitHub/script_writer/stable_diffusion1.ipynb#W2sZmlsZQ%3D%3D?line=20'>21</a>\u001b[0m URL \u001b[39m=\u001b[39m \u001b[39mf\u001b[39m\u001b[39m\"\u001b[39m\u001b[39mwss://\u001b[39m\u001b[39m{\u001b[39;00mSUPABASE_ID\u001b[39m}\u001b[39;00m\u001b[39m.supabase.co/realtime/v1/websocket?apikey=\u001b[39m\u001b[39m{\u001b[39;00mSUPABASE_KEY\u001b[39m}\u001b[39;00m\u001b[39m&vsn=1.0.0\u001b[39m\u001b[39m\"\u001b[39m\n\u001b[1;32m     <a href='vscode-notebook-cell:/Users/georgebennett/Documents/GitHub/script_writer/stable_diffusion1.ipynb#W2sZmlsZQ%3D%3D?line=21'>22</a>\u001b[0m s \u001b[39m=\u001b[39m Socket(URL)\n\u001b[0;32m---> <a href='vscode-notebook-cell:/Users/georgebennett/Documents/GitHub/script_writer/stable_diffusion1.ipynb#W2sZmlsZQ%3D%3D?line=22'>23</a>\u001b[0m s\u001b[39m.\u001b[39;49mconnect()\n\u001b[1;32m     <a href='vscode-notebook-cell:/Users/georgebennett/Documents/GitHub/script_writer/stable_diffusion1.ipynb#W2sZmlsZQ%3D%3D?line=24'>25</a>\u001b[0m channel_1 \u001b[39m=\u001b[39m s\u001b[39m.\u001b[39mset_channel(\u001b[39m\"\u001b[39m\u001b[39mrealtime:*\u001b[39m\u001b[39m\"\u001b[39m)\n\u001b[1;32m     <a href='vscode-notebook-cell:/Users/georgebennett/Documents/GitHub/script_writer/stable_diffusion1.ipynb#W2sZmlsZQ%3D%3D?line=25'>26</a>\u001b[0m channel_1\u001b[39m.\u001b[39mjoin()\u001b[39m.\u001b[39mon(\u001b[39m\"\u001b[39m\u001b[39mUPDATE\u001b[39m\u001b[39m\"\u001b[39m, callback1)\n",
      "File \u001b[0;32m~/Documents/GitHub/script_writer/myenv/lib/python3.10/site-packages/realtime/connection.py:98\u001b[0m, in \u001b[0;36mSocket.connect\u001b[0;34m(self)\u001b[0m\n\u001b[1;32m     94\u001b[0m \u001b[39m\u001b[39m\u001b[39m\"\"\"\u001b[39;00m\n\u001b[1;32m     95\u001b[0m \u001b[39mWrapper for async def _connect() to expose a non-async interface\u001b[39;00m\n\u001b[1;32m     96\u001b[0m \u001b[39m\"\"\"\u001b[39;00m\n\u001b[1;32m     97\u001b[0m loop \u001b[39m=\u001b[39m asyncio\u001b[39m.\u001b[39mget_event_loop()  \u001b[39m# TODO: replace with get_running\u001b[39;00m\n\u001b[0;32m---> 98\u001b[0m loop\u001b[39m.\u001b[39;49mrun_until_complete(\u001b[39mself\u001b[39;49m\u001b[39m.\u001b[39;49m_connect())\n\u001b[1;32m     99\u001b[0m \u001b[39mself\u001b[39m\u001b[39m.\u001b[39mconnected \u001b[39m=\u001b[39m \u001b[39mTrue\u001b[39;00m\n",
      "File \u001b[0;32m/Library/Frameworks/Python.framework/Versions/3.10/lib/python3.10/asyncio/base_events.py:622\u001b[0m, in \u001b[0;36mBaseEventLoop.run_until_complete\u001b[0;34m(self, future)\u001b[0m\n\u001b[1;32m    611\u001b[0m \u001b[39m\u001b[39m\u001b[39m\"\"\"Run until the Future is done.\u001b[39;00m\n\u001b[1;32m    612\u001b[0m \n\u001b[1;32m    613\u001b[0m \u001b[39mIf the argument is a coroutine, it is wrapped in a Task.\u001b[39;00m\n\u001b[0;32m   (...)\u001b[0m\n\u001b[1;32m    619\u001b[0m \u001b[39mReturn the Future's result, or raise its exception.\u001b[39;00m\n\u001b[1;32m    620\u001b[0m \u001b[39m\"\"\"\u001b[39;00m\n\u001b[1;32m    621\u001b[0m \u001b[39mself\u001b[39m\u001b[39m.\u001b[39m_check_closed()\n\u001b[0;32m--> 622\u001b[0m \u001b[39mself\u001b[39;49m\u001b[39m.\u001b[39;49m_check_running()\n\u001b[1;32m    624\u001b[0m new_task \u001b[39m=\u001b[39m \u001b[39mnot\u001b[39;00m futures\u001b[39m.\u001b[39misfuture(future)\n\u001b[1;32m    625\u001b[0m future \u001b[39m=\u001b[39m tasks\u001b[39m.\u001b[39mensure_future(future, loop\u001b[39m=\u001b[39m\u001b[39mself\u001b[39m)\n",
      "File \u001b[0;32m/Library/Frameworks/Python.framework/Versions/3.10/lib/python3.10/asyncio/base_events.py:582\u001b[0m, in \u001b[0;36mBaseEventLoop._check_running\u001b[0;34m(self)\u001b[0m\n\u001b[1;32m    580\u001b[0m \u001b[39mdef\u001b[39;00m \u001b[39m_check_running\u001b[39m(\u001b[39mself\u001b[39m):\n\u001b[1;32m    581\u001b[0m     \u001b[39mif\u001b[39;00m \u001b[39mself\u001b[39m\u001b[39m.\u001b[39mis_running():\n\u001b[0;32m--> 582\u001b[0m         \u001b[39mraise\u001b[39;00m \u001b[39mRuntimeError\u001b[39;00m(\u001b[39m'\u001b[39m\u001b[39mThis event loop is already running\u001b[39m\u001b[39m'\u001b[39m)\n\u001b[1;32m    583\u001b[0m     \u001b[39mif\u001b[39;00m events\u001b[39m.\u001b[39m_get_running_loop() \u001b[39mis\u001b[39;00m \u001b[39mnot\u001b[39;00m \u001b[39mNone\u001b[39;00m:\n\u001b[1;32m    584\u001b[0m         \u001b[39mraise\u001b[39;00m \u001b[39mRuntimeError\u001b[39;00m(\n\u001b[1;32m    585\u001b[0m             \u001b[39m'\u001b[39m\u001b[39mCannot run the event loop while another loop is running\u001b[39m\u001b[39m'\u001b[39m)\n",
      "\u001b[0;31mRuntimeError\u001b[0m: This event loop is already running"
     ]
    }
   ],
   "source": []
  }
 ],
 "metadata": {
  "kernelspec": {
   "display_name": "myenv",
   "language": "python",
   "name": "python3"
  },
  "language_info": {
   "codemirror_mode": {
    "name": "ipython",
    "version": 3
   },
   "file_extension": ".py",
   "mimetype": "text/x-python",
   "name": "python",
   "nbconvert_exporter": "python",
   "pygments_lexer": "ipython3",
   "version": "3.10.6"
  },
  "orig_nbformat": 4
 },
 "nbformat": 4,
 "nbformat_minor": 2
}
