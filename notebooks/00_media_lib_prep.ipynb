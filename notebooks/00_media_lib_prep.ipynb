{
    "cells": [
        {
            "cell_type": "code",
            "execution_count": null,
            "metadata": {},
            "outputs": [],
            "source": [
                "# Ok, so for the media library, we need to prepare the output in a certain way. \n",
                "# input will be a bunch of ids\n",
                "# Add these to an album\n",
                "\n",
                "\n",
                "# when render_album is called, it will take the album id, process all the media in that library, and then return object in correct format\n",
                "\n",
                "\n",
                "# Vector_Search currently returns data in this format\n",
                "# {'id': 127, 'content': 'a lion cub sitting on a rock under a tree', 'url': None, 'similarity': 0.933864435633929}\n",
                "# {'id': 121, 'content': 'a young lion walking in the grass next to a tree', 'url': None, 'similarity': 0.908780846784397}\n",
                "# {'id': 111, 'content': 'a close up of a lion in a field', 'url': None, 'similarity': 0.908208218035866}\n",
                "# {'id': 119, 'content': 'a lion standing in the middle of a forest', 'url': None, 'similarity': 0.900758166540314}\n",
                "# {'id': 114, 'content': 'a close up of a lion laying on the ground', 'url': None, 'similarity': 0.899268792635519}\n",
                "# {'id': 118, 'content': 'a large lion laying on top of a rock', 'url': None, 'similarity': 0.897526972442822}\n",
                "# {'id': 117, 'content': 'a lion behind a fence in a zoo', 'url': None, 'similarity': 0.897353962723208}\n",
                "# {'id': 112, 'content': 'a lion walking across a lush green field', 'url': None, 'similarity': 0.895988907185434}\n",
                "# {'id': 113, 'content': 'a lion standing on top of a large rock', 'url': None, 'similarity': 0.893444278649301}\n",
                "\n",
                "\n",
                "# table album_media_link\n",
                "# id | album_id | media_id"
            ]
        },
        {
            "cell_type": "code",
            "execution_count": null,
            "metadata": {},
            "outputs": [],
            "source": [
                "import funcs_supabase\n",
                "\n",
                "media_id_list = [80,90,91,92,93,94,95,96,97,98,99,100,101,102,103,104]\n",
                "album_id = 12\n",
                "table = 'album_media_link'\n",
                "\n",
                "resp_list = []\n",
                "\n",
                "for media_id in media_id_list:\n",
                "    combined_dict = {}\n",
                "\n",
                "    combined_dict['album_id'] = int(album_id)\n",
                "    combined_dict['media_id'] = int(media_id)\n",
                "    print(combined_dict)\n",
                "\n",
                "\n",
                "    conditions = [\n",
                "        {\"column\": \"media_id\", \"operator\": \"eq\", \"value\": media_id},\n",
                "        {\"column\": \"album_id\", \"operator\": \"eq\", \"value\": album_id}\n",
                "    ]\n",
                "    check = funcs_supabase.select_data_with_conditions(table, conditions)\n",
                "    print(check)\n",
                "\n",
                "    if len(check) == 0:\n",
                "        print(f\"Media_id {media_id} does not exist in album_id {album_id}\")\n",
                "\n",
                "        try:\n",
                "            resp = funcs_supabase.insert_data(table, combined_dict)\n",
                "            resp_list.append(resp)\n",
                "\n",
                "        except Exception as e:\n",
                "            print(f\"Failed to insert data for media_id {media_id}. Error: {e}\")\n",
                "    #         resp_list.append(f\"Failed: {e}\")\n",
                "    \n",
                "    # else:\n",
                "    #     print(f\"Media_id {media_id} already exists in album_id {album_id}\")\n",
                "\n",
                "print(resp_list)\n"
            ]
        },
        {
            "cell_type": "code",
            "execution_count": null,
            "metadata": {},
            "outputs": [],
            "source": [
                "import psycopg2\n",
                "import os\n",
                "import psycopg2.extras  # Import the extras\n",
                "from dotenv import load_dotenv\n",
                "\n",
                "def get_media_by_album_id(album_id):\n",
                "    # Load environment variables\n",
                "    load_dotenv()\n",
                "\n",
                "    # Get database connection string from environment variables\n",
                "    SUPABASE_DB_FULL_URL = os.getenv(\"SUPABASE_DB_FULL_URL\")\n",
                "\n",
                "    # Initialize connection and cursor\n",
                "    conn = psycopg2.connect(SUPABASE_DB_FULL_URL)\n",
                "    cursor = conn.cursor(cursor_factory=psycopg2.extras.DictCursor)\n",
                "\n",
                "    # SQL query\n",
                "    sql_query = \"\"\"\n",
                "    SELECT media.*\n",
                "    FROM album_media_link\n",
                "    JOIN media ON album_media_link.media_id = media.id\n",
                "    WHERE album_media_link.album_id = %s;\n",
                "    \"\"\"\n",
                "\n",
                "    result_list = []\n",
                "\n",
                "    try:\n",
                "        # Execute the query\n",
                "        cursor.execute(sql_query, (album_id,))\n",
                "\n",
                "        # Fetch all rows and store them in a list of dictionaries\n",
                "        rows = cursor.fetchall()\n",
                "        for row in rows:\n",
                "            result_list.append(dict(row))\n",
                "\n",
                "    except Exception as e:\n",
                "        print(f\"An error occurred while executing the SQL query: {e}\")\n",
                "\n",
                "    finally:\n",
                "        # Close the cursor and the connection\n",
                "        cursor.close()\n",
                "        conn.close()\n",
                "\n",
                "    return result_list\n",
                "\n",
                "# Test the function\n",
                "album_id_to_search = 10  # Replace with your actual album_id\n",
                "result = get_media_by_album_id(album_id_to_search)\n",
                "print(result)  # This will print a list of dictionaries\n"
            ]
        },
        {
            "cell_type": "code",
            "execution_count": null,
            "metadata": {},
            "outputs": [],
            "source": [
                "\n",
                "def get_cdn_link(url, width = None, height = None, resize = None):\n",
                "    # resize: 'contain', // 'cover' | 'fill'\n",
                "    # https://fpyltvtkpkrkzortucoa.supabase.co/storage/v1/object/public/media/4b8840f6-1d1a-4b78-b728-fcf039a2f366.jpeg    \n",
                "    # https://fpyltvtkpkrkzortucoa.supabase.co/storage/v1/render/image/public/media/0bd35f13-e222-4504-9362-5183bda46a6b.png?width=300&height=300&resize=cover\n",
                "    # parsed_url = urlparse(url)\n",
                "    # print(f\"Scheme: {parsed_url.scheme}\")\n",
                "    # print(f\"Netloc: {parsed_url.netloc}\")\n",
                "    # print(f\"Path: {parsed_url.path}\")\n",
                "    # print(f\"Parameters: {parsed_url.params}\")\n",
                "    # print(f\"Query: {parsed_url.query}\")\n",
                "    # print(f\"Fragment: {parsed_url.fragment}\")\n",
                "\n",
                "    replace_me = \"https://fpyltvtkpkrkzortucoa.supabase.co/storage/v1/object/public/media/\"\n",
                "    replace_with = \"https://fpyltvtkpkrkzortucoa.supabase.co/storage/v1/render/image/public/media/\"\n",
                "\n",
                "    new_url = url.replace(replace_me, replace_with)\n",
                "    # remove all the parameters\n",
                "    new_url = new_url.split(\"?\")[0]\n",
                "\n",
                "    new_params = []\n",
                "\n",
                "    if width is not None:\n",
                "        new_params.append(f\"width={width}\")\n",
                "\n",
                "    if height is not None:\n",
                "        new_params.append(f\"height={height}\")\n",
                "\n",
                "    if resize is not None:\n",
                "        new_params.append(f\"resize={resize}\")\n",
                "\n",
                "    if len(new_params) > 0:\n",
                "        new_url = new_url + \"?\" + \"&\".join(new_params)\n",
                "\n",
                "    # print(new_url)\n",
                "\n",
                "    return new_url\n",
                "\n",
                "\n",
                "\n",
                "\n",
                "def process_media_list_for_display(media_list):\n",
                "    # print(media_list)\n",
                "\n",
                "    output_list = []\n",
                "\n",
                "    for media in media_list:\n",
                "        # id, media_type, description, url, caption, thumbnail, source_url, source_type\n",
                "        media_dict = {}\n",
                "        \n",
                "        media_dict['id'] = media['id']\n",
                "\n",
                "        media_dict['media_type'] = media['type']\n",
                "\n",
                "        if media['description'] is not None:\n",
                "            media_dict['description'] = media['description']\n",
                "\n",
                "        if media[\"url\"] is None:\n",
                "            if media[\"url_remote\"] is not None:\n",
                "                media_dict['url'] = media[\"url_remote\"]\n",
                "\n",
                "        else:\n",
                "            media_dict['url'] = media[\"url\"]\n",
                "\n",
                "        if media[\"caption\"] is not None:\n",
                "            media_dict['caption'] = media[\"caption\"]\n",
                "\n",
                "        if media[\"thumbnail_url\"] is not None:\n",
                "            try:\n",
                "                cdn_link = get_cdn_link(media[\"thumbnail_url\"], width = 450, resize = \"contain\")\n",
                "                media_dict['thumbnail'] = cdn_link\n",
                "                \n",
                "            except:\n",
                "                media_dict['thumbnail'] = media[\"thumbnail_url\"]\n",
                "\n",
                "\n",
                "        if media[\"source_type\"] is not None:\n",
                "            media_dict['source_type'] = media[\"source_type\"]\n",
                "\n",
                "\n",
                "        if media[\"source_data\"][\"url\"] is not None:\n",
                "            media_dict['source_url'] = media[\"source_data\"][\"url\"]\n",
                "\n",
                "\n",
                "        output_list.append(media_dict)\n",
                "\n",
                "\n",
                "    return output_list\n",
                "        # print(media)\n",
                "\n",
                "\n",
                "# Test the function\n",
                "album_id_to_search = 10  # Replace with your actual album_id\n",
                "result = get_media_by_album_id(album_id_to_search)\n",
                "print(result)  # This will print a list of dictionaries\n",
                "\n",
                "processed_result = process_media_list_for_display(result)\n",
                "print(processed_result)  # This will print a list of dictionaries\n",
                "\n"
            ]
        },
        {
            "cell_type": "code",
            "execution_count": null,
            "metadata": {},
            "outputs": [],
            "source": []
        },
        {
            "cell_type": "code",
            "execution_count": null,
            "metadata": {},
            "outputs": [],
            "source": [
                "# Search all keywords in a scene or project. \n",
                "# Save results to db. \n",
                "# Semantic search the results.\n",
                "# Add best ones to an album. \n"
            ]
        },
        {
            "cell_type": "code",
            "execution_count": 27,
            "metadata": {},
            "outputs": [
                {
                    "name": "stderr",
                    "output_type": "stream",
                    "text": [
                        "2023-09-12 20:12:23,774:INFO - HTTP Request: GET https://fpyltvtkpkrkzortucoa.supabase.co/rest/v1/scenes?select=%2A&project_id=eq.18 \"HTTP/1.1 200 OK\"\n"
                    ]
                },
                {
                    "name": "stdout",
                    "output_type": "stream",
                    "text": [
                        "scene_id matches\n"
                    ]
                },
                {
                    "name": "stderr",
                    "output_type": "stream",
                    "text": [
                        "2023-09-12 20:12:24,468:INFO - HTTP Request: GET https://fpyltvtkpkrkzortucoa.supabase.co/rest/v1/media?select=%2A&source_id=eq.2022396 \"HTTP/1.1 200 OK\"\n",
                        "2023-09-12 20:12:24,567:INFO - HTTP Request: GET https://fpyltvtkpkrkzortucoa.supabase.co/rest/v1/media?select=%2A&source_id=eq.3941289 \"HTTP/1.1 200 OK\"\n"
                    ]
                },
                {
                    "name": "stdout",
                    "output_type": "stream",
                    "text": [
                        "The list is not empty. Stop\n",
                        "The list is not empty. Stop\n"
                    ]
                },
                {
                    "name": "stderr",
                    "output_type": "stream",
                    "text": [
                        "2023-09-12 20:12:24,676:INFO - HTTP Request: GET https://fpyltvtkpkrkzortucoa.supabase.co/rest/v1/media?select=%2A&source_id=eq.1692701 \"HTTP/1.1 200 OK\"\n",
                        "2023-09-12 20:12:24,776:INFO - HTTP Request: GET https://fpyltvtkpkrkzortucoa.supabase.co/rest/v1/media?select=%2A&source_id=eq.3722009 \"HTTP/1.1 200 OK\"\n",
                        "2023-09-12 20:12:24,846:INFO - HTTP Request: GET https://fpyltvtkpkrkzortucoa.supabase.co/rest/v1/media?select=%2A&source_id=eq.4729195 \"HTTP/1.1 200 OK\"\n"
                    ]
                },
                {
                    "name": "stdout",
                    "output_type": "stream",
                    "text": [
                        "The list is not empty. Stop\n",
                        "The list is not empty. Stop\n",
                        "The list is not empty. Stop\n"
                    ]
                },
                {
                    "name": "stderr",
                    "output_type": "stream",
                    "text": [
                        "2023-09-12 20:12:24,962:INFO - HTTP Request: GET https://fpyltvtkpkrkzortucoa.supabase.co/rest/v1/media?select=%2A&source_id=eq.4916813 \"HTTP/1.1 200 OK\"\n",
                        "2023-09-12 20:12:25,060:INFO - HTTP Request: GET https://fpyltvtkpkrkzortucoa.supabase.co/rest/v1/media?select=%2A&source_id=eq.3941287 \"HTTP/1.1 200 OK\"\n",
                        "2023-09-12 20:12:25,128:INFO - HTTP Request: GET https://fpyltvtkpkrkzortucoa.supabase.co/rest/v1/media?select=%2A&source_id=eq.4916733 \"HTTP/1.1 200 OK\"\n"
                    ]
                },
                {
                    "name": "stdout",
                    "output_type": "stream",
                    "text": [
                        "The list is not empty. Stop\n",
                        "The list is not empty. Stop\n",
                        "The list is not empty. Stop\n"
                    ]
                },
                {
                    "name": "stderr",
                    "output_type": "stream",
                    "text": [
                        "2023-09-12 20:12:25,240:INFO - HTTP Request: GET https://fpyltvtkpkrkzortucoa.supabase.co/rest/v1/media?select=%2A&source_id=eq.7270102 \"HTTP/1.1 200 OK\"\n"
                    ]
                },
                {
                    "name": "stdout",
                    "output_type": "stream",
                    "text": [
                        "The list is empty. Proceed\n",
                        "Saved pexels-photo-7270102.jpeg to disk.\n"
                    ]
                },
                {
                    "name": "stderr",
                    "output_type": "stream",
                    "text": [
                        "2023-09-12 20:12:25,746:INFO - HTTP Request: POST https://fpyltvtkpkrkzortucoa.supabase.co/storage/v1/object/media/1dbde564-dfc3-443c-a0cc-8b5f4d198806.jpeg \"HTTP/1.1 200 OK\"\n"
                    ]
                },
                {
                    "name": "stdout",
                    "output_type": "stream",
                    "text": [
                        "uploaded\n"
                    ]
                },
                {
                    "name": "stderr",
                    "output_type": "stream",
                    "text": [
                        "2023-09-12 20:12:26,875:INFO - HTTP Request: POST https://fpyltvtkpkrkzortucoa.supabase.co/rest/v1/media \"HTTP/1.1 201 Created\"\n"
                    ]
                },
                {
                    "name": "stdout",
                    "output_type": "stream",
                    "text": [
                        "a group of people standing around in a dark room\n",
                        "{'dimensions': {'width': 1200, 'height': 630, 'channels': 3}, 'mean_color': (33.654859788359786, 32.107628306878304, 28.68259126984127, 0.0), 'file_size': 40903, 'file_type': 'jpeg'}\n",
                        "Media data updated\n"
                    ]
                },
                {
                    "name": "stderr",
                    "output_type": "stream",
                    "text": [
                        "2023-09-12 20:12:27,443:INFO - HTTP Request: POST https://fpyltvtkpkrkzortucoa.supabase.co/rest/v1/vectors \"HTTP/1.1 201 Created\"\n",
                        "2023-09-12 20:12:27,595:INFO - HTTP Request: PATCH https://fpyltvtkpkrkzortucoa.supabase.co/rest/v1/media?id=eq.281 \"HTTP/1.1 200 OK\"\n"
                    ]
                },
                {
                    "name": "stdout",
                    "output_type": "stream",
                    "text": [
                        "Vector data updated\n",
                        "image processed\n"
                    ]
                },
                {
                    "name": "stderr",
                    "output_type": "stream",
                    "text": [
                        "2023-09-12 20:12:30,687:INFO - HTTP Request: GET https://fpyltvtkpkrkzortucoa.supabase.co/rest/v1/media?select=%2A&source_id=eq.3895039 \"HTTP/1.1 200 OK\"\n"
                    ]
                },
                {
                    "name": "stdout",
                    "output_type": "stream",
                    "text": [
                        "The list is empty. Proceed\n",
                        "Saved action-place-aerial-architecture-audience-3895039.jpeg to disk.\n"
                    ]
                },
                {
                    "name": "stderr",
                    "output_type": "stream",
                    "text": [
                        "2023-09-12 20:12:31,326:INFO - HTTP Request: POST https://fpyltvtkpkrkzortucoa.supabase.co/storage/v1/object/media/b83617b7-043e-4e20-b0e4-8add66b097ec.jpeg \"HTTP/1.1 200 OK\"\n"
                    ]
                },
                {
                    "name": "stdout",
                    "output_type": "stream",
                    "text": [
                        "uploaded\n"
                    ]
                },
                {
                    "name": "stderr",
                    "output_type": "stream",
                    "text": [
                        "2023-09-12 20:12:32,742:INFO - HTTP Request: POST https://fpyltvtkpkrkzortucoa.supabase.co/rest/v1/media \"HTTP/1.1 201 Created\"\n"
                    ]
                },
                {
                    "name": "stdout",
                    "output_type": "stream",
                    "text": [
                        "an aerial view of a concert venue at night\n",
                        "{'dimensions': {'width': 1200, 'height': 630, 'channels': 3}, 'mean_color': (42.96497751322752, 41.58774338624339, 43.016224867724866, 0.0), 'file_size': 111108, 'file_type': 'jpeg'}\n",
                        "Media data updated\n"
                    ]
                },
                {
                    "name": "stderr",
                    "output_type": "stream",
                    "text": [
                        "2023-09-12 20:12:33,136:INFO - HTTP Request: POST https://fpyltvtkpkrkzortucoa.supabase.co/rest/v1/vectors \"HTTP/1.1 201 Created\"\n",
                        "2023-09-12 20:12:33,222:INFO - HTTP Request: PATCH https://fpyltvtkpkrkzortucoa.supabase.co/rest/v1/media?id=eq.282 \"HTTP/1.1 200 OK\"\n"
                    ]
                },
                {
                    "name": "stdout",
                    "output_type": "stream",
                    "text": [
                        "Vector data updated\n",
                        "image processed\n"
                    ]
                },
                {
                    "name": "stderr",
                    "output_type": "stream",
                    "text": [
                        "2023-09-12 20:12:36,346:INFO - HTTP Request: GET https://fpyltvtkpkrkzortucoa.supabase.co/rest/v1/media?select=%2A&source_id=eq.3941288 \"HTTP/1.1 200 OK\"\n"
                    ]
                },
                {
                    "name": "stdout",
                    "output_type": "stream",
                    "text": [
                        "The list is empty. Proceed\n",
                        "Saved pexels-photo-3941288.jpeg to disk.\n"
                    ]
                },
                {
                    "name": "stderr",
                    "output_type": "stream",
                    "text": [
                        "2023-09-12 20:12:36,967:INFO - HTTP Request: POST https://fpyltvtkpkrkzortucoa.supabase.co/storage/v1/object/media/b100ca17-7cbf-45ff-ac11-b164407c0c76.jpeg \"HTTP/1.1 200 OK\"\n"
                    ]
                },
                {
                    "name": "stdout",
                    "output_type": "stream",
                    "text": [
                        "uploaded\n"
                    ]
                },
                {
                    "name": "stderr",
                    "output_type": "stream",
                    "text": [
                        "2023-09-12 20:12:38,531:INFO - HTTP Request: POST https://fpyltvtkpkrkzortucoa.supabase.co/rest/v1/media \"HTTP/1.1 201 Created\"\n"
                    ]
                },
                {
                    "name": "stdout",
                    "output_type": "stream",
                    "text": [
                        "a street light in the middle of the night\n",
                        "{'dimensions': {'width': 1200, 'height': 630, 'channels': 3}, 'mean_color': (20.83403835978836, 12.749698412698413, 20.7715291005291, 0.0), 'file_size': 143326, 'file_type': 'jpeg'}\n",
                        "Media data updated\n"
                    ]
                },
                {
                    "name": "stderr",
                    "output_type": "stream",
                    "text": [
                        "2023-09-12 20:12:39,018:INFO - HTTP Request: POST https://fpyltvtkpkrkzortucoa.supabase.co/rest/v1/vectors \"HTTP/1.1 201 Created\"\n",
                        "2023-09-12 20:12:39,136:INFO - HTTP Request: PATCH https://fpyltvtkpkrkzortucoa.supabase.co/rest/v1/media?id=eq.283 \"HTTP/1.1 200 OK\"\n"
                    ]
                },
                {
                    "name": "stdout",
                    "output_type": "stream",
                    "text": [
                        "Vector data updated\n",
                        "image processed\n"
                    ]
                },
                {
                    "name": "stderr",
                    "output_type": "stream",
                    "text": [
                        "2023-09-12 20:12:42,288:INFO - HTTP Request: GET https://fpyltvtkpkrkzortucoa.supabase.co/rest/v1/media?select=%2A&source_id=eq.4916768 \"HTTP/1.1 200 OK\"\n",
                        "2023-09-12 20:12:42,388:INFO - HTTP Request: GET https://fpyltvtkpkrkzortucoa.supabase.co/rest/v1/media?select=%2A&source_id=eq.7985887 \"HTTP/1.1 200 OK\"\n"
                    ]
                },
                {
                    "name": "stdout",
                    "output_type": "stream",
                    "text": [
                        "The list is not empty. Stop\n",
                        "The list is empty. Proceed\n",
                        "Saved pexels-photo-7985887.jpeg to disk.\n"
                    ]
                },
                {
                    "name": "stderr",
                    "output_type": "stream",
                    "text": [
                        "2023-09-12 20:12:42,906:INFO - HTTP Request: POST https://fpyltvtkpkrkzortucoa.supabase.co/storage/v1/object/media/01f1ca1a-de5c-4a36-93fd-625c3847d64a.jpeg \"HTTP/1.1 200 OK\"\n"
                    ]
                },
                {
                    "name": "stdout",
                    "output_type": "stream",
                    "text": [
                        "uploaded\n"
                    ]
                },
                {
                    "name": "stderr",
                    "output_type": "stream",
                    "text": [
                        "2023-09-12 20:12:44,029:INFO - HTTP Request: POST https://fpyltvtkpkrkzortucoa.supabase.co/rest/v1/media \"HTTP/1.1 201 Created\"\n"
                    ]
                },
                {
                    "name": "stdout",
                    "output_type": "stream",
                    "text": [
                        "a person holding a box of popcorn in their hand\n",
                        "{'dimensions': {'width': 1200, 'height': 630, 'channels': 3}, 'mean_color': (18.33610185185185, 26.28716798941799, 52.33981746031746, 0.0), 'file_size': 30008, 'file_type': 'jpeg'}\n",
                        "Media data updated\n"
                    ]
                },
                {
                    "name": "stderr",
                    "output_type": "stream",
                    "text": [
                        "2023-09-12 20:12:44,432:INFO - HTTP Request: POST https://fpyltvtkpkrkzortucoa.supabase.co/rest/v1/vectors \"HTTP/1.1 201 Created\"\n",
                        "2023-09-12 20:12:44,510:INFO - HTTP Request: PATCH https://fpyltvtkpkrkzortucoa.supabase.co/rest/v1/media?id=eq.284 \"HTTP/1.1 200 OK\"\n"
                    ]
                },
                {
                    "name": "stdout",
                    "output_type": "stream",
                    "text": [
                        "Vector data updated\n",
                        "image processed\n"
                    ]
                },
                {
                    "name": "stderr",
                    "output_type": "stream",
                    "text": [
                        "2023-09-12 20:12:47,602:INFO - HTTP Request: GET https://fpyltvtkpkrkzortucoa.supabase.co/rest/v1/media?select=%2A&source_id=eq.7233537 \"HTTP/1.1 200 OK\"\n"
                    ]
                },
                {
                    "name": "stdout",
                    "output_type": "stream",
                    "text": [
                        "The list is empty. Proceed\n",
                        "Saved pexels-photo-7233537.jpeg to disk.\n"
                    ]
                },
                {
                    "name": "stderr",
                    "output_type": "stream",
                    "text": [
                        "2023-09-12 20:12:48,001:INFO - HTTP Request: POST https://fpyltvtkpkrkzortucoa.supabase.co/storage/v1/object/media/752f133e-1aa8-4d09-b0e8-36e8b07bbb27.jpeg \"HTTP/1.1 200 OK\"\n"
                    ]
                },
                {
                    "name": "stdout",
                    "output_type": "stream",
                    "text": [
                        "uploaded\n",
                        "a man and a man sitting in a movie theater\n",
                        "{'dimensions': {'width': 1200, 'height': 630, 'channels': 3}, 'mean_color': (43.45302777777778, 45.43450264550265, 53.508714285714284, 0.0), 'file_size': 54904, 'file_type': 'jpeg'}\n"
                    ]
                },
                {
                    "name": "stderr",
                    "output_type": "stream",
                    "text": [
                        "2023-09-12 20:12:49,420:INFO - HTTP Request: POST https://fpyltvtkpkrkzortucoa.supabase.co/rest/v1/media \"HTTP/1.1 201 Created\"\n"
                    ]
                },
                {
                    "name": "stdout",
                    "output_type": "stream",
                    "text": [
                        "Media data updated\n"
                    ]
                },
                {
                    "name": "stderr",
                    "output_type": "stream",
                    "text": [
                        "2023-09-12 20:12:49,936:INFO - HTTP Request: POST https://fpyltvtkpkrkzortucoa.supabase.co/rest/v1/vectors \"HTTP/1.1 201 Created\"\n",
                        "2023-09-12 20:12:50,000:INFO - HTTP Request: PATCH https://fpyltvtkpkrkzortucoa.supabase.co/rest/v1/media?id=eq.285 \"HTTP/1.1 200 OK\"\n"
                    ]
                },
                {
                    "name": "stdout",
                    "output_type": "stream",
                    "text": [
                        "Vector data updated\n",
                        "image processed\n"
                    ]
                },
                {
                    "name": "stderr",
                    "output_type": "stream",
                    "text": [
                        "2023-09-12 20:12:53,080:INFO - HTTP Request: GET https://fpyltvtkpkrkzortucoa.supabase.co/rest/v1/media?select=%2A&source_id=eq.8244322 \"HTTP/1.1 200 OK\"\n"
                    ]
                },
                {
                    "name": "stdout",
                    "output_type": "stream",
                    "text": [
                        "The list is empty. Proceed\n",
                        "Saved business-conference-men-multiethnic-8244322.jpeg to disk.\n"
                    ]
                },
                {
                    "name": "stderr",
                    "output_type": "stream",
                    "text": [
                        "2023-09-12 20:12:53,564:INFO - HTTP Request: POST https://fpyltvtkpkrkzortucoa.supabase.co/storage/v1/object/media/a24cc80a-df24-44e9-8c80-089cf6bd79ce.jpeg \"HTTP/1.1 200 OK\"\n"
                    ]
                },
                {
                    "name": "stdout",
                    "output_type": "stream",
                    "text": [
                        "uploaded\n"
                    ]
                },
                {
                    "name": "stderr",
                    "output_type": "stream",
                    "text": [
                        "2023-09-12 20:12:54,829:INFO - HTTP Request: POST https://fpyltvtkpkrkzortucoa.supabase.co/rest/v1/media \"HTTP/1.1 201 Created\"\n"
                    ]
                },
                {
                    "name": "stdout",
                    "output_type": "stream",
                    "text": [
                        "a man standing in front of a group of people\n",
                        "{'dimensions': {'width': 1200, 'height': 630, 'channels': 3}, 'mean_color': (86.13302645502645, 93.62893783068783, 105.1371746031746, 0.0), 'file_size': 61352, 'file_type': 'jpeg'}\n",
                        "Media data updated\n"
                    ]
                },
                {
                    "name": "stderr",
                    "output_type": "stream",
                    "text": [
                        "2023-09-12 20:12:55,664:INFO - HTTP Request: POST https://fpyltvtkpkrkzortucoa.supabase.co/rest/v1/vectors \"HTTP/1.1 201 Created\"\n",
                        "2023-09-12 20:12:55,741:INFO - HTTP Request: PATCH https://fpyltvtkpkrkzortucoa.supabase.co/rest/v1/media?id=eq.286 \"HTTP/1.1 200 OK\"\n"
                    ]
                },
                {
                    "name": "stdout",
                    "output_type": "stream",
                    "text": [
                        "Vector data updated\n",
                        "image processed\n"
                    ]
                },
                {
                    "name": "stderr",
                    "output_type": "stream",
                    "text": [
                        "2023-09-12 20:12:58,836:INFO - HTTP Request: GET https://fpyltvtkpkrkzortucoa.supabase.co/rest/v1/media?select=%2A&source_id=eq.12525522 \"HTTP/1.1 200 OK\"\n"
                    ]
                },
                {
                    "name": "stdout",
                    "output_type": "stream",
                    "text": [
                        "The list is empty. Proceed\n",
                        "Saved pexels-photo-12525522.jpeg to disk.\n"
                    ]
                },
                {
                    "name": "stderr",
                    "output_type": "stream",
                    "text": [
                        "2023-09-12 20:12:59,409:INFO - HTTP Request: POST https://fpyltvtkpkrkzortucoa.supabase.co/storage/v1/object/media/254233fe-1c45-4eb5-b517-17c54dd9c78d.jpeg \"HTTP/1.1 200 OK\"\n"
                    ]
                },
                {
                    "name": "stdout",
                    "output_type": "stream",
                    "text": [
                        "uploaded\n"
                    ]
                },
                {
                    "name": "stderr",
                    "output_type": "stream",
                    "text": [
                        "2023-09-12 20:13:00,722:INFO - HTTP Request: POST https://fpyltvtkpkrkzortucoa.supabase.co/rest/v1/media \"HTTP/1.1 201 Created\"\n"
                    ]
                },
                {
                    "name": "stdout",
                    "output_type": "stream",
                    "text": [
                        "a large crowd of people at a concert\n",
                        "{'dimensions': {'width': 1200, 'height': 630, 'channels': 3}, 'mean_color': (42.12752380952381, 31.445022486772487, 29.747386243386245, 0.0), 'file_size': 57137, 'file_type': 'jpeg'}\n",
                        "Media data updated\n"
                    ]
                },
                {
                    "name": "stderr",
                    "output_type": "stream",
                    "text": [
                        "2023-09-12 20:13:01,189:INFO - HTTP Request: POST https://fpyltvtkpkrkzortucoa.supabase.co/rest/v1/vectors \"HTTP/1.1 201 Created\"\n",
                        "2023-09-12 20:13:01,267:INFO - HTTP Request: PATCH https://fpyltvtkpkrkzortucoa.supabase.co/rest/v1/media?id=eq.287 \"HTTP/1.1 200 OK\"\n"
                    ]
                },
                {
                    "name": "stdout",
                    "output_type": "stream",
                    "text": [
                        "Vector data updated\n",
                        "image processed\n"
                    ]
                },
                {
                    "name": "stderr",
                    "output_type": "stream",
                    "text": [
                        "2023-09-12 20:13:04,351:INFO - HTTP Request: GET https://fpyltvtkpkrkzortucoa.supabase.co/rest/v1/media?select=%2A&source_id=eq.7271353 \"HTTP/1.1 200 OK\"\n"
                    ]
                },
                {
                    "name": "stdout",
                    "output_type": "stream",
                    "text": [
                        "The list is empty. Proceed\n",
                        "Saved pexels-photo-7271353.jpeg to disk.\n"
                    ]
                },
                {
                    "name": "stderr",
                    "output_type": "stream",
                    "text": [
                        "2023-09-12 20:13:05,390:INFO - HTTP Request: POST https://fpyltvtkpkrkzortucoa.supabase.co/storage/v1/object/media/84f087b8-d1c8-4722-ae4a-7977128cf4dc.jpeg \"HTTP/1.1 200 OK\"\n"
                    ]
                },
                {
                    "name": "stdout",
                    "output_type": "stream",
                    "text": [
                        "uploaded\n"
                    ]
                },
                {
                    "name": "stderr",
                    "output_type": "stream",
                    "text": [
                        "2023-09-12 20:13:06,494:INFO - HTTP Request: POST https://fpyltvtkpkrkzortucoa.supabase.co/rest/v1/media \"HTTP/1.1 201 Created\"\n"
                    ]
                },
                {
                    "name": "stdout",
                    "output_type": "stream",
                    "text": [
                        "a man standing in front of a bright light\n",
                        "{'dimensions': {'width': 1200, 'height': 630, 'channels': 3}, 'mean_color': (82.08281878306879, 57.321126984126984, 58.82625, 0.0), 'file_size': 26365, 'file_type': 'jpeg'}\n",
                        "Media data updated\n"
                    ]
                },
                {
                    "name": "stderr",
                    "output_type": "stream",
                    "text": [
                        "2023-09-12 20:13:06,845:INFO - HTTP Request: POST https://fpyltvtkpkrkzortucoa.supabase.co/rest/v1/vectors \"HTTP/1.1 201 Created\"\n",
                        "2023-09-12 20:13:06,914:INFO - HTTP Request: PATCH https://fpyltvtkpkrkzortucoa.supabase.co/rest/v1/media?id=eq.288 \"HTTP/1.1 200 OK\"\n"
                    ]
                },
                {
                    "name": "stdout",
                    "output_type": "stream",
                    "text": [
                        "Vector data updated\n",
                        "image processed\n"
                    ]
                },
                {
                    "name": "stderr",
                    "output_type": "stream",
                    "text": [
                        "2023-09-12 20:13:09,978:INFO - HTTP Request: GET https://fpyltvtkpkrkzortucoa.supabase.co/rest/v1/media?select=%2A&source_id=eq.8244304 \"HTTP/1.1 200 OK\"\n"
                    ]
                },
                {
                    "name": "stdout",
                    "output_type": "stream",
                    "text": [
                        "The list is empty. Proceed\n",
                        "Saved pexels-photo-8244304.jpeg to disk.\n"
                    ]
                },
                {
                    "name": "stderr",
                    "output_type": "stream",
                    "text": [
                        "2023-09-12 20:13:10,432:INFO - HTTP Request: POST https://fpyltvtkpkrkzortucoa.supabase.co/storage/v1/object/media/a7d334e7-4437-41d4-a793-707b80e76808.jpeg \"HTTP/1.1 200 OK\"\n"
                    ]
                },
                {
                    "name": "stdout",
                    "output_type": "stream",
                    "text": [
                        "uploaded\n"
                    ]
                },
                {
                    "name": "stderr",
                    "output_type": "stream",
                    "text": [
                        "2023-09-12 20:13:12,399:INFO - HTTP Request: POST https://fpyltvtkpkrkzortucoa.supabase.co/rest/v1/media \"HTTP/1.1 201 Created\"\n"
                    ]
                },
                {
                    "name": "stdout",
                    "output_type": "stream",
                    "text": [
                        "a man standing in front of a group of people\n",
                        "{'dimensions': {'width': 1200, 'height': 630, 'channels': 3}, 'mean_color': (78.86571957671958, 92.05412566137566, 109.97717063492064, 0.0), 'file_size': 74488, 'file_type': 'jpeg'}\n",
                        "Media data updated\n"
                    ]
                },
                {
                    "name": "stderr",
                    "output_type": "stream",
                    "text": [
                        "2023-09-12 20:13:13,045:INFO - HTTP Request: POST https://fpyltvtkpkrkzortucoa.supabase.co/rest/v1/vectors \"HTTP/1.1 201 Created\"\n",
                        "2023-09-12 20:13:13,124:INFO - HTTP Request: PATCH https://fpyltvtkpkrkzortucoa.supabase.co/rest/v1/media?id=eq.289 \"HTTP/1.1 200 OK\"\n"
                    ]
                },
                {
                    "name": "stdout",
                    "output_type": "stream",
                    "text": [
                        "Vector data updated\n",
                        "image processed\n"
                    ]
                },
                {
                    "name": "stderr",
                    "output_type": "stream",
                    "text": [
                        "2023-09-12 20:13:16,223:INFO - HTTP Request: GET https://fpyltvtkpkrkzortucoa.supabase.co/rest/v1/media?select=%2A&source_id=eq.7647783 \"HTTP/1.1 200 OK\"\n"
                    ]
                },
                {
                    "name": "stdout",
                    "output_type": "stream",
                    "text": [
                        "The list is empty. Proceed\n",
                        "Saved pexels-photo-7647783.jpeg to disk.\n"
                    ]
                },
                {
                    "name": "stderr",
                    "output_type": "stream",
                    "text": [
                        "2023-09-12 20:13:16,743:INFO - HTTP Request: POST https://fpyltvtkpkrkzortucoa.supabase.co/storage/v1/object/media/01c10a64-3f9f-4798-887a-87c8905fe3db.jpeg \"HTTP/1.1 200 OK\"\n"
                    ]
                },
                {
                    "name": "stdout",
                    "output_type": "stream",
                    "text": [
                        "uploaded\n"
                    ]
                },
                {
                    "name": "stderr",
                    "output_type": "stream",
                    "text": [
                        "2023-09-12 20:13:18,179:INFO - HTTP Request: POST https://fpyltvtkpkrkzortucoa.supabase.co/rest/v1/media \"HTTP/1.1 201 Created\"\n"
                    ]
                },
                {
                    "name": "stdout",
                    "output_type": "stream",
                    "text": [
                        "a group of people sitting at a table clapping\n",
                        "{'dimensions': {'width': 1200, 'height': 630, 'channels': 3}, 'mean_color': (77.2056798941799, 82.60117195767195, 86.3029074074074, 0.0), 'file_size': 93210, 'file_type': 'jpeg'}\n",
                        "Media data updated\n"
                    ]
                },
                {
                    "name": "stderr",
                    "output_type": "stream",
                    "text": [
                        "2023-09-12 20:13:18,703:INFO - HTTP Request: POST https://fpyltvtkpkrkzortucoa.supabase.co/rest/v1/vectors \"HTTP/1.1 201 Created\"\n",
                        "2023-09-12 20:13:18,809:INFO - HTTP Request: PATCH https://fpyltvtkpkrkzortucoa.supabase.co/rest/v1/media?id=eq.290 \"HTTP/1.1 200 OK\"\n"
                    ]
                },
                {
                    "name": "stdout",
                    "output_type": "stream",
                    "text": [
                        "Vector data updated\n",
                        "image processed\n"
                    ]
                },
                {
                    "name": "stderr",
                    "output_type": "stream",
                    "text": [
                        "2023-09-12 20:13:21,896:INFO - HTTP Request: GET https://fpyltvtkpkrkzortucoa.supabase.co/rest/v1/media?select=%2A&source_id=eq.7722231 \"HTTP/1.1 200 OK\"\n"
                    ]
                },
                {
                    "name": "stdout",
                    "output_type": "stream",
                    "text": [
                        "The list is empty. Proceed\n",
                        "Saved adult-audience-band-bass-7722231.jpeg to disk.\n"
                    ]
                },
                {
                    "name": "stderr",
                    "output_type": "stream",
                    "text": [
                        "2023-09-12 20:13:22,670:INFO - HTTP Request: POST https://fpyltvtkpkrkzortucoa.supabase.co/storage/v1/object/media/f999628f-f616-45c0-ba20-b8c38b93f0af.jpeg \"HTTP/1.1 200 OK\"\n"
                    ]
                },
                {
                    "name": "stdout",
                    "output_type": "stream",
                    "text": [
                        "uploaded\n"
                    ]
                },
                {
                    "name": "stderr",
                    "output_type": "stream",
                    "text": [
                        "2023-09-12 20:13:23,818:INFO - HTTP Request: POST https://fpyltvtkpkrkzortucoa.supabase.co/rest/v1/media \"HTTP/1.1 201 Created\"\n"
                    ]
                },
                {
                    "name": "stdout",
                    "output_type": "stream",
                    "text": [
                        "a crowd of people at a concert with their hands in the air\n",
                        "{'dimensions': {'width': 1200, 'height': 630, 'channels': 3}, 'mean_color': (34.65938492063492, 29.377988095238095, 30.300997354497355, 0.0), 'file_size': 31743, 'file_type': 'jpeg'}\n",
                        "Media data updated\n"
                    ]
                },
                {
                    "name": "stderr",
                    "output_type": "stream",
                    "text": [
                        "2023-09-12 20:13:24,544:INFO - HTTP Request: POST https://fpyltvtkpkrkzortucoa.supabase.co/rest/v1/vectors \"HTTP/1.1 201 Created\"\n",
                        "2023-09-12 20:13:24,618:INFO - HTTP Request: PATCH https://fpyltvtkpkrkzortucoa.supabase.co/rest/v1/media?id=eq.291 \"HTTP/1.1 200 OK\"\n"
                    ]
                },
                {
                    "name": "stdout",
                    "output_type": "stream",
                    "text": [
                        "Vector data updated\n",
                        "image processed\n"
                    ]
                },
                {
                    "name": "stderr",
                    "output_type": "stream",
                    "text": [
                        "2023-09-12 20:13:27,718:INFO - HTTP Request: GET https://fpyltvtkpkrkzortucoa.supabase.co/rest/v1/media?select=%2A&source_id=eq.4593046 \"HTTP/1.1 200 OK\"\n"
                    ]
                },
                {
                    "name": "stdout",
                    "output_type": "stream",
                    "text": [
                        "The list is empty. Proceed\n",
                        "Saved day-of-the-dead-dia-de-los-muertos-mexican-mexico-4593046.jpeg to disk.\n"
                    ]
                },
                {
                    "name": "stderr",
                    "output_type": "stream",
                    "text": [
                        "2023-09-12 20:13:28,243:INFO - HTTP Request: POST https://fpyltvtkpkrkzortucoa.supabase.co/storage/v1/object/media/2f51d628-d174-4d63-a836-6a78880bd29a.jpeg \"HTTP/1.1 200 OK\"\n"
                    ]
                },
                {
                    "name": "stdout",
                    "output_type": "stream",
                    "text": [
                        "uploaded\n"
                    ]
                },
                {
                    "name": "stderr",
                    "output_type": "stream",
                    "text": [
                        "2023-09-12 20:13:29,597:INFO - HTTP Request: POST https://fpyltvtkpkrkzortucoa.supabase.co/rest/v1/media \"HTTP/1.1 201 Created\"\n"
                    ]
                },
                {
                    "name": "stdout",
                    "output_type": "stream",
                    "text": [
                        "a large group of people standing around a building\n",
                        "{'dimensions': {'width': 1200, 'height': 630, 'channels': 3}, 'mean_color': (84.52018783068783, 92.80109788359789, 100.46191666666667, 0.0), 'file_size': 110511, 'file_type': 'jpeg'}\n",
                        "Media data updated\n"
                    ]
                },
                {
                    "name": "stderr",
                    "output_type": "stream",
                    "text": [
                        "2023-09-12 20:13:30,266:INFO - HTTP Request: POST https://fpyltvtkpkrkzortucoa.supabase.co/rest/v1/vectors \"HTTP/1.1 201 Created\"\n",
                        "2023-09-12 20:13:30,331:INFO - HTTP Request: PATCH https://fpyltvtkpkrkzortucoa.supabase.co/rest/v1/media?id=eq.292 \"HTTP/1.1 200 OK\"\n"
                    ]
                },
                {
                    "name": "stdout",
                    "output_type": "stream",
                    "text": [
                        "Vector data updated\n",
                        "image processed\n"
                    ]
                },
                {
                    "name": "stderr",
                    "output_type": "stream",
                    "text": [
                        "2023-09-12 20:13:33,431:INFO - HTTP Request: GET https://fpyltvtkpkrkzortucoa.supabase.co/rest/v1/media?select=%2A&source_id=eq.5242088 \"HTTP/1.1 200 OK\"\n"
                    ]
                },
                {
                    "name": "stdout",
                    "output_type": "stream",
                    "text": [
                        "The list is empty. Proceed\n",
                        "Saved australia-brisbane-drone-paddington-5242088.jpeg to disk.\n"
                    ]
                },
                {
                    "name": "stderr",
                    "output_type": "stream",
                    "text": [
                        "2023-09-12 20:13:34,330:INFO - HTTP Request: POST https://fpyltvtkpkrkzortucoa.supabase.co/storage/v1/object/media/4c519316-303d-400f-a55a-7d41c5770c9c.jpeg \"HTTP/1.1 200 OK\"\n"
                    ]
                },
                {
                    "name": "stdout",
                    "output_type": "stream",
                    "text": [
                        "uploaded\n"
                    ]
                },
                {
                    "name": "stderr",
                    "output_type": "stream",
                    "text": [
                        "2023-09-12 20:13:35,860:INFO - HTTP Request: POST https://fpyltvtkpkrkzortucoa.supabase.co/rest/v1/media \"HTTP/1.1 201 Created\"\n"
                    ]
                },
                {
                    "name": "stdout",
                    "output_type": "stream",
                    "text": [
                        "an aerial view of a city with tall buildings\n",
                        "{'dimensions': {'width': 1200, 'height': 630, 'channels': 3}, 'mean_color': (107.23260317460317, 100.22765211640211, 110.037541005291, 0.0), 'file_size': 96227, 'file_type': 'jpeg'}\n",
                        "Media data updated\n"
                    ]
                },
                {
                    "name": "stderr",
                    "output_type": "stream",
                    "text": [
                        "2023-09-12 20:13:36,410:INFO - HTTP Request: POST https://fpyltvtkpkrkzortucoa.supabase.co/rest/v1/vectors \"HTTP/1.1 201 Created\"\n",
                        "2023-09-12 20:13:36,478:INFO - HTTP Request: PATCH https://fpyltvtkpkrkzortucoa.supabase.co/rest/v1/media?id=eq.293 \"HTTP/1.1 200 OK\"\n"
                    ]
                },
                {
                    "name": "stdout",
                    "output_type": "stream",
                    "text": [
                        "Vector data updated\n",
                        "image processed\n"
                    ]
                },
                {
                    "name": "stderr",
                    "output_type": "stream",
                    "text": [
                        "2023-09-12 20:13:39,568:INFO - HTTP Request: GET https://fpyltvtkpkrkzortucoa.supabase.co/rest/v1/media?select=%2A&source_id=eq.3918375 \"HTTP/1.1 200 OK\"\n",
                        "2023-09-12 20:13:39,649:INFO - HTTP Request: GET https://fpyltvtkpkrkzortucoa.supabase.co/rest/v1/media?select=%2A&source_id=eq.4865381 \"HTTP/1.1 200 OK\"\n"
                    ]
                },
                {
                    "name": "stdout",
                    "output_type": "stream",
                    "text": [
                        "The list is not empty. Stop\n",
                        "The list is empty. Proceed\n",
                        "Saved pexels-photo-4865381.jpeg to disk.\n"
                    ]
                },
                {
                    "name": "stderr",
                    "output_type": "stream",
                    "text": [
                        "2023-09-12 20:13:40,166:INFO - HTTP Request: POST https://fpyltvtkpkrkzortucoa.supabase.co/storage/v1/object/media/52012615-9f9c-4bcd-8943-ceb1df6529ad.jpeg \"HTTP/1.1 200 OK\"\n"
                    ]
                },
                {
                    "name": "stdout",
                    "output_type": "stream",
                    "text": [
                        "uploaded\n"
                    ]
                },
                {
                    "name": "stderr",
                    "output_type": "stream",
                    "text": [
                        "2023-09-12 20:13:41,592:INFO - HTTP Request: POST https://fpyltvtkpkrkzortucoa.supabase.co/rest/v1/media \"HTTP/1.1 201 Created\"\n"
                    ]
                },
                {
                    "name": "stdout",
                    "output_type": "stream",
                    "text": [
                        "a man sitting on a couch in front of a lamp\n",
                        "{'dimensions': {'width': 1200, 'height': 630, 'channels': 3}, 'mean_color': (52.76973544973545, 65.39720370370371, 78.9994246031746, 0.0), 'file_size': 48185, 'file_type': 'jpeg'}\n",
                        "Media data updated\n"
                    ]
                },
                {
                    "name": "stderr",
                    "output_type": "stream",
                    "text": [
                        "2023-09-12 20:13:42,174:INFO - HTTP Request: POST https://fpyltvtkpkrkzortucoa.supabase.co/rest/v1/vectors \"HTTP/1.1 201 Created\"\n",
                        "2023-09-12 20:13:42,239:INFO - HTTP Request: PATCH https://fpyltvtkpkrkzortucoa.supabase.co/rest/v1/media?id=eq.294 \"HTTP/1.1 200 OK\"\n"
                    ]
                },
                {
                    "name": "stdout",
                    "output_type": "stream",
                    "text": [
                        "Vector data updated\n",
                        "image processed\n"
                    ]
                },
                {
                    "name": "stderr",
                    "output_type": "stream",
                    "text": [
                        "2023-09-12 20:13:45,309:INFO - HTTP Request: GET https://fpyltvtkpkrkzortucoa.supabase.co/rest/v1/media?select=%2A&source_id=eq.4729192 \"HTTP/1.1 200 OK\"\n"
                    ]
                },
                {
                    "name": "stdout",
                    "output_type": "stream",
                    "text": [
                        "The list is empty. Proceed\n",
                        "Saved drone-football-game-game-play-4729192.jpeg to disk.\n"
                    ]
                },
                {
                    "name": "stderr",
                    "output_type": "stream",
                    "text": [
                        "2023-09-12 20:13:46,002:INFO - HTTP Request: POST https://fpyltvtkpkrkzortucoa.supabase.co/storage/v1/object/media/185f2402-d73a-475f-84e1-27ad3c2b42c8.jpeg \"HTTP/1.1 200 OK\"\n"
                    ]
                },
                {
                    "name": "stdout",
                    "output_type": "stream",
                    "text": [
                        "uploaded\n"
                    ]
                },
                {
                    "name": "stderr",
                    "output_type": "stream",
                    "text": [
                        "2023-09-12 20:13:47,355:INFO - HTTP Request: POST https://fpyltvtkpkrkzortucoa.supabase.co/rest/v1/media \"HTTP/1.1 201 Created\"\n"
                    ]
                },
                {
                    "name": "stdout",
                    "output_type": "stream",
                    "text": [
                        "a large crowd of people in a stadium\n",
                        "{'dimensions': {'width': 1200, 'height': 630, 'channels': 3}, 'mean_color': (90.03093915343915, 89.90545634920635, 85.61192592592593, 0.0), 'file_size': 107921, 'file_type': 'jpeg'}\n",
                        "Media data updated\n"
                    ]
                },
                {
                    "name": "stderr",
                    "output_type": "stream",
                    "text": [
                        "2023-09-12 20:13:47,785:INFO - HTTP Request: POST https://fpyltvtkpkrkzortucoa.supabase.co/rest/v1/vectors \"HTTP/1.1 201 Created\"\n",
                        "2023-09-12 20:13:47,863:INFO - HTTP Request: PATCH https://fpyltvtkpkrkzortucoa.supabase.co/rest/v1/media?id=eq.295 \"HTTP/1.1 200 OK\"\n"
                    ]
                },
                {
                    "name": "stdout",
                    "output_type": "stream",
                    "text": [
                        "Vector data updated\n",
                        "image processed\n"
                    ]
                },
                {
                    "name": "stderr",
                    "output_type": "stream",
                    "text": [
                        "2023-09-12 20:13:50,947:INFO - HTTP Request: GET https://fpyltvtkpkrkzortucoa.supabase.co/rest/v1/media?select=%2A&source_id=eq.3792293 \"HTTP/1.1 200 OK\"\n"
                    ]
                },
                {
                    "name": "stdout",
                    "output_type": "stream",
                    "text": [
                        "The list is empty. Proceed\n",
                        "Saved pexels-photo-3792293.jpeg to disk.\n"
                    ]
                },
                {
                    "name": "stderr",
                    "output_type": "stream",
                    "text": [
                        "2023-09-12 20:13:51,532:INFO - HTTP Request: POST https://fpyltvtkpkrkzortucoa.supabase.co/storage/v1/object/media/13135af9-9ed8-4429-a114-d013443856e1.jpeg \"HTTP/1.1 200 OK\"\n"
                    ]
                },
                {
                    "name": "stdout",
                    "output_type": "stream",
                    "text": [
                        "uploaded\n"
                    ]
                },
                {
                    "name": "stderr",
                    "output_type": "stream",
                    "text": [
                        "2023-09-12 20:13:52,892:INFO - HTTP Request: POST https://fpyltvtkpkrkzortucoa.supabase.co/rest/v1/media \"HTTP/1.1 201 Created\"\n"
                    ]
                },
                {
                    "name": "stdout",
                    "output_type": "stream",
                    "text": [
                        "a large crowd of people at a concert\n",
                        "{'dimensions': {'width': 1200, 'height': 630, 'channels': 3}, 'mean_color': (124.17031746031746, 62.587785714285715, 144.0414365079365, 0.0), 'file_size': 93069, 'file_type': 'jpeg'}\n",
                        "Media data updated\n"
                    ]
                },
                {
                    "name": "stderr",
                    "output_type": "stream",
                    "text": [
                        "2023-09-12 20:13:53,272:INFO - HTTP Request: POST https://fpyltvtkpkrkzortucoa.supabase.co/rest/v1/vectors \"HTTP/1.1 201 Created\"\n",
                        "2023-09-12 20:13:53,359:INFO - HTTP Request: PATCH https://fpyltvtkpkrkzortucoa.supabase.co/rest/v1/media?id=eq.296 \"HTTP/1.1 200 OK\"\n"
                    ]
                },
                {
                    "name": "stdout",
                    "output_type": "stream",
                    "text": [
                        "Vector data updated\n",
                        "image processed\n"
                    ]
                },
                {
                    "name": "stderr",
                    "output_type": "stream",
                    "text": [
                        "2023-09-12 20:13:56,475:INFO - HTTP Request: GET https://fpyltvtkpkrkzortucoa.supabase.co/rest/v1/media?select=%2A&source_id=eq.7985879 \"HTTP/1.1 200 OK\"\n"
                    ]
                },
                {
                    "name": "stdout",
                    "output_type": "stream",
                    "text": [
                        "The list is empty. Proceed\n",
                        "Saved pexels-photo-7985879.jpeg to disk.\n"
                    ]
                },
                {
                    "name": "stderr",
                    "output_type": "stream",
                    "text": [
                        "2023-09-12 20:13:57,036:INFO - HTTP Request: POST https://fpyltvtkpkrkzortucoa.supabase.co/storage/v1/object/media/907a0db7-a5bb-4bcb-a3bc-a9692a5ee256.jpeg \"HTTP/1.1 200 OK\"\n"
                    ]
                },
                {
                    "name": "stdout",
                    "output_type": "stream",
                    "text": [
                        "uploaded\n"
                    ]
                },
                {
                    "name": "stderr",
                    "output_type": "stream",
                    "text": [
                        "2023-09-12 20:13:58,172:INFO - HTTP Request: POST https://fpyltvtkpkrkzortucoa.supabase.co/rest/v1/media \"HTTP/1.1 201 Created\"\n"
                    ]
                },
                {
                    "name": "stdout",
                    "output_type": "stream",
                    "text": [
                        "a group of people sitting in a movie theater\n",
                        "{'dimensions': {'width': 1200, 'height': 630, 'channels': 3}, 'mean_color': (18.91141798941799, 21.377907407407406, 39.19066137566138, 0.0), 'file_size': 46905, 'file_type': 'jpeg'}\n",
                        "Media data updated\n"
                    ]
                },
                {
                    "name": "stderr",
                    "output_type": "stream",
                    "text": [
                        "2023-09-12 20:13:58,881:INFO - HTTP Request: POST https://fpyltvtkpkrkzortucoa.supabase.co/rest/v1/vectors \"HTTP/1.1 201 Created\"\n",
                        "2023-09-12 20:13:58,999:INFO - HTTP Request: PATCH https://fpyltvtkpkrkzortucoa.supabase.co/rest/v1/media?id=eq.297 \"HTTP/1.1 200 OK\"\n"
                    ]
                },
                {
                    "name": "stdout",
                    "output_type": "stream",
                    "text": [
                        "Vector data updated\n",
                        "image processed\n"
                    ]
                },
                {
                    "name": "stderr",
                    "output_type": "stream",
                    "text": [
                        "2023-09-12 20:14:02,074:INFO - HTTP Request: GET https://fpyltvtkpkrkzortucoa.supabase.co/rest/v1/media?select=%2A&source_id=eq.8244203 \"HTTP/1.1 200 OK\"\n"
                    ]
                },
                {
                    "name": "stdout",
                    "output_type": "stream",
                    "text": [
                        "The list is empty. Proceed\n",
                        "Saved pexels-photo-8244203.jpeg to disk.\n"
                    ]
                },
                {
                    "name": "stderr",
                    "output_type": "stream",
                    "text": [
                        "2023-09-12 20:14:02,695:INFO - HTTP Request: POST https://fpyltvtkpkrkzortucoa.supabase.co/storage/v1/object/media/053ab349-4c6d-4c61-aace-e30284b691c5.jpeg \"HTTP/1.1 200 OK\"\n"
                    ]
                },
                {
                    "name": "stdout",
                    "output_type": "stream",
                    "text": [
                        "uploaded\n"
                    ]
                },
                {
                    "name": "stderr",
                    "output_type": "stream",
                    "text": [
                        "2023-09-12 20:14:04,225:INFO - HTTP Request: POST https://fpyltvtkpkrkzortucoa.supabase.co/rest/v1/media \"HTTP/1.1 201 Created\"\n"
                    ]
                },
                {
                    "name": "stdout",
                    "output_type": "stream",
                    "text": [
                        "a group of people sitting in front of a screen\n",
                        "{'dimensions': {'width': 1200, 'height': 630, 'channels': 3}, 'mean_color': (90.52297354497355, 98.47406746031746, 117.65287566137566, 0.0), 'file_size': 82327, 'file_type': 'jpeg'}\n",
                        "Media data updated\n"
                    ]
                },
                {
                    "name": "stderr",
                    "output_type": "stream",
                    "text": [
                        "2023-09-12 20:14:04,667:INFO - HTTP Request: POST https://fpyltvtkpkrkzortucoa.supabase.co/rest/v1/vectors \"HTTP/1.1 201 Created\"\n",
                        "2023-09-12 20:14:04,770:INFO - HTTP Request: PATCH https://fpyltvtkpkrkzortucoa.supabase.co/rest/v1/media?id=eq.298 \"HTTP/1.1 200 OK\"\n"
                    ]
                },
                {
                    "name": "stdout",
                    "output_type": "stream",
                    "text": [
                        "Vector data updated\n",
                        "image processed\n"
                    ]
                },
                {
                    "name": "stderr",
                    "output_type": "stream",
                    "text": [
                        "2023-09-12 20:14:07,844:INFO - HTTP Request: GET https://fpyltvtkpkrkzortucoa.supabase.co/rest/v1/media?select=%2A&source_id=eq.7233529 \"HTTP/1.1 200 OK\"\n"
                    ]
                },
                {
                    "name": "stdout",
                    "output_type": "stream",
                    "text": [
                        "The list is empty. Proceed\n",
                        "Saved pexels-photo-7233529.jpeg to disk.\n"
                    ]
                },
                {
                    "name": "stderr",
                    "output_type": "stream",
                    "text": [
                        "2023-09-12 20:14:08,284:INFO - HTTP Request: POST https://fpyltvtkpkrkzortucoa.supabase.co/storage/v1/object/media/57f62a61-5033-4779-8e64-31e0c0b09ee2.jpeg \"HTTP/1.1 200 OK\"\n"
                    ]
                },
                {
                    "name": "stdout",
                    "output_type": "stream",
                    "text": [
                        "uploaded\n"
                    ]
                },
                {
                    "name": "stderr",
                    "output_type": "stream",
                    "text": [
                        "2023-09-12 20:14:09,689:INFO - HTTP Request: POST https://fpyltvtkpkrkzortucoa.supabase.co/rest/v1/media \"HTTP/1.1 201 Created\"\n"
                    ]
                },
                {
                    "name": "stdout",
                    "output_type": "stream",
                    "text": [
                        "a group of people sitting next to each other\n",
                        "{'dimensions': {'width': 1200, 'height': 630, 'channels': 3}, 'mean_color': (52.852539682539685, 54.924447089947094, 67.31239947089948, 0.0), 'file_size': 50771, 'file_type': 'jpeg'}\n",
                        "Media data updated\n"
                    ]
                },
                {
                    "name": "stderr",
                    "output_type": "stream",
                    "text": [
                        "2023-09-12 20:14:10,218:INFO - HTTP Request: POST https://fpyltvtkpkrkzortucoa.supabase.co/rest/v1/vectors \"HTTP/1.1 201 Created\"\n",
                        "2023-09-12 20:14:10,326:INFO - HTTP Request: PATCH https://fpyltvtkpkrkzortucoa.supabase.co/rest/v1/media?id=eq.299 \"HTTP/1.1 200 OK\"\n"
                    ]
                },
                {
                    "name": "stdout",
                    "output_type": "stream",
                    "text": [
                        "Vector data updated\n",
                        "image processed\n"
                    ]
                },
                {
                    "name": "stderr",
                    "output_type": "stream",
                    "text": [
                        "2023-09-12 20:14:13,415:INFO - HTTP Request: GET https://fpyltvtkpkrkzortucoa.supabase.co/rest/v1/media?select=%2A&source_id=eq.7722988 \"HTTP/1.1 200 OK\"\n"
                    ]
                },
                {
                    "name": "stdout",
                    "output_type": "stream",
                    "text": [
                        "The list is empty. Proceed\n",
                        "Saved adult-art-artist-audience-7722988.jpeg to disk.\n"
                    ]
                },
                {
                    "name": "stderr",
                    "output_type": "stream",
                    "text": [
                        "2023-09-12 20:14:14,264:INFO - HTTP Request: POST https://fpyltvtkpkrkzortucoa.supabase.co/storage/v1/object/media/60e377f3-555b-49e6-9516-b23c20139e92.jpeg \"HTTP/1.1 200 OK\"\n"
                    ]
                },
                {
                    "name": "stdout",
                    "output_type": "stream",
                    "text": [
                        "uploaded\n"
                    ]
                },
                {
                    "name": "stderr",
                    "output_type": "stream",
                    "text": [
                        "2023-09-12 20:14:15,431:INFO - HTTP Request: POST https://fpyltvtkpkrkzortucoa.supabase.co/rest/v1/media \"HTTP/1.1 201 Created\"\n"
                    ]
                },
                {
                    "name": "stdout",
                    "output_type": "stream",
                    "text": [
                        "a dj mixing music in front of a crowd\n",
                        "{'dimensions': {'width': 1200, 'height': 630, 'channels': 3}, 'mean_color': (22.673869047619046, 21.5636917989418, 18.43826851851852, 0.0), 'file_size': 34153, 'file_type': 'jpeg'}\n",
                        "Media data updated\n"
                    ]
                },
                {
                    "name": "stderr",
                    "output_type": "stream",
                    "text": [
                        "2023-09-12 20:14:15,956:INFO - HTTP Request: POST https://fpyltvtkpkrkzortucoa.supabase.co/rest/v1/vectors \"HTTP/1.1 201 Created\"\n",
                        "2023-09-12 20:14:16,039:INFO - HTTP Request: PATCH https://fpyltvtkpkrkzortucoa.supabase.co/rest/v1/media?id=eq.300 \"HTTP/1.1 200 OK\"\n"
                    ]
                },
                {
                    "name": "stdout",
                    "output_type": "stream",
                    "text": [
                        "Vector data updated\n",
                        "image processed\n"
                    ]
                },
                {
                    "name": "stderr",
                    "output_type": "stream",
                    "text": [
                        "2023-09-12 20:14:19,863:INFO - HTTP Request: GET https://fpyltvtkpkrkzortucoa.supabase.co/rest/v1/media?select=%2A&source_id=eq.5119260 \"HTTP/1.1 200 OK\"\n"
                    ]
                },
                {
                    "name": "stdout",
                    "output_type": "stream",
                    "text": [
                        "The list is empty. Proceed\n",
                        "Saved pexels-photo-5119260.jpeg to disk.\n"
                    ]
                },
                {
                    "name": "stderr",
                    "output_type": "stream",
                    "text": [
                        "2023-09-12 20:14:20,257:INFO - HTTP Request: POST https://fpyltvtkpkrkzortucoa.supabase.co/storage/v1/object/media/258393ba-d82e-469e-9b7a-61dd3d1f41c7.jpeg \"HTTP/1.1 200 OK\"\n"
                    ]
                },
                {
                    "name": "stdout",
                    "output_type": "stream",
                    "text": [
                        "uploaded\n"
                    ]
                },
                {
                    "name": "stderr",
                    "output_type": "stream",
                    "text": [
                        "2023-09-12 20:14:21,388:INFO - HTTP Request: POST https://fpyltvtkpkrkzortucoa.supabase.co/rest/v1/media \"HTTP/1.1 201 Created\"\n"
                    ]
                },
                {
                    "name": "stdout",
                    "output_type": "stream",
                    "text": [
                        "a close up of a person in the dark\n",
                        "{'dimensions': {'width': 1200, 'height': 630, 'channels': 3}, 'mean_color': (28.136103174603175, 28.992203703703705, 32.36435846560847, 0.0), 'file_size': 23615, 'file_type': 'jpeg'}\n",
                        "Media data updated\n"
                    ]
                },
                {
                    "name": "stderr",
                    "output_type": "stream",
                    "text": [
                        "2023-09-12 20:14:21,885:INFO - HTTP Request: POST https://fpyltvtkpkrkzortucoa.supabase.co/rest/v1/vectors \"HTTP/1.1 201 Created\"\n",
                        "2023-09-12 20:14:21,958:INFO - HTTP Request: PATCH https://fpyltvtkpkrkzortucoa.supabase.co/rest/v1/media?id=eq.301 \"HTTP/1.1 200 OK\"\n"
                    ]
                },
                {
                    "name": "stdout",
                    "output_type": "stream",
                    "text": [
                        "Vector data updated\n",
                        "image processed\n"
                    ]
                },
                {
                    "name": "stderr",
                    "output_type": "stream",
                    "text": [
                        "2023-09-12 20:14:25,053:INFO - HTTP Request: GET https://fpyltvtkpkrkzortucoa.supabase.co/rest/v1/media?select=%2A&source_id=eq.8724415 \"HTTP/1.1 200 OK\"\n"
                    ]
                },
                {
                    "name": "stdout",
                    "output_type": "stream",
                    "text": [
                        "The list is empty. Proceed\n",
                        "Saved pexels-photo-8724415.jpeg to disk.\n"
                    ]
                },
                {
                    "name": "stderr",
                    "output_type": "stream",
                    "text": [
                        "2023-09-12 20:14:25,424:INFO - HTTP Request: POST https://fpyltvtkpkrkzortucoa.supabase.co/storage/v1/object/media/fb43b38e-7a87-4c7c-8871-d34550fde240.jpeg \"HTTP/1.1 200 OK\"\n"
                    ]
                },
                {
                    "name": "stdout",
                    "output_type": "stream",
                    "text": [
                        "uploaded\n"
                    ]
                },
                {
                    "name": "stderr",
                    "output_type": "stream",
                    "text": [
                        "2023-09-12 20:14:26,567:INFO - HTTP Request: POST https://fpyltvtkpkrkzortucoa.supabase.co/rest/v1/media \"HTTP/1.1 201 Created\"\n"
                    ]
                },
                {
                    "name": "stdout",
                    "output_type": "stream",
                    "text": [
                        "a man with red hair and blue eyes posing for a picture\n",
                        "{'dimensions': {'width': 1200, 'height': 630, 'channels': 3}, 'mean_color': (45.76651322751323, 51.830242063492065, 162.72182275132275, 0.0), 'file_size': 30556, 'file_type': 'jpeg'}\n",
                        "Media data updated\n"
                    ]
                },
                {
                    "name": "stderr",
                    "output_type": "stream",
                    "text": [
                        "2023-09-12 20:14:26,992:INFO - HTTP Request: POST https://fpyltvtkpkrkzortucoa.supabase.co/rest/v1/vectors \"HTTP/1.1 201 Created\"\n",
                        "2023-09-12 20:14:27,063:INFO - HTTP Request: PATCH https://fpyltvtkpkrkzortucoa.supabase.co/rest/v1/media?id=eq.302 \"HTTP/1.1 200 OK\"\n"
                    ]
                },
                {
                    "name": "stdout",
                    "output_type": "stream",
                    "text": [
                        "Vector data updated\n",
                        "image processed\n"
                    ]
                },
                {
                    "name": "stderr",
                    "output_type": "stream",
                    "text": [
                        "2023-09-12 20:14:30,134:INFO - HTTP Request: GET https://fpyltvtkpkrkzortucoa.supabase.co/rest/v1/media?select=%2A&source_id=eq.8626652 \"HTTP/1.1 200 OK\"\n"
                    ]
                },
                {
                    "name": "stdout",
                    "output_type": "stream",
                    "text": [
                        "The list is empty. Proceed\n",
                        "Saved pexels-photo-8626652.jpeg to disk.\n"
                    ]
                },
                {
                    "name": "stderr",
                    "output_type": "stream",
                    "text": [
                        "2023-09-12 20:14:30,752:INFO - HTTP Request: POST https://fpyltvtkpkrkzortucoa.supabase.co/storage/v1/object/media/07808102-ab80-4635-a574-a32c50a7f30e.jpeg \"HTTP/1.1 200 OK\"\n"
                    ]
                },
                {
                    "name": "stdout",
                    "output_type": "stream",
                    "text": [
                        "uploaded\n"
                    ]
                },
                {
                    "name": "stderr",
                    "output_type": "stream",
                    "text": [
                        "2023-09-12 20:14:31,882:INFO - HTTP Request: POST https://fpyltvtkpkrkzortucoa.supabase.co/rest/v1/media \"HTTP/1.1 201 Created\"\n"
                    ]
                },
                {
                    "name": "stdout",
                    "output_type": "stream",
                    "text": [
                        "a man in an orange shirt is screaming\n",
                        "{'dimensions': {'width': 1200, 'height': 630, 'channels': 3}, 'mean_color': (86.96871296296297, 91.81295899470899, 127.5492328042328, 0.0), 'file_size': 40191, 'file_type': 'jpeg'}\n",
                        "Media data updated\n"
                    ]
                },
                {
                    "name": "stderr",
                    "output_type": "stream",
                    "text": [
                        "2023-09-12 20:14:32,315:INFO - HTTP Request: POST https://fpyltvtkpkrkzortucoa.supabase.co/rest/v1/vectors \"HTTP/1.1 201 Created\"\n",
                        "2023-09-12 20:14:32,384:INFO - HTTP Request: PATCH https://fpyltvtkpkrkzortucoa.supabase.co/rest/v1/media?id=eq.303 \"HTTP/1.1 200 OK\"\n"
                    ]
                },
                {
                    "name": "stdout",
                    "output_type": "stream",
                    "text": [
                        "Vector data updated\n",
                        "image processed\n"
                    ]
                },
                {
                    "name": "stderr",
                    "output_type": "stream",
                    "text": [
                        "2023-09-12 20:14:35,483:INFO - HTTP Request: GET https://fpyltvtkpkrkzortucoa.supabase.co/rest/v1/media?select=%2A&source_id=eq.8724229 \"HTTP/1.1 200 OK\"\n"
                    ]
                },
                {
                    "name": "stdout",
                    "output_type": "stream",
                    "text": [
                        "The list is empty. Proceed\n",
                        "Saved pexels-photo-8724229.jpeg to disk.\n"
                    ]
                },
                {
                    "name": "stderr",
                    "output_type": "stream",
                    "text": [
                        "2023-09-12 20:14:35,978:INFO - HTTP Request: POST https://fpyltvtkpkrkzortucoa.supabase.co/storage/v1/object/media/63298c63-7e04-4703-9852-930162ede64b.jpeg \"HTTP/1.1 200 OK\"\n"
                    ]
                },
                {
                    "name": "stdout",
                    "output_type": "stream",
                    "text": [
                        "uploaded\n"
                    ]
                },
                {
                    "name": "stderr",
                    "output_type": "stream",
                    "text": [
                        "2023-09-12 20:14:37,089:INFO - HTTP Request: POST https://fpyltvtkpkrkzortucoa.supabase.co/rest/v1/media \"HTTP/1.1 201 Created\"\n"
                    ]
                },
                {
                    "name": "stdout",
                    "output_type": "stream",
                    "text": [
                        "a man with red hair standing in front of a red background\n",
                        "{'dimensions': {'width': 1200, 'height': 630, 'channels': 3}, 'mean_color': (61.068281746031744, 69.09698677248677, 184.48224074074074, 0.0), 'file_size': 26802, 'file_type': 'jpeg'}\n",
                        "Media data updated\n"
                    ]
                },
                {
                    "name": "stderr",
                    "output_type": "stream",
                    "text": [
                        "2023-09-12 20:14:37,555:INFO - HTTP Request: POST https://fpyltvtkpkrkzortucoa.supabase.co/rest/v1/vectors \"HTTP/1.1 201 Created\"\n",
                        "2023-09-12 20:14:37,674:INFO - HTTP Request: PATCH https://fpyltvtkpkrkzortucoa.supabase.co/rest/v1/media?id=eq.304 \"HTTP/1.1 200 OK\"\n"
                    ]
                },
                {
                    "name": "stdout",
                    "output_type": "stream",
                    "text": [
                        "Vector data updated\n",
                        "image processed\n"
                    ]
                },
                {
                    "name": "stderr",
                    "output_type": "stream",
                    "text": [
                        "2023-09-12 20:14:40,742:INFO - HTTP Request: GET https://fpyltvtkpkrkzortucoa.supabase.co/rest/v1/media?select=%2A&source_id=eq.8724422 \"HTTP/1.1 200 OK\"\n"
                    ]
                },
                {
                    "name": "stdout",
                    "output_type": "stream",
                    "text": [
                        "The list is empty. Proceed\n",
                        "Saved pexels-photo-8724422.jpeg to disk.\n"
                    ]
                },
                {
                    "name": "stderr",
                    "output_type": "stream",
                    "text": [
                        "2023-09-12 20:14:41,125:INFO - HTTP Request: POST https://fpyltvtkpkrkzortucoa.supabase.co/storage/v1/object/media/dbb32448-6674-4c46-bb6c-d4188730df31.jpeg \"HTTP/1.1 200 OK\"\n"
                    ]
                },
                {
                    "name": "stdout",
                    "output_type": "stream",
                    "text": [
                        "uploaded\n"
                    ]
                },
                {
                    "name": "stderr",
                    "output_type": "stream",
                    "text": [
                        "2023-09-12 20:14:42,303:INFO - HTTP Request: POST https://fpyltvtkpkrkzortucoa.supabase.co/rest/v1/media \"HTTP/1.1 201 Created\"\n"
                    ]
                },
                {
                    "name": "stdout",
                    "output_type": "stream",
                    "text": [
                        "a man with red hair wearing a pink shirt\n",
                        "{'dimensions': {'width': 1200, 'height': 630, 'channels': 3}, 'mean_color': (168.29488095238096, 140.5827103174603, 97.53903306878307, 0.0), 'file_size': 23400, 'file_type': 'jpeg'}\n",
                        "Media data updated\n"
                    ]
                },
                {
                    "name": "stderr",
                    "output_type": "stream",
                    "text": [
                        "2023-09-12 20:14:42,798:INFO - HTTP Request: POST https://fpyltvtkpkrkzortucoa.supabase.co/rest/v1/vectors \"HTTP/1.1 201 Created\"\n",
                        "2023-09-12 20:14:42,886:INFO - HTTP Request: PATCH https://fpyltvtkpkrkzortucoa.supabase.co/rest/v1/media?id=eq.305 \"HTTP/1.1 200 OK\"\n"
                    ]
                },
                {
                    "name": "stdout",
                    "output_type": "stream",
                    "text": [
                        "Vector data updated\n",
                        "image processed\n"
                    ]
                },
                {
                    "name": "stderr",
                    "output_type": "stream",
                    "text": [
                        "2023-09-12 20:14:46,033:INFO - HTTP Request: GET https://fpyltvtkpkrkzortucoa.supabase.co/rest/v1/media?select=%2A&source_id=eq.8724245 \"HTTP/1.1 200 OK\"\n"
                    ]
                },
                {
                    "name": "stdout",
                    "output_type": "stream",
                    "text": [
                        "The list is empty. Proceed\n",
                        "Saved pexels-photo-8724245.jpeg to disk.\n"
                    ]
                },
                {
                    "name": "stderr",
                    "output_type": "stream",
                    "text": [
                        "2023-09-12 20:14:47,238:INFO - HTTP Request: POST https://fpyltvtkpkrkzortucoa.supabase.co/storage/v1/object/media/04160bb3-20b2-41da-8b28-42c3f93e73be.jpeg \"HTTP/1.1 200 OK\"\n"
                    ]
                },
                {
                    "name": "stdout",
                    "output_type": "stream",
                    "text": [
                        "uploaded\n"
                    ]
                },
                {
                    "name": "stderr",
                    "output_type": "stream",
                    "text": [
                        "2023-09-12 20:14:48,327:INFO - HTTP Request: POST https://fpyltvtkpkrkzortucoa.supabase.co/rest/v1/media \"HTTP/1.1 201 Created\"\n"
                    ]
                },
                {
                    "name": "stdout",
                    "output_type": "stream",
                    "text": [
                        "a man in a pink shirt making a funny face\n",
                        "{'dimensions': {'width': 1200, 'height': 630, 'channels': 3}, 'mean_color': (167.88519047619047, 137.16903835978837, 93.11579894179894, 0.0), 'file_size': 20305, 'file_type': 'jpeg'}\n",
                        "Media data updated\n"
                    ]
                },
                {
                    "name": "stderr",
                    "output_type": "stream",
                    "text": [
                        "2023-09-12 20:14:48,828:INFO - HTTP Request: POST https://fpyltvtkpkrkzortucoa.supabase.co/rest/v1/vectors \"HTTP/1.1 201 Created\"\n",
                        "2023-09-12 20:14:48,901:INFO - HTTP Request: PATCH https://fpyltvtkpkrkzortucoa.supabase.co/rest/v1/media?id=eq.306 \"HTTP/1.1 200 OK\"\n"
                    ]
                },
                {
                    "name": "stdout",
                    "output_type": "stream",
                    "text": [
                        "Vector data updated\n",
                        "image processed\n"
                    ]
                },
                {
                    "name": "stderr",
                    "output_type": "stream",
                    "text": [
                        "2023-09-12 20:14:51,998:INFO - HTTP Request: GET https://fpyltvtkpkrkzortucoa.supabase.co/rest/v1/media?select=%2A&source_id=eq.8724218 \"HTTP/1.1 200 OK\"\n"
                    ]
                },
                {
                    "name": "stdout",
                    "output_type": "stream",
                    "text": [
                        "The list is empty. Proceed\n",
                        "Saved pexels-photo-8724218.jpeg to disk.\n"
                    ]
                },
                {
                    "name": "stderr",
                    "output_type": "stream",
                    "text": [
                        "2023-09-12 20:14:52,563:INFO - HTTP Request: POST https://fpyltvtkpkrkzortucoa.supabase.co/storage/v1/object/media/6323c3e4-54f6-4ce3-b406-d3e1396293f6.jpeg \"HTTP/1.1 200 OK\"\n"
                    ]
                },
                {
                    "name": "stdout",
                    "output_type": "stream",
                    "text": [
                        "uploaded\n"
                    ]
                },
                {
                    "name": "stderr",
                    "output_type": "stream",
                    "text": [
                        "2023-09-12 20:14:53,850:INFO - HTTP Request: POST https://fpyltvtkpkrkzortucoa.supabase.co/rest/v1/media \"HTTP/1.1 201 Created\"\n"
                    ]
                },
                {
                    "name": "stdout",
                    "output_type": "stream",
                    "text": [
                        "a close up of a person with freckles on her face\n",
                        "{'dimensions': {'width': 1200, 'height': 630, 'channels': 3}, 'mean_color': (83.89733862433863, 102.74564682539683, 171.38546296296298, 0.0), 'file_size': 67032, 'file_type': 'jpeg'}\n",
                        "Media data updated\n"
                    ]
                },
                {
                    "name": "stderr",
                    "output_type": "stream",
                    "text": [
                        "2023-09-12 20:14:55,222:INFO - HTTP Request: POST https://fpyltvtkpkrkzortucoa.supabase.co/rest/v1/vectors \"HTTP/1.1 201 Created\"\n",
                        "2023-09-12 20:14:55,295:INFO - HTTP Request: PATCH https://fpyltvtkpkrkzortucoa.supabase.co/rest/v1/media?id=eq.307 \"HTTP/1.1 200 OK\"\n"
                    ]
                },
                {
                    "name": "stdout",
                    "output_type": "stream",
                    "text": [
                        "Vector data updated\n",
                        "image processed\n"
                    ]
                },
                {
                    "name": "stderr",
                    "output_type": "stream",
                    "text": [
                        "2023-09-12 20:14:58,379:INFO - HTTP Request: GET https://fpyltvtkpkrkzortucoa.supabase.co/rest/v1/media?select=%2A&source_id=eq.8724355 \"HTTP/1.1 200 OK\"\n"
                    ]
                },
                {
                    "name": "stdout",
                    "output_type": "stream",
                    "text": [
                        "The list is empty. Proceed\n",
                        "Saved pexels-photo-8724355.jpeg to disk.\n"
                    ]
                },
                {
                    "name": "stderr",
                    "output_type": "stream",
                    "text": [
                        "2023-09-12 20:14:59,013:INFO - HTTP Request: POST https://fpyltvtkpkrkzortucoa.supabase.co/storage/v1/object/media/aaa22b28-bab2-4634-852c-a6965a500498.jpeg \"HTTP/1.1 200 OK\"\n"
                    ]
                },
                {
                    "name": "stdout",
                    "output_type": "stream",
                    "text": [
                        "uploaded\n"
                    ]
                },
                {
                    "name": "stderr",
                    "output_type": "stream",
                    "text": [
                        "2023-09-12 20:15:00,196:INFO - HTTP Request: POST https://fpyltvtkpkrkzortucoa.supabase.co/rest/v1/media \"HTTP/1.1 201 Created\"\n"
                    ]
                },
                {
                    "name": "stdout",
                    "output_type": "stream",
                    "text": [
                        "a close up of a person wearing a green shirt\n",
                        "{'dimensions': {'width': 1200, 'height': 630, 'channels': 3}, 'mean_color': (63.33611111111111, 89.71292857142858, 109.03680952380952, 0.0), 'file_size': 32090, 'file_type': 'jpeg'}\n",
                        "Media data updated\n"
                    ]
                },
                {
                    "name": "stderr",
                    "output_type": "stream",
                    "text": [
                        "2023-09-12 20:15:00,570:INFO - HTTP Request: POST https://fpyltvtkpkrkzortucoa.supabase.co/rest/v1/vectors \"HTTP/1.1 201 Created\"\n",
                        "2023-09-12 20:15:00,646:INFO - HTTP Request: PATCH https://fpyltvtkpkrkzortucoa.supabase.co/rest/v1/media?id=eq.308 \"HTTP/1.1 200 OK\"\n"
                    ]
                },
                {
                    "name": "stdout",
                    "output_type": "stream",
                    "text": [
                        "Vector data updated\n",
                        "image processed\n"
                    ]
                },
                {
                    "name": "stderr",
                    "output_type": "stream",
                    "text": [
                        "2023-09-12 20:15:03,728:INFO - HTTP Request: GET https://fpyltvtkpkrkzortucoa.supabase.co/rest/v1/media?select=%2A&source_id=eq.8724424 \"HTTP/1.1 200 OK\"\n"
                    ]
                },
                {
                    "name": "stdout",
                    "output_type": "stream",
                    "text": [
                        "The list is empty. Proceed\n",
                        "Saved pexels-photo-8724424.jpeg to disk.\n"
                    ]
                },
                {
                    "name": "stderr",
                    "output_type": "stream",
                    "text": [
                        "2023-09-12 20:15:04,414:INFO - HTTP Request: POST https://fpyltvtkpkrkzortucoa.supabase.co/storage/v1/object/media/6f0108c9-9b1b-4094-b619-4138099d1143.jpeg \"HTTP/1.1 200 OK\"\n"
                    ]
                },
                {
                    "name": "stdout",
                    "output_type": "stream",
                    "text": [
                        "uploaded\n"
                    ]
                },
                {
                    "name": "stderr",
                    "output_type": "stream",
                    "text": [
                        "2023-09-12 20:15:05,597:INFO - HTTP Request: POST https://fpyltvtkpkrkzortucoa.supabase.co/rest/v1/media \"HTTP/1.1 201 Created\"\n"
                    ]
                },
                {
                    "name": "stdout",
                    "output_type": "stream",
                    "text": [
                        "a close up of an older man's face\n",
                        "{'dimensions': {'width': 1200, 'height': 630, 'channels': 3}, 'mean_color': (132.569958994709, 128.2424365079365, 162.38311507936507, 0.0), 'file_size': 35949, 'file_type': 'jpeg'}\n",
                        "Media data updated\n"
                    ]
                },
                {
                    "name": "stderr",
                    "output_type": "stream",
                    "text": [
                        "2023-09-12 20:15:05,935:INFO - HTTP Request: POST https://fpyltvtkpkrkzortucoa.supabase.co/rest/v1/vectors \"HTTP/1.1 201 Created\"\n",
                        "2023-09-12 20:15:06,026:INFO - HTTP Request: PATCH https://fpyltvtkpkrkzortucoa.supabase.co/rest/v1/media?id=eq.309 \"HTTP/1.1 200 OK\"\n"
                    ]
                },
                {
                    "name": "stdout",
                    "output_type": "stream",
                    "text": [
                        "Vector data updated\n",
                        "image processed\n"
                    ]
                },
                {
                    "name": "stderr",
                    "output_type": "stream",
                    "text": [
                        "2023-09-12 20:15:09,147:INFO - HTTP Request: GET https://fpyltvtkpkrkzortucoa.supabase.co/rest/v1/media?select=%2A&source_id=eq.8626639 \"HTTP/1.1 200 OK\"\n"
                    ]
                },
                {
                    "name": "stdout",
                    "output_type": "stream",
                    "text": [
                        "The list is empty. Proceed\n",
                        "Saved pexels-photo-8626639.jpeg to disk.\n"
                    ]
                },
                {
                    "name": "stderr",
                    "output_type": "stream",
                    "text": [
                        "2023-09-12 20:15:09,829:INFO - HTTP Request: POST https://fpyltvtkpkrkzortucoa.supabase.co/storage/v1/object/media/85577493-5e61-483e-9e2b-bd1740895636.jpeg \"HTTP/1.1 200 OK\"\n"
                    ]
                },
                {
                    "name": "stdout",
                    "output_type": "stream",
                    "text": [
                        "uploaded\n"
                    ]
                },
                {
                    "name": "stderr",
                    "output_type": "stream",
                    "text": [
                        "2023-09-12 20:15:11,017:INFO - HTTP Request: POST https://fpyltvtkpkrkzortucoa.supabase.co/rest/v1/media \"HTTP/1.1 201 Created\"\n"
                    ]
                },
                {
                    "name": "stdout",
                    "output_type": "stream",
                    "text": [
                        "a man in an orange shirt is pointing at something\n",
                        "{'dimensions': {'width': 1200, 'height': 630, 'channels': 3}, 'mean_color': (112.23339550264551, 116.00599338624339, 142.67055291005292, 0.0), 'file_size': 29092, 'file_type': 'jpeg'}\n",
                        "Media data updated\n"
                    ]
                },
                {
                    "name": "stderr",
                    "output_type": "stream",
                    "text": [
                        "2023-09-12 20:15:11,362:INFO - HTTP Request: POST https://fpyltvtkpkrkzortucoa.supabase.co/rest/v1/vectors \"HTTP/1.1 201 Created\"\n",
                        "2023-09-12 20:15:11,445:INFO - HTTP Request: PATCH https://fpyltvtkpkrkzortucoa.supabase.co/rest/v1/media?id=eq.310 \"HTTP/1.1 200 OK\"\n"
                    ]
                },
                {
                    "name": "stdout",
                    "output_type": "stream",
                    "text": [
                        "Vector data updated\n",
                        "image processed\n"
                    ]
                },
                {
                    "name": "stderr",
                    "output_type": "stream",
                    "text": [
                        "2023-09-12 20:15:14,570:INFO - HTTP Request: GET https://fpyltvtkpkrkzortucoa.supabase.co/rest/v1/media?select=%2A&source_id=eq.8627658 \"HTTP/1.1 200 OK\"\n"
                    ]
                },
                {
                    "name": "stdout",
                    "output_type": "stream",
                    "text": [
                        "The list is empty. Proceed\n",
                        "Saved pexels-photo-8627658.jpeg to disk.\n"
                    ]
                },
                {
                    "name": "stderr",
                    "output_type": "stream",
                    "text": [
                        "2023-09-12 20:15:15,194:INFO - HTTP Request: POST https://fpyltvtkpkrkzortucoa.supabase.co/storage/v1/object/media/5a10f6d6-2192-42c3-9786-f7390a15c73d.jpeg \"HTTP/1.1 200 OK\"\n"
                    ]
                },
                {
                    "name": "stdout",
                    "output_type": "stream",
                    "text": [
                        "uploaded\n"
                    ]
                },
                {
                    "name": "stderr",
                    "output_type": "stream",
                    "text": [
                        "2023-09-12 20:15:16,348:INFO - HTTP Request: POST https://fpyltvtkpkrkzortucoa.supabase.co/rest/v1/media \"HTTP/1.1 201 Created\"\n"
                    ]
                },
                {
                    "name": "stdout",
                    "output_type": "stream",
                    "text": [
                        "a young man with curly hair wearing glasses\n",
                        "{'dimensions': {'width': 1200, 'height': 630, 'channels': 3}, 'mean_color': (76.22440211640212, 80.50222354497355, 93.42458994708994, 0.0), 'file_size': 35279, 'file_type': 'jpeg'}\n",
                        "Media data updated\n"
                    ]
                },
                {
                    "name": "stderr",
                    "output_type": "stream",
                    "text": [
                        "2023-09-12 20:15:16,885:INFO - HTTP Request: POST https://fpyltvtkpkrkzortucoa.supabase.co/rest/v1/vectors \"HTTP/1.1 201 Created\"\n",
                        "2023-09-12 20:15:16,976:INFO - HTTP Request: PATCH https://fpyltvtkpkrkzortucoa.supabase.co/rest/v1/media?id=eq.311 \"HTTP/1.1 200 OK\"\n"
                    ]
                },
                {
                    "name": "stdout",
                    "output_type": "stream",
                    "text": [
                        "Vector data updated\n",
                        "image processed\n"
                    ]
                },
                {
                    "name": "stderr",
                    "output_type": "stream",
                    "text": [
                        "2023-09-12 20:15:20,075:INFO - HTTP Request: GET https://fpyltvtkpkrkzortucoa.supabase.co/rest/v1/media?select=%2A&source_id=eq.6663325 \"HTTP/1.1 200 OK\"\n"
                    ]
                },
                {
                    "name": "stdout",
                    "output_type": "stream",
                    "text": [
                        "The list is empty. Proceed\n",
                        "Saved pexels-photo-6663325.jpeg to disk.\n"
                    ]
                },
                {
                    "name": "stderr",
                    "output_type": "stream",
                    "text": [
                        "2023-09-12 20:15:20,503:INFO - HTTP Request: POST https://fpyltvtkpkrkzortucoa.supabase.co/storage/v1/object/media/326d01a5-e859-4c60-938b-74e05f13d698.jpeg \"HTTP/1.1 200 OK\"\n"
                    ]
                },
                {
                    "name": "stdout",
                    "output_type": "stream",
                    "text": [
                        "uploaded\n"
                    ]
                },
                {
                    "name": "stderr",
                    "output_type": "stream",
                    "text": [
                        "2023-09-12 20:15:21,570:INFO - HTTP Request: POST https://fpyltvtkpkrkzortucoa.supabase.co/rest/v1/media \"HTTP/1.1 201 Created\"\n"
                    ]
                },
                {
                    "name": "stdout",
                    "output_type": "stream",
                    "text": [
                        "a man in a white shirt smiling at the camera\n",
                        "{'dimensions': {'width': 1200, 'height': 630, 'channels': 3}, 'mean_color': (170.78483862433862, 179.72033862433864, 184.58971825396824, 0.0), 'file_size': 24739, 'file_type': 'jpeg'}\n",
                        "Media data updated\n"
                    ]
                },
                {
                    "name": "stderr",
                    "output_type": "stream",
                    "text": [
                        "2023-09-12 20:15:22,005:INFO - HTTP Request: POST https://fpyltvtkpkrkzortucoa.supabase.co/rest/v1/vectors \"HTTP/1.1 201 Created\"\n",
                        "2023-09-12 20:15:22,086:INFO - HTTP Request: PATCH https://fpyltvtkpkrkzortucoa.supabase.co/rest/v1/media?id=eq.312 \"HTTP/1.1 200 OK\"\n"
                    ]
                },
                {
                    "name": "stdout",
                    "output_type": "stream",
                    "text": [
                        "Vector data updated\n",
                        "image processed\n"
                    ]
                },
                {
                    "name": "stderr",
                    "output_type": "stream",
                    "text": [
                        "2023-09-12 20:15:25,221:INFO - HTTP Request: GET https://fpyltvtkpkrkzortucoa.supabase.co/rest/v1/media?select=%2A&source_id=eq.8724227 \"HTTP/1.1 200 OK\"\n"
                    ]
                },
                {
                    "name": "stdout",
                    "output_type": "stream",
                    "text": [
                        "The list is empty. Proceed\n",
                        "Saved pexels-photo-8724227.jpeg to disk.\n"
                    ]
                },
                {
                    "name": "stderr",
                    "output_type": "stream",
                    "text": [
                        "2023-09-12 20:15:25,789:INFO - HTTP Request: POST https://fpyltvtkpkrkzortucoa.supabase.co/storage/v1/object/media/80108ba2-9374-4623-a8bd-1021fc6a26a3.jpeg \"HTTP/1.1 200 OK\"\n"
                    ]
                },
                {
                    "name": "stdout",
                    "output_type": "stream",
                    "text": [
                        "uploaded\n"
                    ]
                },
                {
                    "name": "stderr",
                    "output_type": "stream",
                    "text": [
                        "2023-09-12 20:15:27,144:INFO - HTTP Request: POST https://fpyltvtkpkrkzortucoa.supabase.co/rest/v1/media \"HTTP/1.1 201 Created\"\n"
                    ]
                },
                {
                    "name": "stdout",
                    "output_type": "stream",
                    "text": [
                        "a close up of a man with freckles on her face\n",
                        "{'dimensions': {'width': 1200, 'height': 630, 'channels': 3}, 'mean_color': (74.3407208994709, 81.62237037037038, 108.11548148148148, 0.0), 'file_size': 61974, 'file_type': 'jpeg'}\n",
                        "Media data updated\n"
                    ]
                },
                {
                    "name": "stderr",
                    "output_type": "stream",
                    "text": [
                        "2023-09-12 20:15:27,491:INFO - HTTP Request: POST https://fpyltvtkpkrkzortucoa.supabase.co/rest/v1/vectors \"HTTP/1.1 201 Created\"\n",
                        "2023-09-12 20:15:27,570:INFO - HTTP Request: PATCH https://fpyltvtkpkrkzortucoa.supabase.co/rest/v1/media?id=eq.313 \"HTTP/1.1 200 OK\"\n"
                    ]
                },
                {
                    "name": "stdout",
                    "output_type": "stream",
                    "text": [
                        "Vector data updated\n",
                        "image processed\n"
                    ]
                },
                {
                    "name": "stderr",
                    "output_type": "stream",
                    "text": [
                        "2023-09-12 20:15:30,636:INFO - HTTP Request: GET https://fpyltvtkpkrkzortucoa.supabase.co/rest/v1/media?select=%2A&source_id=eq.8724244 \"HTTP/1.1 200 OK\"\n"
                    ]
                },
                {
                    "name": "stdout",
                    "output_type": "stream",
                    "text": [
                        "The list is empty. Proceed\n",
                        "Saved pexels-photo-8724244.jpeg to disk.\n"
                    ]
                },
                {
                    "name": "stderr",
                    "output_type": "stream",
                    "text": [
                        "2023-09-12 20:15:31,255:INFO - HTTP Request: POST https://fpyltvtkpkrkzortucoa.supabase.co/storage/v1/object/media/c0d00c02-92f7-420c-a4d5-7689a0cdd8c9.jpeg \"HTTP/1.1 200 OK\"\n"
                    ]
                },
                {
                    "name": "stdout",
                    "output_type": "stream",
                    "text": [
                        "uploaded\n"
                    ]
                },
                {
                    "name": "stderr",
                    "output_type": "stream",
                    "text": [
                        "2023-09-12 20:15:32,355:INFO - HTTP Request: POST https://fpyltvtkpkrkzortucoa.supabase.co/rest/v1/media \"HTTP/1.1 201 Created\"\n"
                    ]
                },
                {
                    "name": "stdout",
                    "output_type": "stream",
                    "text": [
                        "a man in a red top is standing in front of a yellow background\n",
                        "{'dimensions': {'width': 1200, 'height': 630, 'channels': 3}, 'mean_color': (44.70064285714286, 145.53469576719576, 196.84655158730158, 0.0), 'file_size': 25480, 'file_type': 'jpeg'}\n",
                        "Media data updated\n"
                    ]
                },
                {
                    "name": "stderr",
                    "output_type": "stream",
                    "text": [
                        "2023-09-12 20:15:32,863:INFO - HTTP Request: POST https://fpyltvtkpkrkzortucoa.supabase.co/rest/v1/vectors \"HTTP/1.1 201 Created\"\n",
                        "2023-09-12 20:15:32,964:INFO - HTTP Request: PATCH https://fpyltvtkpkrkzortucoa.supabase.co/rest/v1/media?id=eq.314 \"HTTP/1.1 200 OK\"\n"
                    ]
                },
                {
                    "name": "stdout",
                    "output_type": "stream",
                    "text": [
                        "Vector data updated\n",
                        "image processed\n"
                    ]
                },
                {
                    "name": "stderr",
                    "output_type": "stream",
                    "text": [
                        "2023-09-12 20:15:36,088:INFO - HTTP Request: GET https://fpyltvtkpkrkzortucoa.supabase.co/rest/v1/media?select=%2A&source_id=eq.8724419 \"HTTP/1.1 200 OK\"\n"
                    ]
                },
                {
                    "name": "stdout",
                    "output_type": "stream",
                    "text": [
                        "The list is empty. Proceed\n",
                        "Saved pexels-photo-8724419.jpeg to disk.\n"
                    ]
                },
                {
                    "name": "stderr",
                    "output_type": "stream",
                    "text": [
                        "2023-09-12 20:15:36,762:INFO - HTTP Request: POST https://fpyltvtkpkrkzortucoa.supabase.co/storage/v1/object/media/a66e13bb-8af6-4914-9a66-36284c784ede.jpeg \"HTTP/1.1 200 OK\"\n"
                    ]
                },
                {
                    "name": "stdout",
                    "output_type": "stream",
                    "text": [
                        "uploaded\n"
                    ]
                },
                {
                    "name": "stderr",
                    "output_type": "stream",
                    "text": [
                        "2023-09-12 20:15:37,895:INFO - HTTP Request: POST https://fpyltvtkpkrkzortucoa.supabase.co/rest/v1/media \"HTTP/1.1 201 Created\"\n"
                    ]
                },
                {
                    "name": "stdout",
                    "output_type": "stream",
                    "text": [
                        "a young boy with a yellow shirt and a yellow background\n",
                        "{'dimensions': {'width': 1200, 'height': 630, 'channels': 3}, 'mean_color': (48.887719576719576, 160.29958862433864, 205.46813492063492, 0.0), 'file_size': 20209, 'file_type': 'jpeg'}\n",
                        "Media data updated\n"
                    ]
                },
                {
                    "name": "stderr",
                    "output_type": "stream",
                    "text": [
                        "2023-09-12 20:15:38,286:INFO - HTTP Request: POST https://fpyltvtkpkrkzortucoa.supabase.co/rest/v1/vectors \"HTTP/1.1 201 Created\"\n",
                        "2023-09-12 20:15:38,363:INFO - HTTP Request: PATCH https://fpyltvtkpkrkzortucoa.supabase.co/rest/v1/media?id=eq.315 \"HTTP/1.1 200 OK\"\n"
                    ]
                },
                {
                    "name": "stdout",
                    "output_type": "stream",
                    "text": [
                        "Vector data updated\n",
                        "image processed\n"
                    ]
                },
                {
                    "name": "stderr",
                    "output_type": "stream",
                    "text": [
                        "2023-09-12 20:15:41,441:INFO - HTTP Request: GET https://fpyltvtkpkrkzortucoa.supabase.co/rest/v1/media?select=%2A&source_id=eq.8724449 \"HTTP/1.1 200 OK\"\n"
                    ]
                },
                {
                    "name": "stdout",
                    "output_type": "stream",
                    "text": [
                        "The list is empty. Proceed\n",
                        "Saved pexels-photo-8724449.jpeg to disk.\n"
                    ]
                },
                {
                    "name": "stderr",
                    "output_type": "stream",
                    "text": [
                        "2023-09-12 20:15:41,909:INFO - HTTP Request: POST https://fpyltvtkpkrkzortucoa.supabase.co/storage/v1/object/media/c6677556-4efb-4348-8ede-bf4dd872b4d2.jpeg \"HTTP/1.1 200 OK\"\n"
                    ]
                },
                {
                    "name": "stdout",
                    "output_type": "stream",
                    "text": [
                        "uploaded\n"
                    ]
                },
                {
                    "name": "stderr",
                    "output_type": "stream",
                    "text": [
                        "2023-09-12 20:15:43,645:INFO - HTTP Request: POST https://fpyltvtkpkrkzortucoa.supabase.co/rest/v1/media \"HTTP/1.1 201 Created\"\n"
                    ]
                },
                {
                    "name": "stdout",
                    "output_type": "stream",
                    "text": [
                        "a man standing in front of a purple background\n",
                        "{'dimensions': {'width': 1200, 'height': 630, 'channels': 3}, 'mean_color': (170.77851455026456, 137.45581481481483, 152.01301455026456, 0.0), 'file_size': 19676, 'file_type': 'jpeg'}\n",
                        "Media data updated\n"
                    ]
                },
                {
                    "name": "stderr",
                    "output_type": "stream",
                    "text": [
                        "2023-09-12 20:15:44,090:INFO - HTTP Request: POST https://fpyltvtkpkrkzortucoa.supabase.co/rest/v1/vectors \"HTTP/1.1 201 Created\"\n",
                        "2023-09-12 20:15:44,170:INFO - HTTP Request: PATCH https://fpyltvtkpkrkzortucoa.supabase.co/rest/v1/media?id=eq.316 \"HTTP/1.1 200 OK\"\n"
                    ]
                },
                {
                    "name": "stdout",
                    "output_type": "stream",
                    "text": [
                        "Vector data updated\n",
                        "image processed\n"
                    ]
                },
                {
                    "name": "stderr",
                    "output_type": "stream",
                    "text": [
                        "2023-09-12 20:15:47,247:INFO - HTTP Request: GET https://fpyltvtkpkrkzortucoa.supabase.co/rest/v1/media?select=%2A&source_id=eq.8724466 \"HTTP/1.1 200 OK\"\n"
                    ]
                },
                {
                    "name": "stdout",
                    "output_type": "stream",
                    "text": [
                        "The list is empty. Proceed\n",
                        "Saved pexels-photo-8724466.jpeg to disk.\n"
                    ]
                },
                {
                    "name": "stderr",
                    "output_type": "stream",
                    "text": [
                        "2023-09-12 20:15:47,964:INFO - HTTP Request: POST https://fpyltvtkpkrkzortucoa.supabase.co/storage/v1/object/media/b6855f3a-343c-4108-b873-be431695d135.jpeg \"HTTP/1.1 200 OK\"\n"
                    ]
                },
                {
                    "name": "stdout",
                    "output_type": "stream",
                    "text": [
                        "uploaded\n"
                    ]
                },
                {
                    "name": "stderr",
                    "output_type": "stream",
                    "text": [
                        "2023-09-12 20:15:49,176:INFO - HTTP Request: POST https://fpyltvtkpkrkzortucoa.supabase.co/rest/v1/media \"HTTP/1.1 201 Created\"\n"
                    ]
                },
                {
                    "name": "stdout",
                    "output_type": "stream",
                    "text": [
                        "a close up of a man's face with freckles\n",
                        "{'dimensions': {'width': 1200, 'height': 630, 'channels': 3}, 'mean_color': (127.1412843915344, 139.69898941798942, 176.47299206349206, 0.0), 'file_size': 31874, 'file_type': 'jpeg'}\n",
                        "Media data updated\n"
                    ]
                },
                {
                    "name": "stderr",
                    "output_type": "stream",
                    "text": [
                        "2023-09-12 20:15:49,891:INFO - HTTP Request: POST https://fpyltvtkpkrkzortucoa.supabase.co/rest/v1/vectors \"HTTP/1.1 201 Created\"\n",
                        "2023-09-12 20:15:49,977:INFO - HTTP Request: PATCH https://fpyltvtkpkrkzortucoa.supabase.co/rest/v1/media?id=eq.317 \"HTTP/1.1 200 OK\"\n"
                    ]
                },
                {
                    "name": "stdout",
                    "output_type": "stream",
                    "text": [
                        "Vector data updated\n",
                        "image processed\n"
                    ]
                },
                {
                    "name": "stderr",
                    "output_type": "stream",
                    "text": [
                        "2023-09-12 20:15:53,050:INFO - HTTP Request: GET https://fpyltvtkpkrkzortucoa.supabase.co/rest/v1/media?select=%2A&source_id=eq.5642529 \"HTTP/1.1 200 OK\"\n"
                    ]
                },
                {
                    "name": "stdout",
                    "output_type": "stream",
                    "text": [
                        "The list is empty. Proceed\n",
                        "Saved pexels-photo-5642529.jpeg to disk.\n"
                    ]
                },
                {
                    "name": "stderr",
                    "output_type": "stream",
                    "text": [
                        "2023-09-12 20:15:53,593:INFO - HTTP Request: POST https://fpyltvtkpkrkzortucoa.supabase.co/storage/v1/object/media/2a1fda2a-3b32-43cd-9e0a-113448749a1a.jpeg \"HTTP/1.1 200 OK\"\n"
                    ]
                },
                {
                    "name": "stdout",
                    "output_type": "stream",
                    "text": [
                        "uploaded\n"
                    ]
                },
                {
                    "name": "stderr",
                    "output_type": "stream",
                    "text": [
                        "2023-09-12 20:15:54,992:INFO - HTTP Request: POST https://fpyltvtkpkrkzortucoa.supabase.co/rest/v1/media \"HTTP/1.1 201 Created\"\n"
                    ]
                },
                {
                    "name": "stdout",
                    "output_type": "stream",
                    "text": [
                        "a man in a field of flowers with a hat\n",
                        "{'dimensions': {'width': 1200, 'height': 630, 'channels': 3}, 'mean_color': (97.89042989417989, 116.62233730158731, 115.35232407407408, 0.0), 'file_size': 110027, 'file_type': 'jpeg'}\n",
                        "Media data updated\n"
                    ]
                },
                {
                    "name": "stderr",
                    "output_type": "stream",
                    "text": [
                        "2023-09-12 20:15:55,443:INFO - HTTP Request: POST https://fpyltvtkpkrkzortucoa.supabase.co/rest/v1/vectors \"HTTP/1.1 201 Created\"\n",
                        "2023-09-12 20:15:55,515:INFO - HTTP Request: PATCH https://fpyltvtkpkrkzortucoa.supabase.co/rest/v1/media?id=eq.318 \"HTTP/1.1 200 OK\"\n"
                    ]
                },
                {
                    "name": "stdout",
                    "output_type": "stream",
                    "text": [
                        "Vector data updated\n",
                        "image processed\n"
                    ]
                },
                {
                    "name": "stderr",
                    "output_type": "stream",
                    "text": [
                        "2023-09-12 20:15:58,633:INFO - HTTP Request: GET https://fpyltvtkpkrkzortucoa.supabase.co/rest/v1/media?select=%2A&source_id=eq.6605949 \"HTTP/1.1 200 OK\"\n"
                    ]
                },
                {
                    "name": "stdout",
                    "output_type": "stream",
                    "text": [
                        "The list is empty. Proceed\n",
                        "Saved anxiety-bad-mood-blue-concern-6605949.jpeg to disk.\n"
                    ]
                },
                {
                    "name": "stderr",
                    "output_type": "stream",
                    "text": [
                        "2023-09-12 20:15:59,536:INFO - HTTP Request: POST https://fpyltvtkpkrkzortucoa.supabase.co/storage/v1/object/media/afb984bb-e774-450c-b89d-93812c983562.jpeg \"HTTP/1.1 200 OK\"\n"
                    ]
                },
                {
                    "name": "stdout",
                    "output_type": "stream",
                    "text": [
                        "uploaded\n"
                    ]
                },
                {
                    "name": "stderr",
                    "output_type": "stream",
                    "text": [
                        "2023-09-12 20:16:00,865:INFO - HTTP Request: POST https://fpyltvtkpkrkzortucoa.supabase.co/rest/v1/media \"HTTP/1.1 201 Created\"\n"
                    ]
                },
                {
                    "name": "stdout",
                    "output_type": "stream",
                    "text": [
                        "a man sitting in front of a window in a dark room\n",
                        "{'dimensions': {'width': 1200, 'height': 630, 'channels': 3}, 'mean_color': (111.45256481481482, 88.81541666666666, 51.99109126984127, 0.0), 'file_size': 34610, 'file_type': 'jpeg'}\n",
                        "Media data updated\n"
                    ]
                },
                {
                    "name": "stderr",
                    "output_type": "stream",
                    "text": [
                        "2023-09-12 20:16:01,391:INFO - HTTP Request: POST https://fpyltvtkpkrkzortucoa.supabase.co/rest/v1/vectors \"HTTP/1.1 201 Created\"\n",
                        "2023-09-12 20:16:01,534:INFO - HTTP Request: PATCH https://fpyltvtkpkrkzortucoa.supabase.co/rest/v1/media?id=eq.319 \"HTTP/1.1 200 OK\"\n"
                    ]
                },
                {
                    "name": "stdout",
                    "output_type": "stream",
                    "text": [
                        "Vector data updated\n",
                        "image processed\n"
                    ]
                },
                {
                    "name": "stderr",
                    "output_type": "stream",
                    "text": [
                        "2023-09-12 20:16:04,639:INFO - HTTP Request: GET https://fpyltvtkpkrkzortucoa.supabase.co/rest/v1/media?select=%2A&source_id=eq.7280530 \"HTTP/1.1 200 OK\"\n"
                    ]
                },
                {
                    "name": "stdout",
                    "output_type": "stream",
                    "text": [
                        "The list is empty. Proceed\n",
                        "Saved pexels-photo-7280530.jpeg to disk.\n"
                    ]
                },
                {
                    "name": "stderr",
                    "output_type": "stream",
                    "text": [
                        "2023-09-12 20:16:05,283:INFO - HTTP Request: POST https://fpyltvtkpkrkzortucoa.supabase.co/storage/v1/object/media/3034f43e-db3e-4931-9cc0-7689ecfa8aa3.jpeg \"HTTP/1.1 200 OK\"\n"
                    ]
                },
                {
                    "name": "stdout",
                    "output_type": "stream",
                    "text": [
                        "uploaded\n"
                    ]
                },
                {
                    "name": "stderr",
                    "output_type": "stream",
                    "text": [
                        "2023-09-12 20:16:06,445:INFO - HTTP Request: POST https://fpyltvtkpkrkzortucoa.supabase.co/rest/v1/media \"HTTP/1.1 201 Created\"\n"
                    ]
                },
                {
                    "name": "stdout",
                    "output_type": "stream",
                    "text": [
                        "a man sitting on a window sill in front of a window\n",
                        "{'dimensions': {'width': 1200, 'height': 630, 'channels': 3}, 'mean_color': (91.61673148148148, 95.48935978835979, 94.0180582010582, 0.0), 'file_size': 39701, 'file_type': 'jpeg'}\n",
                        "Media data updated\n"
                    ]
                },
                {
                    "name": "stderr",
                    "output_type": "stream",
                    "text": [
                        "2023-09-12 20:16:06,848:INFO - HTTP Request: POST https://fpyltvtkpkrkzortucoa.supabase.co/rest/v1/vectors \"HTTP/1.1 201 Created\"\n",
                        "2023-09-12 20:16:06,958:INFO - HTTP Request: PATCH https://fpyltvtkpkrkzortucoa.supabase.co/rest/v1/media?id=eq.320 \"HTTP/1.1 200 OK\"\n"
                    ]
                },
                {
                    "name": "stdout",
                    "output_type": "stream",
                    "text": [
                        "Vector data updated\n",
                        "image processed\n"
                    ]
                },
                {
                    "name": "stderr",
                    "output_type": "stream",
                    "text": [
                        "2023-09-12 20:16:10,069:INFO - HTTP Request: GET https://fpyltvtkpkrkzortucoa.supabase.co/rest/v1/media?select=%2A&source_id=eq.5049072 \"HTTP/1.1 200 OK\"\n"
                    ]
                },
                {
                    "name": "stdout",
                    "output_type": "stream",
                    "text": [
                        "The list is empty. Proceed\n",
                        "Saved 1-hombre-adulto-joven-agua-de-lluvia-cara-triste-5049072.jpeg to disk.\n"
                    ]
                },
                {
                    "name": "stderr",
                    "output_type": "stream",
                    "text": [
                        "2023-09-12 20:16:10,571:INFO - HTTP Request: POST https://fpyltvtkpkrkzortucoa.supabase.co/storage/v1/object/media/a5a4bbf8-1deb-45be-bef8-40d02c6f61dd.jpeg \"HTTP/1.1 200 OK\"\n"
                    ]
                },
                {
                    "name": "stdout",
                    "output_type": "stream",
                    "text": [
                        "uploaded\n"
                    ]
                },
                {
                    "name": "stderr",
                    "output_type": "stream",
                    "text": [
                        "2023-09-12 20:16:11,758:INFO - HTTP Request: POST https://fpyltvtkpkrkzortucoa.supabase.co/rest/v1/media \"HTTP/1.1 201 Created\"\n"
                    ]
                },
                {
                    "name": "stdout",
                    "output_type": "stream",
                    "text": [
                        "a young man sitting on the floor of a bathroom\n",
                        "{'dimensions': {'width': 1200, 'height': 630, 'channels': 3}, 'mean_color': (60.544428571428575, 69.72315343915344, 82.51952645502645, 0.0), 'file_size': 43406, 'file_type': 'jpeg'}\n",
                        "Media data updated\n"
                    ]
                },
                {
                    "name": "stderr",
                    "output_type": "stream",
                    "text": [
                        "2023-09-12 20:16:12,170:INFO - HTTP Request: POST https://fpyltvtkpkrkzortucoa.supabase.co/rest/v1/vectors \"HTTP/1.1 201 Created\"\n",
                        "2023-09-12 20:16:12,252:INFO - HTTP Request: PATCH https://fpyltvtkpkrkzortucoa.supabase.co/rest/v1/media?id=eq.321 \"HTTP/1.1 200 OK\"\n"
                    ]
                },
                {
                    "name": "stdout",
                    "output_type": "stream",
                    "text": [
                        "Vector data updated\n",
                        "image processed\n"
                    ]
                },
                {
                    "name": "stderr",
                    "output_type": "stream",
                    "text": [
                        "2023-09-12 20:16:15,340:INFO - HTTP Request: GET https://fpyltvtkpkrkzortucoa.supabase.co/rest/v1/media?select=%2A&source_id=eq.6689162 \"HTTP/1.1 200 OK\"\n"
                    ]
                },
                {
                    "name": "stdout",
                    "output_type": "stream",
                    "text": [
                        "The list is empty. Proceed\n",
                        "Saved pexels-photo-6689162.jpeg to disk.\n"
                    ]
                },
                {
                    "name": "stderr",
                    "output_type": "stream",
                    "text": [
                        "2023-09-12 20:16:15,840:INFO - HTTP Request: POST https://fpyltvtkpkrkzortucoa.supabase.co/storage/v1/object/media/a4780613-5633-4dc5-a23d-b665b2a4a9fe.jpeg \"HTTP/1.1 200 OK\"\n"
                    ]
                },
                {
                    "name": "stdout",
                    "output_type": "stream",
                    "text": [
                        "uploaded\n"
                    ]
                },
                {
                    "name": "stderr",
                    "output_type": "stream",
                    "text": [
                        "2023-09-12 20:16:17,224:INFO - HTTP Request: POST https://fpyltvtkpkrkzortucoa.supabase.co/rest/v1/media \"HTTP/1.1 201 Created\"\n"
                    ]
                },
                {
                    "name": "stdout",
                    "output_type": "stream",
                    "text": [
                        "a man laying on top of a bed under a blanket\n",
                        "{'dimensions': {'width': 1200, 'height': 630, 'channels': 3}, 'mean_color': (116.50584391534392, 123.52906878306878, 129.95215343915345, 0.0), 'file_size': 85592, 'file_type': 'jpeg'}\n",
                        "Media data updated\n"
                    ]
                },
                {
                    "name": "stderr",
                    "output_type": "stream",
                    "text": [
                        "2023-09-12 20:16:17,724:INFO - HTTP Request: POST https://fpyltvtkpkrkzortucoa.supabase.co/rest/v1/vectors \"HTTP/1.1 201 Created\"\n",
                        "2023-09-12 20:16:17,838:INFO - HTTP Request: PATCH https://fpyltvtkpkrkzortucoa.supabase.co/rest/v1/media?id=eq.322 \"HTTP/1.1 200 OK\"\n"
                    ]
                },
                {
                    "name": "stdout",
                    "output_type": "stream",
                    "text": [
                        "Vector data updated\n",
                        "image processed\n"
                    ]
                },
                {
                    "name": "stderr",
                    "output_type": "stream",
                    "text": [
                        "2023-09-12 20:16:20,910:INFO - HTTP Request: GET https://fpyltvtkpkrkzortucoa.supabase.co/rest/v1/media?select=%2A&source_id=eq.6690024 \"HTTP/1.1 200 OK\"\n"
                    ]
                },
                {
                    "name": "stdout",
                    "output_type": "stream",
                    "text": [
                        "The list is empty. Proceed\n",
                        "Saved adult-alone-anxiety-at-home-6690024.jpeg to disk.\n"
                    ]
                },
                {
                    "name": "stderr",
                    "output_type": "stream",
                    "text": [
                        "2023-09-12 20:16:21,368:INFO - HTTP Request: POST https://fpyltvtkpkrkzortucoa.supabase.co/storage/v1/object/media/20892ee8-ce6c-439c-b436-c7c5d1f365bb.jpeg \"HTTP/1.1 200 OK\"\n"
                    ]
                },
                {
                    "name": "stdout",
                    "output_type": "stream",
                    "text": [
                        "uploaded\n"
                    ]
                },
                {
                    "name": "stderr",
                    "output_type": "stream",
                    "text": [
                        "2023-09-12 20:16:22,651:INFO - HTTP Request: POST https://fpyltvtkpkrkzortucoa.supabase.co/rest/v1/media \"HTTP/1.1 201 Created\"\n"
                    ]
                },
                {
                    "name": "stdout",
                    "output_type": "stream",
                    "text": [
                        "a man in a sweater looking out a window\n",
                        "{'dimensions': {'width': 1200, 'height': 630, 'channels': 3}, 'mean_color': (78.80392195767196, 70.44261507936508, 60.01067857142857, 0.0), 'file_size': 49618, 'file_type': 'jpeg'}\n",
                        "Media data updated\n"
                    ]
                },
                {
                    "name": "stderr",
                    "output_type": "stream",
                    "text": [
                        "2023-09-12 20:16:22,996:INFO - HTTP Request: POST https://fpyltvtkpkrkzortucoa.supabase.co/rest/v1/vectors \"HTTP/1.1 201 Created\"\n",
                        "2023-09-12 20:16:23,098:INFO - HTTP Request: PATCH https://fpyltvtkpkrkzortucoa.supabase.co/rest/v1/media?id=eq.323 \"HTTP/1.1 200 OK\"\n"
                    ]
                },
                {
                    "name": "stdout",
                    "output_type": "stream",
                    "text": [
                        "Vector data updated\n",
                        "image processed\n"
                    ]
                },
                {
                    "name": "stderr",
                    "output_type": "stream",
                    "text": [
                        "2023-09-12 20:16:26,185:INFO - HTTP Request: GET https://fpyltvtkpkrkzortucoa.supabase.co/rest/v1/media?select=%2A&source_id=eq.7280180 \"HTTP/1.1 200 OK\"\n"
                    ]
                },
                {
                    "name": "stdout",
                    "output_type": "stream",
                    "text": [
                        "The list is empty. Proceed\n",
                        "Saved pexels-photo-7280180.jpeg to disk.\n"
                    ]
                },
                {
                    "name": "stderr",
                    "output_type": "stream",
                    "text": [
                        "2023-09-12 20:16:26,608:INFO - HTTP Request: POST https://fpyltvtkpkrkzortucoa.supabase.co/storage/v1/object/media/cdf19231-5d8c-43e5-a282-8b03a1df4627.jpeg \"HTTP/1.1 200 OK\"\n"
                    ]
                },
                {
                    "name": "stdout",
                    "output_type": "stream",
                    "text": [
                        "uploaded\n"
                    ]
                },
                {
                    "name": "stderr",
                    "output_type": "stream",
                    "text": [
                        "2023-09-12 20:16:27,811:INFO - HTTP Request: POST https://fpyltvtkpkrkzortucoa.supabase.co/rest/v1/media \"HTTP/1.1 201 Created\"\n"
                    ]
                },
                {
                    "name": "stdout",
                    "output_type": "stream",
                    "text": [
                        "a close up of a person with red hair\n",
                        "{'dimensions': {'width': 1200, 'height': 630, 'channels': 3}, 'mean_color': (57.829031746031745, 60.060863756613756, 62.40021957671958, 0.0), 'file_size': 37562, 'file_type': 'jpeg'}\n",
                        "Media data updated\n"
                    ]
                },
                {
                    "name": "stderr",
                    "output_type": "stream",
                    "text": [
                        "2023-09-12 20:16:28,226:INFO - HTTP Request: POST https://fpyltvtkpkrkzortucoa.supabase.co/rest/v1/vectors \"HTTP/1.1 201 Created\"\n",
                        "2023-09-12 20:16:28,332:INFO - HTTP Request: PATCH https://fpyltvtkpkrkzortucoa.supabase.co/rest/v1/media?id=eq.324 \"HTTP/1.1 200 OK\"\n"
                    ]
                },
                {
                    "name": "stdout",
                    "output_type": "stream",
                    "text": [
                        "Vector data updated\n",
                        "image processed\n"
                    ]
                },
                {
                    "name": "stderr",
                    "output_type": "stream",
                    "text": [
                        "2023-09-12 20:16:31,413:INFO - HTTP Request: GET https://fpyltvtkpkrkzortucoa.supabase.co/rest/v1/media?select=%2A&source_id=eq.2965291 \"HTTP/1.1 200 OK\"\n"
                    ]
                },
                {
                    "name": "stdout",
                    "output_type": "stream",
                    "text": [
                        "The list is empty. Proceed\n",
                        "Saved free-video-2965291.jpg to disk.\n"
                    ]
                },
                {
                    "name": "stderr",
                    "output_type": "stream",
                    "text": [
                        "2023-09-12 20:16:31,849:INFO - HTTP Request: POST https://fpyltvtkpkrkzortucoa.supabase.co/storage/v1/object/media/2f547cdb-42af-4200-a13d-10686fcbc0af.jpg \"HTTP/1.1 200 OK\"\n"
                    ]
                },
                {
                    "name": "stdout",
                    "output_type": "stream",
                    "text": [
                        "uploaded\n"
                    ]
                },
                {
                    "name": "stderr",
                    "output_type": "stream",
                    "text": [
                        "2023-09-12 20:16:33,179:INFO - HTTP Request: POST https://fpyltvtkpkrkzortucoa.supabase.co/rest/v1/media \"HTTP/1.1 201 Created\"\n"
                    ]
                },
                {
                    "name": "stdout",
                    "output_type": "stream",
                    "text": [
                        "a puddle of water with a building in the background\n",
                        "{'dimensions': {'width': 1200, 'height': 630, 'channels': 3}, 'mean_color': (72.3586507936508, 71.33883465608466, 65.05520767195767, 0.0), 'file_size': 69790, 'file_type': 'jpg'}\n",
                        "Media data updated\n"
                    ]
                },
                {
                    "name": "stderr",
                    "output_type": "stream",
                    "text": [
                        "2023-09-12 20:16:33,532:INFO - HTTP Request: POST https://fpyltvtkpkrkzortucoa.supabase.co/rest/v1/vectors \"HTTP/1.1 201 Created\"\n",
                        "2023-09-12 20:16:33,607:INFO - HTTP Request: PATCH https://fpyltvtkpkrkzortucoa.supabase.co/rest/v1/media?id=eq.325 \"HTTP/1.1 200 OK\"\n"
                    ]
                },
                {
                    "name": "stdout",
                    "output_type": "stream",
                    "text": [
                        "Vector data updated\n",
                        "image processed\n"
                    ]
                },
                {
                    "name": "stderr",
                    "output_type": "stream",
                    "text": [
                        "2023-09-12 20:16:36,722:INFO - HTTP Request: GET https://fpyltvtkpkrkzortucoa.supabase.co/rest/v1/media?select=%2A&source_id=eq.5642523 \"HTTP/1.1 200 OK\"\n"
                    ]
                },
                {
                    "name": "stdout",
                    "output_type": "stream",
                    "text": [
                        "The list is empty. Proceed\n",
                        "Saved pexels-photo-5642523.jpeg to disk.\n"
                    ]
                },
                {
                    "name": "stderr",
                    "output_type": "stream",
                    "text": [
                        "2023-09-12 20:16:37,461:INFO - HTTP Request: POST https://fpyltvtkpkrkzortucoa.supabase.co/storage/v1/object/media/6872c7c4-c55a-49c7-80f3-318e291d420a.jpeg \"HTTP/1.1 200 OK\"\n"
                    ]
                },
                {
                    "name": "stdout",
                    "output_type": "stream",
                    "text": [
                        "uploaded\n"
                    ]
                },
                {
                    "name": "stderr",
                    "output_type": "stream",
                    "text": [
                        "2023-09-12 20:16:38,996:INFO - HTTP Request: POST https://fpyltvtkpkrkzortucoa.supabase.co/rest/v1/media \"HTTP/1.1 201 Created\"\n"
                    ]
                },
                {
                    "name": "stdout",
                    "output_type": "stream",
                    "text": [
                        "a man in a hat reading a book in a field of flowers\n",
                        "{'dimensions': {'width': 1200, 'height': 630, 'channels': 3}, 'mean_color': (98.64430291005291, 114.57380158730159, 119.6543835978836, 0.0), 'file_size': 95868, 'file_type': 'jpeg'}\n",
                        "Media data updated\n"
                    ]
                },
                {
                    "name": "stderr",
                    "output_type": "stream",
                    "text": [
                        "2023-09-12 20:16:39,356:INFO - HTTP Request: POST https://fpyltvtkpkrkzortucoa.supabase.co/rest/v1/vectors \"HTTP/1.1 201 Created\"\n",
                        "2023-09-12 20:16:39,431:INFO - HTTP Request: PATCH https://fpyltvtkpkrkzortucoa.supabase.co/rest/v1/media?id=eq.326 \"HTTP/1.1 200 OK\"\n"
                    ]
                },
                {
                    "name": "stdout",
                    "output_type": "stream",
                    "text": [
                        "Vector data updated\n",
                        "image processed\n"
                    ]
                },
                {
                    "name": "stderr",
                    "output_type": "stream",
                    "text": [
                        "2023-09-12 20:16:42,570:INFO - HTTP Request: GET https://fpyltvtkpkrkzortucoa.supabase.co/rest/v1/media?select=%2A&source_id=eq.6689304 \"HTTP/1.1 200 OK\"\n"
                    ]
                },
                {
                    "name": "stdout",
                    "output_type": "stream",
                    "text": [
                        "The list is empty. Proceed\n",
                        "Saved pexels-photo-6689304.jpeg to disk.\n"
                    ]
                },
                {
                    "name": "stderr",
                    "output_type": "stream",
                    "text": [
                        "2023-09-12 20:16:43,219:INFO - HTTP Request: POST https://fpyltvtkpkrkzortucoa.supabase.co/storage/v1/object/media/20a1f37d-b51a-412f-a562-8ba54bc3a2eb.jpeg \"HTTP/1.1 200 OK\"\n"
                    ]
                },
                {
                    "name": "stdout",
                    "output_type": "stream",
                    "text": [
                        "uploaded\n"
                    ]
                },
                {
                    "name": "stderr",
                    "output_type": "stream",
                    "text": [
                        "2023-09-12 20:16:44,368:INFO - HTTP Request: POST https://fpyltvtkpkrkzortucoa.supabase.co/rest/v1/media \"HTTP/1.1 201 Created\"\n"
                    ]
                },
                {
                    "name": "stdout",
                    "output_type": "stream",
                    "text": [
                        "a man sitting on a couch wearing a sweater\n",
                        "{'dimensions': {'width': 1200, 'height': 630, 'channels': 3}, 'mean_color': (88.98669841269842, 83.62620899470899, 79.34400925925927, 0.0), 'file_size': 36183, 'file_type': 'jpeg'}\n",
                        "Media data updated\n"
                    ]
                },
                {
                    "name": "stderr",
                    "output_type": "stream",
                    "text": [
                        "2023-09-12 20:16:44,755:INFO - HTTP Request: POST https://fpyltvtkpkrkzortucoa.supabase.co/rest/v1/vectors \"HTTP/1.1 201 Created\"\n",
                        "2023-09-12 20:16:44,848:INFO - HTTP Request: PATCH https://fpyltvtkpkrkzortucoa.supabase.co/rest/v1/media?id=eq.327 \"HTTP/1.1 200 OK\"\n"
                    ]
                },
                {
                    "name": "stdout",
                    "output_type": "stream",
                    "text": [
                        "Vector data updated\n",
                        "image processed\n"
                    ]
                },
                {
                    "name": "stderr",
                    "output_type": "stream",
                    "text": [
                        "2023-09-12 20:16:47,948:INFO - HTTP Request: GET https://fpyltvtkpkrkzortucoa.supabase.co/rest/v1/media?select=%2A&source_id=eq.5993520 \"HTTP/1.1 200 OK\"\n"
                    ]
                },
                {
                    "name": "stdout",
                    "output_type": "stream",
                    "text": [
                        "The list is empty. Proceed\n",
                        "Saved pexels-photo-5993520.jpeg to disk.\n"
                    ]
                },
                {
                    "name": "stderr",
                    "output_type": "stream",
                    "text": [
                        "2023-09-12 20:16:48,371:INFO - HTTP Request: POST https://fpyltvtkpkrkzortucoa.supabase.co/storage/v1/object/media/fe9205e4-e64c-43f1-a8ef-02ba57dd8ada.jpeg \"HTTP/1.1 200 OK\"\n"
                    ]
                },
                {
                    "name": "stdout",
                    "output_type": "stream",
                    "text": [
                        "uploaded\n"
                    ]
                },
                {
                    "name": "stderr",
                    "output_type": "stream",
                    "text": [
                        "2023-09-12 20:16:49,534:INFO - HTTP Request: POST https://fpyltvtkpkrkzortucoa.supabase.co/rest/v1/media \"HTTP/1.1 201 Created\"\n"
                    ]
                },
                {
                    "name": "stdout",
                    "output_type": "stream",
                    "text": [
                        "a man is covering her face with her hands\n",
                        "{'dimensions': {'width': 1200, 'height': 630, 'channels': 3}, 'mean_color': (73.67471428571429, 67.79446693121693, 83.0056335978836, 0.0), 'file_size': 45886, 'file_type': 'jpeg'}\n",
                        "Media data updated\n"
                    ]
                },
                {
                    "name": "stderr",
                    "output_type": "stream",
                    "text": [
                        "2023-09-12 20:16:51,129:INFO - HTTP Request: POST https://fpyltvtkpkrkzortucoa.supabase.co/rest/v1/vectors \"HTTP/1.1 201 Created\"\n",
                        "2023-09-12 20:16:51,213:INFO - HTTP Request: PATCH https://fpyltvtkpkrkzortucoa.supabase.co/rest/v1/media?id=eq.328 \"HTTP/1.1 200 OK\"\n"
                    ]
                },
                {
                    "name": "stdout",
                    "output_type": "stream",
                    "text": [
                        "Vector data updated\n",
                        "image processed\n"
                    ]
                },
                {
                    "name": "stderr",
                    "output_type": "stream",
                    "text": [
                        "2023-09-12 20:16:54,321:INFO - HTTP Request: GET https://fpyltvtkpkrkzortucoa.supabase.co/rest/v1/media?select=%2A&source_id=eq.7280172 \"HTTP/1.1 200 OK\"\n"
                    ]
                },
                {
                    "name": "stdout",
                    "output_type": "stream",
                    "text": [
                        "The list is empty. Proceed\n",
                        "Saved pexels-photo-7280172.jpeg to disk.\n"
                    ]
                },
                {
                    "name": "stderr",
                    "output_type": "stream",
                    "text": [
                        "2023-09-12 20:16:54,938:INFO - HTTP Request: POST https://fpyltvtkpkrkzortucoa.supabase.co/storage/v1/object/media/d3d186ce-6633-47a1-bb79-e267d6bf63d8.jpeg \"HTTP/1.1 200 OK\"\n"
                    ]
                },
                {
                    "name": "stdout",
                    "output_type": "stream",
                    "text": [
                        "uploaded\n"
                    ]
                },
                {
                    "name": "stderr",
                    "output_type": "stream",
                    "text": [
                        "2023-09-12 20:16:56,210:INFO - HTTP Request: POST https://fpyltvtkpkrkzortucoa.supabase.co/rest/v1/media \"HTTP/1.1 201 Created\"\n"
                    ]
                },
                {
                    "name": "stdout",
                    "output_type": "stream",
                    "text": [
                        "a close up of a man's face with her eyes closed\n",
                        "{'dimensions': {'width': 1200, 'height': 630, 'channels': 3}, 'mean_color': (142.51001322751324, 139.04872486772487, 151.56105952380952, 0.0), 'file_size': 34622, 'file_type': 'jpeg'}\n",
                        "Media data updated\n"
                    ]
                },
                {
                    "name": "stderr",
                    "output_type": "stream",
                    "text": [
                        "2023-09-12 20:16:56,830:INFO - HTTP Request: POST https://fpyltvtkpkrkzortucoa.supabase.co/rest/v1/vectors \"HTTP/1.1 201 Created\"\n",
                        "2023-09-12 20:16:56,914:INFO - HTTP Request: PATCH https://fpyltvtkpkrkzortucoa.supabase.co/rest/v1/media?id=eq.329 \"HTTP/1.1 200 OK\"\n"
                    ]
                },
                {
                    "name": "stdout",
                    "output_type": "stream",
                    "text": [
                        "Vector data updated\n",
                        "image processed\n"
                    ]
                },
                {
                    "name": "stderr",
                    "output_type": "stream",
                    "text": [
                        "2023-09-12 20:16:59,988:INFO - HTTP Request: GET https://fpyltvtkpkrkzortucoa.supabase.co/rest/v1/media?select=%2A&source_id=eq.6689154 \"HTTP/1.1 200 OK\"\n"
                    ]
                },
                {
                    "name": "stdout",
                    "output_type": "stream",
                    "text": [
                        "The list is empty. Proceed\n",
                        "Saved pexels-photo-6689154.jpeg to disk.\n"
                    ]
                },
                {
                    "name": "stderr",
                    "output_type": "stream",
                    "text": [
                        "2023-09-12 20:17:00,538:INFO - HTTP Request: POST https://fpyltvtkpkrkzortucoa.supabase.co/storage/v1/object/media/a3b61626-baf7-43d0-bcff-ff8fea9336bd.jpeg \"HTTP/1.1 200 OK\"\n"
                    ]
                },
                {
                    "name": "stdout",
                    "output_type": "stream",
                    "text": [
                        "uploaded\n"
                    ]
                },
                {
                    "name": "stderr",
                    "output_type": "stream",
                    "text": [
                        "2023-09-12 20:17:01,862:INFO - HTTP Request: POST https://fpyltvtkpkrkzortucoa.supabase.co/rest/v1/media \"HTTP/1.1 201 Created\"\n"
                    ]
                },
                {
                    "name": "stdout",
                    "output_type": "stream",
                    "text": [
                        "a man laying on top of a bed under a blanket\n",
                        "{'dimensions': {'width': 1200, 'height': 630, 'channels': 3}, 'mean_color': (124.83303306878307, 129.18549074074073, 132.7888082010582, 0.0), 'file_size': 88001, 'file_type': 'jpeg'}\n",
                        "Media data updated\n"
                    ]
                },
                {
                    "name": "stderr",
                    "output_type": "stream",
                    "text": [
                        "2023-09-12 20:17:02,563:INFO - HTTP Request: POST https://fpyltvtkpkrkzortucoa.supabase.co/rest/v1/vectors \"HTTP/1.1 201 Created\"\n",
                        "2023-09-12 20:17:02,677:INFO - HTTP Request: PATCH https://fpyltvtkpkrkzortucoa.supabase.co/rest/v1/media?id=eq.330 \"HTTP/1.1 200 OK\"\n"
                    ]
                },
                {
                    "name": "stdout",
                    "output_type": "stream",
                    "text": [
                        "Vector data updated\n",
                        "image processed\n"
                    ]
                },
                {
                    "name": "stderr",
                    "output_type": "stream",
                    "text": [
                        "2023-09-12 20:17:06,474:INFO - HTTP Request: GET https://fpyltvtkpkrkzortucoa.supabase.co/rest/v1/media?select=%2A&source_id=eq.7095069 \"HTTP/1.1 200 OK\"\n"
                    ]
                },
                {
                    "name": "stdout",
                    "output_type": "stream",
                    "text": [
                        "The list is empty. Proceed\n",
                        "Saved anonymous-candid-classical-music-concert-7095069.jpeg to disk.\n"
                    ]
                },
                {
                    "name": "stderr",
                    "output_type": "stream",
                    "text": [
                        "2023-09-12 20:17:06,978:INFO - HTTP Request: POST https://fpyltvtkpkrkzortucoa.supabase.co/storage/v1/object/media/672a509d-1ef4-4f12-88a4-80efb173dc71.jpeg \"HTTP/1.1 200 OK\"\n"
                    ]
                },
                {
                    "name": "stdout",
                    "output_type": "stream",
                    "text": [
                        "uploaded\n"
                    ]
                },
                {
                    "name": "stderr",
                    "output_type": "stream",
                    "text": [
                        "2023-09-12 20:17:08,284:INFO - HTTP Request: POST https://fpyltvtkpkrkzortucoa.supabase.co/rest/v1/media \"HTTP/1.1 201 Created\"\n"
                    ]
                },
                {
                    "name": "stdout",
                    "output_type": "stream",
                    "text": [
                        "a close up of a person playing a violin\n",
                        "{'dimensions': {'width': 1200, 'height': 630, 'channels': 3}, 'mean_color': (58.34041005291005, 70.51417724867724, 100.58427248677249, 0.0), 'file_size': 60154, 'file_type': 'jpeg'}\n",
                        "Media data updated\n"
                    ]
                },
                {
                    "name": "stderr",
                    "output_type": "stream",
                    "text": [
                        "2023-09-12 20:17:08,675:INFO - HTTP Request: POST https://fpyltvtkpkrkzortucoa.supabase.co/rest/v1/vectors \"HTTP/1.1 201 Created\"\n",
                        "2023-09-12 20:17:08,747:INFO - HTTP Request: PATCH https://fpyltvtkpkrkzortucoa.supabase.co/rest/v1/media?id=eq.331 \"HTTP/1.1 200 OK\"\n"
                    ]
                },
                {
                    "name": "stdout",
                    "output_type": "stream",
                    "text": [
                        "Vector data updated\n",
                        "image processed\n"
                    ]
                },
                {
                    "name": "stderr",
                    "output_type": "stream",
                    "text": [
                        "2023-09-12 20:17:11,830:INFO - HTTP Request: GET https://fpyltvtkpkrkzortucoa.supabase.co/rest/v1/media?select=%2A&source_id=eq.7095858 \"HTTP/1.1 200 OK\"\n"
                    ]
                },
                {
                    "name": "stdout",
                    "output_type": "stream",
                    "text": [
                        "The list is empty. Proceed\n",
                        "Saved candid-classical-music-concert-elegance-7095858.jpeg to disk.\n"
                    ]
                },
                {
                    "name": "stderr",
                    "output_type": "stream",
                    "text": [
                        "2023-09-12 20:17:12,548:INFO - HTTP Request: POST https://fpyltvtkpkrkzortucoa.supabase.co/storage/v1/object/media/22b2a796-35fb-4da1-b48e-77dad7ba9d4b.jpeg \"HTTP/1.1 200 OK\"\n"
                    ]
                },
                {
                    "name": "stdout",
                    "output_type": "stream",
                    "text": [
                        "uploaded\n"
                    ]
                },
                {
                    "name": "stderr",
                    "output_type": "stream",
                    "text": [
                        "2023-09-12 20:17:13,828:INFO - HTTP Request: POST https://fpyltvtkpkrkzortucoa.supabase.co/rest/v1/media \"HTTP/1.1 201 Created\"\n"
                    ]
                },
                {
                    "name": "stdout",
                    "output_type": "stream",
                    "text": [
                        "a couple of women playing violin on a stage\n",
                        "{'dimensions': {'width': 1200, 'height': 630, 'channels': 3}, 'mean_color': (66.6592552910053, 72.58323412698412, 82.64124074074074, 0.0), 'file_size': 58068, 'file_type': 'jpeg'}\n",
                        "Media data updated\n"
                    ]
                },
                {
                    "name": "stderr",
                    "output_type": "stream",
                    "text": [
                        "2023-09-12 20:17:14,269:INFO - HTTP Request: POST https://fpyltvtkpkrkzortucoa.supabase.co/rest/v1/vectors \"HTTP/1.1 201 Created\"\n",
                        "2023-09-12 20:17:14,354:INFO - HTTP Request: PATCH https://fpyltvtkpkrkzortucoa.supabase.co/rest/v1/media?id=eq.332 \"HTTP/1.1 200 OK\"\n"
                    ]
                },
                {
                    "name": "stdout",
                    "output_type": "stream",
                    "text": [
                        "Vector data updated\n",
                        "image processed\n"
                    ]
                },
                {
                    "name": "stderr",
                    "output_type": "stream",
                    "text": [
                        "2023-09-12 20:17:17,459:INFO - HTTP Request: GET https://fpyltvtkpkrkzortucoa.supabase.co/rest/v1/media?select=%2A&source_id=eq.7095850 \"HTTP/1.1 200 OK\"\n"
                    ]
                },
                {
                    "name": "stdout",
                    "output_type": "stream",
                    "text": [
                        "The list is empty. Proceed\n",
                        "Saved candid-classical-music-concert-elegance-7095850.jpeg to disk.\n"
                    ]
                },
                {
                    "name": "stderr",
                    "output_type": "stream",
                    "text": [
                        "2023-09-12 20:17:18,135:INFO - HTTP Request: POST https://fpyltvtkpkrkzortucoa.supabase.co/storage/v1/object/media/f5a75702-6538-475b-bc6d-91e5eaa462d6.jpeg \"HTTP/1.1 200 OK\"\n"
                    ]
                },
                {
                    "name": "stdout",
                    "output_type": "stream",
                    "text": [
                        "uploaded\n"
                    ]
                },
                {
                    "name": "stderr",
                    "output_type": "stream",
                    "text": [
                        "2023-09-12 20:17:19,309:INFO - HTTP Request: POST https://fpyltvtkpkrkzortucoa.supabase.co/rest/v1/media \"HTTP/1.1 201 Created\"\n"
                    ]
                },
                {
                    "name": "stdout",
                    "output_type": "stream",
                    "text": [
                        "a man playing a violin in a dark room\n",
                        "{'dimensions': {'width': 1200, 'height': 630, 'channels': 3}, 'mean_color': (29.50977380952381, 30.034714285714287, 34.14654365079365, 0.0), 'file_size': 35818, 'file_type': 'jpeg'}\n",
                        "Media data updated\n"
                    ]
                },
                {
                    "name": "stderr",
                    "output_type": "stream",
                    "text": [
                        "2023-09-12 20:17:19,817:INFO - HTTP Request: POST https://fpyltvtkpkrkzortucoa.supabase.co/rest/v1/vectors \"HTTP/1.1 201 Created\"\n",
                        "2023-09-12 20:17:19,887:INFO - HTTP Request: PATCH https://fpyltvtkpkrkzortucoa.supabase.co/rest/v1/media?id=eq.333 \"HTTP/1.1 200 OK\"\n"
                    ]
                },
                {
                    "name": "stdout",
                    "output_type": "stream",
                    "text": [
                        "Vector data updated\n",
                        "image processed\n"
                    ]
                },
                {
                    "name": "stderr",
                    "output_type": "stream",
                    "text": [
                        "2023-09-12 20:17:22,969:INFO - HTTP Request: GET https://fpyltvtkpkrkzortucoa.supabase.co/rest/v1/media?select=%2A&source_id=eq.5044651 \"HTTP/1.1 200 OK\"\n"
                    ]
                },
                {
                    "name": "stdout",
                    "output_type": "stream",
                    "text": [
                        "The list is empty. Proceed\n",
                        "Saved pexels-photo-5044651.jpeg to disk.\n"
                    ]
                },
                {
                    "name": "stderr",
                    "output_type": "stream",
                    "text": [
                        "2023-09-12 20:17:23,606:INFO - HTTP Request: POST https://fpyltvtkpkrkzortucoa.supabase.co/storage/v1/object/media/07565f2a-7290-49ff-8603-4fbf3830d76b.jpeg \"HTTP/1.1 200 OK\"\n"
                    ]
                },
                {
                    "name": "stdout",
                    "output_type": "stream",
                    "text": [
                        "uploaded\n"
                    ]
                },
                {
                    "name": "stderr",
                    "output_type": "stream",
                    "text": [
                        "2023-09-12 20:17:24,974:INFO - HTTP Request: POST https://fpyltvtkpkrkzortucoa.supabase.co/rest/v1/media \"HTTP/1.1 201 Created\"\n"
                    ]
                },
                {
                    "name": "stdout",
                    "output_type": "stream",
                    "text": [
                        "a group of people that are standing on a sidewalk\n",
                        "{'dimensions': {'width': 1200, 'height': 630, 'channels': 3}, 'mean_color': (89.12027380952381, 83.64002116402116, 70.69049867724868, 0.0), 'file_size': 78491, 'file_type': 'jpeg'}\n",
                        "Media data updated\n"
                    ]
                },
                {
                    "name": "stderr",
                    "output_type": "stream",
                    "text": [
                        "2023-09-12 20:17:25,734:INFO - HTTP Request: POST https://fpyltvtkpkrkzortucoa.supabase.co/rest/v1/vectors \"HTTP/1.1 201 Created\"\n",
                        "2023-09-12 20:17:25,820:INFO - HTTP Request: PATCH https://fpyltvtkpkrkzortucoa.supabase.co/rest/v1/media?id=eq.334 \"HTTP/1.1 200 OK\"\n"
                    ]
                },
                {
                    "name": "stdout",
                    "output_type": "stream",
                    "text": [
                        "Vector data updated\n",
                        "image processed\n"
                    ]
                },
                {
                    "name": "stderr",
                    "output_type": "stream",
                    "text": [
                        "2023-09-12 20:17:28,905:INFO - HTTP Request: GET https://fpyltvtkpkrkzortucoa.supabase.co/rest/v1/media?select=%2A&source_id=eq.7095851 \"HTTP/1.1 200 OK\"\n"
                    ]
                },
                {
                    "name": "stdout",
                    "output_type": "stream",
                    "text": [
                        "The list is empty. Proceed\n",
                        "Saved altar-anonymous-band-candid-7095851.jpeg to disk.\n"
                    ]
                },
                {
                    "name": "stderr",
                    "output_type": "stream",
                    "text": [
                        "2023-09-12 20:17:29,486:INFO - HTTP Request: POST https://fpyltvtkpkrkzortucoa.supabase.co/storage/v1/object/media/340ed4ae-49b8-4949-8c71-64da3c30ee9c.jpeg \"HTTP/1.1 200 OK\"\n"
                    ]
                },
                {
                    "name": "stdout",
                    "output_type": "stream",
                    "text": [
                        "uploaded\n"
                    ]
                },
                {
                    "name": "stderr",
                    "output_type": "stream",
                    "text": [
                        "2023-09-12 20:17:30,781:INFO - HTTP Request: POST https://fpyltvtkpkrkzortucoa.supabase.co/rest/v1/media \"HTTP/1.1 201 Created\"\n"
                    ]
                },
                {
                    "name": "stdout",
                    "output_type": "stream",
                    "text": [
                        "a group of people playing musical instruments in a room\n",
                        "{'dimensions': {'width': 1200, 'height': 630, 'channels': 3}, 'mean_color': (64.52917195767196, 71.92735317460317, 87.85438492063493, 0.0), 'file_size': 61127, 'file_type': 'jpeg'}\n",
                        "Media data updated\n"
                    ]
                },
                {
                    "name": "stderr",
                    "output_type": "stream",
                    "text": [
                        "2023-09-12 20:17:31,168:INFO - HTTP Request: POST https://fpyltvtkpkrkzortucoa.supabase.co/rest/v1/vectors \"HTTP/1.1 201 Created\"\n",
                        "2023-09-12 20:17:31,252:INFO - HTTP Request: PATCH https://fpyltvtkpkrkzortucoa.supabase.co/rest/v1/media?id=eq.335 \"HTTP/1.1 200 OK\"\n"
                    ]
                },
                {
                    "name": "stdout",
                    "output_type": "stream",
                    "text": [
                        "Vector data updated\n",
                        "image processed\n"
                    ]
                },
                {
                    "name": "stderr",
                    "output_type": "stream",
                    "text": [
                        "2023-09-12 20:17:34,355:INFO - HTTP Request: GET https://fpyltvtkpkrkzortucoa.supabase.co/rest/v1/media?select=%2A&source_id=eq.7095840 \"HTTP/1.1 200 OK\"\n"
                    ]
                },
                {
                    "name": "stdout",
                    "output_type": "stream",
                    "text": [
                        "The list is empty. Proceed\n",
                        "Saved candid-classical-music-concert-contrabass-7095840.jpeg to disk.\n"
                    ]
                },
                {
                    "name": "stderr",
                    "output_type": "stream",
                    "text": [
                        "2023-09-12 20:17:34,982:INFO - HTTP Request: POST https://fpyltvtkpkrkzortucoa.supabase.co/storage/v1/object/media/fdef2ce5-a78b-479e-b3f2-07979dbe6184.jpeg \"HTTP/1.1 200 OK\"\n"
                    ]
                },
                {
                    "name": "stdout",
                    "output_type": "stream",
                    "text": [
                        "uploaded\n"
                    ]
                },
                {
                    "name": "stderr",
                    "output_type": "stream",
                    "text": [
                        "2023-09-12 20:17:36,374:INFO - HTTP Request: POST https://fpyltvtkpkrkzortucoa.supabase.co/rest/v1/media \"HTTP/1.1 201 Created\"\n"
                    ]
                },
                {
                    "name": "stdout",
                    "output_type": "stream",
                    "text": [
                        "a group of people playing musical instruments in a room\n",
                        "{'dimensions': {'width': 1200, 'height': 630, 'channels': 3}, 'mean_color': (52.89726322751323, 57.874439153439155, 71.64001851851852, 0.0), 'file_size': 79984, 'file_type': 'jpeg'}\n",
                        "Media data updated\n"
                    ]
                },
                {
                    "name": "stderr",
                    "output_type": "stream",
                    "text": [
                        "2023-09-12 20:17:36,954:INFO - HTTP Request: POST https://fpyltvtkpkrkzortucoa.supabase.co/rest/v1/vectors \"HTTP/1.1 201 Created\"\n",
                        "2023-09-12 20:17:37,023:INFO - HTTP Request: PATCH https://fpyltvtkpkrkzortucoa.supabase.co/rest/v1/media?id=eq.336 \"HTTP/1.1 200 OK\"\n"
                    ]
                },
                {
                    "name": "stdout",
                    "output_type": "stream",
                    "text": [
                        "Vector data updated\n",
                        "image processed\n"
                    ]
                },
                {
                    "name": "stderr",
                    "output_type": "stream",
                    "text": [
                        "2023-09-12 20:17:40,115:INFO - HTTP Request: GET https://fpyltvtkpkrkzortucoa.supabase.co/rest/v1/media?select=%2A&source_id=eq.5044652 \"HTTP/1.1 200 OK\"\n"
                    ]
                },
                {
                    "name": "stdout",
                    "output_type": "stream",
                    "text": [
                        "The list is empty. Proceed\n",
                        "Saved pexels-photo-5044652.jpeg to disk.\n"
                    ]
                },
                {
                    "name": "stderr",
                    "output_type": "stream",
                    "text": [
                        "2023-09-12 20:17:40,755:INFO - HTTP Request: POST https://fpyltvtkpkrkzortucoa.supabase.co/storage/v1/object/media/d797dc0b-de6e-4968-aa9e-08905010382a.jpeg \"HTTP/1.1 200 OK\"\n"
                    ]
                },
                {
                    "name": "stdout",
                    "output_type": "stream",
                    "text": [
                        "uploaded\n"
                    ]
                },
                {
                    "name": "stderr",
                    "output_type": "stream",
                    "text": [
                        "2023-09-12 20:17:42,150:INFO - HTTP Request: POST https://fpyltvtkpkrkzortucoa.supabase.co/rest/v1/media \"HTTP/1.1 201 Created\"\n"
                    ]
                },
                {
                    "name": "stdout",
                    "output_type": "stream",
                    "text": [
                        "a group of people walking down a street\n",
                        "{'dimensions': {'width': 1200, 'height': 630, 'channels': 3}, 'mean_color': (88.62531746031746, 80.67914285714286, 65.32017328042328, 0.0), 'file_size': 68577, 'file_type': 'jpeg'}\n",
                        "Media data updated\n"
                    ]
                },
                {
                    "name": "stderr",
                    "output_type": "stream",
                    "text": [
                        "2023-09-12 20:17:42,724:INFO - HTTP Request: POST https://fpyltvtkpkrkzortucoa.supabase.co/rest/v1/vectors \"HTTP/1.1 201 Created\"\n",
                        "2023-09-12 20:17:42,797:INFO - HTTP Request: PATCH https://fpyltvtkpkrkzortucoa.supabase.co/rest/v1/media?id=eq.337 \"HTTP/1.1 200 OK\"\n"
                    ]
                },
                {
                    "name": "stdout",
                    "output_type": "stream",
                    "text": [
                        "Vector data updated\n",
                        "image processed\n"
                    ]
                },
                {
                    "name": "stderr",
                    "output_type": "stream",
                    "text": [
                        "2023-09-12 20:17:45,874:INFO - HTTP Request: GET https://fpyltvtkpkrkzortucoa.supabase.co/rest/v1/media?select=%2A&source_id=eq.5044655 \"HTTP/1.1 200 OK\"\n"
                    ]
                },
                {
                    "name": "stdout",
                    "output_type": "stream",
                    "text": [
                        "The list is empty. Proceed\n",
                        "Saved pexels-photo-5044655.jpeg to disk.\n"
                    ]
                },
                {
                    "name": "stderr",
                    "output_type": "stream",
                    "text": [
                        "2023-09-12 20:17:46,382:INFO - HTTP Request: POST https://fpyltvtkpkrkzortucoa.supabase.co/storage/v1/object/media/1d7f1b46-a8b3-4b3f-854d-9ba4393248e2.jpeg \"HTTP/1.1 200 OK\"\n"
                    ]
                },
                {
                    "name": "stdout",
                    "output_type": "stream",
                    "text": [
                        "uploaded\n"
                    ]
                },
                {
                    "name": "stderr",
                    "output_type": "stream",
                    "text": [
                        "2023-09-12 20:17:47,755:INFO - HTTP Request: POST https://fpyltvtkpkrkzortucoa.supabase.co/rest/v1/media \"HTTP/1.1 201 Created\"\n"
                    ]
                },
                {
                    "name": "stdout",
                    "output_type": "stream",
                    "text": [
                        "a group of people playing music on a city street\n",
                        "{'dimensions': {'width': 1200, 'height': 630, 'channels': 3}, 'mean_color': (99.00616005291005, 92.43530291005291, 83.59115740740741, 0.0), 'file_size': 90256, 'file_type': 'jpeg'}\n",
                        "Media data updated\n"
                    ]
                },
                {
                    "name": "stderr",
                    "output_type": "stream",
                    "text": [
                        "2023-09-12 20:17:48,335:INFO - HTTP Request: POST https://fpyltvtkpkrkzortucoa.supabase.co/rest/v1/vectors \"HTTP/1.1 201 Created\"\n",
                        "2023-09-12 20:17:48,408:INFO - HTTP Request: PATCH https://fpyltvtkpkrkzortucoa.supabase.co/rest/v1/media?id=eq.338 \"HTTP/1.1 200 OK\"\n"
                    ]
                },
                {
                    "name": "stdout",
                    "output_type": "stream",
                    "text": [
                        "Vector data updated\n",
                        "image processed\n"
                    ]
                },
                {
                    "name": "stderr",
                    "output_type": "stream",
                    "text": [
                        "2023-09-12 20:17:51,525:INFO - HTTP Request: GET https://fpyltvtkpkrkzortucoa.supabase.co/rest/v1/media?select=%2A&source_id=eq.7502792 \"HTTP/1.1 200 OK\"\n"
                    ]
                },
                {
                    "name": "stdout",
                    "output_type": "stream",
                    "text": [
                        "The list is empty. Proceed\n",
                        "Saved band-bass-guitar-chill-city-skyline-7502792.jpeg to disk.\n"
                    ]
                },
                {
                    "name": "stderr",
                    "output_type": "stream",
                    "text": [
                        "2023-09-12 20:17:52,177:INFO - HTTP Request: POST https://fpyltvtkpkrkzortucoa.supabase.co/storage/v1/object/media/be98df26-ec5a-4bb8-8308-bcb6514e0e3e.jpeg \"HTTP/1.1 200 OK\"\n"
                    ]
                },
                {
                    "name": "stdout",
                    "output_type": "stream",
                    "text": [
                        "uploaded\n"
                    ]
                },
                {
                    "name": "stderr",
                    "output_type": "stream",
                    "text": [
                        "2023-09-12 20:17:53,507:INFO - HTTP Request: POST https://fpyltvtkpkrkzortucoa.supabase.co/rest/v1/media \"HTTP/1.1 201 Created\"\n"
                    ]
                },
                {
                    "name": "stdout",
                    "output_type": "stream",
                    "text": [
                        "a man with dreadlocks is playing a violin\n",
                        "{'dimensions': {'width': 1200, 'height': 630, 'channels': 3}, 'mean_color': (84.46540211640212, 103.57821693121693, 111.81726984126985, 0.0), 'file_size': 74029, 'file_type': 'jpeg'}\n",
                        "Media data updated\n"
                    ]
                },
                {
                    "name": "stderr",
                    "output_type": "stream",
                    "text": [
                        "2023-09-12 20:17:53,864:INFO - HTTP Request: POST https://fpyltvtkpkrkzortucoa.supabase.co/rest/v1/vectors \"HTTP/1.1 201 Created\"\n",
                        "2023-09-12 20:17:53,931:INFO - HTTP Request: PATCH https://fpyltvtkpkrkzortucoa.supabase.co/rest/v1/media?id=eq.339 \"HTTP/1.1 200 OK\"\n"
                    ]
                },
                {
                    "name": "stdout",
                    "output_type": "stream",
                    "text": [
                        "Vector data updated\n",
                        "image processed\n"
                    ]
                },
                {
                    "name": "stderr",
                    "output_type": "stream",
                    "text": [
                        "2023-09-12 20:17:57,027:INFO - HTTP Request: GET https://fpyltvtkpkrkzortucoa.supabase.co/rest/v1/media?select=%2A&source_id=eq.7095751 \"HTTP/1.1 200 OK\"\n"
                    ]
                },
                {
                    "name": "stdout",
                    "output_type": "stream",
                    "text": [
                        "The list is empty. Proceed\n",
                        "Saved altar-anonymous-band-candid-7095751.jpeg to disk.\n"
                    ]
                },
                {
                    "name": "stderr",
                    "output_type": "stream",
                    "text": [
                        "2023-09-12 20:17:58,217:INFO - HTTP Request: POST https://fpyltvtkpkrkzortucoa.supabase.co/storage/v1/object/media/1cbc7a6a-4774-4cd8-b7fb-336ee648b624.jpeg \"HTTP/1.1 200 OK\"\n"
                    ]
                },
                {
                    "name": "stdout",
                    "output_type": "stream",
                    "text": [
                        "uploaded\n"
                    ]
                },
                {
                    "name": "stderr",
                    "output_type": "stream",
                    "text": [
                        "2023-09-12 20:17:59,568:INFO - HTTP Request: POST https://fpyltvtkpkrkzortucoa.supabase.co/rest/v1/media \"HTTP/1.1 201 Created\"\n"
                    ]
                },
                {
                    "name": "stdout",
                    "output_type": "stream",
                    "text": [
                        "a group of people playing instruments in a room\n",
                        "{'dimensions': {'width': 1200, 'height': 630, 'channels': 3}, 'mean_color': (74.96326058201058, 85.00523544973545, 111.1297447089947, 0.0), 'file_size': 63447, 'file_type': 'jpeg'}\n",
                        "Media data updated\n"
                    ]
                },
                {
                    "name": "stderr",
                    "output_type": "stream",
                    "text": [
                        "2023-09-12 20:17:59,988:INFO - HTTP Request: POST https://fpyltvtkpkrkzortucoa.supabase.co/rest/v1/vectors \"HTTP/1.1 201 Created\"\n",
                        "2023-09-12 20:18:00,078:INFO - HTTP Request: PATCH https://fpyltvtkpkrkzortucoa.supabase.co/rest/v1/media?id=eq.340 \"HTTP/1.1 200 OK\"\n"
                    ]
                },
                {
                    "name": "stdout",
                    "output_type": "stream",
                    "text": [
                        "Vector data updated\n",
                        "image processed\n"
                    ]
                },
                {
                    "name": "stderr",
                    "output_type": "stream",
                    "text": [
                        "2023-09-12 20:18:03,186:INFO - HTTP Request: GET https://fpyltvtkpkrkzortucoa.supabase.co/rest/v1/media?select=%2A&source_id=eq.7502906 \"HTTP/1.1 200 OK\"\n"
                    ]
                },
                {
                    "name": "stdout",
                    "output_type": "stream",
                    "text": [
                        "The list is empty. Proceed\n",
                        "Saved adult-band-bass-guitar-beautiful-sunset-7502906.jpeg to disk.\n"
                    ]
                },
                {
                    "name": "stderr",
                    "output_type": "stream",
                    "text": [
                        "2023-09-12 20:18:03,867:INFO - HTTP Request: POST https://fpyltvtkpkrkzortucoa.supabase.co/storage/v1/object/media/3335ea5e-ec3a-4bf6-be36-4db91c19c60f.jpeg \"HTTP/1.1 200 OK\"\n"
                    ]
                },
                {
                    "name": "stdout",
                    "output_type": "stream",
                    "text": [
                        "uploaded\n"
                    ]
                },
                {
                    "name": "stderr",
                    "output_type": "stream",
                    "text": [
                        "2023-09-12 20:18:05,472:INFO - HTTP Request: POST https://fpyltvtkpkrkzortucoa.supabase.co/rest/v1/media \"HTTP/1.1 201 Created\"\n"
                    ]
                },
                {
                    "name": "stdout",
                    "output_type": "stream",
                    "text": [
                        "a group of people standing on top of a roof\n",
                        "{'dimensions': {'width': 1200, 'height': 630, 'channels': 3}, 'mean_color': (112.62990608465608, 125.68068650793651, 131.44708730158732, 0.0), 'file_size': 101435, 'file_type': 'jpeg'}\n",
                        "Media data updated\n"
                    ]
                },
                {
                    "name": "stderr",
                    "output_type": "stream",
                    "text": [
                        "2023-09-12 20:18:05,985:INFO - HTTP Request: POST https://fpyltvtkpkrkzortucoa.supabase.co/rest/v1/vectors \"HTTP/1.1 201 Created\"\n",
                        "2023-09-12 20:18:06,112:INFO - HTTP Request: PATCH https://fpyltvtkpkrkzortucoa.supabase.co/rest/v1/media?id=eq.341 \"HTTP/1.1 200 OK\"\n"
                    ]
                },
                {
                    "name": "stdout",
                    "output_type": "stream",
                    "text": [
                        "Vector data updated\n",
                        "image processed\n"
                    ]
                },
                {
                    "name": "stderr",
                    "output_type": "stream",
                    "text": [
                        "2023-09-12 20:18:09,226:INFO - HTTP Request: GET https://fpyltvtkpkrkzortucoa.supabase.co/rest/v1/media?select=%2A&source_id=eq.7502889 \"HTTP/1.1 200 OK\"\n"
                    ]
                },
                {
                    "name": "stdout",
                    "output_type": "stream",
                    "text": [
                        "The list is empty. Proceed\n",
                        "Saved adult-aircraft-airplane-architecture-7502889.jpeg to disk.\n"
                    ]
                },
                {
                    "name": "stderr",
                    "output_type": "stream",
                    "text": [
                        "2023-09-12 20:18:09,893:INFO - HTTP Request: POST https://fpyltvtkpkrkzortucoa.supabase.co/storage/v1/object/media/d346882b-ece3-403e-bbfe-37e185eef9b6.jpeg \"HTTP/1.1 200 OK\"\n"
                    ]
                },
                {
                    "name": "stdout",
                    "output_type": "stream",
                    "text": [
                        "uploaded\n"
                    ]
                },
                {
                    "name": "stderr",
                    "output_type": "stream",
                    "text": [
                        "2023-09-12 20:18:11,296:INFO - HTTP Request: POST https://fpyltvtkpkrkzortucoa.supabase.co/rest/v1/media \"HTTP/1.1 201 Created\"\n"
                    ]
                },
                {
                    "name": "stdout",
                    "output_type": "stream",
                    "text": [
                        "a group of people standing on top of a roof\n",
                        "{'dimensions': {'width': 1200, 'height': 630, 'channels': 3}, 'mean_color': (110.76718121693122, 114.83285317460317, 109.42141666666667, 0.0), 'file_size': 79319, 'file_type': 'jpeg'}\n",
                        "Media data updated\n"
                    ]
                },
                {
                    "name": "stderr",
                    "output_type": "stream",
                    "text": [
                        "2023-09-12 20:18:11,882:INFO - HTTP Request: POST https://fpyltvtkpkrkzortucoa.supabase.co/rest/v1/vectors \"HTTP/1.1 201 Created\"\n",
                        "2023-09-12 20:18:12,026:INFO - HTTP Request: PATCH https://fpyltvtkpkrkzortucoa.supabase.co/rest/v1/media?id=eq.342 \"HTTP/1.1 200 OK\"\n"
                    ]
                },
                {
                    "name": "stdout",
                    "output_type": "stream",
                    "text": [
                        "Vector data updated\n",
                        "image processed\n"
                    ]
                },
                {
                    "name": "stderr",
                    "output_type": "stream",
                    "text": [
                        "2023-09-12 20:18:15,121:INFO - HTTP Request: GET https://fpyltvtkpkrkzortucoa.supabase.co/rest/v1/media?select=%2A&source_id=eq.7502729 \"HTTP/1.1 200 OK\"\n"
                    ]
                },
                {
                    "name": "stdout",
                    "output_type": "stream",
                    "text": [
                        "The list is empty. Proceed\n",
                        "Saved pexels-photo-7502729.jpeg to disk.\n"
                    ]
                },
                {
                    "name": "stderr",
                    "output_type": "stream",
                    "text": [
                        "2023-09-12 20:18:15,730:INFO - HTTP Request: POST https://fpyltvtkpkrkzortucoa.supabase.co/storage/v1/object/media/fa75b234-1407-4ca0-8a77-e908a95efce7.jpeg \"HTTP/1.1 200 OK\"\n"
                    ]
                },
                {
                    "name": "stdout",
                    "output_type": "stream",
                    "text": [
                        "uploaded\n"
                    ]
                },
                {
                    "name": "stderr",
                    "output_type": "stream",
                    "text": [
                        "2023-09-12 20:18:18,296:INFO - HTTP Request: POST https://fpyltvtkpkrkzortucoa.supabase.co/rest/v1/media \"HTTP/1.1 201 Created\"\n"
                    ]
                },
                {
                    "name": "stdout",
                    "output_type": "stream",
                    "text": [
                        "a group of people standing on top of a roof\n",
                        "{'dimensions': {'width': 1200, 'height': 630, 'channels': 3}, 'mean_color': (72.89844444444445, 77.38791798941799, 74.67719841269842, 0.0), 'file_size': 63653, 'file_type': 'jpeg'}\n",
                        "Media data updated\n"
                    ]
                },
                {
                    "name": "stderr",
                    "output_type": "stream",
                    "text": [
                        "2023-09-12 20:18:19,032:INFO - HTTP Request: POST https://fpyltvtkpkrkzortucoa.supabase.co/rest/v1/vectors \"HTTP/1.1 201 Created\"\n",
                        "2023-09-12 20:18:19,105:INFO - HTTP Request: PATCH https://fpyltvtkpkrkzortucoa.supabase.co/rest/v1/media?id=eq.343 \"HTTP/1.1 200 OK\"\n"
                    ]
                },
                {
                    "name": "stdout",
                    "output_type": "stream",
                    "text": [
                        "Vector data updated\n",
                        "image processed\n"
                    ]
                },
                {
                    "name": "stderr",
                    "output_type": "stream",
                    "text": [
                        "2023-09-12 20:18:22,216:INFO - HTTP Request: GET https://fpyltvtkpkrkzortucoa.supabase.co/rest/v1/media?select=%2A&source_id=eq.7502885 \"HTTP/1.1 200 OK\"\n"
                    ]
                },
                {
                    "name": "stdout",
                    "output_type": "stream",
                    "text": [
                        "The list is empty. Proceed\n",
                        "Saved adolescent-artistic-band-bass-guitar-7502885.jpeg to disk.\n"
                    ]
                },
                {
                    "name": "stderr",
                    "output_type": "stream",
                    "text": [
                        "2023-09-12 20:18:22,728:INFO - HTTP Request: POST https://fpyltvtkpkrkzortucoa.supabase.co/storage/v1/object/media/cc4b0a08-adb2-407b-9dd1-3cdd4aaf36b9.jpeg \"HTTP/1.1 200 OK\"\n"
                    ]
                },
                {
                    "name": "stdout",
                    "output_type": "stream",
                    "text": [
                        "uploaded\n"
                    ]
                },
                {
                    "name": "stderr",
                    "output_type": "stream",
                    "text": [
                        "2023-09-12 20:18:24,106:INFO - HTTP Request: POST https://fpyltvtkpkrkzortucoa.supabase.co/rest/v1/media \"HTTP/1.1 201 Created\"\n"
                    ]
                },
                {
                    "name": "stdout",
                    "output_type": "stream",
                    "text": [
                        "a man holding a violin while standing next to a microphone\n",
                        "{'dimensions': {'width': 1200, 'height': 630, 'channels': 3}, 'mean_color': (128.47557275132274, 136.84432010582012, 134.97384126984127, 0.0), 'file_size': 49839, 'file_type': 'jpeg'}\n",
                        "Media data updated\n"
                    ]
                },
                {
                    "name": "stderr",
                    "output_type": "stream",
                    "text": [
                        "2023-09-12 20:18:24,548:INFO - HTTP Request: POST https://fpyltvtkpkrkzortucoa.supabase.co/rest/v1/vectors \"HTTP/1.1 201 Created\"\n",
                        "2023-09-12 20:18:24,640:INFO - HTTP Request: PATCH https://fpyltvtkpkrkzortucoa.supabase.co/rest/v1/media?id=eq.344 \"HTTP/1.1 200 OK\"\n"
                    ]
                },
                {
                    "name": "stdout",
                    "output_type": "stream",
                    "text": [
                        "Vector data updated\n",
                        "image processed\n"
                    ]
                },
                {
                    "name": "stderr",
                    "output_type": "stream",
                    "text": [
                        "2023-09-12 20:18:27,719:INFO - HTTP Request: GET https://fpyltvtkpkrkzortucoa.supabase.co/rest/v1/media?select=%2A&source_id=eq.7502911 \"HTTP/1.1 200 OK\"\n"
                    ]
                },
                {
                    "name": "stdout",
                    "output_type": "stream",
                    "text": [
                        "The list is empty. Proceed\n",
                        "Saved action-adult-art-backlit-7502911.jpeg to disk.\n"
                    ]
                },
                {
                    "name": "stderr",
                    "output_type": "stream",
                    "text": [
                        "2023-09-12 20:18:28,243:INFO - HTTP Request: POST https://fpyltvtkpkrkzortucoa.supabase.co/storage/v1/object/media/33c7a9dc-88da-4f82-a6e2-977fe9a537ad.jpeg \"HTTP/1.1 200 OK\"\n"
                    ]
                },
                {
                    "name": "stdout",
                    "output_type": "stream",
                    "text": [
                        "uploaded\n"
                    ]
                },
                {
                    "name": "stderr",
                    "output_type": "stream",
                    "text": [
                        "2023-09-12 20:18:29,370:INFO - HTTP Request: POST https://fpyltvtkpkrkzortucoa.supabase.co/rest/v1/media \"HTTP/1.1 201 Created\"\n"
                    ]
                },
                {
                    "name": "stdout",
                    "output_type": "stream",
                    "text": [
                        "a man in a black top and a man in a black shirt\n",
                        "{'dimensions': {'width': 1200, 'height': 630, 'channels': 3}, 'mean_color': (97.35846693121694, 106.51832804232804, 105.70362433862434, 0.0), 'file_size': 45615, 'file_type': 'jpeg'}\n",
                        "Media data updated\n"
                    ]
                },
                {
                    "name": "stderr",
                    "output_type": "stream",
                    "text": [
                        "2023-09-12 20:18:30,214:INFO - HTTP Request: POST https://fpyltvtkpkrkzortucoa.supabase.co/rest/v1/vectors \"HTTP/1.1 201 Created\"\n",
                        "2023-09-12 20:18:30,287:INFO - HTTP Request: PATCH https://fpyltvtkpkrkzortucoa.supabase.co/rest/v1/media?id=eq.345 \"HTTP/1.1 200 OK\"\n"
                    ]
                },
                {
                    "name": "stdout",
                    "output_type": "stream",
                    "text": [
                        "Vector data updated\n",
                        "image processed\n"
                    ]
                },
                {
                    "name": "stderr",
                    "output_type": "stream",
                    "text": [
                        "2023-09-12 20:18:33,365:INFO - HTTP Request: GET https://fpyltvtkpkrkzortucoa.supabase.co/rest/v1/media?select=%2A&source_id=eq.2022396 \"HTTP/1.1 200 OK\"\n",
                        "2023-09-12 20:18:33,454:INFO - HTTP Request: GET https://fpyltvtkpkrkzortucoa.supabase.co/rest/v1/media?select=%2A&source_id=eq.4916813 \"HTTP/1.1 200 OK\"\n",
                        "2023-09-12 20:18:33,559:INFO - HTTP Request: GET https://fpyltvtkpkrkzortucoa.supabase.co/rest/v1/media?select=%2A&source_id=eq.4088836 \"HTTP/1.1 200 OK\"\n"
                    ]
                },
                {
                    "name": "stdout",
                    "output_type": "stream",
                    "text": [
                        "The list is not empty. Stop\n",
                        "The list is not empty. Stop\n",
                        "The list is empty. Proceed\n",
                        "Saved pexels-photo-4088836.jpeg to disk.\n"
                    ]
                },
                {
                    "name": "stderr",
                    "output_type": "stream",
                    "text": [
                        "2023-09-12 20:18:34,163:INFO - HTTP Request: POST https://fpyltvtkpkrkzortucoa.supabase.co/storage/v1/object/media/072d45ac-feaa-41f9-9e15-40ba19eeed02.jpeg \"HTTP/1.1 200 OK\"\n"
                    ]
                },
                {
                    "name": "stdout",
                    "output_type": "stream",
                    "text": [
                        "uploaded\n"
                    ]
                },
                {
                    "name": "stderr",
                    "output_type": "stream",
                    "text": [
                        "2023-09-12 20:18:35,296:INFO - HTTP Request: POST https://fpyltvtkpkrkzortucoa.supabase.co/rest/v1/media \"HTTP/1.1 201 Created\"\n"
                    ]
                },
                {
                    "name": "stdout",
                    "output_type": "stream",
                    "text": [
                        "a close up of a person playing a guitar\n",
                        "{'dimensions': {'width': 1200, 'height': 630, 'channels': 3}, 'mean_color': (66.32692857142857, 78.99208862433862, 90.41904232804232, 0.0), 'file_size': 33294, 'file_type': 'jpeg'}\n",
                        "Media data updated\n"
                    ]
                },
                {
                    "name": "stderr",
                    "output_type": "stream",
                    "text": [
                        "2023-09-12 20:18:35,935:INFO - HTTP Request: POST https://fpyltvtkpkrkzortucoa.supabase.co/rest/v1/vectors \"HTTP/1.1 201 Created\"\n",
                        "2023-09-12 20:18:36,004:INFO - HTTP Request: PATCH https://fpyltvtkpkrkzortucoa.supabase.co/rest/v1/media?id=eq.346 \"HTTP/1.1 200 OK\"\n"
                    ]
                },
                {
                    "name": "stdout",
                    "output_type": "stream",
                    "text": [
                        "Vector data updated\n",
                        "image processed\n"
                    ]
                },
                {
                    "name": "stderr",
                    "output_type": "stream",
                    "text": [
                        "2023-09-12 20:18:39,079:INFO - HTTP Request: GET https://fpyltvtkpkrkzortucoa.supabase.co/rest/v1/media?select=%2A&source_id=eq.3941288 \"HTTP/1.1 200 OK\"\n",
                        "2023-09-12 20:18:39,151:INFO - HTTP Request: GET https://fpyltvtkpkrkzortucoa.supabase.co/rest/v1/media?select=%2A&source_id=eq.4916768 \"HTTP/1.1 200 OK\"\n",
                        "2023-09-12 20:18:39,230:INFO - HTTP Request: GET https://fpyltvtkpkrkzortucoa.supabase.co/rest/v1/media?select=%2A&source_id=eq.2915401 \"HTTP/1.1 200 OK\"\n"
                    ]
                },
                {
                    "name": "stdout",
                    "output_type": "stream",
                    "text": [
                        "The list is not empty. Stop\n",
                        "The list is not empty. Stop\n",
                        "The list is empty. Proceed\n",
                        "Saved free-video-2915401.jpg to disk.\n"
                    ]
                },
                {
                    "name": "stderr",
                    "output_type": "stream",
                    "text": [
                        "2023-09-12 20:18:39,717:INFO - HTTP Request: POST https://fpyltvtkpkrkzortucoa.supabase.co/storage/v1/object/media/bf6e8981-3edb-49fc-9b56-a31582549e45.jpg \"HTTP/1.1 200 OK\"\n"
                    ]
                },
                {
                    "name": "stdout",
                    "output_type": "stream",
                    "text": [
                        "uploaded\n"
                    ]
                },
                {
                    "name": "stderr",
                    "output_type": "stream",
                    "text": [
                        "2023-09-12 20:18:40,845:INFO - HTTP Request: POST https://fpyltvtkpkrkzortucoa.supabase.co/rest/v1/media \"HTTP/1.1 201 Created\"\n"
                    ]
                },
                {
                    "name": "stdout",
                    "output_type": "stream",
                    "text": [
                        "a man standing in front of a crowd at a concert\n",
                        "{'dimensions': {'width': 1200, 'height': 630, 'channels': 3}, 'mean_color': (115.17687301587301, 140.97188095238096, 175.4778955026455, 0.0), 'file_size': 41349, 'file_type': 'jpg'}\n",
                        "Media data updated\n"
                    ]
                },
                {
                    "name": "stderr",
                    "output_type": "stream",
                    "text": [
                        "2023-09-12 20:18:41,376:INFO - HTTP Request: POST https://fpyltvtkpkrkzortucoa.supabase.co/rest/v1/vectors \"HTTP/1.1 201 Created\"\n",
                        "2023-09-12 20:18:41,475:INFO - HTTP Request: PATCH https://fpyltvtkpkrkzortucoa.supabase.co/rest/v1/media?id=eq.347 \"HTTP/1.1 200 OK\"\n"
                    ]
                },
                {
                    "name": "stdout",
                    "output_type": "stream",
                    "text": [
                        "Vector data updated\n",
                        "image processed\n"
                    ]
                },
                {
                    "name": "stderr",
                    "output_type": "stream",
                    "text": [
                        "2023-09-12 20:18:44,557:INFO - HTTP Request: GET https://fpyltvtkpkrkzortucoa.supabase.co/rest/v1/media?select=%2A&source_id=eq.7502873 \"HTTP/1.1 200 OK\"\n"
                    ]
                },
                {
                    "name": "stdout",
                    "output_type": "stream",
                    "text": [
                        "The list is empty. Proceed\n",
                        "Saved pexels-photo-7502873.jpeg to disk.\n"
                    ]
                },
                {
                    "name": "stderr",
                    "output_type": "stream",
                    "text": [
                        "2023-09-12 20:18:45,118:INFO - HTTP Request: POST https://fpyltvtkpkrkzortucoa.supabase.co/storage/v1/object/media/8f0a793d-4167-4b20-ad2d-b11c8a64cf81.jpeg \"HTTP/1.1 200 OK\"\n"
                    ]
                },
                {
                    "name": "stdout",
                    "output_type": "stream",
                    "text": [
                        "uploaded\n"
                    ]
                },
                {
                    "name": "stderr",
                    "output_type": "stream",
                    "text": [
                        "2023-09-12 20:18:47,109:INFO - HTTP Request: POST https://fpyltvtkpkrkzortucoa.supabase.co/rest/v1/media \"HTTP/1.1 201 Created\"\n"
                    ]
                },
                {
                    "name": "stdout",
                    "output_type": "stream",
                    "text": [
                        "a group of people that are playing instruments\n",
                        "{'dimensions': {'width': 1200, 'height': 630, 'channels': 3}, 'mean_color': (110.43754497354497, 113.59538624338624, 109.96754761904762, 0.0), 'file_size': 58547, 'file_type': 'jpeg'}\n",
                        "Media data updated\n"
                    ]
                },
                {
                    "name": "stderr",
                    "output_type": "stream",
                    "text": [
                        "2023-09-12 20:18:47,726:INFO - HTTP Request: POST https://fpyltvtkpkrkzortucoa.supabase.co/rest/v1/vectors \"HTTP/1.1 201 Created\"\n",
                        "2023-09-12 20:18:47,803:INFO - HTTP Request: PATCH https://fpyltvtkpkrkzortucoa.supabase.co/rest/v1/media?id=eq.348 \"HTTP/1.1 200 OK\"\n"
                    ]
                },
                {
                    "name": "stdout",
                    "output_type": "stream",
                    "text": [
                        "Vector data updated\n",
                        "image processed\n"
                    ]
                },
                {
                    "name": "stderr",
                    "output_type": "stream",
                    "text": [
                        "2023-09-12 20:18:50,873:INFO - HTTP Request: GET https://fpyltvtkpkrkzortucoa.supabase.co/rest/v1/media?select=%2A&source_id=eq.4089575 \"HTTP/1.1 200 OK\"\n"
                    ]
                },
                {
                    "name": "stdout",
                    "output_type": "stream",
                    "text": [
                        "The list is empty. Proceed\n",
                        "Saved audio-equipment-band-closeup-concert-4089575.jpeg to disk.\n"
                    ]
                },
                {
                    "name": "stderr",
                    "output_type": "stream",
                    "text": [
                        "2023-09-12 20:18:51,469:INFO - HTTP Request: POST https://fpyltvtkpkrkzortucoa.supabase.co/storage/v1/object/media/a90b94e6-109d-410d-8cbc-d9ccee0cf54c.jpeg \"HTTP/1.1 200 OK\"\n"
                    ]
                },
                {
                    "name": "stdout",
                    "output_type": "stream",
                    "text": [
                        "uploaded\n"
                    ]
                },
                {
                    "name": "stderr",
                    "output_type": "stream",
                    "text": [
                        "2023-09-12 20:18:52,992:INFO - HTTP Request: POST https://fpyltvtkpkrkzortucoa.supabase.co/rest/v1/media \"HTTP/1.1 201 Created\"\n"
                    ]
                },
                {
                    "name": "stdout",
                    "output_type": "stream",
                    "text": [
                        "a man singing into a microphone while holding a guitar\n",
                        "{'dimensions': {'width': 1200, 'height': 630, 'channels': 3}, 'mean_color': (101.98778042328043, 112.77692195767196, 123.1513544973545, 0.0), 'file_size': 54147, 'file_type': 'jpeg'}\n",
                        "Media data updated\n"
                    ]
                },
                {
                    "name": "stderr",
                    "output_type": "stream",
                    "text": [
                        "2023-09-12 20:18:54,004:INFO - HTTP Request: POST https://fpyltvtkpkrkzortucoa.supabase.co/rest/v1/vectors \"HTTP/1.1 201 Created\"\n",
                        "2023-09-12 20:18:54,110:INFO - HTTP Request: PATCH https://fpyltvtkpkrkzortucoa.supabase.co/rest/v1/media?id=eq.349 \"HTTP/1.1 200 OK\"\n"
                    ]
                },
                {
                    "name": "stdout",
                    "output_type": "stream",
                    "text": [
                        "Vector data updated\n",
                        "image processed\n"
                    ]
                },
                {
                    "name": "stderr",
                    "output_type": "stream",
                    "text": [
                        "2023-09-12 20:18:57,238:INFO - HTTP Request: GET https://fpyltvtkpkrkzortucoa.supabase.co/rest/v1/media?select=%2A&source_id=eq.4088851 \"HTTP/1.1 200 OK\"\n",
                        "2023-09-12 20:18:57,396:INFO - HTTP Request: GET https://fpyltvtkpkrkzortucoa.supabase.co/rest/v1/media?select=%2A&source_id=eq.5659599 \"HTTP/1.1 200 OK\"\n"
                    ]
                },
                {
                    "name": "stdout",
                    "output_type": "stream",
                    "text": [
                        "The list is not empty. Stop\n",
                        "The list is empty. Proceed\n",
                        "Saved pexels-photo-5659599.jpeg to disk.\n"
                    ]
                },
                {
                    "name": "stderr",
                    "output_type": "stream",
                    "text": [
                        "2023-09-12 20:18:57,973:INFO - HTTP Request: POST https://fpyltvtkpkrkzortucoa.supabase.co/storage/v1/object/media/972b48ef-1614-4bbb-a791-1c8566d0d6ec.jpeg \"HTTP/1.1 200 OK\"\n"
                    ]
                },
                {
                    "name": "stdout",
                    "output_type": "stream",
                    "text": [
                        "uploaded\n"
                    ]
                },
                {
                    "name": "stderr",
                    "output_type": "stream",
                    "text": [
                        "2023-09-12 20:18:59,148:INFO - HTTP Request: POST https://fpyltvtkpkrkzortucoa.supabase.co/rest/v1/media \"HTTP/1.1 201 Created\"\n"
                    ]
                },
                {
                    "name": "stdout",
                    "output_type": "stream",
                    "text": [
                        "a man singing into a microphone in a recording studio\n",
                        "{'dimensions': {'width': 1200, 'height': 630, 'channels': 3}, 'mean_color': (68.97656746031745, 68.84510052910053, 71.06661772486773, 0.0), 'file_size': 35820, 'file_type': 'jpeg'}\n",
                        "Media data updated\n"
                    ]
                },
                {
                    "name": "stderr",
                    "output_type": "stream",
                    "text": [
                        "2023-09-12 20:18:59,492:INFO - HTTP Request: POST https://fpyltvtkpkrkzortucoa.supabase.co/rest/v1/vectors \"HTTP/1.1 201 Created\"\n",
                        "2023-09-12 20:18:59,568:INFO - HTTP Request: PATCH https://fpyltvtkpkrkzortucoa.supabase.co/rest/v1/media?id=eq.350 \"HTTP/1.1 200 OK\"\n"
                    ]
                },
                {
                    "name": "stdout",
                    "output_type": "stream",
                    "text": [
                        "Vector data updated\n",
                        "image processed\n"
                    ]
                },
                {
                    "name": "stderr",
                    "output_type": "stream",
                    "text": [
                        "2023-09-12 20:19:02,661:INFO - HTTP Request: GET https://fpyltvtkpkrkzortucoa.supabase.co/rest/v1/media?select=%2A&source_id=eq.4088198 \"HTTP/1.1 200 OK\"\n",
                        "2023-09-12 20:19:02,730:INFO - HTTP Request: GET https://fpyltvtkpkrkzortucoa.supabase.co/rest/v1/media?select=%2A&source_id=eq.7095056 \"HTTP/1.1 200 OK\"\n"
                    ]
                },
                {
                    "name": "stdout",
                    "output_type": "stream",
                    "text": [
                        "The list is not empty. Stop\n",
                        "The list is empty. Proceed\n",
                        "Saved pexels-photo-7095056.jpeg to disk.\n"
                    ]
                },
                {
                    "name": "stderr",
                    "output_type": "stream",
                    "text": [
                        "2023-09-12 20:19:03,550:INFO - HTTP Request: POST https://fpyltvtkpkrkzortucoa.supabase.co/storage/v1/object/media/6135b2f7-13f0-4853-953f-bae222451f8b.jpeg \"HTTP/1.1 200 OK\"\n"
                    ]
                },
                {
                    "name": "stdout",
                    "output_type": "stream",
                    "text": [
                        "uploaded\n"
                    ]
                },
                {
                    "name": "stderr",
                    "output_type": "stream",
                    "text": [
                        "2023-09-12 20:19:04,888:INFO - HTTP Request: POST https://fpyltvtkpkrkzortucoa.supabase.co/rest/v1/media \"HTTP/1.1 201 Created\"\n"
                    ]
                },
                {
                    "name": "stdout",
                    "output_type": "stream",
                    "text": [
                        "a man holding a violin in her right hand\n",
                        "{'dimensions': {'width': 1200, 'height': 630, 'channels': 3}, 'mean_color': (62.790255291005295, 74.40568121693121, 99.25635846560847, 0.0), 'file_size': 59410, 'file_type': 'jpeg'}\n",
                        "Media data updated\n"
                    ]
                },
                {
                    "name": "stderr",
                    "output_type": "stream",
                    "text": [
                        "2023-09-12 20:19:05,246:INFO - HTTP Request: POST https://fpyltvtkpkrkzortucoa.supabase.co/rest/v1/vectors \"HTTP/1.1 201 Created\"\n",
                        "2023-09-12 20:19:05,370:INFO - HTTP Request: PATCH https://fpyltvtkpkrkzortucoa.supabase.co/rest/v1/media?id=eq.351 \"HTTP/1.1 200 OK\"\n"
                    ]
                },
                {
                    "name": "stdout",
                    "output_type": "stream",
                    "text": [
                        "Vector data updated\n",
                        "image processed\n"
                    ]
                },
                {
                    "name": "stderr",
                    "output_type": "stream",
                    "text": [
                        "2023-09-12 20:19:08,464:INFO - HTTP Request: GET https://fpyltvtkpkrkzortucoa.supabase.co/rest/v1/media?select=%2A&source_id=eq.4088838 \"HTTP/1.1 200 OK\"\n"
                    ]
                },
                {
                    "name": "stdout",
                    "output_type": "stream",
                    "text": [
                        "The list is empty. Proceed\n",
                        "Saved pexels-photo-4088838.jpeg to disk.\n"
                    ]
                },
                {
                    "name": "stderr",
                    "output_type": "stream",
                    "text": [
                        "2023-09-12 20:19:09,081:INFO - HTTP Request: POST https://fpyltvtkpkrkzortucoa.supabase.co/storage/v1/object/media/091a8fd7-ae8e-4be7-90b8-ddc51c20e522.jpeg \"HTTP/1.1 200 OK\"\n"
                    ]
                },
                {
                    "name": "stdout",
                    "output_type": "stream",
                    "text": [
                        "uploaded\n"
                    ]
                },
                {
                    "name": "stderr",
                    "output_type": "stream",
                    "text": [
                        "2023-09-12 20:19:10,461:INFO - HTTP Request: POST https://fpyltvtkpkrkzortucoa.supabase.co/rest/v1/media \"HTTP/1.1 201 Created\"\n"
                    ]
                },
                {
                    "name": "stdout",
                    "output_type": "stream",
                    "text": [
                        "a pair of shoes sitting on top of a table\n",
                        "{'dimensions': {'width': 1200, 'height': 630, 'channels': 3}, 'mean_color': (57.120906084656085, 61.945399470899474, 76.27593518518519, 0.0), 'file_size': 73439, 'file_type': 'jpeg'}\n",
                        "Media data updated\n"
                    ]
                },
                {
                    "name": "stderr",
                    "output_type": "stream",
                    "text": [
                        "2023-09-12 20:19:10,973:INFO - HTTP Request: POST https://fpyltvtkpkrkzortucoa.supabase.co/rest/v1/vectors \"HTTP/1.1 201 Created\"\n",
                        "2023-09-12 20:19:11,094:INFO - HTTP Request: PATCH https://fpyltvtkpkrkzortucoa.supabase.co/rest/v1/media?id=eq.352 \"HTTP/1.1 200 OK\"\n"
                    ]
                },
                {
                    "name": "stdout",
                    "output_type": "stream",
                    "text": [
                        "Vector data updated\n",
                        "image processed\n"
                    ]
                },
                {
                    "name": "stderr",
                    "output_type": "stream",
                    "text": [
                        "2023-09-12 20:19:14,175:INFO - HTTP Request: GET https://fpyltvtkpkrkzortucoa.supabase.co/rest/v1/media?select=%2A&source_id=eq.6274529 \"HTTP/1.1 200 OK\"\n"
                    ]
                },
                {
                    "name": "stdout",
                    "output_type": "stream",
                    "text": [
                        "The list is empty. Proceed\n",
                        "Saved 4k-resolution-adult-antique-audience-6274529.jpeg to disk.\n"
                    ]
                },
                {
                    "name": "stderr",
                    "output_type": "stream",
                    "text": [
                        "2023-09-12 20:19:14,814:INFO - HTTP Request: POST https://fpyltvtkpkrkzortucoa.supabase.co/storage/v1/object/media/f23d1011-118d-4853-b734-723a0f25ee48.jpeg \"HTTP/1.1 200 OK\"\n"
                    ]
                },
                {
                    "name": "stdout",
                    "output_type": "stream",
                    "text": [
                        "uploaded\n"
                    ]
                },
                {
                    "name": "stderr",
                    "output_type": "stream",
                    "text": [
                        "2023-09-12 20:19:15,911:INFO - HTTP Request: POST https://fpyltvtkpkrkzortucoa.supabase.co/rest/v1/media \"HTTP/1.1 201 Created\"\n"
                    ]
                },
                {
                    "name": "stdout",
                    "output_type": "stream",
                    "text": [
                        "a microphone on a tripod in front of a stage light\n",
                        "{'dimensions': {'width': 1200, 'height': 630, 'channels': 3}, 'mean_color': (54.552767195767196, 93.88444047619048, 121.22555026455026, 0.0), 'file_size': 27391, 'file_type': 'jpeg'}\n",
                        "Media data updated\n"
                    ]
                },
                {
                    "name": "stderr",
                    "output_type": "stream",
                    "text": [
                        "2023-09-12 20:19:16,289:INFO - HTTP Request: POST https://fpyltvtkpkrkzortucoa.supabase.co/rest/v1/vectors \"HTTP/1.1 201 Created\"\n",
                        "2023-09-12 20:19:16,367:INFO - HTTP Request: PATCH https://fpyltvtkpkrkzortucoa.supabase.co/rest/v1/media?id=eq.353 \"HTTP/1.1 200 OK\"\n"
                    ]
                },
                {
                    "name": "stdout",
                    "output_type": "stream",
                    "text": [
                        "Vector data updated\n",
                        "image processed\n"
                    ]
                },
                {
                    "name": "stderr",
                    "output_type": "stream",
                    "text": [
                        "2023-09-12 20:19:19,445:INFO - HTTP Request: GET https://fpyltvtkpkrkzortucoa.supabase.co/rest/v1/media?select=%2A&source_id=eq.5659596 \"HTTP/1.1 200 OK\"\n"
                    ]
                },
                {
                    "name": "stdout",
                    "output_type": "stream",
                    "text": [
                        "The list is empty. Proceed\n",
                        "Saved pexels-photo-5659596.jpeg to disk.\n"
                    ]
                },
                {
                    "name": "stderr",
                    "output_type": "stream",
                    "text": [
                        "2023-09-12 20:19:19,936:INFO - HTTP Request: POST https://fpyltvtkpkrkzortucoa.supabase.co/storage/v1/object/media/929dee18-cdc8-4a0d-ae3e-04aa7652944d.jpeg \"HTTP/1.1 200 OK\"\n"
                    ]
                },
                {
                    "name": "stdout",
                    "output_type": "stream",
                    "text": [
                        "uploaded\n"
                    ]
                },
                {
                    "name": "stderr",
                    "output_type": "stream",
                    "text": [
                        "2023-09-12 20:19:21,308:INFO - HTTP Request: POST https://fpyltvtkpkrkzortucoa.supabase.co/rest/v1/media \"HTTP/1.1 201 Created\"\n"
                    ]
                },
                {
                    "name": "stdout",
                    "output_type": "stream",
                    "text": [
                        "a man holding a microphone while standing next to a man\n",
                        "{'dimensions': {'width': 1200, 'height': 630, 'channels': 3}, 'mean_color': (84.43173280423281, 86.65586772486773, 88.94141005291006, 0.0), 'file_size': 45994, 'file_type': 'jpeg'}\n",
                        "Media data updated\n"
                    ]
                },
                {
                    "name": "stderr",
                    "output_type": "stream",
                    "text": [
                        "2023-09-12 20:19:21,937:INFO - HTTP Request: POST https://fpyltvtkpkrkzortucoa.supabase.co/rest/v1/vectors \"HTTP/1.1 201 Created\"\n",
                        "2023-09-12 20:19:22,095:INFO - HTTP Request: PATCH https://fpyltvtkpkrkzortucoa.supabase.co/rest/v1/media?id=eq.354 \"HTTP/1.1 200 OK\"\n"
                    ]
                },
                {
                    "name": "stdout",
                    "output_type": "stream",
                    "text": [
                        "Vector data updated\n",
                        "image processed\n"
                    ]
                },
                {
                    "name": "stderr",
                    "output_type": "stream",
                    "text": [
                        "2023-09-12 20:19:25,730:INFO - HTTP Request: GET https://fpyltvtkpkrkzortucoa.supabase.co/rest/v1/media?select=%2A&source_id=eq.2022395 \"HTTP/1.1 200 OK\"\n"
                    ]
                },
                {
                    "name": "stdout",
                    "output_type": "stream",
                    "text": [
                        "The list is empty. Proceed\n",
                        "Saved free-video-2022395.jpg to disk.\n"
                    ]
                },
                {
                    "name": "stderr",
                    "output_type": "stream",
                    "text": [
                        "2023-09-12 20:19:26,288:INFO - HTTP Request: POST https://fpyltvtkpkrkzortucoa.supabase.co/storage/v1/object/media/203a8912-44a5-4c84-bf7e-aa140fef257d.jpg \"HTTP/1.1 200 OK\"\n"
                    ]
                },
                {
                    "name": "stdout",
                    "output_type": "stream",
                    "text": [
                        "uploaded\n"
                    ]
                },
                {
                    "name": "stderr",
                    "output_type": "stream",
                    "text": [
                        "2023-09-12 20:19:27,430:INFO - HTTP Request: POST https://fpyltvtkpkrkzortucoa.supabase.co/rest/v1/media \"HTTP/1.1 201 Created\"\n"
                    ]
                },
                {
                    "name": "stdout",
                    "output_type": "stream",
                    "text": [
                        "a crowd of people at a concert with their hands in the air\n",
                        "{'dimensions': {'width': 1200, 'height': 630, 'channels': 3}, 'mean_color': (90.78266798941799, 34.781525132275135, 8.818138888888889, 0.0), 'file_size': 29762, 'file_type': 'jpg'}\n",
                        "Media data updated\n"
                    ]
                },
                {
                    "name": "stderr",
                    "output_type": "stream",
                    "text": [
                        "2023-09-12 20:19:27,959:INFO - HTTP Request: POST https://fpyltvtkpkrkzortucoa.supabase.co/rest/v1/vectors \"HTTP/1.1 201 Created\"\n",
                        "2023-09-12 20:19:28,032:INFO - HTTP Request: PATCH https://fpyltvtkpkrkzortucoa.supabase.co/rest/v1/media?id=eq.355 \"HTTP/1.1 200 OK\"\n"
                    ]
                },
                {
                    "name": "stdout",
                    "output_type": "stream",
                    "text": [
                        "Vector data updated\n",
                        "image processed\n"
                    ]
                },
                {
                    "name": "stderr",
                    "output_type": "stream",
                    "text": [
                        "2023-09-12 20:19:31,137:INFO - HTTP Request: GET https://fpyltvtkpkrkzortucoa.supabase.co/rest/v1/media?select=%2A&source_id=eq.4440816 \"HTTP/1.1 200 OK\"\n"
                    ]
                },
                {
                    "name": "stdout",
                    "output_type": "stream",
                    "text": [
                        "The list is empty. Proceed\n",
                        "Saved pexels-photo-4440816.jpeg to disk.\n"
                    ]
                },
                {
                    "name": "stderr",
                    "output_type": "stream",
                    "text": [
                        "2023-09-12 20:19:31,707:INFO - HTTP Request: POST https://fpyltvtkpkrkzortucoa.supabase.co/storage/v1/object/media/c98f251d-36bb-47ef-bed5-8826c95765d1.jpeg \"HTTP/1.1 200 OK\"\n"
                    ]
                },
                {
                    "name": "stdout",
                    "output_type": "stream",
                    "text": [
                        "uploaded\n"
                    ]
                },
                {
                    "name": "stderr",
                    "output_type": "stream",
                    "text": [
                        "2023-09-12 20:19:32,939:INFO - HTTP Request: POST https://fpyltvtkpkrkzortucoa.supabase.co/rest/v1/media \"HTTP/1.1 201 Created\"\n"
                    ]
                },
                {
                    "name": "stdout",
                    "output_type": "stream",
                    "text": [
                        "a group of people standing on top of a beach\n",
                        "{'dimensions': {'width': 1200, 'height': 630, 'channels': 3}, 'mean_color': (36.964906084656086, 53.01173941798942, 69.86662830687831, 0.0), 'file_size': 38368, 'file_type': 'jpeg'}\n",
                        "Media data updated\n"
                    ]
                },
                {
                    "name": "stderr",
                    "output_type": "stream",
                    "text": [
                        "2023-09-12 20:19:33,302:INFO - HTTP Request: POST https://fpyltvtkpkrkzortucoa.supabase.co/rest/v1/vectors \"HTTP/1.1 201 Created\"\n",
                        "2023-09-12 20:19:33,390:INFO - HTTP Request: PATCH https://fpyltvtkpkrkzortucoa.supabase.co/rest/v1/media?id=eq.356 \"HTTP/1.1 200 OK\"\n"
                    ]
                },
                {
                    "name": "stdout",
                    "output_type": "stream",
                    "text": [
                        "Vector data updated\n",
                        "image processed\n"
                    ]
                },
                {
                    "name": "stderr",
                    "output_type": "stream",
                    "text": [
                        "2023-09-12 20:19:36,476:INFO - HTTP Request: GET https://fpyltvtkpkrkzortucoa.supabase.co/rest/v1/media?select=%2A&source_id=eq.7649279 \"HTTP/1.1 200 OK\"\n"
                    ]
                },
                {
                    "name": "stdout",
                    "output_type": "stream",
                    "text": [
                        "The list is empty. Proceed\n",
                        "Saved abstract-aircraft-alien-art-7649279.jpeg to disk.\n"
                    ]
                },
                {
                    "name": "stderr",
                    "output_type": "stream",
                    "text": [
                        "2023-09-12 20:19:36,872:INFO - HTTP Request: POST https://fpyltvtkpkrkzortucoa.supabase.co/storage/v1/object/media/6f3bfeed-806e-4b94-b69c-9626e624fbd1.jpeg \"HTTP/1.1 200 OK\"\n"
                    ]
                },
                {
                    "name": "stdout",
                    "output_type": "stream",
                    "text": [
                        "uploaded\n"
                    ]
                },
                {
                    "name": "stderr",
                    "output_type": "stream",
                    "text": [
                        "2023-09-12 20:19:38,165:INFO - HTTP Request: POST https://fpyltvtkpkrkzortucoa.supabase.co/rest/v1/media \"HTTP/1.1 201 Created\"\n"
                    ]
                },
                {
                    "name": "stdout",
                    "output_type": "stream",
                    "text": [
                        "a close up of a person holding a cell phone\n",
                        "{'dimensions': {'width': 1200, 'height': 630, 'channels': 3}, 'mean_color': (61.282785714285716, 28.677608465608465, 19.812078042328043, 0.0), 'file_size': 40117, 'file_type': 'jpeg'}\n",
                        "Media data updated\n"
                    ]
                },
                {
                    "name": "stderr",
                    "output_type": "stream",
                    "text": [
                        "2023-09-12 20:19:38,604:INFO - HTTP Request: POST https://fpyltvtkpkrkzortucoa.supabase.co/rest/v1/vectors \"HTTP/1.1 201 Created\"\n",
                        "2023-09-12 20:19:38,676:INFO - HTTP Request: PATCH https://fpyltvtkpkrkzortucoa.supabase.co/rest/v1/media?id=eq.357 \"HTTP/1.1 200 OK\"\n"
                    ]
                },
                {
                    "name": "stdout",
                    "output_type": "stream",
                    "text": [
                        "Vector data updated\n",
                        "image processed\n"
                    ]
                },
                {
                    "name": "stderr",
                    "output_type": "stream",
                    "text": [
                        "2023-09-12 20:19:41,798:INFO - HTTP Request: GET https://fpyltvtkpkrkzortucoa.supabase.co/rest/v1/media?select=%2A&source_id=eq.10556461 \"HTTP/1.1 200 OK\"\n"
                    ]
                },
                {
                    "name": "stdout",
                    "output_type": "stream",
                    "text": [
                        "The list is empty. Proceed\n",
                        "Saved pexels-photo-10556461.jpeg to disk.\n"
                    ]
                },
                {
                    "name": "stderr",
                    "output_type": "stream",
                    "text": [
                        "2023-09-12 20:19:42,286:INFO - HTTP Request: POST https://fpyltvtkpkrkzortucoa.supabase.co/storage/v1/object/media/4e553880-fa03-4c7e-be97-c765b205c0dc.jpeg \"HTTP/1.1 200 OK\"\n"
                    ]
                },
                {
                    "name": "stdout",
                    "output_type": "stream",
                    "text": [
                        "uploaded\n"
                    ]
                },
                {
                    "name": "stderr",
                    "output_type": "stream",
                    "text": [
                        "2023-09-12 20:19:43,420:INFO - HTTP Request: POST https://fpyltvtkpkrkzortucoa.supabase.co/rest/v1/media \"HTTP/1.1 201 Created\"\n"
                    ]
                },
                {
                    "name": "stdout",
                    "output_type": "stream",
                    "text": [
                        "a man in a white dress standing in a circle of fire\n",
                        "{'dimensions': {'width': 1200, 'height': 630, 'channels': 3}, 'mean_color': (40.14204894179894, 42.57195899470899, 44.972867724867726, 0.0), 'file_size': 38610, 'file_type': 'jpeg'}\n",
                        "Media data updated\n"
                    ]
                },
                {
                    "name": "stderr",
                    "output_type": "stream",
                    "text": [
                        "2023-09-12 20:19:43,933:INFO - HTTP Request: POST https://fpyltvtkpkrkzortucoa.supabase.co/rest/v1/vectors \"HTTP/1.1 201 Created\"\n",
                        "2023-09-12 20:19:44,054:INFO - HTTP Request: PATCH https://fpyltvtkpkrkzortucoa.supabase.co/rest/v1/media?id=eq.358 \"HTTP/1.1 200 OK\"\n"
                    ]
                },
                {
                    "name": "stdout",
                    "output_type": "stream",
                    "text": [
                        "Vector data updated\n",
                        "image processed\n"
                    ]
                },
                {
                    "name": "stderr",
                    "output_type": "stream",
                    "text": [
                        "2023-09-12 20:19:47,144:INFO - HTTP Request: GET https://fpyltvtkpkrkzortucoa.supabase.co/rest/v1/media?select=%2A&source_id=eq.3941289 \"HTTP/1.1 200 OK\"\n",
                        "2023-09-12 20:19:47,214:INFO - HTTP Request: GET https://fpyltvtkpkrkzortucoa.supabase.co/rest/v1/media?select=%2A&source_id=eq.1692701 \"HTTP/1.1 200 OK\"\n",
                        "2023-09-12 20:19:47,284:INFO - HTTP Request: GET https://fpyltvtkpkrkzortucoa.supabase.co/rest/v1/media?select=%2A&source_id=eq.4774631 \"HTTP/1.1 200 OK\"\n"
                    ]
                },
                {
                    "name": "stdout",
                    "output_type": "stream",
                    "text": [
                        "The list is not empty. Stop\n",
                        "The list is not empty. Stop\n",
                        "The list is empty. Proceed\n",
                        "Saved bellydance-club-dance-night-4774631.jpeg to disk.\n"
                    ]
                },
                {
                    "name": "stderr",
                    "output_type": "stream",
                    "text": [
                        "2023-09-12 20:19:47,890:INFO - HTTP Request: POST https://fpyltvtkpkrkzortucoa.supabase.co/storage/v1/object/media/c74d448d-4aa5-429e-ac9c-f8318ba1306e.jpeg \"HTTP/1.1 200 OK\"\n"
                    ]
                },
                {
                    "name": "stdout",
                    "output_type": "stream",
                    "text": [
                        "uploaded\n"
                    ]
                },
                {
                    "name": "stderr",
                    "output_type": "stream",
                    "text": [
                        "2023-09-12 20:19:49,226:INFO - HTTP Request: POST https://fpyltvtkpkrkzortucoa.supabase.co/rest/v1/media \"HTTP/1.1 201 Created\"\n"
                    ]
                },
                {
                    "name": "stdout",
                    "output_type": "stream",
                    "text": [
                        "a group of people standing next to each other\n",
                        "{'dimensions': {'width': 1200, 'height': 630, 'channels': 3}, 'mean_color': (49.406891534391534, 36.79916931216931, 43.07523544973545, 0.0), 'file_size': 56456, 'file_type': 'jpeg'}\n",
                        "Media data updated\n"
                    ]
                },
                {
                    "name": "stderr",
                    "output_type": "stream",
                    "text": [
                        "2023-09-12 20:19:49,664:INFO - HTTP Request: POST https://fpyltvtkpkrkzortucoa.supabase.co/rest/v1/vectors \"HTTP/1.1 201 Created\"\n",
                        "2023-09-12 20:19:49,739:INFO - HTTP Request: PATCH https://fpyltvtkpkrkzortucoa.supabase.co/rest/v1/media?id=eq.359 \"HTTP/1.1 200 OK\"\n"
                    ]
                },
                {
                    "name": "stdout",
                    "output_type": "stream",
                    "text": [
                        "Vector data updated\n",
                        "image processed\n"
                    ]
                },
                {
                    "name": "stderr",
                    "output_type": "stream",
                    "text": [
                        "2023-09-12 20:19:52,845:INFO - HTTP Request: GET https://fpyltvtkpkrkzortucoa.supabase.co/rest/v1/media?select=%2A&source_id=eq.7691440 \"HTTP/1.1 200 OK\"\n"
                    ]
                },
                {
                    "name": "stdout",
                    "output_type": "stream",
                    "text": [
                        "The list is empty. Proceed\n",
                        "Saved pexels-photo-7691440.jpeg to disk.\n"
                    ]
                },
                {
                    "name": "stderr",
                    "output_type": "stream",
                    "text": [
                        "2023-09-12 20:19:53,829:INFO - HTTP Request: POST https://fpyltvtkpkrkzortucoa.supabase.co/storage/v1/object/media/2a18eac1-b899-4fc2-abf5-e7b16bdb5186.jpeg \"HTTP/1.1 200 OK\"\n"
                    ]
                },
                {
                    "name": "stdout",
                    "output_type": "stream",
                    "text": [
                        "uploaded\n"
                    ]
                },
                {
                    "name": "stderr",
                    "output_type": "stream",
                    "text": [
                        "2023-09-12 20:19:55,062:INFO - HTTP Request: POST https://fpyltvtkpkrkzortucoa.supabase.co/rest/v1/media \"HTTP/1.1 201 Created\"\n"
                    ]
                },
                {
                    "name": "stdout",
                    "output_type": "stream",
                    "text": [
                        "a close up of a man's face with holographics on it\n",
                        "{'dimensions': {'width': 1200, 'height': 630, 'channels': 3}, 'mean_color': (38.642219576719576, 54.50243783068783, 69.37003306878307, 0.0), 'file_size': 46275, 'file_type': 'jpeg'}\n",
                        "Media data updated\n"
                    ]
                },
                {
                    "name": "stderr",
                    "output_type": "stream",
                    "text": [
                        "2023-09-12 20:19:55,622:INFO - HTTP Request: POST https://fpyltvtkpkrkzortucoa.supabase.co/rest/v1/vectors \"HTTP/1.1 201 Created\"\n",
                        "2023-09-12 20:19:55,694:INFO - HTTP Request: PATCH https://fpyltvtkpkrkzortucoa.supabase.co/rest/v1/media?id=eq.360 \"HTTP/1.1 200 OK\"\n"
                    ]
                },
                {
                    "name": "stdout",
                    "output_type": "stream",
                    "text": [
                        "Vector data updated\n",
                        "image processed\n"
                    ]
                },
                {
                    "name": "stderr",
                    "output_type": "stream",
                    "text": [
                        "2023-09-12 20:19:58,772:INFO - HTTP Request: GET https://fpyltvtkpkrkzortucoa.supabase.co/rest/v1/media?select=%2A&source_id=eq.9419417 \"HTTP/1.1 200 OK\"\n"
                    ]
                },
                {
                    "name": "stdout",
                    "output_type": "stream",
                    "text": [
                        "The list is empty. Proceed\n",
                        "Saved pexels-photo-9419417.jpeg to disk.\n"
                    ]
                },
                {
                    "name": "stderr",
                    "output_type": "stream",
                    "text": [
                        "2023-09-12 20:19:59,159:INFO - HTTP Request: POST https://fpyltvtkpkrkzortucoa.supabase.co/storage/v1/object/media/4ceabd74-f6cc-4a51-b56a-d48a758e1af7.jpeg \"HTTP/1.1 200 OK\"\n"
                    ]
                },
                {
                    "name": "stdout",
                    "output_type": "stream",
                    "text": [
                        "uploaded\n"
                    ]
                },
                {
                    "name": "stderr",
                    "output_type": "stream",
                    "text": [
                        "2023-09-12 20:20:00,339:INFO - HTTP Request: POST https://fpyltvtkpkrkzortucoa.supabase.co/rest/v1/media \"HTTP/1.1 201 Created\"\n"
                    ]
                },
                {
                    "name": "stdout",
                    "output_type": "stream",
                    "text": [
                        "a person sitting at a table with a glass in front of them\n",
                        "{'dimensions': {'width': 1200, 'height': 630, 'channels': 3}, 'mean_color': (24.356074074074073, 17.772537037037036, 23.15116402116402, 0.0), 'file_size': 30368, 'file_type': 'jpeg'}\n",
                        "Media data updated\n"
                    ]
                },
                {
                    "name": "stderr",
                    "output_type": "stream",
                    "text": [
                        "2023-09-12 20:20:00,844:INFO - HTTP Request: POST https://fpyltvtkpkrkzortucoa.supabase.co/rest/v1/vectors \"HTTP/1.1 201 Created\"\n",
                        "2023-09-12 20:20:00,938:INFO - HTTP Request: PATCH https://fpyltvtkpkrkzortucoa.supabase.co/rest/v1/media?id=eq.361 \"HTTP/1.1 200 OK\"\n"
                    ]
                },
                {
                    "name": "stdout",
                    "output_type": "stream",
                    "text": [
                        "Vector data updated\n",
                        "image processed\n"
                    ]
                },
                {
                    "name": "stderr",
                    "output_type": "stream",
                    "text": [
                        "2023-09-12 20:20:04,047:INFO - HTTP Request: GET https://fpyltvtkpkrkzortucoa.supabase.co/rest/v1/media?select=%2A&source_id=eq.2927943 \"HTTP/1.1 200 OK\"\n"
                    ]
                },
                {
                    "name": "stdout",
                    "output_type": "stream",
                    "text": [
                        "The list is empty. Proceed\n",
                        "Saved free-video-2927943.jpg to disk.\n"
                    ]
                },
                {
                    "name": "stderr",
                    "output_type": "stream",
                    "text": [
                        "2023-09-12 20:20:04,648:INFO - HTTP Request: POST https://fpyltvtkpkrkzortucoa.supabase.co/storage/v1/object/media/b8bee09d-a506-4b71-9867-ad678fe905af.jpg \"HTTP/1.1 200 OK\"\n"
                    ]
                },
                {
                    "name": "stdout",
                    "output_type": "stream",
                    "text": [
                        "uploaded\n"
                    ]
                },
                {
                    "name": "stderr",
                    "output_type": "stream",
                    "text": [
                        "2023-09-12 20:20:06,160:INFO - HTTP Request: POST https://fpyltvtkpkrkzortucoa.supabase.co/rest/v1/media \"HTTP/1.1 201 Created\"\n"
                    ]
                },
                {
                    "name": "stdout",
                    "output_type": "stream",
                    "text": [
                        "a group of people standing around each other\n",
                        "{'dimensions': {'width': 1200, 'height': 630, 'channels': 3}, 'mean_color': (125.49533068783069, 146.91505952380953, 172.47185449735449, 0.0), 'file_size': 112529, 'file_type': 'jpg'}\n",
                        "Media data updated\n"
                    ]
                },
                {
                    "name": "stderr",
                    "output_type": "stream",
                    "text": [
                        "2023-09-12 20:20:07,616:INFO - HTTP Request: POST https://fpyltvtkpkrkzortucoa.supabase.co/rest/v1/vectors \"HTTP/1.1 201 Created\"\n",
                        "2023-09-12 20:20:07,733:INFO - HTTP Request: PATCH https://fpyltvtkpkrkzortucoa.supabase.co/rest/v1/media?id=eq.362 \"HTTP/1.1 200 OK\"\n"
                    ]
                },
                {
                    "name": "stdout",
                    "output_type": "stream",
                    "text": [
                        "Vector data updated\n",
                        "image processed\n"
                    ]
                },
                {
                    "name": "stderr",
                    "output_type": "stream",
                    "text": [
                        "2023-09-12 20:20:10,818:INFO - HTTP Request: GET https://fpyltvtkpkrkzortucoa.supabase.co/rest/v1/media?select=%2A&source_id=eq.7969938 \"HTTP/1.1 200 OK\"\n"
                    ]
                },
                {
                    "name": "stdout",
                    "output_type": "stream",
                    "text": [
                        "The list is empty. Proceed\n",
                        "Saved pexels-photo-7969938.jpeg to disk.\n"
                    ]
                },
                {
                    "name": "stderr",
                    "output_type": "stream",
                    "text": [
                        "2023-09-12 20:20:11,445:INFO - HTTP Request: POST https://fpyltvtkpkrkzortucoa.supabase.co/storage/v1/object/media/40047198-71e2-4c40-951b-f47d816e1d77.jpeg \"HTTP/1.1 200 OK\"\n"
                    ]
                },
                {
                    "name": "stdout",
                    "output_type": "stream",
                    "text": [
                        "uploaded\n"
                    ]
                },
                {
                    "name": "stderr",
                    "output_type": "stream",
                    "text": [
                        "2023-09-12 20:20:13,669:INFO - HTTP Request: POST https://fpyltvtkpkrkzortucoa.supabase.co/rest/v1/media \"HTTP/1.1 201 Created\"\n"
                    ]
                },
                {
                    "name": "stdout",
                    "output_type": "stream",
                    "text": [
                        "a group of young women standing next to each other\n",
                        "{'dimensions': {'width': 1200, 'height': 630, 'channels': 3}, 'mean_color': (83.22344047619048, 86.76906084656085, 101.99974470899471, 0.0), 'file_size': 65721, 'file_type': 'jpeg'}\n",
                        "Media data updated\n"
                    ]
                },
                {
                    "name": "stderr",
                    "output_type": "stream",
                    "text": [
                        "2023-09-12 20:20:14,140:INFO - HTTP Request: POST https://fpyltvtkpkrkzortucoa.supabase.co/rest/v1/vectors \"HTTP/1.1 201 Created\"\n",
                        "2023-09-12 20:20:14,208:INFO - HTTP Request: PATCH https://fpyltvtkpkrkzortucoa.supabase.co/rest/v1/media?id=eq.363 \"HTTP/1.1 200 OK\"\n"
                    ]
                },
                {
                    "name": "stdout",
                    "output_type": "stream",
                    "text": [
                        "Vector data updated\n",
                        "image processed\n"
                    ]
                },
                {
                    "name": "stderr",
                    "output_type": "stream",
                    "text": [
                        "2023-09-12 20:20:17,305:INFO - HTTP Request: GET https://fpyltvtkpkrkzortucoa.supabase.co/rest/v1/media?select=%2A&source_id=eq.4916813 \"HTTP/1.1 200 OK\"\n",
                        "2023-09-12 20:20:17,426:INFO - HTTP Request: GET https://fpyltvtkpkrkzortucoa.supabase.co/rest/v1/media?select=%2A&source_id=eq.3941287 \"HTTP/1.1 200 OK\"\n",
                        "2023-09-12 20:20:17,494:INFO - HTTP Request: GET https://fpyltvtkpkrkzortucoa.supabase.co/rest/v1/media?select=%2A&source_id=eq.2795731 \"HTTP/1.1 200 OK\"\n"
                    ]
                },
                {
                    "name": "stdout",
                    "output_type": "stream",
                    "text": [
                        "The list is not empty. Stop\n",
                        "The list is not empty. Stop\n",
                        "The list is empty. Proceed\n",
                        "Saved free-video-2795731.jpg to disk.\n"
                    ]
                },
                {
                    "name": "stderr",
                    "output_type": "stream",
                    "text": [
                        "2023-09-12 20:20:18,409:INFO - HTTP Request: POST https://fpyltvtkpkrkzortucoa.supabase.co/storage/v1/object/media/795f4d4d-fa2a-44a6-935a-fee9b6cf7832.jpg \"HTTP/1.1 200 OK\"\n"
                    ]
                },
                {
                    "name": "stdout",
                    "output_type": "stream",
                    "text": [
                        "uploaded\n"
                    ]
                },
                {
                    "name": "stderr",
                    "output_type": "stream",
                    "text": [
                        "2023-09-12 20:20:19,557:INFO - HTTP Request: POST https://fpyltvtkpkrkzortucoa.supabase.co/rest/v1/media \"HTTP/1.1 201 Created\"\n"
                    ]
                },
                {
                    "name": "stdout",
                    "output_type": "stream",
                    "text": [
                        "a person standing on a wooden deck near a fence\n",
                        "{'dimensions': {'width': 1200, 'height': 630, 'channels': 3}, 'mean_color': (147.62921957671958, 152.63229365079366, 156.74614417989417, 0.0), 'file_size': 41723, 'file_type': 'jpg'}\n",
                        "Media data updated\n"
                    ]
                },
                {
                    "name": "stderr",
                    "output_type": "stream",
                    "text": [
                        "2023-09-12 20:20:20,390:INFO - HTTP Request: POST https://fpyltvtkpkrkzortucoa.supabase.co/rest/v1/vectors \"HTTP/1.1 201 Created\"\n",
                        "2023-09-12 20:20:20,473:INFO - HTTP Request: PATCH https://fpyltvtkpkrkzortucoa.supabase.co/rest/v1/media?id=eq.364 \"HTTP/1.1 200 OK\"\n"
                    ]
                },
                {
                    "name": "stdout",
                    "output_type": "stream",
                    "text": [
                        "Vector data updated\n",
                        "image processed\n"
                    ]
                },
                {
                    "name": "stderr",
                    "output_type": "stream",
                    "text": [
                        "2023-09-12 20:20:23,563:INFO - HTTP Request: GET https://fpyltvtkpkrkzortucoa.supabase.co/rest/v1/media?select=%2A&source_id=eq.8208010 \"HTTP/1.1 200 OK\"\n"
                    ]
                },
                {
                    "name": "stdout",
                    "output_type": "stream",
                    "text": [
                        "The list is empty. Proceed\n",
                        "Saved pexels-photo-8208010.jpeg to disk.\n"
                    ]
                },
                {
                    "name": "stderr",
                    "output_type": "stream",
                    "text": [
                        "2023-09-12 20:20:24,038:INFO - HTTP Request: POST https://fpyltvtkpkrkzortucoa.supabase.co/storage/v1/object/media/d8e4d0f5-0e30-4308-9ad8-4a8a5535a36d.jpeg \"HTTP/1.1 200 OK\"\n"
                    ]
                },
                {
                    "name": "stdout",
                    "output_type": "stream",
                    "text": [
                        "uploaded\n"
                    ]
                },
                {
                    "name": "stderr",
                    "output_type": "stream",
                    "text": [
                        "2023-09-12 20:20:27,160:INFO - HTTP Request: POST https://fpyltvtkpkrkzortucoa.supabase.co/rest/v1/media \"HTTP/1.1 201 Created\"\n"
                    ]
                },
                {
                    "name": "stdout",
                    "output_type": "stream",
                    "text": [
                        "a group of three women standing next to each other\n",
                        "{'dimensions': {'width': 1200, 'height': 630, 'channels': 3}, 'mean_color': (44.78395767195767, 53.61018783068783, 76.67117724867725, 0.0), 'file_size': 40352, 'file_type': 'jpeg'}\n",
                        "Media data updated\n"
                    ]
                },
                {
                    "name": "stderr",
                    "output_type": "stream",
                    "text": [
                        "2023-09-12 20:20:27,578:INFO - HTTP Request: POST https://fpyltvtkpkrkzortucoa.supabase.co/rest/v1/vectors \"HTTP/1.1 201 Created\"\n",
                        "2023-09-12 20:20:27,692:INFO - HTTP Request: PATCH https://fpyltvtkpkrkzortucoa.supabase.co/rest/v1/media?id=eq.365 \"HTTP/1.1 200 OK\"\n"
                    ]
                },
                {
                    "name": "stdout",
                    "output_type": "stream",
                    "text": [
                        "Vector data updated\n",
                        "image processed\n"
                    ]
                },
                {
                    "name": "stderr",
                    "output_type": "stream",
                    "text": [
                        "2023-09-12 20:20:30,769:INFO - HTTP Request: GET https://fpyltvtkpkrkzortucoa.supabase.co/rest/v1/media?select=%2A&source_id=eq.2795750 \"HTTP/1.1 200 OK\"\n"
                    ]
                },
                {
                    "name": "stdout",
                    "output_type": "stream",
                    "text": [
                        "The list is empty. Proceed\n",
                        "Saved free-video-2795750.jpg to disk.\n"
                    ]
                },
                {
                    "name": "stderr",
                    "output_type": "stream",
                    "text": [
                        "2023-09-12 20:20:31,311:INFO - HTTP Request: POST https://fpyltvtkpkrkzortucoa.supabase.co/storage/v1/object/media/502d5c0c-6abf-4fef-b42f-9ecec10986b8.jpg \"HTTP/1.1 200 OK\"\n"
                    ]
                },
                {
                    "name": "stdout",
                    "output_type": "stream",
                    "text": [
                        "uploaded\n"
                    ]
                },
                {
                    "name": "stderr",
                    "output_type": "stream",
                    "text": [
                        "2023-09-12 20:20:33,230:INFO - HTTP Request: POST https://fpyltvtkpkrkzortucoa.supabase.co/rest/v1/media \"HTTP/1.1 201 Created\"\n"
                    ]
                },
                {
                    "name": "stdout",
                    "output_type": "stream",
                    "text": [
                        "a man standing on top of a roof holding a tennis racquet\n",
                        "{'dimensions': {'width': 1200, 'height': 630, 'channels': 3}, 'mean_color': (131.87388492063494, 133.40594312169313, 132.590414021164, 0.0), 'file_size': 61327, 'file_type': 'jpg'}\n",
                        "Media data updated\n"
                    ]
                },
                {
                    "name": "stderr",
                    "output_type": "stream",
                    "text": [
                        "2023-09-12 20:20:33,702:INFO - HTTP Request: POST https://fpyltvtkpkrkzortucoa.supabase.co/rest/v1/vectors \"HTTP/1.1 201 Created\"\n",
                        "2023-09-12 20:20:33,777:INFO - HTTP Request: PATCH https://fpyltvtkpkrkzortucoa.supabase.co/rest/v1/media?id=eq.366 \"HTTP/1.1 200 OK\"\n"
                    ]
                },
                {
                    "name": "stdout",
                    "output_type": "stream",
                    "text": [
                        "Vector data updated\n",
                        "image processed\n"
                    ]
                },
                {
                    "name": "stderr",
                    "output_type": "stream",
                    "text": [
                        "2023-09-12 20:20:36,877:INFO - HTTP Request: GET https://fpyltvtkpkrkzortucoa.supabase.co/rest/v1/media?select=%2A&source_id=eq.3578236 \"HTTP/1.1 200 OK\"\n"
                    ]
                },
                {
                    "name": "stdout",
                    "output_type": "stream",
                    "text": [
                        "The list is empty. Proceed\n",
                        "Saved free-video-3578236.jpg to disk.\n"
                    ]
                },
                {
                    "name": "stderr",
                    "output_type": "stream",
                    "text": [
                        "2023-09-12 20:20:37,452:INFO - HTTP Request: POST https://fpyltvtkpkrkzortucoa.supabase.co/storage/v1/object/media/2f91fdcb-8f71-49fe-877c-db886598611d.jpg \"HTTP/1.1 200 OK\"\n"
                    ]
                },
                {
                    "name": "stdout",
                    "output_type": "stream",
                    "text": [
                        "uploaded\n"
                    ]
                },
                {
                    "name": "stderr",
                    "output_type": "stream",
                    "text": [
                        "2023-09-12 20:20:38,594:INFO - HTTP Request: POST https://fpyltvtkpkrkzortucoa.supabase.co/rest/v1/media \"HTTP/1.1 201 Created\"\n"
                    ]
                },
                {
                    "name": "stdout",
                    "output_type": "stream",
                    "text": [
                        "a group of people in blue dresses on a stage\n",
                        "{'dimensions': {'width': 1200, 'height': 630, 'channels': 3}, 'mean_color': (28.646445767195768, 20.60833994708995, 4.134761904761905, 0.0), 'file_size': 34048, 'file_type': 'jpg'}\n",
                        "Media data updated\n"
                    ]
                },
                {
                    "name": "stderr",
                    "output_type": "stream",
                    "text": [
                        "2023-09-12 20:20:39,140:INFO - HTTP Request: POST https://fpyltvtkpkrkzortucoa.supabase.co/rest/v1/vectors \"HTTP/1.1 201 Created\"\n",
                        "2023-09-12 20:20:39,215:INFO - HTTP Request: PATCH https://fpyltvtkpkrkzortucoa.supabase.co/rest/v1/media?id=eq.367 \"HTTP/1.1 200 OK\"\n"
                    ]
                },
                {
                    "name": "stdout",
                    "output_type": "stream",
                    "text": [
                        "Vector data updated\n",
                        "image processed\n"
                    ]
                },
                {
                    "name": "stderr",
                    "output_type": "stream",
                    "text": [
                        "2023-09-12 20:20:42,313:INFO - HTTP Request: GET https://fpyltvtkpkrkzortucoa.supabase.co/rest/v1/media?select=%2A&source_id=eq.9003399 \"HTTP/1.1 200 OK\"\n"
                    ]
                },
                {
                    "name": "stdout",
                    "output_type": "stream",
                    "text": [
                        "The list is empty. Proceed\n",
                        "Saved concert-dj-music-nightclub-9003399.jpeg to disk.\n"
                    ]
                },
                {
                    "name": "stderr",
                    "output_type": "stream",
                    "text": [
                        "2023-09-12 20:20:42,714:INFO - HTTP Request: POST https://fpyltvtkpkrkzortucoa.supabase.co/storage/v1/object/media/edb9edf7-928d-481c-9d8d-cc248793182a.jpeg \"HTTP/1.1 200 OK\"\n"
                    ]
                },
                {
                    "name": "stdout",
                    "output_type": "stream",
                    "text": [
                        "uploaded\n"
                    ]
                },
                {
                    "name": "stderr",
                    "output_type": "stream",
                    "text": [
                        "2023-09-12 20:20:44,286:INFO - HTTP Request: POST https://fpyltvtkpkrkzortucoa.supabase.co/rest/v1/media \"HTTP/1.1 201 Created\"\n"
                    ]
                },
                {
                    "name": "stdout",
                    "output_type": "stream",
                    "text": [
                        "a group of people standing around a dj booth\n",
                        "{'dimensions': {'width': 1200, 'height': 630, 'channels': 3}, 'mean_color': (89.76012566137567, 75.867832010582, 102.33991931216931, 0.0), 'file_size': 50096, 'file_type': 'jpeg'}\n",
                        "Media data updated\n"
                    ]
                },
                {
                    "name": "stderr",
                    "output_type": "stream",
                    "text": [
                        "2023-09-12 20:20:44,660:INFO - HTTP Request: POST https://fpyltvtkpkrkzortucoa.supabase.co/rest/v1/vectors \"HTTP/1.1 201 Created\"\n",
                        "2023-09-12 20:20:44,841:INFO - HTTP Request: PATCH https://fpyltvtkpkrkzortucoa.supabase.co/rest/v1/media?id=eq.368 \"HTTP/1.1 200 OK\"\n"
                    ]
                },
                {
                    "name": "stdout",
                    "output_type": "stream",
                    "text": [
                        "Vector data updated\n",
                        "image processed\n"
                    ]
                },
                {
                    "name": "stderr",
                    "output_type": "stream",
                    "text": [
                        "2023-09-12 20:20:47,941:INFO - HTTP Request: GET https://fpyltvtkpkrkzortucoa.supabase.co/rest/v1/media?select=%2A&source_id=eq.3403528 \"HTTP/1.1 200 OK\"\n"
                    ]
                },
                {
                    "name": "stdout",
                    "output_type": "stream",
                    "text": [
                        "The list is empty. Proceed\n",
                        "Saved free-video-3403528.jpg to disk.\n"
                    ]
                },
                {
                    "name": "stderr",
                    "output_type": "stream",
                    "text": [
                        "2023-09-12 20:20:48,515:INFO - HTTP Request: POST https://fpyltvtkpkrkzortucoa.supabase.co/storage/v1/object/media/8c048c67-2034-4022-b9a8-a46d282aa242.jpg \"HTTP/1.1 200 OK\"\n"
                    ]
                },
                {
                    "name": "stdout",
                    "output_type": "stream",
                    "text": [
                        "uploaded\n"
                    ]
                },
                {
                    "name": "stderr",
                    "output_type": "stream",
                    "text": [
                        "2023-09-12 20:20:49,952:INFO - HTTP Request: POST https://fpyltvtkpkrkzortucoa.supabase.co/rest/v1/media \"HTTP/1.1 201 Created\"\n"
                    ]
                },
                {
                    "name": "stdout",
                    "output_type": "stream",
                    "text": [
                        "a dj mixing a record on a turntable\n",
                        "{'dimensions': {'width': 1200, 'height': 630, 'channels': 3}, 'mean_color': (101.63340608465609, 98.50612566137566, 81.11058465608465, 0.0), 'file_size': 109986, 'file_type': 'jpg'}\n",
                        "Media data updated\n"
                    ]
                },
                {
                    "name": "stderr",
                    "output_type": "stream",
                    "text": [
                        "2023-09-12 20:20:50,494:INFO - HTTP Request: POST https://fpyltvtkpkrkzortucoa.supabase.co/rest/v1/vectors \"HTTP/1.1 201 Created\"\n",
                        "2023-09-12 20:20:50,569:INFO - HTTP Request: PATCH https://fpyltvtkpkrkzortucoa.supabase.co/rest/v1/media?id=eq.369 \"HTTP/1.1 200 OK\"\n"
                    ]
                },
                {
                    "name": "stdout",
                    "output_type": "stream",
                    "text": [
                        "Vector data updated\n",
                        "image processed\n"
                    ]
                },
                {
                    "name": "stderr",
                    "output_type": "stream",
                    "text": [
                        "2023-09-12 20:20:53,665:INFO - HTTP Request: GET https://fpyltvtkpkrkzortucoa.supabase.co/rest/v1/media?select=%2A&source_id=eq.5309343 \"HTTP/1.1 200 OK\"\n"
                    ]
                },
                {
                    "name": "stdout",
                    "output_type": "stream",
                    "text": [
                        "The list is empty. Proceed\n",
                        "Saved car-body-car-brand-car-driving-car-enthusiast-5309343.jpeg to disk.\n"
                    ]
                },
                {
                    "name": "stderr",
                    "output_type": "stream",
                    "text": [
                        "2023-09-12 20:20:54,111:INFO - HTTP Request: POST https://fpyltvtkpkrkzortucoa.supabase.co/storage/v1/object/media/45f05cf8-7fa5-47ee-93e0-82f05d86f0fd.jpeg \"HTTP/1.1 200 OK\"\n"
                    ]
                },
                {
                    "name": "stdout",
                    "output_type": "stream",
                    "text": [
                        "uploaded\n"
                    ]
                },
                {
                    "name": "stderr",
                    "output_type": "stream",
                    "text": [
                        "2023-09-12 20:20:55,265:INFO - HTTP Request: POST https://fpyltvtkpkrkzortucoa.supabase.co/rest/v1/media \"HTTP/1.1 201 Created\"\n"
                    ]
                },
                {
                    "name": "stdout",
                    "output_type": "stream",
                    "text": [
                        "a close up of a red and black vehicle\n",
                        "{'dimensions': {'width': 1200, 'height': 630, 'channels': 3}, 'mean_color': (39.45936904761905, 36.55517989417989, 50.45120899470899, 0.0), 'file_size': 34809, 'file_type': 'jpeg'}\n",
                        "Media data updated\n"
                    ]
                },
                {
                    "name": "stderr",
                    "output_type": "stream",
                    "text": [
                        "2023-09-12 20:20:55,657:INFO - HTTP Request: POST https://fpyltvtkpkrkzortucoa.supabase.co/rest/v1/vectors \"HTTP/1.1 201 Created\"\n",
                        "2023-09-12 20:20:55,737:INFO - HTTP Request: PATCH https://fpyltvtkpkrkzortucoa.supabase.co/rest/v1/media?id=eq.370 \"HTTP/1.1 200 OK\"\n"
                    ]
                },
                {
                    "name": "stdout",
                    "output_type": "stream",
                    "text": [
                        "Vector data updated\n",
                        "image processed\n"
                    ]
                },
                {
                    "name": "stderr",
                    "output_type": "stream",
                    "text": [
                        "2023-09-12 20:20:58,829:INFO - HTTP Request: GET https://fpyltvtkpkrkzortucoa.supabase.co/rest/v1/media?select=%2A&source_id=eq.4088836 \"HTTP/1.1 200 OK\"\n",
                        "2023-09-12 20:20:58,902:INFO - HTTP Request: GET https://fpyltvtkpkrkzortucoa.supabase.co/rest/v1/media?select=%2A&source_id=eq.4916733 \"HTTP/1.1 200 OK\"\n",
                        "2023-09-12 20:20:58,965:INFO - HTTP Request: GET https://fpyltvtkpkrkzortucoa.supabase.co/rest/v1/media?select=%2A&source_id=eq.6899905 \"HTTP/1.1 200 OK\"\n"
                    ]
                },
                {
                    "name": "stdout",
                    "output_type": "stream",
                    "text": [
                        "The list is not empty. Stop\n",
                        "The list is not empty. Stop\n",
                        "The list is empty. Proceed\n",
                        "Saved pexels-photo-6899905.jpeg to disk.\n"
                    ]
                },
                {
                    "name": "stderr",
                    "output_type": "stream",
                    "text": [
                        "2023-09-12 20:20:59,465:INFO - HTTP Request: POST https://fpyltvtkpkrkzortucoa.supabase.co/storage/v1/object/media/702c2007-1186-4cfe-8ce2-c2cec9230c17.jpeg \"HTTP/1.1 200 OK\"\n"
                    ]
                },
                {
                    "name": "stdout",
                    "output_type": "stream",
                    "text": [
                        "uploaded\n"
                    ]
                },
                {
                    "name": "stderr",
                    "output_type": "stream",
                    "text": [
                        "2023-09-12 20:21:00,809:INFO - HTTP Request: POST https://fpyltvtkpkrkzortucoa.supabase.co/rest/v1/media \"HTTP/1.1 201 Created\"\n"
                    ]
                },
                {
                    "name": "stdout",
                    "output_type": "stream",
                    "text": [
                        "a red curtain with a black cat sitting on top of it\n",
                        "{'dimensions': {'width': 1200, 'height': 630, 'channels': 3}, 'mean_color': (28.546044973544973, 20.092242063492062, 87.93502777777778, 0.0), 'file_size': 57278, 'file_type': 'jpeg'}\n",
                        "Media data updated\n"
                    ]
                },
                {
                    "name": "stderr",
                    "output_type": "stream",
                    "text": [
                        "2023-09-12 20:21:01,550:INFO - HTTP Request: POST https://fpyltvtkpkrkzortucoa.supabase.co/rest/v1/vectors \"HTTP/1.1 201 Created\"\n",
                        "2023-09-12 20:21:01,624:INFO - HTTP Request: PATCH https://fpyltvtkpkrkzortucoa.supabase.co/rest/v1/media?id=eq.371 \"HTTP/1.1 200 OK\"\n"
                    ]
                },
                {
                    "name": "stdout",
                    "output_type": "stream",
                    "text": [
                        "Vector data updated\n",
                        "image processed\n"
                    ]
                },
                {
                    "name": "stderr",
                    "output_type": "stream",
                    "text": [
                        "2023-09-12 20:21:04,701:INFO - HTTP Request: GET https://fpyltvtkpkrkzortucoa.supabase.co/rest/v1/media?select=%2A&source_id=eq.6899945 \"HTTP/1.1 200 OK\"\n"
                    ]
                },
                {
                    "name": "stdout",
                    "output_type": "stream",
                    "text": [
                        "The list is empty. Proceed\n",
                        "Saved pexels-photo-6899945.jpeg to disk.\n"
                    ]
                },
                {
                    "name": "stderr",
                    "output_type": "stream",
                    "text": [
                        "2023-09-12 20:21:05,412:INFO - HTTP Request: POST https://fpyltvtkpkrkzortucoa.supabase.co/storage/v1/object/media/5093cbd1-f87a-4987-bc5a-09d5ec57e922.jpeg \"HTTP/1.1 200 OK\"\n"
                    ]
                },
                {
                    "name": "stdout",
                    "output_type": "stream",
                    "text": [
                        "uploaded\n"
                    ]
                },
                {
                    "name": "stderr",
                    "output_type": "stream",
                    "text": [
                        "2023-09-12 20:21:06,675:INFO - HTTP Request: POST https://fpyltvtkpkrkzortucoa.supabase.co/rest/v1/media \"HTTP/1.1 201 Created\"\n"
                    ]
                },
                {
                    "name": "stdout",
                    "output_type": "stream",
                    "text": [
                        "a man standing in front of a window with candles in the background\n",
                        "{'dimensions': {'width': 1200, 'height': 630, 'channels': 3}, 'mean_color': (46.715842592592594, 43.67999338624339, 43.927277777777775, 0.0), 'file_size': 48333, 'file_type': 'jpeg'}\n",
                        "Media data updated\n"
                    ]
                },
                {
                    "name": "stderr",
                    "output_type": "stream",
                    "text": [
                        "2023-09-12 20:21:07,307:INFO - HTTP Request: POST https://fpyltvtkpkrkzortucoa.supabase.co/rest/v1/vectors \"HTTP/1.1 201 Created\"\n",
                        "2023-09-12 20:21:07,404:INFO - HTTP Request: PATCH https://fpyltvtkpkrkzortucoa.supabase.co/rest/v1/media?id=eq.372 \"HTTP/1.1 200 OK\"\n"
                    ]
                },
                {
                    "name": "stdout",
                    "output_type": "stream",
                    "text": [
                        "Vector data updated\n",
                        "image processed\n"
                    ]
                },
                {
                    "name": "stderr",
                    "output_type": "stream",
                    "text": [
                        "2023-09-12 20:21:10,473:INFO - HTTP Request: GET https://fpyltvtkpkrkzortucoa.supabase.co/rest/v1/media?select=%2A&source_id=eq.6274579 \"HTTP/1.1 200 OK\"\n",
                        "2023-09-12 20:21:10,539:INFO - HTTP Request: GET https://fpyltvtkpkrkzortucoa.supabase.co/rest/v1/media?select=%2A&source_id=eq.14524402 \"HTTP/1.1 200 OK\"\n"
                    ]
                },
                {
                    "name": "stdout",
                    "output_type": "stream",
                    "text": [
                        "The list is not empty. Stop\n",
                        "The list is empty. Proceed\n",
                        "Saved adult-ball-candle-celebration-14524402.jpeg to disk.\n"
                    ]
                },
                {
                    "name": "stderr",
                    "output_type": "stream",
                    "text": [
                        "2023-09-12 20:21:11,144:INFO - HTTP Request: POST https://fpyltvtkpkrkzortucoa.supabase.co/storage/v1/object/media/76dcaddc-afb0-4406-8245-d980c843bb9b.jpeg \"HTTP/1.1 200 OK\"\n"
                    ]
                },
                {
                    "name": "stdout",
                    "output_type": "stream",
                    "text": [
                        "uploaded\n"
                    ]
                },
                {
                    "name": "stderr",
                    "output_type": "stream",
                    "text": [
                        "2023-09-12 20:21:12,591:INFO - HTTP Request: POST https://fpyltvtkpkrkzortucoa.supabase.co/rest/v1/media \"HTTP/1.1 201 Created\"\n"
                    ]
                },
                {
                    "name": "stdout",
                    "output_type": "stream",
                    "text": [
                        "a man standing in front of a firework display\n",
                        "{'dimensions': {'width': 1200, 'height': 630, 'channels': 3}, 'mean_color': (20.497777777777777, 31.582010582010582, 37.89698544973545, 0.0), 'file_size': 96717, 'file_type': 'jpeg'}\n",
                        "Media data updated\n"
                    ]
                },
                {
                    "name": "stderr",
                    "output_type": "stream",
                    "text": [
                        "2023-09-12 20:21:13,074:INFO - HTTP Request: POST https://fpyltvtkpkrkzortucoa.supabase.co/rest/v1/vectors \"HTTP/1.1 201 Created\"\n",
                        "2023-09-12 20:21:13,169:INFO - HTTP Request: PATCH https://fpyltvtkpkrkzortucoa.supabase.co/rest/v1/media?id=eq.373 \"HTTP/1.1 200 OK\"\n"
                    ]
                },
                {
                    "name": "stdout",
                    "output_type": "stream",
                    "text": [
                        "Vector data updated\n",
                        "image processed\n"
                    ]
                },
                {
                    "name": "stderr",
                    "output_type": "stream",
                    "text": [
                        "2023-09-12 20:21:16,266:INFO - HTTP Request: GET https://fpyltvtkpkrkzortucoa.supabase.co/rest/v1/media?select=%2A&source_id=eq.10570816 \"HTTP/1.1 200 OK\"\n"
                    ]
                },
                {
                    "name": "stdout",
                    "output_type": "stream",
                    "text": [
                        "The list is empty. Proceed\n",
                        "Saved pexels-photo-10570816.jpeg to disk.\n"
                    ]
                },
                {
                    "name": "stderr",
                    "output_type": "stream",
                    "text": [
                        "2023-09-12 20:21:16,896:INFO - HTTP Request: POST https://fpyltvtkpkrkzortucoa.supabase.co/storage/v1/object/media/bf89711c-de43-42bc-be4e-63abd1f3d44a.jpeg \"HTTP/1.1 200 OK\"\n"
                    ]
                },
                {
                    "name": "stdout",
                    "output_type": "stream",
                    "text": [
                        "uploaded\n"
                    ]
                },
                {
                    "name": "stderr",
                    "output_type": "stream",
                    "text": [
                        "2023-09-12 20:21:18,198:INFO - HTTP Request: POST https://fpyltvtkpkrkzortucoa.supabase.co/rest/v1/media \"HTTP/1.1 201 Created\"\n"
                    ]
                },
                {
                    "name": "stdout",
                    "output_type": "stream",
                    "text": [
                        "a man standing in a field with her arms up in the air\n",
                        "{'dimensions': {'width': 1200, 'height': 630, 'channels': 3}, 'mean_color': (75.99874074074074, 76.31562433862435, 79.38230158730158, 0.0), 'file_size': 66322, 'file_type': 'jpeg'}\n",
                        "Media data updated\n"
                    ]
                },
                {
                    "name": "stderr",
                    "output_type": "stream",
                    "text": [
                        "2023-09-12 20:21:18,657:INFO - HTTP Request: POST https://fpyltvtkpkrkzortucoa.supabase.co/rest/v1/vectors \"HTTP/1.1 201 Created\"\n",
                        "2023-09-12 20:21:18,764:INFO - HTTP Request: PATCH https://fpyltvtkpkrkzortucoa.supabase.co/rest/v1/media?id=eq.374 \"HTTP/1.1 200 OK\"\n"
                    ]
                },
                {
                    "name": "stdout",
                    "output_type": "stream",
                    "text": [
                        "Vector data updated\n",
                        "image processed\n"
                    ]
                },
                {
                    "name": "stderr",
                    "output_type": "stream",
                    "text": [
                        "2023-09-12 20:21:21,837:INFO - HTTP Request: GET https://fpyltvtkpkrkzortucoa.supabase.co/rest/v1/media?select=%2A&source_id=eq.7691438 \"HTTP/1.1 200 OK\"\n"
                    ]
                },
                {
                    "name": "stdout",
                    "output_type": "stream",
                    "text": [
                        "The list is empty. Proceed\n",
                        "Saved pexels-photo-7691438.jpeg to disk.\n"
                    ]
                },
                {
                    "name": "stderr",
                    "output_type": "stream",
                    "text": [
                        "2023-09-12 20:21:22,480:INFO - HTTP Request: POST https://fpyltvtkpkrkzortucoa.supabase.co/storage/v1/object/media/5a291fc6-398e-49a9-99a2-fb9a99eed61b.jpeg \"HTTP/1.1 200 OK\"\n"
                    ]
                },
                {
                    "name": "stdout",
                    "output_type": "stream",
                    "text": [
                        "uploaded\n"
                    ]
                },
                {
                    "name": "stderr",
                    "output_type": "stream",
                    "text": [
                        "2023-09-12 20:21:23,700:INFO - HTTP Request: POST https://fpyltvtkpkrkzortucoa.supabase.co/rest/v1/media \"HTTP/1.1 201 Created\"\n"
                    ]
                },
                {
                    "name": "stdout",
                    "output_type": "stream",
                    "text": [
                        "a person's hand holding something in the air\n",
                        "{'dimensions': {'width': 1200, 'height': 630, 'channels': 3}, 'mean_color': (25.756828042328042, 37.98832275132275, 52.68315211640212, 0.0), 'file_size': 25493, 'file_type': 'jpeg'}\n",
                        "Media data updated\n"
                    ]
                },
                {
                    "name": "stderr",
                    "output_type": "stream",
                    "text": [
                        "2023-09-12 20:21:24,087:INFO - HTTP Request: POST https://fpyltvtkpkrkzortucoa.supabase.co/rest/v1/vectors \"HTTP/1.1 201 Created\"\n",
                        "2023-09-12 20:21:24,181:INFO - HTTP Request: PATCH https://fpyltvtkpkrkzortucoa.supabase.co/rest/v1/media?id=eq.375 \"HTTP/1.1 200 OK\"\n"
                    ]
                },
                {
                    "name": "stdout",
                    "output_type": "stream",
                    "text": [
                        "Vector data updated\n",
                        "image processed\n"
                    ]
                },
                {
                    "name": "stderr",
                    "output_type": "stream",
                    "text": [
                        "2023-09-12 20:21:27,257:INFO - HTTP Request: GET https://fpyltvtkpkrkzortucoa.supabase.co/rest/v1/media?select=%2A&source_id=eq.9419432 \"HTTP/1.1 200 OK\"\n"
                    ]
                },
                {
                    "name": "stdout",
                    "output_type": "stream",
                    "text": [
                        "The list is empty. Proceed\n",
                        "Saved pexels-photo-9419432.jpeg to disk.\n"
                    ]
                },
                {
                    "name": "stderr",
                    "output_type": "stream",
                    "text": [
                        "2023-09-12 20:21:27,663:INFO - HTTP Request: POST https://fpyltvtkpkrkzortucoa.supabase.co/storage/v1/object/media/60130e27-d0cd-48d7-b933-8e688bccf73b.jpeg \"HTTP/1.1 200 OK\"\n"
                    ]
                },
                {
                    "name": "stdout",
                    "output_type": "stream",
                    "text": [
                        "uploaded\n"
                    ]
                },
                {
                    "name": "stderr",
                    "output_type": "stream",
                    "text": [
                        "2023-09-12 20:21:28,800:INFO - HTTP Request: POST https://fpyltvtkpkrkzortucoa.supabase.co/rest/v1/media \"HTTP/1.1 201 Created\"\n"
                    ]
                },
                {
                    "name": "stdout",
                    "output_type": "stream",
                    "text": [
                        "a man smoking a cigarette in front of a man\n",
                        "{'dimensions': {'width': 1200, 'height': 630, 'channels': 3}, 'mean_color': (69.42548148148148, 59.78092063492063, 65.98370634920634, 0.0), 'file_size': 26312, 'file_type': 'jpeg'}\n",
                        "Media data updated\n"
                    ]
                },
                {
                    "name": "stderr",
                    "output_type": "stream",
                    "text": [
                        "2023-09-12 20:21:29,189:INFO - HTTP Request: POST https://fpyltvtkpkrkzortucoa.supabase.co/rest/v1/vectors \"HTTP/1.1 201 Created\"\n",
                        "2023-09-12 20:21:29,271:INFO - HTTP Request: PATCH https://fpyltvtkpkrkzortucoa.supabase.co/rest/v1/media?id=eq.376 \"HTTP/1.1 200 OK\"\n"
                    ]
                },
                {
                    "name": "stdout",
                    "output_type": "stream",
                    "text": [
                        "Vector data updated\n",
                        "image processed\n"
                    ]
                },
                {
                    "name": "stderr",
                    "output_type": "stream",
                    "text": [
                        "2023-09-12 20:21:32,397:INFO - HTTP Request: GET https://fpyltvtkpkrkzortucoa.supabase.co/rest/v1/media?select=%2A&source_id=eq.7270102 \"HTTP/1.1 200 OK\"\n"
                    ]
                },
                {
                    "name": "stdout",
                    "output_type": "stream",
                    "text": [
                        "The list is not empty. Stop\n"
                    ]
                },
                {
                    "name": "stderr",
                    "output_type": "stream",
                    "text": [
                        "2023-09-12 20:21:33,029:INFO - HTTP Request: GET https://fpyltvtkpkrkzortucoa.supabase.co/rest/v1/media?select=%2A&source_id=eq.7849228 \"HTTP/1.1 200 OK\"\n"
                    ]
                },
                {
                    "name": "stdout",
                    "output_type": "stream",
                    "text": [
                        "The list is empty. Proceed\n",
                        "Saved pexels-photo-7849228.jpeg to disk.\n"
                    ]
                },
                {
                    "name": "stderr",
                    "output_type": "stream",
                    "text": [
                        "2023-09-12 20:21:33,548:INFO - HTTP Request: POST https://fpyltvtkpkrkzortucoa.supabase.co/storage/v1/object/media/6f22f8d8-18f1-4119-b4d7-7b4dd5e4d70a.jpeg \"HTTP/1.1 200 OK\"\n"
                    ]
                },
                {
                    "name": "stdout",
                    "output_type": "stream",
                    "text": [
                        "uploaded\n",
                        "a group of people sitting in front of computer monitors\n",
                        "{'dimensions': {'width': 1200, 'height': 630, 'channels': 3}, 'mean_color': (54.29362037037037, 50.74473412698413, 42.273920634920636, 0.0), 'file_size': 61147, 'file_type': 'jpeg'}\n"
                    ]
                },
                {
                    "name": "stderr",
                    "output_type": "stream",
                    "text": [
                        "2023-09-12 20:21:35,413:INFO - HTTP Request: POST https://fpyltvtkpkrkzortucoa.supabase.co/rest/v1/media \"HTTP/1.1 201 Created\"\n"
                    ]
                },
                {
                    "name": "stdout",
                    "output_type": "stream",
                    "text": [
                        "Media data updated\n"
                    ]
                },
                {
                    "name": "stderr",
                    "output_type": "stream",
                    "text": [
                        "2023-09-12 20:21:35,827:INFO - HTTP Request: POST https://fpyltvtkpkrkzortucoa.supabase.co/rest/v1/vectors \"HTTP/1.1 201 Created\"\n",
                        "2023-09-12 20:21:35,909:INFO - HTTP Request: PATCH https://fpyltvtkpkrkzortucoa.supabase.co/rest/v1/media?id=eq.377 \"HTTP/1.1 200 OK\"\n"
                    ]
                },
                {
                    "name": "stdout",
                    "output_type": "stream",
                    "text": [
                        "Vector data updated\n",
                        "image processed\n"
                    ]
                },
                {
                    "name": "stderr",
                    "output_type": "stream",
                    "text": [
                        "2023-09-12 20:21:39,002:INFO - HTTP Request: GET https://fpyltvtkpkrkzortucoa.supabase.co/rest/v1/media?select=%2A&source_id=eq.8059254 \"HTTP/1.1 200 OK\"\n"
                    ]
                },
                {
                    "name": "stdout",
                    "output_type": "stream",
                    "text": [
                        "The list is empty. Proceed\n",
                        "Saved pexels-photo-8059254.jpeg to disk.\n"
                    ]
                },
                {
                    "name": "stderr",
                    "output_type": "stream",
                    "text": [
                        "2023-09-12 20:21:39,405:INFO - HTTP Request: POST https://fpyltvtkpkrkzortucoa.supabase.co/storage/v1/object/media/0cc450b0-e47c-4f68-8692-9b0f14b4bf44.jpeg \"HTTP/1.1 200 OK\"\n"
                    ]
                },
                {
                    "name": "stdout",
                    "output_type": "stream",
                    "text": [
                        "uploaded\n"
                    ]
                },
                {
                    "name": "stderr",
                    "output_type": "stream",
                    "text": [
                        "2023-09-12 20:21:40,683:INFO - HTTP Request: POST https://fpyltvtkpkrkzortucoa.supabase.co/rest/v1/media \"HTTP/1.1 201 Created\"\n"
                    ]
                },
                {
                    "name": "stdout",
                    "output_type": "stream",
                    "text": [
                        "a couple of people standing next to each other\n",
                        "{'dimensions': {'width': 1200, 'height': 630, 'channels': 3}, 'mean_color': (67.16956481481482, 19.90205687830688, 34.47331481481481, 0.0), 'file_size': 44960, 'file_type': 'jpeg'}\n",
                        "Media data updated\n"
                    ]
                },
                {
                    "name": "stderr",
                    "output_type": "stream",
                    "text": [
                        "2023-09-12 20:21:41,182:INFO - HTTP Request: POST https://fpyltvtkpkrkzortucoa.supabase.co/rest/v1/vectors \"HTTP/1.1 201 Created\"\n",
                        "2023-09-12 20:21:41,258:INFO - HTTP Request: PATCH https://fpyltvtkpkrkzortucoa.supabase.co/rest/v1/media?id=eq.378 \"HTTP/1.1 200 OK\"\n"
                    ]
                },
                {
                    "name": "stdout",
                    "output_type": "stream",
                    "text": [
                        "Vector data updated\n",
                        "image processed\n"
                    ]
                },
                {
                    "name": "stderr",
                    "output_type": "stream",
                    "text": [
                        "2023-09-12 20:21:44,349:INFO - HTTP Request: GET https://fpyltvtkpkrkzortucoa.supabase.co/rest/v1/media?select=%2A&source_id=eq.7199216 \"HTTP/1.1 200 OK\"\n"
                    ]
                },
                {
                    "name": "stdout",
                    "output_type": "stream",
                    "text": [
                        "The list is empty. Proceed\n",
                        "Saved adolescent-adult-battle-blond-7199216.jpeg to disk.\n"
                    ]
                },
                {
                    "name": "stderr",
                    "output_type": "stream",
                    "text": [
                        "2023-09-12 20:21:44,935:INFO - HTTP Request: POST https://fpyltvtkpkrkzortucoa.supabase.co/storage/v1/object/media/a1e8a09d-ee7e-4ebf-ab59-222b5948dac2.jpeg \"HTTP/1.1 200 OK\"\n"
                    ]
                },
                {
                    "name": "stdout",
                    "output_type": "stream",
                    "text": [
                        "uploaded\n"
                    ]
                },
                {
                    "name": "stderr",
                    "output_type": "stream",
                    "text": [
                        "2023-09-12 20:21:46,277:INFO - HTTP Request: POST https://fpyltvtkpkrkzortucoa.supabase.co/rest/v1/media \"HTTP/1.1 201 Created\"\n"
                    ]
                },
                {
                    "name": "stdout",
                    "output_type": "stream",
                    "text": [
                        "a group of women sitting around each other\n",
                        "{'dimensions': {'width': 1200, 'height': 630, 'channels': 3}, 'mean_color': (86.50210582010583, 91.17008465608465, 101.49694444444445, 0.0), 'file_size': 64958, 'file_type': 'jpeg'}\n",
                        "Media data updated\n"
                    ]
                },
                {
                    "name": "stderr",
                    "output_type": "stream",
                    "text": [
                        "2023-09-12 20:21:47,115:INFO - HTTP Request: POST https://fpyltvtkpkrkzortucoa.supabase.co/rest/v1/vectors \"HTTP/1.1 201 Created\"\n",
                        "2023-09-12 20:21:47,204:INFO - HTTP Request: PATCH https://fpyltvtkpkrkzortucoa.supabase.co/rest/v1/media?id=eq.379 \"HTTP/1.1 200 OK\"\n"
                    ]
                },
                {
                    "name": "stdout",
                    "output_type": "stream",
                    "text": [
                        "Vector data updated\n",
                        "image processed\n"
                    ]
                },
                {
                    "name": "stderr",
                    "output_type": "stream",
                    "text": [
                        "2023-09-12 20:21:50,287:INFO - HTTP Request: GET https://fpyltvtkpkrkzortucoa.supabase.co/rest/v1/media?select=%2A&source_id=eq.7583641 \"HTTP/1.1 200 OK\"\n"
                    ]
                },
                {
                    "name": "stdout",
                    "output_type": "stream",
                    "text": [
                        "The list is empty. Proceed\n",
                        "Saved abstract-academy-access-adult-7583641.jpeg to disk.\n"
                    ]
                },
                {
                    "name": "stderr",
                    "output_type": "stream",
                    "text": [
                        "2023-09-12 20:21:50,875:INFO - HTTP Request: POST https://fpyltvtkpkrkzortucoa.supabase.co/storage/v1/object/media/90d09edc-074e-4d0b-9349-0c348e419cbf.jpeg \"HTTP/1.1 200 OK\"\n"
                    ]
                },
                {
                    "name": "stdout",
                    "output_type": "stream",
                    "text": [
                        "uploaded\n"
                    ]
                },
                {
                    "name": "stderr",
                    "output_type": "stream",
                    "text": [
                        "2023-09-12 20:21:52,236:INFO - HTTP Request: POST https://fpyltvtkpkrkzortucoa.supabase.co/rest/v1/media \"HTTP/1.1 201 Created\"\n"
                    ]
                },
                {
                    "name": "stdout",
                    "output_type": "stream",
                    "text": [
                        "a man in a suit looking at a piece of paper\n",
                        "{'dimensions': {'width': 1200, 'height': 630, 'channels': 3}, 'mean_color': (69.32988492063492, 84.93894444444445, 99.51258862433862, 0.0), 'file_size': 68375, 'file_type': 'jpeg'}\n",
                        "Media data updated\n"
                    ]
                },
                {
                    "name": "stderr",
                    "output_type": "stream",
                    "text": [
                        "2023-09-12 20:21:52,655:INFO - HTTP Request: POST https://fpyltvtkpkrkzortucoa.supabase.co/rest/v1/vectors \"HTTP/1.1 201 Created\"\n",
                        "2023-09-12 20:21:52,735:INFO - HTTP Request: PATCH https://fpyltvtkpkrkzortucoa.supabase.co/rest/v1/media?id=eq.380 \"HTTP/1.1 200 OK\"\n"
                    ]
                },
                {
                    "name": "stdout",
                    "output_type": "stream",
                    "text": [
                        "Vector data updated\n",
                        "image processed\n"
                    ]
                },
                {
                    "name": "stderr",
                    "output_type": "stream",
                    "text": [
                        "2023-09-12 20:21:55,818:INFO - HTTP Request: GET https://fpyltvtkpkrkzortucoa.supabase.co/rest/v1/media?select=%2A&source_id=eq.6889284 \"HTTP/1.1 200 OK\"\n"
                    ]
                },
                {
                    "name": "stdout",
                    "output_type": "stream",
                    "text": [
                        "The list is empty. Proceed\n",
                        "Saved pexels-photo-6889284.jpeg to disk.\n"
                    ]
                },
                {
                    "name": "stderr",
                    "output_type": "stream",
                    "text": [
                        "2023-09-12 20:21:56,610:INFO - HTTP Request: POST https://fpyltvtkpkrkzortucoa.supabase.co/storage/v1/object/media/996de35e-89ed-4cd0-b564-401acb84bb9d.jpeg \"HTTP/1.1 200 OK\"\n"
                    ]
                },
                {
                    "name": "stdout",
                    "output_type": "stream",
                    "text": [
                        "uploaded\n"
                    ]
                },
                {
                    "name": "stderr",
                    "output_type": "stream",
                    "text": [
                        "2023-09-12 20:21:57,943:INFO - HTTP Request: POST https://fpyltvtkpkrkzortucoa.supabase.co/rest/v1/media \"HTTP/1.1 201 Created\"\n"
                    ]
                },
                {
                    "name": "stdout",
                    "output_type": "stream",
                    "text": [
                        "a man sitting at a table with a laptop\n",
                        "{'dimensions': {'width': 1200, 'height': 630, 'channels': 3}, 'mean_color': (142.79729232804232, 136.04642063492062, 135.40997222222222, 0.0), 'file_size': 60772, 'file_type': 'jpeg'}\n",
                        "Media data updated\n"
                    ]
                },
                {
                    "name": "stderr",
                    "output_type": "stream",
                    "text": [
                        "2023-09-12 20:21:58,776:INFO - HTTP Request: POST https://fpyltvtkpkrkzortucoa.supabase.co/rest/v1/vectors \"HTTP/1.1 201 Created\"\n",
                        "2023-09-12 20:21:58,851:INFO - HTTP Request: PATCH https://fpyltvtkpkrkzortucoa.supabase.co/rest/v1/media?id=eq.381 \"HTTP/1.1 200 OK\"\n"
                    ]
                },
                {
                    "name": "stdout",
                    "output_type": "stream",
                    "text": [
                        "Vector data updated\n",
                        "image processed\n"
                    ]
                },
                {
                    "name": "stderr",
                    "output_type": "stream",
                    "text": [
                        "2023-09-12 20:22:01,971:INFO - HTTP Request: GET https://fpyltvtkpkrkzortucoa.supabase.co/rest/v1/media?select=%2A&source_id=eq.6930837 \"HTTP/1.1 200 OK\"\n"
                    ]
                },
                {
                    "name": "stdout",
                    "output_type": "stream",
                    "text": [
                        "The list is empty. Proceed\n",
                        "Saved accounting-afro-angry-architect-6930837.jpeg to disk.\n"
                    ]
                },
                {
                    "name": "stderr",
                    "output_type": "stream",
                    "text": [
                        "2023-09-12 20:22:02,651:INFO - HTTP Request: POST https://fpyltvtkpkrkzortucoa.supabase.co/storage/v1/object/media/9407bbba-0b80-4ec0-b075-e0b31c3b2685.jpeg \"HTTP/1.1 200 OK\"\n"
                    ]
                },
                {
                    "name": "stdout",
                    "output_type": "stream",
                    "text": [
                        "uploaded\n"
                    ]
                },
                {
                    "name": "stderr",
                    "output_type": "stream",
                    "text": [
                        "2023-09-12 20:22:03,768:INFO - HTTP Request: POST https://fpyltvtkpkrkzortucoa.supabase.co/rest/v1/media \"HTTP/1.1 201 Created\"\n"
                    ]
                },
                {
                    "name": "stdout",
                    "output_type": "stream",
                    "text": [
                        "a man and a man sitting at a table looking at a cell phone\n",
                        "{'dimensions': {'width': 1200, 'height': 630, 'channels': 3}, 'mean_color': (158.29810582010583, 152.47001322751322, 154.01535052910054, 0.0), 'file_size': 42599, 'file_type': 'jpeg'}\n",
                        "Media data updated\n"
                    ]
                },
                {
                    "name": "stderr",
                    "output_type": "stream",
                    "text": [
                        "2023-09-12 20:22:04,191:INFO - HTTP Request: POST https://fpyltvtkpkrkzortucoa.supabase.co/rest/v1/vectors \"HTTP/1.1 201 Created\"\n",
                        "2023-09-12 20:22:04,295:INFO - HTTP Request: PATCH https://fpyltvtkpkrkzortucoa.supabase.co/rest/v1/media?id=eq.382 \"HTTP/1.1 200 OK\"\n"
                    ]
                },
                {
                    "name": "stdout",
                    "output_type": "stream",
                    "text": [
                        "Vector data updated\n",
                        "image processed\n"
                    ]
                },
                {
                    "name": "stderr",
                    "output_type": "stream",
                    "text": [
                        "2023-09-12 20:22:07,372:INFO - HTTP Request: GET https://fpyltvtkpkrkzortucoa.supabase.co/rest/v1/media?select=%2A&source_id=eq.7583642 \"HTTP/1.1 200 OK\"\n"
                    ]
                },
                {
                    "name": "stdout",
                    "output_type": "stream",
                    "text": [
                        "The list is empty. Proceed\n",
                        "Saved abstract-academy-access-administration-7583642.jpeg to disk.\n"
                    ]
                },
                {
                    "name": "stderr",
                    "output_type": "stream",
                    "text": [
                        "2023-09-12 20:22:07,896:INFO - HTTP Request: POST https://fpyltvtkpkrkzortucoa.supabase.co/storage/v1/object/media/86aebcb0-cd63-47a0-945c-8b2cd5ac474f.jpeg \"HTTP/1.1 200 OK\"\n"
                    ]
                },
                {
                    "name": "stdout",
                    "output_type": "stream",
                    "text": [
                        "uploaded\n"
                    ]
                },
                {
                    "name": "stderr",
                    "output_type": "stream",
                    "text": [
                        "2023-09-12 20:22:09,276:INFO - HTTP Request: POST https://fpyltvtkpkrkzortucoa.supabase.co/rest/v1/media \"HTTP/1.1 201 Created\"\n"
                    ]
                },
                {
                    "name": "stdout",
                    "output_type": "stream",
                    "text": [
                        "a man in a suit holding a book in front of a laptop\n",
                        "{'dimensions': {'width': 1200, 'height': 630, 'channels': 3}, 'mean_color': (67.87890740740741, 85.40723148148149, 104.39050661375661, 0.0), 'file_size': 48023, 'file_type': 'jpeg'}\n",
                        "Media data updated\n"
                    ]
                },
                {
                    "name": "stderr",
                    "output_type": "stream",
                    "text": [
                        "2023-09-12 20:22:09,742:INFO - HTTP Request: POST https://fpyltvtkpkrkzortucoa.supabase.co/rest/v1/vectors \"HTTP/1.1 201 Created\"\n",
                        "2023-09-12 20:22:09,809:INFO - HTTP Request: PATCH https://fpyltvtkpkrkzortucoa.supabase.co/rest/v1/media?id=eq.383 \"HTTP/1.1 200 OK\"\n"
                    ]
                },
                {
                    "name": "stdout",
                    "output_type": "stream",
                    "text": [
                        "Vector data updated\n",
                        "image processed\n"
                    ]
                },
                {
                    "name": "stderr",
                    "output_type": "stream",
                    "text": [
                        "2023-09-12 20:22:12,953:INFO - HTTP Request: GET https://fpyltvtkpkrkzortucoa.supabase.co/rest/v1/media?select=%2A&source_id=eq.7227053 \"HTTP/1.1 200 OK\"\n"
                    ]
                },
                {
                    "name": "stdout",
                    "output_type": "stream",
                    "text": [
                        "The list is empty. Proceed\n",
                        "Saved adult-african-african-american-apartment-7227053.jpeg to disk.\n"
                    ]
                },
                {
                    "name": "stderr",
                    "output_type": "stream",
                    "text": [
                        "2023-09-12 20:22:13,677:INFO - HTTP Request: POST https://fpyltvtkpkrkzortucoa.supabase.co/storage/v1/object/media/2c5629b1-aa86-42e7-90bf-3ab145d4a1e3.jpeg \"HTTP/1.1 200 OK\"\n"
                    ]
                },
                {
                    "name": "stdout",
                    "output_type": "stream",
                    "text": [
                        "uploaded\n"
                    ]
                },
                {
                    "name": "stderr",
                    "output_type": "stream",
                    "text": [
                        "2023-09-12 20:22:15,167:INFO - HTTP Request: POST https://fpyltvtkpkrkzortucoa.supabase.co/rest/v1/media \"HTTP/1.1 201 Created\"\n"
                    ]
                },
                {
                    "name": "stdout",
                    "output_type": "stream",
                    "text": [
                        "two people sitting on a couch in a living room\n",
                        "{'dimensions': {'width': 1200, 'height': 630, 'channels': 3}, 'mean_color': (125.61956481481482, 140.88403439153439, 149.7859246031746, 0.0), 'file_size': 84488, 'file_type': 'jpeg'}\n",
                        "Media data updated\n"
                    ]
                },
                {
                    "name": "stderr",
                    "output_type": "stream",
                    "text": [
                        "2023-09-12 20:22:15,612:INFO - HTTP Request: POST https://fpyltvtkpkrkzortucoa.supabase.co/rest/v1/vectors \"HTTP/1.1 201 Created\"\n",
                        "2023-09-12 20:22:15,695:INFO - HTTP Request: PATCH https://fpyltvtkpkrkzortucoa.supabase.co/rest/v1/media?id=eq.384 \"HTTP/1.1 200 OK\"\n"
                    ]
                },
                {
                    "name": "stdout",
                    "output_type": "stream",
                    "text": [
                        "Vector data updated\n",
                        "image processed\n"
                    ]
                },
                {
                    "name": "stderr",
                    "output_type": "stream",
                    "text": [
                        "2023-09-12 20:22:18,769:INFO - HTTP Request: GET https://fpyltvtkpkrkzortucoa.supabase.co/rest/v1/media?select=%2A&source_id=eq.4052811 \"HTTP/1.1 200 OK\"\n"
                    ]
                },
                {
                    "name": "stdout",
                    "output_type": "stream",
                    "text": [
                        "The list is empty. Proceed\n",
                        "Saved pexels-photo-4052811.jpeg to disk.\n"
                    ]
                },
                {
                    "name": "stderr",
                    "output_type": "stream",
                    "text": [
                        "2023-09-12 20:22:19,364:INFO - HTTP Request: POST https://fpyltvtkpkrkzortucoa.supabase.co/storage/v1/object/media/b524a3de-1d43-4f52-afc6-ba0f2c7d70f0.jpeg \"HTTP/1.1 200 OK\"\n"
                    ]
                },
                {
                    "name": "stdout",
                    "output_type": "stream",
                    "text": [
                        "uploaded\n"
                    ]
                },
                {
                    "name": "stderr",
                    "output_type": "stream",
                    "text": [
                        "2023-09-12 20:22:20,717:INFO - HTTP Request: POST https://fpyltvtkpkrkzortucoa.supabase.co/rest/v1/media \"HTTP/1.1 201 Created\"\n"
                    ]
                },
                {
                    "name": "stdout",
                    "output_type": "stream",
                    "text": [
                        "a man sitting on a couch using a laptop computer\n",
                        "{'dimensions': {'width': 1200, 'height': 630, 'channels': 3}, 'mean_color': (55.65446428571428, 58.70851719576719, 66.55329365079365, 0.0), 'file_size': 53374, 'file_type': 'jpeg'}\n",
                        "Media data updated\n"
                    ]
                },
                {
                    "name": "stderr",
                    "output_type": "stream",
                    "text": [
                        "2023-09-12 20:22:21,068:INFO - HTTP Request: POST https://fpyltvtkpkrkzortucoa.supabase.co/rest/v1/vectors \"HTTP/1.1 201 Created\"\n",
                        "2023-09-12 20:22:21,142:INFO - HTTP Request: PATCH https://fpyltvtkpkrkzortucoa.supabase.co/rest/v1/media?id=eq.385 \"HTTP/1.1 200 OK\"\n"
                    ]
                },
                {
                    "name": "stdout",
                    "output_type": "stream",
                    "text": [
                        "Vector data updated\n",
                        "image processed\n"
                    ]
                },
                {
                    "name": "stderr",
                    "output_type": "stream",
                    "text": [
                        "2023-09-12 20:22:24,210:INFO - HTTP Request: GET https://fpyltvtkpkrkzortucoa.supabase.co/rest/v1/media?select=%2A&source_id=eq.4497367 \"HTTP/1.1 200 OK\"\n"
                    ]
                },
                {
                    "name": "stdout",
                    "output_type": "stream",
                    "text": [
                        "The list is empty. Proceed\n",
                        "Saved pexels-photo-4497367.jpeg to disk.\n"
                    ]
                },
                {
                    "name": "stderr",
                    "output_type": "stream",
                    "text": [
                        "2023-09-12 20:22:24,646:INFO - HTTP Request: POST https://fpyltvtkpkrkzortucoa.supabase.co/storage/v1/object/media/69d72aae-2c3a-455c-9883-acda2b4c45d0.jpeg \"HTTP/1.1 200 OK\"\n"
                    ]
                },
                {
                    "name": "stdout",
                    "output_type": "stream",
                    "text": [
                        "uploaded\n"
                    ]
                },
                {
                    "name": "stderr",
                    "output_type": "stream",
                    "text": [
                        "2023-09-12 20:22:25,978:INFO - HTTP Request: POST https://fpyltvtkpkrkzortucoa.supabase.co/rest/v1/media \"HTTP/1.1 201 Created\"\n"
                    ]
                },
                {
                    "name": "stdout",
                    "output_type": "stream",
                    "text": [
                        "a person sitting at a desk with a computer\n",
                        "{'dimensions': {'width': 1200, 'height': 630, 'channels': 3}, 'mean_color': (124.78442063492064, 137.41514417989418, 149.51747883597884, 0.0), 'file_size': 66816, 'file_type': 'jpeg'}\n",
                        "Media data updated\n"
                    ]
                },
                {
                    "name": "stderr",
                    "output_type": "stream",
                    "text": [
                        "2023-09-12 20:22:26,446:INFO - HTTP Request: POST https://fpyltvtkpkrkzortucoa.supabase.co/rest/v1/vectors \"HTTP/1.1 201 Created\"\n",
                        "2023-09-12 20:22:26,556:INFO - HTTP Request: PATCH https://fpyltvtkpkrkzortucoa.supabase.co/rest/v1/media?id=eq.386 \"HTTP/1.1 200 OK\"\n"
                    ]
                },
                {
                    "name": "stdout",
                    "output_type": "stream",
                    "text": [
                        "Vector data updated\n",
                        "image processed\n"
                    ]
                },
                {
                    "name": "stderr",
                    "output_type": "stream",
                    "text": [
                        "2023-09-12 20:22:29,636:INFO - HTTP Request: GET https://fpyltvtkpkrkzortucoa.supabase.co/rest/v1/media?select=%2A&source_id=eq.6889290 \"HTTP/1.1 200 OK\"\n"
                    ]
                },
                {
                    "name": "stdout",
                    "output_type": "stream",
                    "text": [
                        "The list is empty. Proceed\n",
                        "Saved book-computer-cup-of-tea-desk-6889290.jpeg to disk.\n"
                    ]
                },
                {
                    "name": "stderr",
                    "output_type": "stream",
                    "text": [
                        "2023-09-12 20:22:30,197:INFO - HTTP Request: POST https://fpyltvtkpkrkzortucoa.supabase.co/storage/v1/object/media/a02591e0-c7a1-48fd-93d2-fad78cb5313e.jpeg \"HTTP/1.1 200 OK\"\n"
                    ]
                },
                {
                    "name": "stdout",
                    "output_type": "stream",
                    "text": [
                        "uploaded\n"
                    ]
                },
                {
                    "name": "stderr",
                    "output_type": "stream",
                    "text": [
                        "2023-09-12 20:22:31,543:INFO - HTTP Request: POST https://fpyltvtkpkrkzortucoa.supabase.co/rest/v1/media \"HTTP/1.1 201 Created\"\n"
                    ]
                },
                {
                    "name": "stdout",
                    "output_type": "stream",
                    "text": [
                        "a man sitting at a table using a laptop computer\n",
                        "{'dimensions': {'width': 1200, 'height': 630, 'channels': 3}, 'mean_color': (133.55944444444444, 129.46956878306878, 130.7643716931217, 0.0), 'file_size': 61424, 'file_type': 'jpeg'}\n",
                        "Media data updated\n"
                    ]
                },
                {
                    "name": "stderr",
                    "output_type": "stream",
                    "text": [
                        "2023-09-12 20:22:31,909:INFO - HTTP Request: POST https://fpyltvtkpkrkzortucoa.supabase.co/rest/v1/vectors \"HTTP/1.1 201 Created\"\n",
                        "2023-09-12 20:22:31,986:INFO - HTTP Request: PATCH https://fpyltvtkpkrkzortucoa.supabase.co/rest/v1/media?id=eq.387 \"HTTP/1.1 200 OK\"\n"
                    ]
                },
                {
                    "name": "stdout",
                    "output_type": "stream",
                    "text": [
                        "Vector data updated\n",
                        "image processed\n"
                    ]
                },
                {
                    "name": "stderr",
                    "output_type": "stream",
                    "text": [
                        "2023-09-12 20:22:35,077:INFO - HTTP Request: GET https://fpyltvtkpkrkzortucoa.supabase.co/rest/v1/media?select=%2A&source_id=eq.7651774 \"HTTP/1.1 200 OK\"\n"
                    ]
                },
                {
                    "name": "stdout",
                    "output_type": "stream",
                    "text": [
                        "The list is empty. Proceed\n",
                        "Saved adult-analysis-asian-asian-man-7651774.jpeg to disk.\n"
                    ]
                },
                {
                    "name": "stderr",
                    "output_type": "stream",
                    "text": [
                        "2023-09-12 20:22:36,038:INFO - HTTP Request: POST https://fpyltvtkpkrkzortucoa.supabase.co/storage/v1/object/media/5c63436a-31dc-45f4-82aa-b4a743dec422.jpeg \"HTTP/1.1 200 OK\"\n"
                    ]
                },
                {
                    "name": "stdout",
                    "output_type": "stream",
                    "text": [
                        "uploaded\n"
                    ]
                },
                {
                    "name": "stderr",
                    "output_type": "stream",
                    "text": [
                        "2023-09-12 20:22:37,366:INFO - HTTP Request: POST https://fpyltvtkpkrkzortucoa.supabase.co/rest/v1/media \"HTTP/1.1 201 Created\"\n"
                    ]
                },
                {
                    "name": "stdout",
                    "output_type": "stream",
                    "text": [
                        "a group of people sitting around a table with laptops\n",
                        "{'dimensions': {'width': 1200, 'height': 630, 'channels': 3}, 'mean_color': (152.1397486772487, 151.66005158730158, 148.91954232804233, 0.0), 'file_size': 79725, 'file_type': 'jpeg'}\n",
                        "Media data updated\n"
                    ]
                },
                {
                    "name": "stderr",
                    "output_type": "stream",
                    "text": [
                        "2023-09-12 20:22:37,677:INFO - HTTP Request: POST https://fpyltvtkpkrkzortucoa.supabase.co/rest/v1/vectors \"HTTP/1.1 201 Created\"\n",
                        "2023-09-12 20:22:37,757:INFO - HTTP Request: PATCH https://fpyltvtkpkrkzortucoa.supabase.co/rest/v1/media?id=eq.388 \"HTTP/1.1 200 OK\"\n"
                    ]
                },
                {
                    "name": "stdout",
                    "output_type": "stream",
                    "text": [
                        "Vector data updated\n",
                        "image processed\n"
                    ]
                },
                {
                    "name": "stderr",
                    "output_type": "stream",
                    "text": [
                        "2023-09-12 20:22:40,889:INFO - HTTP Request: GET https://fpyltvtkpkrkzortucoa.supabase.co/rest/v1/media?select=%2A&source_id=eq.7209307 \"HTTP/1.1 200 OK\"\n"
                    ]
                },
                {
                    "name": "stdout",
                    "output_type": "stream",
                    "text": [
                        "The list is empty. Proceed\n",
                        "Saved pexels-photo-7209307.jpeg to disk.\n"
                    ]
                },
                {
                    "name": "stderr",
                    "output_type": "stream",
                    "text": [
                        "2023-09-12 20:22:41,974:INFO - HTTP Request: POST https://fpyltvtkpkrkzortucoa.supabase.co/storage/v1/object/media/f405ea7d-9e95-44f0-9344-7b63011479e4.jpeg \"HTTP/1.1 200 OK\"\n"
                    ]
                },
                {
                    "name": "stdout",
                    "output_type": "stream",
                    "text": [
                        "uploaded\n"
                    ]
                },
                {
                    "name": "stderr",
                    "output_type": "stream",
                    "text": [
                        "2023-09-12 20:22:43,343:INFO - HTTP Request: POST https://fpyltvtkpkrkzortucoa.supabase.co/rest/v1/media \"HTTP/1.1 201 Created\"\n"
                    ]
                },
                {
                    "name": "stdout",
                    "output_type": "stream",
                    "text": [
                        "a laptop computer sitting on top of a couch\n",
                        "{'dimensions': {'width': 1200, 'height': 630, 'channels': 3}, 'mean_color': (103.81973677248678, 107.05574074074075, 115.85178306878306, 0.0), 'file_size': 93727, 'file_type': 'jpeg'}\n",
                        "Media data updated\n"
                    ]
                },
                {
                    "name": "stderr",
                    "output_type": "stream",
                    "text": [
                        "2023-09-12 20:22:43,872:INFO - HTTP Request: POST https://fpyltvtkpkrkzortucoa.supabase.co/rest/v1/vectors \"HTTP/1.1 201 Created\"\n",
                        "2023-09-12 20:22:43,972:INFO - HTTP Request: PATCH https://fpyltvtkpkrkzortucoa.supabase.co/rest/v1/media?id=eq.389 \"HTTP/1.1 200 OK\"\n"
                    ]
                },
                {
                    "name": "stdout",
                    "output_type": "stream",
                    "text": [
                        "Vector data updated\n",
                        "image processed\n"
                    ]
                },
                {
                    "name": "stderr",
                    "output_type": "stream",
                    "text": [
                        "2023-09-12 20:22:47,067:INFO - HTTP Request: GET https://fpyltvtkpkrkzortucoa.supabase.co/rest/v1/media?select=%2A&source_id=eq.4497343 \"HTTP/1.1 200 OK\"\n"
                    ]
                },
                {
                    "name": "stdout",
                    "output_type": "stream",
                    "text": [
                        "The list is empty. Proceed\n",
                        "Saved pexels-photo-4497343.jpeg to disk.\n"
                    ]
                },
                {
                    "name": "stderr",
                    "output_type": "stream",
                    "text": [
                        "2023-09-12 20:22:47,564:INFO - HTTP Request: POST https://fpyltvtkpkrkzortucoa.supabase.co/storage/v1/object/media/1b883095-52d6-4db6-be46-3a1770e861b5.jpeg \"HTTP/1.1 200 OK\"\n"
                    ]
                },
                {
                    "name": "stdout",
                    "output_type": "stream",
                    "text": [
                        "uploaded\n"
                    ]
                },
                {
                    "name": "stderr",
                    "output_type": "stream",
                    "text": [
                        "2023-09-12 20:22:48,868:INFO - HTTP Request: POST https://fpyltvtkpkrkzortucoa.supabase.co/rest/v1/media \"HTTP/1.1 201 Created\"\n"
                    ]
                },
                {
                    "name": "stdout",
                    "output_type": "stream",
                    "text": [
                        "a person sitting at a desk with a computer\n",
                        "{'dimensions': {'width': 1200, 'height': 630, 'channels': 3}, 'mean_color': (99.4486388888889, 123.85141534391535, 153.44058465608467, 0.0), 'file_size': 74808, 'file_type': 'jpeg'}\n",
                        "Media data updated\n"
                    ]
                },
                {
                    "name": "stderr",
                    "output_type": "stream",
                    "text": [
                        "2023-09-12 20:22:49,234:INFO - HTTP Request: POST https://fpyltvtkpkrkzortucoa.supabase.co/rest/v1/vectors \"HTTP/1.1 201 Created\"\n",
                        "2023-09-12 20:22:49,329:INFO - HTTP Request: PATCH https://fpyltvtkpkrkzortucoa.supabase.co/rest/v1/media?id=eq.390 \"HTTP/1.1 200 OK\"\n"
                    ]
                },
                {
                    "name": "stdout",
                    "output_type": "stream",
                    "text": [
                        "Vector data updated\n",
                        "image processed\n"
                    ]
                },
                {
                    "name": "stderr",
                    "output_type": "stream",
                    "text": [
                        "2023-09-12 20:22:52,429:INFO - HTTP Request: GET https://fpyltvtkpkrkzortucoa.supabase.co/rest/v1/media?select=%2A&source_id=eq.6889288 \"HTTP/1.1 200 OK\"\n"
                    ]
                },
                {
                    "name": "stdout",
                    "output_type": "stream",
                    "text": [
                        "The list is empty. Proceed\n",
                        "Saved computer-cup-of-tea-earphone-electronics-6889288.jpeg to disk.\n"
                    ]
                },
                {
                    "name": "stderr",
                    "output_type": "stream",
                    "text": [
                        "2023-09-12 20:22:53,135:INFO - HTTP Request: POST https://fpyltvtkpkrkzortucoa.supabase.co/storage/v1/object/media/4f2840b3-ec0f-4eb7-b1e9-ad614adafdb0.jpeg \"HTTP/1.1 200 OK\"\n"
                    ]
                },
                {
                    "name": "stdout",
                    "output_type": "stream",
                    "text": [
                        "uploaded\n"
                    ]
                },
                {
                    "name": "stderr",
                    "output_type": "stream",
                    "text": [
                        "2023-09-12 20:22:54,308:INFO - HTTP Request: POST https://fpyltvtkpkrkzortucoa.supabase.co/rest/v1/media \"HTTP/1.1 201 Created\"\n"
                    ]
                },
                {
                    "name": "stdout",
                    "output_type": "stream",
                    "text": [
                        "a person typing on a laptop with a cup of coffee\n",
                        "{'dimensions': {'width': 1200, 'height': 630, 'channels': 3}, 'mean_color': (73.01996957671957, 63.64368386243386, 71.84830158730159, 0.0), 'file_size': 39949, 'file_type': 'jpeg'}\n",
                        "Media data updated\n"
                    ]
                },
                {
                    "name": "stderr",
                    "output_type": "stream",
                    "text": [
                        "2023-09-12 20:22:54,816:INFO - HTTP Request: POST https://fpyltvtkpkrkzortucoa.supabase.co/rest/v1/vectors \"HTTP/1.1 201 Created\"\n",
                        "2023-09-12 20:22:54,909:INFO - HTTP Request: PATCH https://fpyltvtkpkrkzortucoa.supabase.co/rest/v1/media?id=eq.391 \"HTTP/1.1 200 OK\"\n"
                    ]
                },
                {
                    "name": "stdout",
                    "output_type": "stream",
                    "text": [
                        "Vector data updated\n",
                        "image processed\n"
                    ]
                },
                {
                    "name": "stderr",
                    "output_type": "stream",
                    "text": [
                        "2023-09-12 20:22:58,062:INFO - HTTP Request: GET https://fpyltvtkpkrkzortucoa.supabase.co/rest/v1/media?select=%2A&source_id=eq.9365202 \"HTTP/1.1 200 OK\"\n"
                    ]
                },
                {
                    "name": "stdout",
                    "output_type": "stream",
                    "text": [
                        "The list is empty. Proceed\n",
                        "Saved pexels-photo-9365202.jpeg to disk.\n"
                    ]
                },
                {
                    "name": "stderr",
                    "output_type": "stream",
                    "text": [
                        "2023-09-12 20:22:58,770:INFO - HTTP Request: POST https://fpyltvtkpkrkzortucoa.supabase.co/storage/v1/object/media/b7267427-0e6c-41eb-ae3b-fb21f76d7ddc.jpeg \"HTTP/1.1 200 OK\"\n"
                    ]
                },
                {
                    "name": "stdout",
                    "output_type": "stream",
                    "text": [
                        "uploaded\n"
                    ]
                },
                {
                    "name": "stderr",
                    "output_type": "stream",
                    "text": [
                        "2023-09-12 20:23:00,129:INFO - HTTP Request: POST https://fpyltvtkpkrkzortucoa.supabase.co/rest/v1/media \"HTTP/1.1 201 Created\"\n"
                    ]
                },
                {
                    "name": "stdout",
                    "output_type": "stream",
                    "text": [
                        "a group of people sitting in a waiting area\n",
                        "{'dimensions': {'width': 1200, 'height': 630, 'channels': 3}, 'mean_color': (149.40655158730158, 149.96777777777777, 145.6861058201058, 0.0), 'file_size': 63430, 'file_type': 'jpeg'}\n",
                        "Media data updated\n"
                    ]
                },
                {
                    "name": "stderr",
                    "output_type": "stream",
                    "text": [
                        "2023-09-12 20:23:00,488:INFO - HTTP Request: POST https://fpyltvtkpkrkzortucoa.supabase.co/rest/v1/vectors \"HTTP/1.1 201 Created\"\n",
                        "2023-09-12 20:23:00,562:INFO - HTTP Request: PATCH https://fpyltvtkpkrkzortucoa.supabase.co/rest/v1/media?id=eq.392 \"HTTP/1.1 200 OK\"\n"
                    ]
                },
                {
                    "name": "stdout",
                    "output_type": "stream",
                    "text": [
                        "Vector data updated\n",
                        "image processed\n"
                    ]
                },
                {
                    "name": "stderr",
                    "output_type": "stream",
                    "text": [
                        "2023-09-12 20:23:03,645:INFO - HTTP Request: GET https://fpyltvtkpkrkzortucoa.supabase.co/rest/v1/media?select=%2A&source_id=eq.9365205 \"HTTP/1.1 200 OK\"\n"
                    ]
                },
                {
                    "name": "stdout",
                    "output_type": "stream",
                    "text": [
                        "The list is empty. Proceed\n",
                        "Saved pexels-photo-9365205.jpeg to disk.\n"
                    ]
                },
                {
                    "name": "stderr",
                    "output_type": "stream",
                    "text": [
                        "2023-09-12 20:23:04,455:INFO - HTTP Request: POST https://fpyltvtkpkrkzortucoa.supabase.co/storage/v1/object/media/f20c4185-95ae-4248-a388-68e824a0ee22.jpeg \"HTTP/1.1 200 OK\"\n"
                    ]
                },
                {
                    "name": "stdout",
                    "output_type": "stream",
                    "text": [
                        "uploaded\n"
                    ]
                },
                {
                    "name": "stderr",
                    "output_type": "stream",
                    "text": [
                        "2023-09-12 20:23:05,845:INFO - HTTP Request: POST https://fpyltvtkpkrkzortucoa.supabase.co/rest/v1/media \"HTTP/1.1 201 Created\"\n"
                    ]
                },
                {
                    "name": "stdout",
                    "output_type": "stream",
                    "text": [
                        "a man and a man sitting at a table in front of a laptop\n",
                        "{'dimensions': {'width': 1200, 'height': 630, 'channels': 3}, 'mean_color': (126.34535714285714, 138.6369603174603, 144.5228492063492, 0.0), 'file_size': 62399, 'file_type': 'jpeg'}\n",
                        "Media data updated\n"
                    ]
                },
                {
                    "name": "stderr",
                    "output_type": "stream",
                    "text": [
                        "2023-09-12 20:23:06,374:INFO - HTTP Request: POST https://fpyltvtkpkrkzortucoa.supabase.co/rest/v1/vectors \"HTTP/1.1 201 Created\"\n",
                        "2023-09-12 20:23:06,452:INFO - HTTP Request: PATCH https://fpyltvtkpkrkzortucoa.supabase.co/rest/v1/media?id=eq.393 \"HTTP/1.1 200 OK\"\n"
                    ]
                },
                {
                    "name": "stdout",
                    "output_type": "stream",
                    "text": [
                        "Vector data updated\n",
                        "image processed\n"
                    ]
                },
                {
                    "name": "stderr",
                    "output_type": "stream",
                    "text": [
                        "2023-09-12 20:23:09,588:INFO - HTTP Request: GET https://fpyltvtkpkrkzortucoa.supabase.co/rest/v1/media?select=%2A&source_id=eq.7583678 \"HTTP/1.1 200 OK\"\n"
                    ]
                },
                {
                    "name": "stdout",
                    "output_type": "stream",
                    "text": [
                        "The list is empty. Proceed\n",
                        "Saved access-adult-arab-arab-girl-7583678.jpeg to disk.\n"
                    ]
                },
                {
                    "name": "stderr",
                    "output_type": "stream",
                    "text": [
                        "2023-09-12 20:23:10,235:INFO - HTTP Request: POST https://fpyltvtkpkrkzortucoa.supabase.co/storage/v1/object/media/b174dffa-a65f-4e02-903b-f9c042346de5.jpeg \"HTTP/1.1 200 OK\"\n"
                    ]
                },
                {
                    "name": "stdout",
                    "output_type": "stream",
                    "text": [
                        "uploaded\n"
                    ]
                },
                {
                    "name": "stderr",
                    "output_type": "stream",
                    "text": [
                        "2023-09-12 20:23:11,612:INFO - HTTP Request: POST https://fpyltvtkpkrkzortucoa.supabase.co/rest/v1/media \"HTTP/1.1 201 Created\"\n"
                    ]
                },
                {
                    "name": "stdout",
                    "output_type": "stream",
                    "text": [
                        "a man and a man looking at a laptop\n",
                        "{'dimensions': {'width': 1200, 'height': 630, 'channels': 3}, 'mean_color': (120.07045502645502, 123.11932407407407, 129.3426097883598, 0.0), 'file_size': 62850, 'file_type': 'jpeg'}\n",
                        "Media data updated\n"
                    ]
                },
                {
                    "name": "stderr",
                    "output_type": "stream",
                    "text": [
                        "2023-09-12 20:23:12,003:INFO - HTTP Request: POST https://fpyltvtkpkrkzortucoa.supabase.co/rest/v1/vectors \"HTTP/1.1 201 Created\"\n",
                        "2023-09-12 20:23:12,148:INFO - HTTP Request: PATCH https://fpyltvtkpkrkzortucoa.supabase.co/rest/v1/media?id=eq.394 \"HTTP/1.1 200 OK\"\n"
                    ]
                },
                {
                    "name": "stdout",
                    "output_type": "stream",
                    "text": [
                        "Vector data updated\n",
                        "image processed\n"
                    ]
                },
                {
                    "name": "stderr",
                    "output_type": "stream",
                    "text": [
                        "2023-09-12 20:23:15,241:INFO - HTTP Request: GET https://fpyltvtkpkrkzortucoa.supabase.co/rest/v1/media?select=%2A&source_id=eq.7209404 \"HTTP/1.1 200 OK\"\n"
                    ]
                },
                {
                    "name": "stdout",
                    "output_type": "stream",
                    "text": [
                        "The list is empty. Proceed\n",
                        "Saved adult-advice-beautiful-business-7209404.jpeg to disk.\n"
                    ]
                },
                {
                    "name": "stderr",
                    "output_type": "stream",
                    "text": [
                        "2023-09-12 20:23:16,045:INFO - HTTP Request: POST https://fpyltvtkpkrkzortucoa.supabase.co/storage/v1/object/media/a1f424eb-9140-4c66-9927-440b90d9278b.jpeg \"HTTP/1.1 200 OK\"\n"
                    ]
                },
                {
                    "name": "stdout",
                    "output_type": "stream",
                    "text": [
                        "uploaded\n"
                    ]
                },
                {
                    "name": "stderr",
                    "output_type": "stream",
                    "text": [
                        "2023-09-12 20:23:18,153:INFO - HTTP Request: POST https://fpyltvtkpkrkzortucoa.supabase.co/rest/v1/media \"HTTP/1.1 201 Created\"\n"
                    ]
                },
                {
                    "name": "stdout",
                    "output_type": "stream",
                    "text": [
                        "a man sitting in front of a laptop computer\n",
                        "{'dimensions': {'width': 1200, 'height': 630, 'channels': 3}, 'mean_color': (120.9997208994709, 124.03441534391534, 134.42016931216932, 0.0), 'file_size': 57269, 'file_type': 'jpeg'}\n",
                        "Media data updated\n"
                    ]
                },
                {
                    "name": "stderr",
                    "output_type": "stream",
                    "text": [
                        "2023-09-12 20:23:18,506:INFO - HTTP Request: POST https://fpyltvtkpkrkzortucoa.supabase.co/rest/v1/vectors \"HTTP/1.1 201 Created\"\n",
                        "2023-09-12 20:23:18,574:INFO - HTTP Request: PATCH https://fpyltvtkpkrkzortucoa.supabase.co/rest/v1/media?id=eq.395 \"HTTP/1.1 200 OK\"\n"
                    ]
                },
                {
                    "name": "stdout",
                    "output_type": "stream",
                    "text": [
                        "Vector data updated\n",
                        "image processed\n"
                    ]
                },
                {
                    "name": "stderr",
                    "output_type": "stream",
                    "text": [
                        "2023-09-12 20:23:21,650:INFO - HTTP Request: GET https://fpyltvtkpkrkzortucoa.supabase.co/rest/v1/media?select=%2A&source_id=eq.7310975 \"HTTP/1.1 200 OK\"\n"
                    ]
                },
                {
                    "name": "stdout",
                    "output_type": "stream",
                    "text": [
                        "The list is empty. Proceed\n",
                        "Saved adolescent-beautiful-bed-bedroom-7310975.jpeg to disk.\n"
                    ]
                },
                {
                    "name": "stderr",
                    "output_type": "stream",
                    "text": [
                        "2023-09-12 20:23:22,220:INFO - HTTP Request: POST https://fpyltvtkpkrkzortucoa.supabase.co/storage/v1/object/media/c217600f-e64d-474b-a7b3-64f1b359e5cc.jpeg \"HTTP/1.1 200 OK\"\n"
                    ]
                },
                {
                    "name": "stdout",
                    "output_type": "stream",
                    "text": [
                        "uploaded\n"
                    ]
                },
                {
                    "name": "stderr",
                    "output_type": "stream",
                    "text": [
                        "2023-09-12 20:23:23,466:INFO - HTTP Request: POST https://fpyltvtkpkrkzortucoa.supabase.co/rest/v1/media \"HTTP/1.1 201 Created\"\n"
                    ]
                },
                {
                    "name": "stdout",
                    "output_type": "stream",
                    "text": [
                        "a man sitting on a couch wearing headphones\n",
                        "{'dimensions': {'width': 1200, 'height': 630, 'channels': 3}, 'mean_color': (127.22273412698412, 130.34423544973546, 134.8459312169312, 0.0), 'file_size': 52778, 'file_type': 'jpeg'}\n",
                        "Media data updated\n"
                    ]
                },
                {
                    "name": "stderr",
                    "output_type": "stream",
                    "text": [
                        "2023-09-12 20:23:23,880:INFO - HTTP Request: POST https://fpyltvtkpkrkzortucoa.supabase.co/rest/v1/vectors \"HTTP/1.1 201 Created\"\n",
                        "2023-09-12 20:23:23,976:INFO - HTTP Request: PATCH https://fpyltvtkpkrkzortucoa.supabase.co/rest/v1/media?id=eq.396 \"HTTP/1.1 200 OK\"\n"
                    ]
                },
                {
                    "name": "stdout",
                    "output_type": "stream",
                    "text": [
                        "Vector data updated\n",
                        "image processed\n"
                    ]
                },
                {
                    "name": "stderr",
                    "output_type": "stream",
                    "text": [
                        "2023-09-12 20:23:27,073:INFO - HTTP Request: GET https://fpyltvtkpkrkzortucoa.supabase.co/rest/v1/media?select=%2A&source_id=eq.8135224 \"HTTP/1.1 200 OK\"\n"
                    ]
                },
                {
                    "name": "stdout",
                    "output_type": "stream",
                    "text": [
                        "The list is empty. Proceed\n",
                        "Saved adult-band-bass-concert-8135224.jpeg to disk.\n"
                    ]
                },
                {
                    "name": "stderr",
                    "output_type": "stream",
                    "text": [
                        "2023-09-12 20:23:27,761:INFO - HTTP Request: POST https://fpyltvtkpkrkzortucoa.supabase.co/storage/v1/object/media/bfdf0b5e-db8b-4897-853a-24480144e1a5.jpeg \"HTTP/1.1 200 OK\"\n"
                    ]
                },
                {
                    "name": "stdout",
                    "output_type": "stream",
                    "text": [
                        "uploaded\n"
                    ]
                },
                {
                    "name": "stderr",
                    "output_type": "stream",
                    "text": [
                        "2023-09-12 20:23:29,327:INFO - HTTP Request: POST https://fpyltvtkpkrkzortucoa.supabase.co/rest/v1/media \"HTTP/1.1 201 Created\"\n"
                    ]
                },
                {
                    "name": "stdout",
                    "output_type": "stream",
                    "text": [
                        "a man and a man sitting on the floor playing guitar\n",
                        "{'dimensions': {'width': 1200, 'height': 630, 'channels': 3}, 'mean_color': (51.2030701058201, 77.29365740740741, 108.75135846560846, 0.0), 'file_size': 120899, 'file_type': 'jpeg'}\n",
                        "Media data updated\n"
                    ]
                },
                {
                    "name": "stderr",
                    "output_type": "stream",
                    "text": [
                        "2023-09-12 20:23:29,797:INFO - HTTP Request: POST https://fpyltvtkpkrkzortucoa.supabase.co/rest/v1/vectors \"HTTP/1.1 201 Created\"\n",
                        "2023-09-12 20:23:29,922:INFO - HTTP Request: PATCH https://fpyltvtkpkrkzortucoa.supabase.co/rest/v1/media?id=eq.397 \"HTTP/1.1 200 OK\"\n"
                    ]
                },
                {
                    "name": "stdout",
                    "output_type": "stream",
                    "text": [
                        "Vector data updated\n",
                        "image processed\n"
                    ]
                },
                {
                    "name": "stderr",
                    "output_type": "stream",
                    "text": [
                        "2023-09-12 20:23:33,010:INFO - HTTP Request: GET https://fpyltvtkpkrkzortucoa.supabase.co/rest/v1/media?select=%2A&source_id=eq.7227056 \"HTTP/1.1 200 OK\"\n"
                    ]
                },
                {
                    "name": "stdout",
                    "output_type": "stream",
                    "text": [
                        "The list is empty. Proceed\n",
                        "Saved adult-affection-african-african-american-7227056.jpeg to disk.\n"
                    ]
                },
                {
                    "name": "stderr",
                    "output_type": "stream",
                    "text": [
                        "2023-09-12 20:23:34,061:INFO - HTTP Request: POST https://fpyltvtkpkrkzortucoa.supabase.co/storage/v1/object/media/8f3d2b37-4171-4dc8-ab4d-c3e807752062.jpeg \"HTTP/1.1 200 OK\"\n"
                    ]
                },
                {
                    "name": "stdout",
                    "output_type": "stream",
                    "text": [
                        "uploaded\n"
                    ]
                },
                {
                    "name": "stderr",
                    "output_type": "stream",
                    "text": [
                        "2023-09-12 20:23:36,197:INFO - HTTP Request: POST https://fpyltvtkpkrkzortucoa.supabase.co/rest/v1/media \"HTTP/1.1 201 Created\"\n"
                    ]
                },
                {
                    "name": "stdout",
                    "output_type": "stream",
                    "text": [
                        "two people sitting on a bed looking at their cell phones\n",
                        "{'dimensions': {'width': 1200, 'height': 630, 'channels': 3}, 'mean_color': (73.50836904761906, 99.65239417989419, 123.85920502645503, 0.0), 'file_size': 96648, 'file_type': 'jpeg'}\n",
                        "Media data updated\n"
                    ]
                },
                {
                    "name": "stderr",
                    "output_type": "stream",
                    "text": [
                        "2023-09-12 20:23:37,351:INFO - HTTP Request: POST https://fpyltvtkpkrkzortucoa.supabase.co/rest/v1/vectors \"HTTP/1.1 201 Created\"\n",
                        "2023-09-12 20:23:37,428:INFO - HTTP Request: PATCH https://fpyltvtkpkrkzortucoa.supabase.co/rest/v1/media?id=eq.398 \"HTTP/1.1 200 OK\"\n"
                    ]
                },
                {
                    "name": "stdout",
                    "output_type": "stream",
                    "text": [
                        "Vector data updated\n",
                        "image processed\n"
                    ]
                },
                {
                    "name": "stderr",
                    "output_type": "stream",
                    "text": [
                        "2023-09-12 20:23:40,512:INFO - HTTP Request: GET https://fpyltvtkpkrkzortucoa.supabase.co/rest/v1/media?select=%2A&source_id=eq.8135950 \"HTTP/1.1 200 OK\"\n"
                    ]
                },
                {
                    "name": "stdout",
                    "output_type": "stream",
                    "text": [
                        "The list is empty. Proceed\n",
                        "Saved pexels-photo-8135950.jpeg to disk.\n"
                    ]
                },
                {
                    "name": "stderr",
                    "output_type": "stream",
                    "text": [
                        "2023-09-12 20:23:41,264:INFO - HTTP Request: POST https://fpyltvtkpkrkzortucoa.supabase.co/storage/v1/object/media/629a6086-6cd4-4fc0-997f-214e34c4dee4.jpeg \"HTTP/1.1 200 OK\"\n"
                    ]
                },
                {
                    "name": "stdout",
                    "output_type": "stream",
                    "text": [
                        "uploaded\n"
                    ]
                },
                {
                    "name": "stderr",
                    "output_type": "stream",
                    "text": [
                        "2023-09-12 20:23:42,589:INFO - HTTP Request: POST https://fpyltvtkpkrkzortucoa.supabase.co/rest/v1/media \"HTTP/1.1 201 Created\"\n"
                    ]
                },
                {
                    "name": "stdout",
                    "output_type": "stream",
                    "text": [
                        "a man using a laptop computer in a living room\n",
                        "{'dimensions': {'width': 1200, 'height': 630, 'channels': 3}, 'mean_color': (127.99545767195767, 135.42012037037037, 142.23033333333333, 0.0), 'file_size': 65167, 'file_type': 'jpeg'}\n",
                        "Media data updated\n"
                    ]
                },
                {
                    "name": "stderr",
                    "output_type": "stream",
                    "text": [
                        "2023-09-12 20:23:43,048:INFO - HTTP Request: POST https://fpyltvtkpkrkzortucoa.supabase.co/rest/v1/vectors \"HTTP/1.1 201 Created\"\n",
                        "2023-09-12 20:23:43,137:INFO - HTTP Request: PATCH https://fpyltvtkpkrkzortucoa.supabase.co/rest/v1/media?id=eq.399 \"HTTP/1.1 200 OK\"\n"
                    ]
                },
                {
                    "name": "stdout",
                    "output_type": "stream",
                    "text": [
                        "Vector data updated\n",
                        "image processed\n"
                    ]
                },
                {
                    "name": "stderr",
                    "output_type": "stream",
                    "text": [
                        "2023-09-12 20:23:46,235:INFO - HTTP Request: GET https://fpyltvtkpkrkzortucoa.supabase.co/rest/v1/media?select=%2A&source_id=eq.4487308 \"HTTP/1.1 200 OK\"\n"
                    ]
                },
                {
                    "name": "stdout",
                    "output_type": "stream",
                    "text": [
                        "The list is empty. Proceed\n",
                        "Saved pexels-photo-4487308.jpeg to disk.\n"
                    ]
                },
                {
                    "name": "stderr",
                    "output_type": "stream",
                    "text": [
                        "2023-09-12 20:23:46,898:INFO - HTTP Request: POST https://fpyltvtkpkrkzortucoa.supabase.co/storage/v1/object/media/0ad223c5-433f-4e88-83b0-79ff4352fb19.jpeg \"HTTP/1.1 200 OK\"\n"
                    ]
                },
                {
                    "name": "stdout",
                    "output_type": "stream",
                    "text": [
                        "uploaded\n"
                    ]
                },
                {
                    "name": "stderr",
                    "output_type": "stream",
                    "text": [
                        "2023-09-12 20:23:48,031:INFO - HTTP Request: POST https://fpyltvtkpkrkzortucoa.supabase.co/rest/v1/media \"HTTP/1.1 201 Created\"\n"
                    ]
                },
                {
                    "name": "stdout",
                    "output_type": "stream",
                    "text": [
                        "a man wearing headphones and using a laptop\n",
                        "{'dimensions': {'width': 1200, 'height': 630, 'channels': 3}, 'mean_color': (156.905708994709, 164.5363492063492, 168.70153306878308, 0.0), 'file_size': 41373, 'file_type': 'jpeg'}\n",
                        "Media data updated\n"
                    ]
                },
                {
                    "name": "stderr",
                    "output_type": "stream",
                    "text": [
                        "2023-09-12 20:23:48,708:INFO - HTTP Request: POST https://fpyltvtkpkrkzortucoa.supabase.co/rest/v1/vectors \"HTTP/1.1 201 Created\"\n",
                        "2023-09-12 20:23:48,775:INFO - HTTP Request: PATCH https://fpyltvtkpkrkzortucoa.supabase.co/rest/v1/media?id=eq.400 \"HTTP/1.1 200 OK\"\n"
                    ]
                },
                {
                    "name": "stdout",
                    "output_type": "stream",
                    "text": [
                        "Vector data updated\n",
                        "image processed\n"
                    ]
                },
                {
                    "name": "stderr",
                    "output_type": "stream",
                    "text": [
                        "2023-09-12 20:23:51,856:INFO - HTTP Request: GET https://fpyltvtkpkrkzortucoa.supabase.co/rest/v1/media?select=%2A&source_id=eq.5359128 \"HTTP/1.1 200 OK\"\n"
                    ]
                },
                {
                    "name": "stdout",
                    "output_type": "stream",
                    "text": [
                        "The list is empty. Proceed\n",
                        "Saved pexels-photo-5359128.jpeg to disk.\n"
                    ]
                },
                {
                    "name": "stderr",
                    "output_type": "stream",
                    "text": [
                        "2023-09-12 20:23:52,633:INFO - HTTP Request: POST https://fpyltvtkpkrkzortucoa.supabase.co/storage/v1/object/media/32166010-8494-42b4-8511-d94c87f639e5.jpeg \"HTTP/1.1 200 OK\"\n"
                    ]
                },
                {
                    "name": "stdout",
                    "output_type": "stream",
                    "text": [
                        "uploaded\n"
                    ]
                },
                {
                    "name": "stderr",
                    "output_type": "stream",
                    "text": [
                        "2023-09-12 20:23:53,972:INFO - HTTP Request: POST https://fpyltvtkpkrkzortucoa.supabase.co/rest/v1/media \"HTTP/1.1 201 Created\"\n"
                    ]
                },
                {
                    "name": "stdout",
                    "output_type": "stream",
                    "text": [
                        "a man wearing headphones standing in front of a building\n",
                        "{'dimensions': {'width': 1200, 'height': 630, 'channels': 3}, 'mean_color': (69.98523015873016, 81.49694444444445, 88.09796825396826, 0.0), 'file_size': 51872, 'file_type': 'jpeg'}\n",
                        "Media data updated\n"
                    ]
                },
                {
                    "name": "stderr",
                    "output_type": "stream",
                    "text": [
                        "2023-09-12 20:23:54,375:INFO - HTTP Request: POST https://fpyltvtkpkrkzortucoa.supabase.co/rest/v1/vectors \"HTTP/1.1 201 Created\"\n",
                        "2023-09-12 20:23:54,448:INFO - HTTP Request: PATCH https://fpyltvtkpkrkzortucoa.supabase.co/rest/v1/media?id=eq.401 \"HTTP/1.1 200 OK\"\n"
                    ]
                },
                {
                    "name": "stdout",
                    "output_type": "stream",
                    "text": [
                        "Vector data updated\n",
                        "image processed\n"
                    ]
                },
                {
                    "name": "stderr",
                    "output_type": "stream",
                    "text": [
                        "2023-09-12 20:23:57,542:INFO - HTTP Request: GET https://fpyltvtkpkrkzortucoa.supabase.co/rest/v1/media?select=%2A&source_id=eq.5359139 \"HTTP/1.1 200 OK\"\n"
                    ]
                },
                {
                    "name": "stdout",
                    "output_type": "stream",
                    "text": [
                        "The list is empty. Proceed\n",
                        "Saved pexels-photo-5359139.jpeg to disk.\n"
                    ]
                },
                {
                    "name": "stderr",
                    "output_type": "stream",
                    "text": [
                        "2023-09-12 20:23:58,260:INFO - HTTP Request: POST https://fpyltvtkpkrkzortucoa.supabase.co/storage/v1/object/media/e791387d-ab49-4581-9c7f-d90b12bd77d1.jpeg \"HTTP/1.1 200 OK\"\n"
                    ]
                },
                {
                    "name": "stdout",
                    "output_type": "stream",
                    "text": [
                        "uploaded\n"
                    ]
                },
                {
                    "name": "stderr",
                    "output_type": "stream",
                    "text": [
                        "2023-09-12 20:23:59,607:INFO - HTTP Request: POST https://fpyltvtkpkrkzortucoa.supabase.co/rest/v1/media \"HTTP/1.1 201 Created\"\n"
                    ]
                },
                {
                    "name": "stdout",
                    "output_type": "stream",
                    "text": [
                        "a man wearing headphones and a black dress\n",
                        "{'dimensions': {'width': 1200, 'height': 630, 'channels': 3}, 'mean_color': (53.59844841269841, 63.40052248677249, 69.37209788359789, 0.0), 'file_size': 52020, 'file_type': 'jpeg'}\n",
                        "Media data updated\n"
                    ]
                },
                {
                    "name": "stderr",
                    "output_type": "stream",
                    "text": [
                        "2023-09-12 20:23:59,947:INFO - HTTP Request: POST https://fpyltvtkpkrkzortucoa.supabase.co/rest/v1/vectors \"HTTP/1.1 201 Created\"\n",
                        "2023-09-12 20:24:00,017:INFO - HTTP Request: PATCH https://fpyltvtkpkrkzortucoa.supabase.co/rest/v1/media?id=eq.402 \"HTTP/1.1 200 OK\"\n"
                    ]
                },
                {
                    "name": "stdout",
                    "output_type": "stream",
                    "text": [
                        "Vector data updated\n",
                        "image processed\n"
                    ]
                },
                {
                    "name": "stderr",
                    "output_type": "stream",
                    "text": [
                        "2023-09-12 20:24:03,132:INFO - HTTP Request: GET https://fpyltvtkpkrkzortucoa.supabase.co/rest/v1/media?select=%2A&source_id=eq.5092998 \"HTTP/1.1 200 OK\"\n"
                    ]
                },
                {
                    "name": "stdout",
                    "output_type": "stream",
                    "text": [
                        "The list is empty. Proceed\n",
                        "Saved guitar-player-listen-music-musical-instrument-5092998.jpeg to disk.\n"
                    ]
                },
                {
                    "name": "stderr",
                    "output_type": "stream",
                    "text": [
                        "2023-09-12 20:24:03,691:INFO - HTTP Request: POST https://fpyltvtkpkrkzortucoa.supabase.co/storage/v1/object/media/c2f67fa9-563b-4bb4-975d-5067764f95ec.jpeg \"HTTP/1.1 200 OK\"\n"
                    ]
                },
                {
                    "name": "stdout",
                    "output_type": "stream",
                    "text": [
                        "uploaded\n"
                    ]
                },
                {
                    "name": "stderr",
                    "output_type": "stream",
                    "text": [
                        "2023-09-12 20:24:05,022:INFO - HTTP Request: POST https://fpyltvtkpkrkzortucoa.supabase.co/rest/v1/media \"HTTP/1.1 201 Created\"\n"
                    ]
                },
                {
                    "name": "stdout",
                    "output_type": "stream",
                    "text": [
                        "a man holding a guitar in his right hand\n",
                        "{'dimensions': {'width': 1200, 'height': 630, 'channels': 3}, 'mean_color': (42.174453703703705, 47.6316746031746, 59.979120370370374, 0.0), 'file_size': 52339, 'file_type': 'jpeg'}\n",
                        "Media data updated\n"
                    ]
                },
                {
                    "name": "stderr",
                    "output_type": "stream",
                    "text": [
                        "2023-09-12 20:24:05,395:INFO - HTTP Request: POST https://fpyltvtkpkrkzortucoa.supabase.co/rest/v1/vectors \"HTTP/1.1 201 Created\"\n",
                        "2023-09-12 20:24:05,550:INFO - HTTP Request: PATCH https://fpyltvtkpkrkzortucoa.supabase.co/rest/v1/media?id=eq.403 \"HTTP/1.1 200 OK\"\n"
                    ]
                },
                {
                    "name": "stdout",
                    "output_type": "stream",
                    "text": [
                        "Vector data updated\n",
                        "image processed\n"
                    ]
                },
                {
                    "name": "stderr",
                    "output_type": "stream",
                    "text": [
                        "2023-09-12 20:24:08,643:INFO - HTTP Request: GET https://fpyltvtkpkrkzortucoa.supabase.co/rest/v1/media?select=%2A&source_id=eq.7583602 \"HTTP/1.1 200 OK\"\n"
                    ]
                },
                {
                    "name": "stdout",
                    "output_type": "stream",
                    "text": [
                        "The list is empty. Proceed\n",
                        "Saved adult-architecture-bar-brick-7583602.jpeg to disk.\n"
                    ]
                },
                {
                    "name": "stderr",
                    "output_type": "stream",
                    "text": [
                        "2023-09-12 20:24:09,425:INFO - HTTP Request: POST https://fpyltvtkpkrkzortucoa.supabase.co/storage/v1/object/media/7f31c23f-f626-4f03-b3ca-1f5be5fd64c0.jpeg \"HTTP/1.1 200 OK\"\n"
                    ]
                },
                {
                    "name": "stdout",
                    "output_type": "stream",
                    "text": [
                        "uploaded\n"
                    ]
                },
                {
                    "name": "stderr",
                    "output_type": "stream",
                    "text": [
                        "2023-09-12 20:24:10,837:INFO - HTTP Request: POST https://fpyltvtkpkrkzortucoa.supabase.co/rest/v1/media \"HTTP/1.1 201 Created\"\n"
                    ]
                },
                {
                    "name": "stdout",
                    "output_type": "stream",
                    "text": [
                        "a man standing in front of a brick wall\n",
                        "{'dimensions': {'width': 1200, 'height': 630, 'channels': 3}, 'mean_color': (70.96781481481482, 87.98845105820106, 108.68532275132276, 0.0), 'file_size': 95616, 'file_type': 'jpeg'}\n",
                        "Media data updated\n"
                    ]
                },
                {
                    "name": "stderr",
                    "output_type": "stream",
                    "text": [
                        "2023-09-12 20:24:11,517:INFO - HTTP Request: POST https://fpyltvtkpkrkzortucoa.supabase.co/rest/v1/vectors \"HTTP/1.1 201 Created\"\n",
                        "2023-09-12 20:24:11,595:INFO - HTTP Request: PATCH https://fpyltvtkpkrkzortucoa.supabase.co/rest/v1/media?id=eq.404 \"HTTP/1.1 200 OK\"\n"
                    ]
                },
                {
                    "name": "stdout",
                    "output_type": "stream",
                    "text": [
                        "Vector data updated\n",
                        "image processed\n"
                    ]
                },
                {
                    "name": "stderr",
                    "output_type": "stream",
                    "text": [
                        "2023-09-12 20:24:14,717:INFO - HTTP Request: GET https://fpyltvtkpkrkzortucoa.supabase.co/rest/v1/media?select=%2A&source_id=eq.9365195 \"HTTP/1.1 200 OK\"\n"
                    ]
                },
                {
                    "name": "stdout",
                    "output_type": "stream",
                    "text": [
                        "The list is empty. Proceed\n",
                        "Saved pexels-photo-9365195.jpeg to disk.\n"
                    ]
                },
                {
                    "name": "stderr",
                    "output_type": "stream",
                    "text": [
                        "2023-09-12 20:24:15,323:INFO - HTTP Request: POST https://fpyltvtkpkrkzortucoa.supabase.co/storage/v1/object/media/c26b9ac9-5725-425c-89f2-b87d5c09ba2c.jpeg \"HTTP/1.1 200 OK\"\n"
                    ]
                },
                {
                    "name": "stdout",
                    "output_type": "stream",
                    "text": [
                        "uploaded\n"
                    ]
                },
                {
                    "name": "stderr",
                    "output_type": "stream",
                    "text": [
                        "2023-09-12 20:24:16,638:INFO - HTTP Request: POST https://fpyltvtkpkrkzortucoa.supabase.co/rest/v1/media \"HTTP/1.1 201 Created\"\n"
                    ]
                },
                {
                    "name": "stdout",
                    "output_type": "stream",
                    "text": [
                        "a group of people sitting around a white table\n",
                        "{'dimensions': {'width': 1200, 'height': 630, 'channels': 3}, 'mean_color': (125.7469947089947, 134.0519775132275, 139.48305687830688, 0.0), 'file_size': 61670, 'file_type': 'jpeg'}\n",
                        "Media data updated\n"
                    ]
                },
                {
                    "name": "stderr",
                    "output_type": "stream",
                    "text": [
                        "2023-09-12 20:24:17,304:INFO - HTTP Request: POST https://fpyltvtkpkrkzortucoa.supabase.co/rest/v1/vectors \"HTTP/1.1 201 Created\"\n",
                        "2023-09-12 20:24:17,384:INFO - HTTP Request: PATCH https://fpyltvtkpkrkzortucoa.supabase.co/rest/v1/media?id=eq.405 \"HTTP/1.1 200 OK\"\n"
                    ]
                },
                {
                    "name": "stdout",
                    "output_type": "stream",
                    "text": [
                        "Vector data updated\n",
                        "image processed\n"
                    ]
                },
                {
                    "name": "stderr",
                    "output_type": "stream",
                    "text": [
                        "2023-09-12 20:24:20,478:INFO - HTTP Request: GET https://fpyltvtkpkrkzortucoa.supabase.co/rest/v1/media?select=%2A&source_id=eq.7184588 \"HTTP/1.1 200 OK\"\n"
                    ]
                },
                {
                    "name": "stdout",
                    "output_type": "stream",
                    "text": [
                        "The list is empty. Proceed\n",
                        "Saved netflix-remote-control-tv-screen-tv-set-7184588.jpeg to disk.\n"
                    ]
                },
                {
                    "name": "stderr",
                    "output_type": "stream",
                    "text": [
                        "2023-09-12 20:24:20,982:INFO - HTTP Request: POST https://fpyltvtkpkrkzortucoa.supabase.co/storage/v1/object/media/79bb864d-130f-4dec-9171-88cfeeb28ba3.jpeg \"HTTP/1.1 200 OK\"\n"
                    ]
                },
                {
                    "name": "stdout",
                    "output_type": "stream",
                    "text": [
                        "uploaded\n"
                    ]
                },
                {
                    "name": "stderr",
                    "output_type": "stream",
                    "text": [
                        "2023-09-12 20:24:22,089:INFO - HTTP Request: POST https://fpyltvtkpkrkzortucoa.supabase.co/rest/v1/media \"HTTP/1.1 201 Created\"\n"
                    ]
                },
                {
                    "name": "stdout",
                    "output_type": "stream",
                    "text": [
                        "a hand holding a remote control in front of a television\n",
                        "{'dimensions': {'width': 1200, 'height': 630, 'channels': 3}, 'mean_color': (61.243267195767196, 63.87573015873016, 72.737917989418, 0.0), 'file_size': 31336, 'file_type': 'jpeg'}\n",
                        "Media data updated\n"
                    ]
                },
                {
                    "name": "stderr",
                    "output_type": "stream",
                    "text": [
                        "2023-09-12 20:24:22,588:INFO - HTTP Request: POST https://fpyltvtkpkrkzortucoa.supabase.co/rest/v1/vectors \"HTTP/1.1 201 Created\"\n",
                        "2023-09-12 20:24:22,680:INFO - HTTP Request: PATCH https://fpyltvtkpkrkzortucoa.supabase.co/rest/v1/media?id=eq.406 \"HTTP/1.1 200 OK\"\n"
                    ]
                },
                {
                    "name": "stdout",
                    "output_type": "stream",
                    "text": [
                        "Vector data updated\n",
                        "image processed\n",
                        "Successfully processed 126 items.\n"
                    ]
                }
            ],
            "source": [
                "import funcs_supabase\n",
                "import pexels\n",
                "\n",
                "\n",
                "def import_pexels_for_project(project_id, scene_id=None):\n",
                "    # Fetch scenes from the database based on the project_id\n",
                "    scenes = funcs_supabase.select_data('scenes', 'project_id', project_id)\n",
                "\n",
                "    # Loop through each scene to process\n",
                "    for scene in scenes:\n",
                "        # Extract various properties from each scene\n",
                "        scene_keywords = scene['theme_keywords']\n",
                "        album_id = scene['album_id']\n",
                "        scene_text = scene['scene_text']\n",
                "\n",
                "        # Make sure that scene_keywords is a list\n",
                "        if type(scene_keywords) != list:\n",
                "            continue  # Skip this iteration if scene_keywords is not a list\n",
                "\n",
                "        # If a specific scene_id is given, only process that scene\n",
                "        if scene_id is not None:\n",
                "            if scene_id == scene['id']:\n",
                "                print(\"scene_id matches\")\n",
                "                pexels.process_pexels_kw_list(scene_keywords)\n",
                "                break  # Exit the loop as we've found and processed the matching scene\n",
                "            else:\n",
                "                continue  # Skip this iteration as the scene_id doesn't match\n",
                "\n",
                "        # If no specific scene_id is provided, process all scenes\n",
                "        else:\n",
                "            pexels.process_pexels_kw_list(scene_keywords)\n",
                "\n",
                "\n",
                "project_id = 18\n",
                "# my_scene_id = 100\n",
                "import_pexels_for_project(project_id)\n",
                "\n",
                "\n",
                "\n"
            ]
        },
        {
            "cell_type": "code",
            "execution_count": 32,
            "metadata": {},
            "outputs": [],
            "source": [
                "import vector_search\n",
                "# returns the most similar vectors from the vectors table\n",
                "\n",
                "\n",
                "def vector_search_results(scene_text_embedding):\n",
                "    vector_search_results =  vector_search.search_vectors(scene_text_embedding, match_threshold=0.8, match_count=20)\n",
                "\n",
                "    media_table_id_list = []\n",
                "\n",
                "    for res in vector_search_results:\n",
                "        print(res)\n",
                "        media_table_id_list.append(res['media_table_id'])\n",
                "\n",
                "    return media_table_id_list\n",
                "\n",
                "\n"
            ]
        },
        {
            "cell_type": "code",
            "execution_count": 31,
            "metadata": {},
            "outputs": [],
            "source": [
                "def link_media_to_album(album_id: int, media_id_list: list) -> list:\n",
                "    \"attaches  a list of media ids to an album\"\n",
                "\n",
                "    table = 'album_media_link'\n",
                "    resp_list = []\n",
                "    \n",
                "    for media_id in media_id_list:\n",
                "        combined_dict = {}\n",
                "        combined_dict['album_id'] = int(album_id)\n",
                "        combined_dict['media_id'] = int(media_id)\n",
                "        print(combined_dict)\n",
                "\n",
                "        conditions = [\n",
                "            {\"column\": \"media_id\", \"operator\": \"eq\", \"value\": media_id},\n",
                "            {\"column\": \"album_id\", \"operator\": \"eq\", \"value\": album_id}\n",
                "        ]\n",
                "        check = funcs_supabase.select_data_with_conditions(table, conditions)\n",
                "        print(check)\n",
                "\n",
                "        if len(check) == 0:\n",
                "            print(f\"Media_id {media_id} does not exist in album_id {album_id}\")\n",
                "\n",
                "            try:\n",
                "                resp = funcs_supabase.insert_data(table, combined_dict)\n",
                "                resp_list.append(resp)\n",
                "            except Exception as e:\n",
                "                print(f\"Failed to insert data for media_id {media_id}. Error: {e}\")\n",
                "        # else:\n",
                "        #     print(f\"Media_id {media_id} already exists in album_id {album_id}\")\n",
                "\n",
                "    return resp_list\n",
                "\n",
                "# # Example usage\n",
                "# album_id = 12\n",
                "# media_id_list = [80, 90, 91, 92, 93, 94, 95, 96, 97, 98, 99, 100, 101, 102, 103, 104]\n",
                "# result = link_media_to_album(album_id, media_id_list)\n",
                "# print(result)\n",
                "\n",
                "\n",
                "# result = link_media_to_album(album_id, media_table_id_list)\n",
                "\n"
            ]
        },
        {
            "cell_type": "code",
            "execution_count": 33,
            "metadata": {},
            "outputs": [
                {
                    "name": "stderr",
                    "output_type": "stream",
                    "text": [
                        "2023-09-12 22:10:16,910:INFO - HTTP Request: GET https://fpyltvtkpkrkzortucoa.supabase.co/rest/v1/scenes?select=%2A&project_id=eq.18 \"HTTP/1.1 200 OK\"\n"
                    ]
                },
                {
                    "name": "stdout",
                    "output_type": "stream",
                    "text": [
                        "{'id': 97, 'created_at': '2023-09-12T16:39:36.771468+00:00', 'project_id': 18, 'scene_order_position': 1, 'uuid': '83ca5db9-1f43-4c80-92cd-37b53912b61c', 'scene_text': 'She decided to restore it, feeling an inexplicable connection to the instrument.', 'status': 'Active', 'album_id': 111, 'theme_keywords': ['Instrument restoration', 'Feeling of connection', 'Preserving the past', 'Craftsmanship', 'Emotional attachment']}\n",
                        "She decided to restore it, feeling an inexplicable connection to the instrument.\n"
                    ]
                },
                {
                    "name": "stderr",
                    "output_type": "stream",
                    "text": [
                        "2023-09-12 22:10:17,692:INFO - HTTP Request: GET https://fpyltvtkpkrkzortucoa.supabase.co/rest/v1/album_media_link?select=%2A&media_id=eq.351&album_id=eq.111 \"HTTP/1.1 200 OK\"\n"
                    ]
                },
                {
                    "name": "stdout",
                    "output_type": "stream",
                    "text": [
                        "{'id': 370, 'content': 'a man holding a violin in her right hand', 'media_table_id': 351, 'similarity': 0.815303287632657}\n",
                        "{'id': 268, 'content': 'a man sitting in front of a table with a violin', 'media_table_id': 249, 'similarity': 0.814724169824482}\n",
                        "{'id': 222, 'content': 'a violin leaning against a log in a field', 'media_table_id': 203, 'similarity': 0.810716992523859}\n",
                        "{'id': 363, 'content': 'a man holding a violin while standing next to a microphone', 'media_table_id': 344, 'similarity': 0.80930611421913}\n",
                        "{'id': 265, 'content': 'a man holding a violin in his right hand', 'media_table_id': 246, 'similarity': 0.802805233606894}\n",
                        "{'id': 350, 'content': 'a close up of a person playing a violin', 'media_table_id': 331, 'similarity': 0.800232775523766}\n",
                        "{'id': 352, 'content': 'a man playing a violin in a dark room', 'media_table_id': 333, 'similarity': 0.800097795415784}\n",
                        "[351, 249, 203, 344, 246, 331, 333]\n",
                        "{'album_id': 111, 'media_id': 351}\n",
                        "[]\n",
                        "Media_id 351 does not exist in album_id 111\n"
                    ]
                },
                {
                    "name": "stderr",
                    "output_type": "stream",
                    "text": [
                        "2023-09-12 22:10:17,794:INFO - HTTP Request: POST https://fpyltvtkpkrkzortucoa.supabase.co/rest/v1/album_media_link \"HTTP/1.1 201 Created\"\n",
                        "2023-09-12 22:10:17,904:INFO - HTTP Request: GET https://fpyltvtkpkrkzortucoa.supabase.co/rest/v1/album_media_link?select=%2A&media_id=eq.249&album_id=eq.111 \"HTTP/1.1 200 OK\"\n"
                    ]
                },
                {
                    "name": "stdout",
                    "output_type": "stream",
                    "text": [
                        "{'album_id': 111, 'media_id': 249}\n",
                        "[{'id': 112, 'album_id': 111, 'media_id': 249}]\n",
                        "{'album_id': 111, 'media_id': 203}\n"
                    ]
                },
                {
                    "name": "stderr",
                    "output_type": "stream",
                    "text": [
                        "2023-09-12 22:10:18,022:INFO - HTTP Request: GET https://fpyltvtkpkrkzortucoa.supabase.co/rest/v1/album_media_link?select=%2A&media_id=eq.203&album_id=eq.111 \"HTTP/1.1 200 OK\"\n",
                        "2023-09-12 22:10:18,128:INFO - HTTP Request: GET https://fpyltvtkpkrkzortucoa.supabase.co/rest/v1/album_media_link?select=%2A&media_id=eq.344&album_id=eq.111 \"HTTP/1.1 200 OK\"\n"
                    ]
                },
                {
                    "name": "stdout",
                    "output_type": "stream",
                    "text": [
                        "[{'id': 113, 'album_id': 111, 'media_id': 203}]\n",
                        "{'album_id': 111, 'media_id': 344}\n",
                        "[]\n",
                        "Media_id 344 does not exist in album_id 111\n"
                    ]
                },
                {
                    "name": "stderr",
                    "output_type": "stream",
                    "text": [
                        "2023-09-12 22:10:18,239:INFO - HTTP Request: POST https://fpyltvtkpkrkzortucoa.supabase.co/rest/v1/album_media_link \"HTTP/1.1 201 Created\"\n",
                        "2023-09-12 22:10:18,345:INFO - HTTP Request: GET https://fpyltvtkpkrkzortucoa.supabase.co/rest/v1/album_media_link?select=%2A&media_id=eq.246&album_id=eq.111 \"HTTP/1.1 200 OK\"\n"
                    ]
                },
                {
                    "name": "stdout",
                    "output_type": "stream",
                    "text": [
                        "{'album_id': 111, 'media_id': 246}\n",
                        "[{'id': 114, 'album_id': 111, 'media_id': 246}]\n",
                        "{'album_id': 111, 'media_id': 331}\n"
                    ]
                },
                {
                    "name": "stderr",
                    "output_type": "stream",
                    "text": [
                        "2023-09-12 22:10:18,507:INFO - HTTP Request: GET https://fpyltvtkpkrkzortucoa.supabase.co/rest/v1/album_media_link?select=%2A&media_id=eq.331&album_id=eq.111 \"HTTP/1.1 200 OK\"\n",
                        "2023-09-12 22:10:18,582:INFO - HTTP Request: POST https://fpyltvtkpkrkzortucoa.supabase.co/rest/v1/album_media_link \"HTTP/1.1 201 Created\"\n",
                        "2023-09-12 22:10:18,671:INFO - HTTP Request: GET https://fpyltvtkpkrkzortucoa.supabase.co/rest/v1/album_media_link?select=%2A&media_id=eq.333&album_id=eq.111 \"HTTP/1.1 200 OK\"\n"
                    ]
                },
                {
                    "name": "stdout",
                    "output_type": "stream",
                    "text": [
                        "[]\n",
                        "Media_id 331 does not exist in album_id 111\n",
                        "{'album_id': 111, 'media_id': 333}\n",
                        "[]\n",
                        "Media_id 333 does not exist in album_id 111\n"
                    ]
                },
                {
                    "name": "stderr",
                    "output_type": "stream",
                    "text": [
                        "2023-09-12 22:10:18,778:INFO - HTTP Request: POST https://fpyltvtkpkrkzortucoa.supabase.co/rest/v1/album_media_link \"HTTP/1.1 201 Created\"\n"
                    ]
                },
                {
                    "name": "stdout",
                    "output_type": "stream",
                    "text": [
                        "{'id': 98, 'created_at': '2023-09-12T16:39:37.017615+00:00', 'project_id': 18, 'scene_order_position': 2, 'uuid': '026efd73-64a4-4e3e-94c6-bb779e4fd0f9', 'scene_text': 'After weeks of meticulous work, she tuned it for the first time, and a hauntingly beautiful melody filled the room as if guided by an invisible hand.', 'status': 'Active', 'album_id': 112, 'theme_keywords': ['Tuning an instrument', 'Creating beautiful music', 'Working carefully', 'Invisible guiding hand', 'Haunting melodies']}\n",
                        "After weeks of meticulous work, she tuned it for the first time, and a hauntingly beautiful melody filled the room as if guided by an invisible hand.\n"
                    ]
                },
                {
                    "name": "stderr",
                    "output_type": "stream",
                    "text": [
                        "2023-09-12 22:10:19,554:INFO - HTTP Request: GET https://fpyltvtkpkrkzortucoa.supabase.co/rest/v1/album_media_link?select=%2A&media_id=eq.333&album_id=eq.112 \"HTTP/1.1 200 OK\"\n"
                    ]
                },
                {
                    "name": "stdout",
                    "output_type": "stream",
                    "text": [
                        "{'id': 352, 'content': 'a man playing a violin in a dark room', 'media_table_id': 333, 'similarity': 0.852500437565023}\n",
                        "{'id': 210, 'content': 'a man playing a guitar in a recording studio', 'media_table_id': 191, 'similarity': 0.839908684436044}\n",
                        "{'id': 369, 'content': 'a man singing into a microphone in a recording studio', 'media_table_id': 350, 'similarity': 0.837930454466622}\n",
                        "{'id': 264, 'content': 'a close up of a person playing a piano', 'media_table_id': 245, 'similarity': 0.836384253806519}\n",
                        "{'id': 205, 'content': 'a person playing a guitar in a room', 'media_table_id': 186, 'similarity': 0.8340823494951}\n",
                        "{'id': 268, 'content': 'a man sitting in front of a table with a violin', 'media_table_id': 249, 'similarity': 0.833578333329397}\n",
                        "{'id': 363, 'content': 'a man holding a violin while standing next to a microphone', 'media_table_id': 344, 'similarity': 0.833171689781482}\n",
                        "{'id': 368, 'content': 'a man singing into a microphone while holding a guitar', 'media_table_id': 349, 'similarity': 0.832695233690506}\n",
                        "{'id': 370, 'content': 'a man holding a violin in her right hand', 'media_table_id': 351, 'similarity': 0.82893883940632}\n",
                        "{'id': 262, 'content': 'a close up of a glowing keyboard in the dark', 'media_table_id': 243, 'similarity': 0.828795981543881}\n",
                        "{'id': 350, 'content': 'a close up of a person playing a violin', 'media_table_id': 331, 'similarity': 0.828391491514654}\n",
                        "{'id': 359, 'content': 'a group of people playing instruments in a room', 'media_table_id': 340, 'similarity': 0.823633854734573}\n",
                        "{'id': 355, 'content': 'a group of people playing musical instruments in a room', 'media_table_id': 336, 'similarity': 0.821532234723341}\n",
                        "{'id': 354, 'content': 'a group of people playing musical instruments in a room', 'media_table_id': 335, 'similarity': 0.821532234723341}\n",
                        "{'id': 222, 'content': 'a violin leaning against a log in a field', 'media_table_id': 203, 'similarity': 0.821240438646451}\n",
                        "{'id': 358, 'content': 'a man with dreadlocks is playing a violin', 'media_table_id': 339, 'similarity': 0.820360520107015}\n",
                        "{'id': 220, 'content': 'a close up of a person playing a guitar', 'media_table_id': 201, 'similarity': 0.81720863729257}\n",
                        "{'id': 207, 'content': 'a close up of a person playing a guitar', 'media_table_id': 188, 'similarity': 0.81720863729257}\n",
                        "{'id': 232, 'content': 'a close up of a person playing a guitar', 'media_table_id': 213, 'similarity': 0.81720863729257}\n",
                        "{'id': 212, 'content': 'a close up of a person playing a guitar', 'media_table_id': 193, 'similarity': 0.81720863729257}\n",
                        "[333, 191, 350, 245, 186, 249, 344, 349, 351, 243, 331, 340, 336, 335, 203, 339, 201, 188, 213, 193]\n",
                        "{'album_id': 112, 'media_id': 333}\n",
                        "[]\n",
                        "Media_id 333 does not exist in album_id 112\n"
                    ]
                },
                {
                    "name": "stderr",
                    "output_type": "stream",
                    "text": [
                        "2023-09-12 22:10:19,638:INFO - HTTP Request: POST https://fpyltvtkpkrkzortucoa.supabase.co/rest/v1/album_media_link \"HTTP/1.1 201 Created\"\n",
                        "2023-09-12 22:10:19,740:INFO - HTTP Request: GET https://fpyltvtkpkrkzortucoa.supabase.co/rest/v1/album_media_link?select=%2A&media_id=eq.191&album_id=eq.112 \"HTTP/1.1 200 OK\"\n"
                    ]
                },
                {
                    "name": "stdout",
                    "output_type": "stream",
                    "text": [
                        "{'album_id': 112, 'media_id': 191}\n",
                        "[]\n",
                        "Media_id 191 does not exist in album_id 112\n"
                    ]
                },
                {
                    "name": "stderr",
                    "output_type": "stream",
                    "text": [
                        "2023-09-12 22:10:19,870:INFO - HTTP Request: POST https://fpyltvtkpkrkzortucoa.supabase.co/rest/v1/album_media_link \"HTTP/1.1 201 Created\"\n",
                        "2023-09-12 22:10:19,968:INFO - HTTP Request: GET https://fpyltvtkpkrkzortucoa.supabase.co/rest/v1/album_media_link?select=%2A&media_id=eq.350&album_id=eq.112 \"HTTP/1.1 200 OK\"\n"
                    ]
                },
                {
                    "name": "stdout",
                    "output_type": "stream",
                    "text": [
                        "{'album_id': 112, 'media_id': 350}\n",
                        "[]\n",
                        "Media_id 350 does not exist in album_id 112\n"
                    ]
                },
                {
                    "name": "stderr",
                    "output_type": "stream",
                    "text": [
                        "2023-09-12 22:10:20,083:INFO - HTTP Request: POST https://fpyltvtkpkrkzortucoa.supabase.co/rest/v1/album_media_link \"HTTP/1.1 201 Created\"\n",
                        "2023-09-12 22:10:20,145:INFO - HTTP Request: GET https://fpyltvtkpkrkzortucoa.supabase.co/rest/v1/album_media_link?select=%2A&media_id=eq.245&album_id=eq.112 \"HTTP/1.1 200 OK\"\n",
                        "2023-09-12 22:10:20,225:INFO - HTTP Request: POST https://fpyltvtkpkrkzortucoa.supabase.co/rest/v1/album_media_link \"HTTP/1.1 201 Created\"\n"
                    ]
                },
                {
                    "name": "stdout",
                    "output_type": "stream",
                    "text": [
                        "{'album_id': 112, 'media_id': 245}\n",
                        "[]\n",
                        "Media_id 245 does not exist in album_id 112\n",
                        "{'album_id': 112, 'media_id': 186}\n"
                    ]
                },
                {
                    "name": "stderr",
                    "output_type": "stream",
                    "text": [
                        "2023-09-12 22:10:20,322:INFO - HTTP Request: GET https://fpyltvtkpkrkzortucoa.supabase.co/rest/v1/album_media_link?select=%2A&media_id=eq.186&album_id=eq.112 \"HTTP/1.1 200 OK\"\n",
                        "2023-09-12 22:10:20,393:INFO - HTTP Request: POST https://fpyltvtkpkrkzortucoa.supabase.co/rest/v1/album_media_link \"HTTP/1.1 201 Created\"\n",
                        "2023-09-12 22:10:20,471:INFO - HTTP Request: GET https://fpyltvtkpkrkzortucoa.supabase.co/rest/v1/album_media_link?select=%2A&media_id=eq.249&album_id=eq.112 \"HTTP/1.1 200 OK\"\n"
                    ]
                },
                {
                    "name": "stdout",
                    "output_type": "stream",
                    "text": [
                        "[]\n",
                        "Media_id 186 does not exist in album_id 112\n",
                        "{'album_id': 112, 'media_id': 249}\n",
                        "[]\n",
                        "Media_id 249 does not exist in album_id 112\n"
                    ]
                },
                {
                    "name": "stderr",
                    "output_type": "stream",
                    "text": [
                        "2023-09-12 22:10:20,560:INFO - HTTP Request: POST https://fpyltvtkpkrkzortucoa.supabase.co/rest/v1/album_media_link \"HTTP/1.1 201 Created\"\n",
                        "2023-09-12 22:10:20,644:INFO - HTTP Request: GET https://fpyltvtkpkrkzortucoa.supabase.co/rest/v1/album_media_link?select=%2A&media_id=eq.344&album_id=eq.112 \"HTTP/1.1 200 OK\"\n",
                        "2023-09-12 22:10:20,738:INFO - HTTP Request: POST https://fpyltvtkpkrkzortucoa.supabase.co/rest/v1/album_media_link \"HTTP/1.1 201 Created\"\n"
                    ]
                },
                {
                    "name": "stdout",
                    "output_type": "stream",
                    "text": [
                        "{'album_id': 112, 'media_id': 344}\n",
                        "[]\n",
                        "Media_id 344 does not exist in album_id 112\n",
                        "{'album_id': 112, 'media_id': 349}\n"
                    ]
                },
                {
                    "name": "stderr",
                    "output_type": "stream",
                    "text": [
                        "2023-09-12 22:10:20,834:INFO - HTTP Request: GET https://fpyltvtkpkrkzortucoa.supabase.co/rest/v1/album_media_link?select=%2A&media_id=eq.349&album_id=eq.112 \"HTTP/1.1 200 OK\"\n",
                        "2023-09-12 22:10:20,912:INFO - HTTP Request: POST https://fpyltvtkpkrkzortucoa.supabase.co/rest/v1/album_media_link \"HTTP/1.1 201 Created\"\n",
                        "2023-09-12 22:10:20,978:INFO - HTTP Request: GET https://fpyltvtkpkrkzortucoa.supabase.co/rest/v1/album_media_link?select=%2A&media_id=eq.351&album_id=eq.112 \"HTTP/1.1 200 OK\"\n"
                    ]
                },
                {
                    "name": "stdout",
                    "output_type": "stream",
                    "text": [
                        "[]\n",
                        "Media_id 349 does not exist in album_id 112\n",
                        "{'album_id': 112, 'media_id': 351}\n",
                        "[]\n",
                        "Media_id 351 does not exist in album_id 112\n"
                    ]
                },
                {
                    "name": "stderr",
                    "output_type": "stream",
                    "text": [
                        "2023-09-12 22:10:21,057:INFO - HTTP Request: POST https://fpyltvtkpkrkzortucoa.supabase.co/rest/v1/album_media_link \"HTTP/1.1 201 Created\"\n",
                        "2023-09-12 22:10:21,126:INFO - HTTP Request: GET https://fpyltvtkpkrkzortucoa.supabase.co/rest/v1/album_media_link?select=%2A&media_id=eq.243&album_id=eq.112 \"HTTP/1.1 200 OK\"\n",
                        "2023-09-12 22:10:21,220:INFO - HTTP Request: POST https://fpyltvtkpkrkzortucoa.supabase.co/rest/v1/album_media_link \"HTTP/1.1 201 Created\"\n"
                    ]
                },
                {
                    "name": "stdout",
                    "output_type": "stream",
                    "text": [
                        "{'album_id': 112, 'media_id': 243}\n",
                        "[]\n",
                        "Media_id 243 does not exist in album_id 112\n",
                        "{'album_id': 112, 'media_id': 331}\n"
                    ]
                },
                {
                    "name": "stderr",
                    "output_type": "stream",
                    "text": [
                        "2023-09-12 22:10:21,289:INFO - HTTP Request: GET https://fpyltvtkpkrkzortucoa.supabase.co/rest/v1/album_media_link?select=%2A&media_id=eq.331&album_id=eq.112 \"HTTP/1.1 200 OK\"\n",
                        "2023-09-12 22:10:21,351:INFO - HTTP Request: POST https://fpyltvtkpkrkzortucoa.supabase.co/rest/v1/album_media_link \"HTTP/1.1 201 Created\"\n",
                        "2023-09-12 22:10:21,432:INFO - HTTP Request: GET https://fpyltvtkpkrkzortucoa.supabase.co/rest/v1/album_media_link?select=%2A&media_id=eq.340&album_id=eq.112 \"HTTP/1.1 200 OK\"\n"
                    ]
                },
                {
                    "name": "stdout",
                    "output_type": "stream",
                    "text": [
                        "[]\n",
                        "Media_id 331 does not exist in album_id 112\n",
                        "{'album_id': 112, 'media_id': 340}\n",
                        "[]\n",
                        "Media_id 340 does not exist in album_id 112\n"
                    ]
                },
                {
                    "name": "stderr",
                    "output_type": "stream",
                    "text": [
                        "2023-09-12 22:10:21,508:INFO - HTTP Request: POST https://fpyltvtkpkrkzortucoa.supabase.co/rest/v1/album_media_link \"HTTP/1.1 201 Created\"\n",
                        "2023-09-12 22:10:21,597:INFO - HTTP Request: GET https://fpyltvtkpkrkzortucoa.supabase.co/rest/v1/album_media_link?select=%2A&media_id=eq.336&album_id=eq.112 \"HTTP/1.1 200 OK\"\n"
                    ]
                },
                {
                    "name": "stdout",
                    "output_type": "stream",
                    "text": [
                        "{'album_id': 112, 'media_id': 336}\n",
                        "[]\n",
                        "Media_id 336 does not exist in album_id 112\n"
                    ]
                },
                {
                    "name": "stderr",
                    "output_type": "stream",
                    "text": [
                        "2023-09-12 22:10:21,724:INFO - HTTP Request: POST https://fpyltvtkpkrkzortucoa.supabase.co/rest/v1/album_media_link \"HTTP/1.1 201 Created\"\n",
                        "2023-09-12 22:10:21,803:INFO - HTTP Request: GET https://fpyltvtkpkrkzortucoa.supabase.co/rest/v1/album_media_link?select=%2A&media_id=eq.335&album_id=eq.112 \"HTTP/1.1 200 OK\"\n",
                        "2023-09-12 22:10:21,870:INFO - HTTP Request: POST https://fpyltvtkpkrkzortucoa.supabase.co/rest/v1/album_media_link \"HTTP/1.1 201 Created\"\n"
                    ]
                },
                {
                    "name": "stdout",
                    "output_type": "stream",
                    "text": [
                        "{'album_id': 112, 'media_id': 335}\n",
                        "[]\n",
                        "Media_id 335 does not exist in album_id 112\n",
                        "{'album_id': 112, 'media_id': 203}\n"
                    ]
                },
                {
                    "name": "stderr",
                    "output_type": "stream",
                    "text": [
                        "2023-09-12 22:10:21,945:INFO - HTTP Request: GET https://fpyltvtkpkrkzortucoa.supabase.co/rest/v1/album_media_link?select=%2A&media_id=eq.203&album_id=eq.112 \"HTTP/1.1 200 OK\"\n",
                        "2023-09-12 22:10:22,020:INFO - HTTP Request: POST https://fpyltvtkpkrkzortucoa.supabase.co/rest/v1/album_media_link \"HTTP/1.1 201 Created\"\n",
                        "2023-09-12 22:10:22,089:INFO - HTTP Request: GET https://fpyltvtkpkrkzortucoa.supabase.co/rest/v1/album_media_link?select=%2A&media_id=eq.339&album_id=eq.112 \"HTTP/1.1 200 OK\"\n"
                    ]
                },
                {
                    "name": "stdout",
                    "output_type": "stream",
                    "text": [
                        "[]\n",
                        "Media_id 203 does not exist in album_id 112\n",
                        "{'album_id': 112, 'media_id': 339}\n",
                        "[]\n",
                        "Media_id 339 does not exist in album_id 112\n"
                    ]
                },
                {
                    "name": "stderr",
                    "output_type": "stream",
                    "text": [
                        "2023-09-12 22:10:22,162:INFO - HTTP Request: POST https://fpyltvtkpkrkzortucoa.supabase.co/rest/v1/album_media_link \"HTTP/1.1 201 Created\"\n",
                        "2023-09-12 22:10:22,243:INFO - HTTP Request: GET https://fpyltvtkpkrkzortucoa.supabase.co/rest/v1/album_media_link?select=%2A&media_id=eq.201&album_id=eq.112 \"HTTP/1.1 200 OK\"\n",
                        "2023-09-12 22:10:22,352:INFO - HTTP Request: POST https://fpyltvtkpkrkzortucoa.supabase.co/rest/v1/album_media_link \"HTTP/1.1 201 Created\"\n"
                    ]
                },
                {
                    "name": "stdout",
                    "output_type": "stream",
                    "text": [
                        "{'album_id': 112, 'media_id': 201}\n",
                        "[]\n",
                        "Media_id 201 does not exist in album_id 112\n",
                        "{'album_id': 112, 'media_id': 188}\n"
                    ]
                },
                {
                    "name": "stderr",
                    "output_type": "stream",
                    "text": [
                        "2023-09-12 22:10:22,432:INFO - HTTP Request: GET https://fpyltvtkpkrkzortucoa.supabase.co/rest/v1/album_media_link?select=%2A&media_id=eq.188&album_id=eq.112 \"HTTP/1.1 200 OK\"\n",
                        "2023-09-12 22:10:22,503:INFO - HTTP Request: POST https://fpyltvtkpkrkzortucoa.supabase.co/rest/v1/album_media_link \"HTTP/1.1 201 Created\"\n",
                        "2023-09-12 22:10:22,578:INFO - HTTP Request: GET https://fpyltvtkpkrkzortucoa.supabase.co/rest/v1/album_media_link?select=%2A&media_id=eq.213&album_id=eq.112 \"HTTP/1.1 200 OK\"\n"
                    ]
                },
                {
                    "name": "stdout",
                    "output_type": "stream",
                    "text": [
                        "[]\n",
                        "Media_id 188 does not exist in album_id 112\n",
                        "{'album_id': 112, 'media_id': 213}\n",
                        "[]\n",
                        "Media_id 213 does not exist in album_id 112\n"
                    ]
                },
                {
                    "name": "stderr",
                    "output_type": "stream",
                    "text": [
                        "2023-09-12 22:10:22,662:INFO - HTTP Request: POST https://fpyltvtkpkrkzortucoa.supabase.co/rest/v1/album_media_link \"HTTP/1.1 201 Created\"\n",
                        "2023-09-12 22:10:22,742:INFO - HTTP Request: GET https://fpyltvtkpkrkzortucoa.supabase.co/rest/v1/album_media_link?select=%2A&media_id=eq.193&album_id=eq.112 \"HTTP/1.1 200 OK\"\n",
                        "2023-09-12 22:10:22,820:INFO - HTTP Request: POST https://fpyltvtkpkrkzortucoa.supabase.co/rest/v1/album_media_link \"HTTP/1.1 201 Created\"\n"
                    ]
                },
                {
                    "name": "stdout",
                    "output_type": "stream",
                    "text": [
                        "{'album_id': 112, 'media_id': 193}\n",
                        "[]\n",
                        "Media_id 193 does not exist in album_id 112\n",
                        "{'id': 99, 'created_at': '2023-09-12T16:39:37.198771+00:00', 'project_id': 18, 'scene_order_position': 3, 'uuid': 'ba7efa60-9609-4f9a-8909-d2e9fa9a9a4f', 'scene_text': 'Intrigued, she researched its history and found out it had belonged to a famous musician who disappeared under mysterious circumstances.', 'status': 'Active', 'album_id': 113, 'theme_keywords': ['Investigating history', 'Old newspapers', 'Famous', 'missing musician', 'Mystery unsolved', 'Curiosity sparked']}\n",
                        "Intrigued, she researched its history and found out it had belonged to a famous musician who disappeared under mysterious circumstances.\n",
                        "{'id': 268, 'content': 'a man sitting in front of a table with a violin', 'media_table_id': 249, 'similarity': 0.803605309184607}\n",
                        "{'id': 222, 'content': 'a violin leaning against a log in a field', 'media_table_id': 203, 'similarity': 0.802732105016186}\n",
                        "[249, 203]\n",
                        "{'album_id': 113, 'media_id': 249}\n"
                    ]
                },
                {
                    "name": "stderr",
                    "output_type": "stream",
                    "text": [
                        "2023-09-12 22:10:24,250:INFO - HTTP Request: GET https://fpyltvtkpkrkzortucoa.supabase.co/rest/v1/album_media_link?select=%2A&media_id=eq.249&album_id=eq.113 \"HTTP/1.1 200 OK\"\n",
                        "2023-09-12 22:10:24,339:INFO - HTTP Request: GET https://fpyltvtkpkrkzortucoa.supabase.co/rest/v1/album_media_link?select=%2A&media_id=eq.203&album_id=eq.113 \"HTTP/1.1 200 OK\"\n"
                    ]
                },
                {
                    "name": "stdout",
                    "output_type": "stream",
                    "text": [
                        "[{'id': 115, 'album_id': 113, 'media_id': 249}]\n",
                        "{'album_id': 113, 'media_id': 203}\n",
                        "[{'id': 116, 'album_id': 113, 'media_id': 203}]\n",
                        "{'id': 100, 'created_at': '2023-09-12T16:39:37.339969+00:00', 'project_id': 18, 'scene_order_position': 4, 'uuid': 'aef39f5c-6a1d-4a0f-b0a0-c537cb590d41', 'scene_text': \"Emily took it to her next concert and played an improvised piece; the audience was spellbound, feeling emotions they couldn't explain.\", 'status': 'Active', 'album_id': 114, 'theme_keywords': ['Performing on stage', 'Mesmerized audience', 'Emotion through music', 'Improv skills', 'Power of art']}\n",
                        "Emily took it to her next concert and played an improvised piece; the audience was spellbound, feeling emotions they couldn't explain.\n"
                    ]
                },
                {
                    "name": "stderr",
                    "output_type": "stream",
                    "text": [
                        "2023-09-12 22:10:25,124:INFO - HTTP Request: GET https://fpyltvtkpkrkzortucoa.supabase.co/rest/v1/album_media_link?select=%2A&media_id=eq.347&album_id=eq.114 \"HTTP/1.1 200 OK\"\n",
                        "2023-09-12 22:10:25,192:INFO - HTTP Request: POST https://fpyltvtkpkrkzortucoa.supabase.co/rest/v1/album_media_link \"HTTP/1.1 201 Created\"\n"
                    ]
                },
                {
                    "name": "stdout",
                    "output_type": "stream",
                    "text": [
                        "{'id': 366, 'content': 'a man standing in front of a crowd at a concert', 'media_table_id': 347, 'similarity': 0.849990188230822}\n",
                        "{'id': 363, 'content': 'a man holding a violin while standing next to a microphone', 'media_table_id': 344, 'similarity': 0.840833401826808}\n",
                        "{'id': 310, 'content': 'a crowd of people at a concert with their hands in the air', 'media_table_id': 291, 'similarity': 0.836919311232369}\n",
                        "{'id': 292, 'content': 'a crowd of people at a concert with their hands in the air', 'media_table_id': 273, 'similarity': 0.836855050100463}\n",
                        "{'id': 374, 'content': 'a crowd of people at a concert with their hands in the air', 'media_table_id': 355, 'similarity': 0.836797981669459}\n",
                        "{'id': 351, 'content': 'a couple of women playing violin on a stage', 'media_table_id': 332, 'similarity': 0.836059527849941}\n",
                        "{'id': 352, 'content': 'a man playing a violin in a dark room', 'media_table_id': 333, 'similarity': 0.834870135015165}\n",
                        "{'id': 368, 'content': 'a man singing into a microphone while holding a guitar', 'media_table_id': 349, 'similarity': 0.833940781103822}\n",
                        "{'id': 268, 'content': 'a man sitting in front of a table with a violin', 'media_table_id': 249, 'similarity': 0.83381818014336}\n",
                        "{'id': 358, 'content': 'a man with dreadlocks is playing a violin', 'media_table_id': 339, 'similarity': 0.82653622100303}\n",
                        "{'id': 370, 'content': 'a man holding a violin in her right hand', 'media_table_id': 351, 'similarity': 0.826521182093534}\n",
                        "{'id': 315, 'content': 'a large crowd of people at a concert', 'media_table_id': 296, 'similarity': 0.826391765160794}\n",
                        "{'id': 298, 'content': 'a large crowd of people at a concert', 'media_table_id': 279, 'similarity': 0.826385885429226}\n",
                        "{'id': 306, 'content': 'a large crowd of people at a concert', 'media_table_id': 287, 'similarity': 0.826309551744079}\n",
                        "{'id': 350, 'content': 'a close up of a person playing a violin', 'media_table_id': 331, 'similarity': 0.823259912789415}\n",
                        "{'id': 264, 'content': 'a close up of a person playing a piano', 'media_table_id': 245, 'similarity': 0.821536130054399}\n",
                        "{'id': 210, 'content': 'a man playing a guitar in a recording studio', 'media_table_id': 191, 'similarity': 0.819502667146552}\n",
                        "{'id': 416, 'content': 'a man and a man sitting on the floor playing guitar', 'media_table_id': 397, 'similarity': 0.817309574127973}\n",
                        "{'id': 359, 'content': 'a group of people playing instruments in a room', 'media_table_id': 340, 'similarity': 0.817095198088708}\n",
                        "{'id': 214, 'content': 'a close up of a person playing a guitar', 'media_table_id': 195, 'similarity': 0.815309264731303}\n",
                        "[347, 344, 291, 273, 355, 332, 333, 349, 249, 339, 351, 296, 279, 287, 331, 245, 191, 397, 340, 195]\n",
                        "{'album_id': 114, 'media_id': 347}\n",
                        "[]\n",
                        "Media_id 347 does not exist in album_id 114\n",
                        "{'album_id': 114, 'media_id': 344}\n"
                    ]
                },
                {
                    "name": "stderr",
                    "output_type": "stream",
                    "text": [
                        "2023-09-12 22:10:25,328:INFO - HTTP Request: GET https://fpyltvtkpkrkzortucoa.supabase.co/rest/v1/album_media_link?select=%2A&media_id=eq.344&album_id=eq.114 \"HTTP/1.1 200 OK\"\n",
                        "2023-09-12 22:10:25,392:INFO - HTTP Request: POST https://fpyltvtkpkrkzortucoa.supabase.co/rest/v1/album_media_link \"HTTP/1.1 201 Created\"\n",
                        "2023-09-12 22:10:25,508:INFO - HTTP Request: GET https://fpyltvtkpkrkzortucoa.supabase.co/rest/v1/album_media_link?select=%2A&media_id=eq.291&album_id=eq.114 \"HTTP/1.1 200 OK\"\n"
                    ]
                },
                {
                    "name": "stdout",
                    "output_type": "stream",
                    "text": [
                        "[]\n",
                        "Media_id 344 does not exist in album_id 114\n",
                        "{'album_id': 114, 'media_id': 291}\n",
                        "[]\n",
                        "Media_id 291 does not exist in album_id 114\n"
                    ]
                },
                {
                    "name": "stderr",
                    "output_type": "stream",
                    "text": [
                        "2023-09-12 22:10:25,592:INFO - HTTP Request: POST https://fpyltvtkpkrkzortucoa.supabase.co/rest/v1/album_media_link \"HTTP/1.1 201 Created\"\n",
                        "2023-09-12 22:10:25,709:INFO - HTTP Request: GET https://fpyltvtkpkrkzortucoa.supabase.co/rest/v1/album_media_link?select=%2A&media_id=eq.273&album_id=eq.114 \"HTTP/1.1 200 OK\"\n",
                        "2023-09-12 22:10:25,787:INFO - HTTP Request: POST https://fpyltvtkpkrkzortucoa.supabase.co/rest/v1/album_media_link \"HTTP/1.1 201 Created\"\n"
                    ]
                },
                {
                    "name": "stdout",
                    "output_type": "stream",
                    "text": [
                        "{'album_id': 114, 'media_id': 273}\n",
                        "[]\n",
                        "Media_id 273 does not exist in album_id 114\n",
                        "{'album_id': 114, 'media_id': 355}\n"
                    ]
                },
                {
                    "name": "stderr",
                    "output_type": "stream",
                    "text": [
                        "2023-09-12 22:10:25,887:INFO - HTTP Request: GET https://fpyltvtkpkrkzortucoa.supabase.co/rest/v1/album_media_link?select=%2A&media_id=eq.355&album_id=eq.114 \"HTTP/1.1 200 OK\"\n",
                        "2023-09-12 22:10:25,969:INFO - HTTP Request: POST https://fpyltvtkpkrkzortucoa.supabase.co/rest/v1/album_media_link \"HTTP/1.1 201 Created\"\n",
                        "2023-09-12 22:10:26,069:INFO - HTTP Request: GET https://fpyltvtkpkrkzortucoa.supabase.co/rest/v1/album_media_link?select=%2A&media_id=eq.332&album_id=eq.114 \"HTTP/1.1 200 OK\"\n"
                    ]
                },
                {
                    "name": "stdout",
                    "output_type": "stream",
                    "text": [
                        "[]\n",
                        "Media_id 355 does not exist in album_id 114\n",
                        "{'album_id': 114, 'media_id': 332}\n",
                        "[]\n",
                        "Media_id 332 does not exist in album_id 114\n"
                    ]
                },
                {
                    "name": "stderr",
                    "output_type": "stream",
                    "text": [
                        "2023-09-12 22:10:26,134:INFO - HTTP Request: POST https://fpyltvtkpkrkzortucoa.supabase.co/rest/v1/album_media_link \"HTTP/1.1 201 Created\"\n",
                        "2023-09-12 22:10:26,209:INFO - HTTP Request: GET https://fpyltvtkpkrkzortucoa.supabase.co/rest/v1/album_media_link?select=%2A&media_id=eq.333&album_id=eq.114 \"HTTP/1.1 200 OK\"\n",
                        "2023-09-12 22:10:26,275:INFO - HTTP Request: POST https://fpyltvtkpkrkzortucoa.supabase.co/rest/v1/album_media_link \"HTTP/1.1 201 Created\"\n"
                    ]
                },
                {
                    "name": "stdout",
                    "output_type": "stream",
                    "text": [
                        "{'album_id': 114, 'media_id': 333}\n",
                        "[]\n",
                        "Media_id 333 does not exist in album_id 114\n",
                        "{'album_id': 114, 'media_id': 349}\n"
                    ]
                },
                {
                    "name": "stderr",
                    "output_type": "stream",
                    "text": [
                        "2023-09-12 22:10:26,352:INFO - HTTP Request: GET https://fpyltvtkpkrkzortucoa.supabase.co/rest/v1/album_media_link?select=%2A&media_id=eq.349&album_id=eq.114 \"HTTP/1.1 200 OK\"\n",
                        "2023-09-12 22:10:26,426:INFO - HTTP Request: POST https://fpyltvtkpkrkzortucoa.supabase.co/rest/v1/album_media_link \"HTTP/1.1 201 Created\"\n",
                        "2023-09-12 22:10:26,492:INFO - HTTP Request: GET https://fpyltvtkpkrkzortucoa.supabase.co/rest/v1/album_media_link?select=%2A&media_id=eq.249&album_id=eq.114 \"HTTP/1.1 200 OK\"\n"
                    ]
                },
                {
                    "name": "stdout",
                    "output_type": "stream",
                    "text": [
                        "[]\n",
                        "Media_id 349 does not exist in album_id 114\n",
                        "{'album_id': 114, 'media_id': 249}\n",
                        "[]\n",
                        "Media_id 249 does not exist in album_id 114\n"
                    ]
                },
                {
                    "name": "stderr",
                    "output_type": "stream",
                    "text": [
                        "2023-09-12 22:10:26,558:INFO - HTTP Request: POST https://fpyltvtkpkrkzortucoa.supabase.co/rest/v1/album_media_link \"HTTP/1.1 201 Created\"\n",
                        "2023-09-12 22:10:26,640:INFO - HTTP Request: GET https://fpyltvtkpkrkzortucoa.supabase.co/rest/v1/album_media_link?select=%2A&media_id=eq.339&album_id=eq.114 \"HTTP/1.1 200 OK\"\n",
                        "2023-09-12 22:10:26,751:INFO - HTTP Request: POST https://fpyltvtkpkrkzortucoa.supabase.co/rest/v1/album_media_link \"HTTP/1.1 201 Created\"\n"
                    ]
                },
                {
                    "name": "stdout",
                    "output_type": "stream",
                    "text": [
                        "{'album_id': 114, 'media_id': 339}\n",
                        "[]\n",
                        "Media_id 339 does not exist in album_id 114\n",
                        "{'album_id': 114, 'media_id': 351}\n"
                    ]
                },
                {
                    "name": "stderr",
                    "output_type": "stream",
                    "text": [
                        "2023-09-12 22:10:26,827:INFO - HTTP Request: GET https://fpyltvtkpkrkzortucoa.supabase.co/rest/v1/album_media_link?select=%2A&media_id=eq.351&album_id=eq.114 \"HTTP/1.1 200 OK\"\n",
                        "2023-09-12 22:10:26,890:INFO - HTTP Request: POST https://fpyltvtkpkrkzortucoa.supabase.co/rest/v1/album_media_link \"HTTP/1.1 201 Created\"\n",
                        "2023-09-12 22:10:26,966:INFO - HTTP Request: GET https://fpyltvtkpkrkzortucoa.supabase.co/rest/v1/album_media_link?select=%2A&media_id=eq.296&album_id=eq.114 \"HTTP/1.1 200 OK\"\n"
                    ]
                },
                {
                    "name": "stdout",
                    "output_type": "stream",
                    "text": [
                        "[]\n",
                        "Media_id 351 does not exist in album_id 114\n",
                        "{'album_id': 114, 'media_id': 296}\n",
                        "[]\n",
                        "Media_id 296 does not exist in album_id 114\n"
                    ]
                },
                {
                    "name": "stderr",
                    "output_type": "stream",
                    "text": [
                        "2023-09-12 22:10:27,042:INFO - HTTP Request: POST https://fpyltvtkpkrkzortucoa.supabase.co/rest/v1/album_media_link \"HTTP/1.1 201 Created\"\n",
                        "2023-09-12 22:10:27,149:INFO - HTTP Request: GET https://fpyltvtkpkrkzortucoa.supabase.co/rest/v1/album_media_link?select=%2A&media_id=eq.279&album_id=eq.114 \"HTTP/1.1 200 OK\"\n",
                        "2023-09-12 22:10:27,216:INFO - HTTP Request: POST https://fpyltvtkpkrkzortucoa.supabase.co/rest/v1/album_media_link \"HTTP/1.1 201 Created\"\n"
                    ]
                },
                {
                    "name": "stdout",
                    "output_type": "stream",
                    "text": [
                        "{'album_id': 114, 'media_id': 279}\n",
                        "[]\n",
                        "Media_id 279 does not exist in album_id 114\n",
                        "{'album_id': 114, 'media_id': 287}\n"
                    ]
                },
                {
                    "name": "stderr",
                    "output_type": "stream",
                    "text": [
                        "2023-09-12 22:10:27,317:INFO - HTTP Request: GET https://fpyltvtkpkrkzortucoa.supabase.co/rest/v1/album_media_link?select=%2A&media_id=eq.287&album_id=eq.114 \"HTTP/1.1 200 OK\"\n",
                        "2023-09-12 22:10:27,381:INFO - HTTP Request: POST https://fpyltvtkpkrkzortucoa.supabase.co/rest/v1/album_media_link \"HTTP/1.1 201 Created\"\n",
                        "2023-09-12 22:10:27,452:INFO - HTTP Request: GET https://fpyltvtkpkrkzortucoa.supabase.co/rest/v1/album_media_link?select=%2A&media_id=eq.331&album_id=eq.114 \"HTTP/1.1 200 OK\"\n"
                    ]
                },
                {
                    "name": "stdout",
                    "output_type": "stream",
                    "text": [
                        "[]\n",
                        "Media_id 287 does not exist in album_id 114\n",
                        "{'album_id': 114, 'media_id': 331}\n",
                        "[]\n",
                        "Media_id 331 does not exist in album_id 114\n"
                    ]
                },
                {
                    "name": "stderr",
                    "output_type": "stream",
                    "text": [
                        "2023-09-12 22:10:27,546:INFO - HTTP Request: POST https://fpyltvtkpkrkzortucoa.supabase.co/rest/v1/album_media_link \"HTTP/1.1 201 Created\"\n",
                        "2023-09-12 22:10:27,606:INFO - HTTP Request: GET https://fpyltvtkpkrkzortucoa.supabase.co/rest/v1/album_media_link?select=%2A&media_id=eq.245&album_id=eq.114 \"HTTP/1.1 200 OK\"\n",
                        "2023-09-12 22:10:27,670:INFO - HTTP Request: POST https://fpyltvtkpkrkzortucoa.supabase.co/rest/v1/album_media_link \"HTTP/1.1 201 Created\"\n",
                        "2023-09-12 22:10:27,739:INFO - HTTP Request: GET https://fpyltvtkpkrkzortucoa.supabase.co/rest/v1/album_media_link?select=%2A&media_id=eq.191&album_id=eq.114 \"HTTP/1.1 200 OK\"\n"
                    ]
                },
                {
                    "name": "stdout",
                    "output_type": "stream",
                    "text": [
                        "{'album_id': 114, 'media_id': 245}\n",
                        "[]\n",
                        "Media_id 245 does not exist in album_id 114\n",
                        "{'album_id': 114, 'media_id': 191}\n",
                        "[]\n",
                        "Media_id 191 does not exist in album_id 114\n"
                    ]
                },
                {
                    "name": "stderr",
                    "output_type": "stream",
                    "text": [
                        "2023-09-12 22:10:27,800:INFO - HTTP Request: POST https://fpyltvtkpkrkzortucoa.supabase.co/rest/v1/album_media_link \"HTTP/1.1 201 Created\"\n",
                        "2023-09-12 22:10:27,870:INFO - HTTP Request: GET https://fpyltvtkpkrkzortucoa.supabase.co/rest/v1/album_media_link?select=%2A&media_id=eq.397&album_id=eq.114 \"HTTP/1.1 200 OK\"\n",
                        "2023-09-12 22:10:27,953:INFO - HTTP Request: POST https://fpyltvtkpkrkzortucoa.supabase.co/rest/v1/album_media_link \"HTTP/1.1 201 Created\"\n"
                    ]
                },
                {
                    "name": "stdout",
                    "output_type": "stream",
                    "text": [
                        "{'album_id': 114, 'media_id': 397}\n",
                        "[]\n",
                        "Media_id 397 does not exist in album_id 114\n",
                        "{'album_id': 114, 'media_id': 340}\n"
                    ]
                },
                {
                    "name": "stderr",
                    "output_type": "stream",
                    "text": [
                        "2023-09-12 22:10:28,017:INFO - HTTP Request: GET https://fpyltvtkpkrkzortucoa.supabase.co/rest/v1/album_media_link?select=%2A&media_id=eq.340&album_id=eq.114 \"HTTP/1.1 200 OK\"\n",
                        "2023-09-12 22:10:28,095:INFO - HTTP Request: POST https://fpyltvtkpkrkzortucoa.supabase.co/rest/v1/album_media_link \"HTTP/1.1 201 Created\"\n"
                    ]
                },
                {
                    "name": "stdout",
                    "output_type": "stream",
                    "text": [
                        "[]\n",
                        "Media_id 340 does not exist in album_id 114\n",
                        "{'album_id': 114, 'media_id': 195}\n"
                    ]
                },
                {
                    "name": "stderr",
                    "output_type": "stream",
                    "text": [
                        "2023-09-12 22:10:28,241:INFO - HTTP Request: GET https://fpyltvtkpkrkzortucoa.supabase.co/rest/v1/album_media_link?select=%2A&media_id=eq.195&album_id=eq.114 \"HTTP/1.1 200 OK\"\n",
                        "2023-09-12 22:10:28,308:INFO - HTTP Request: POST https://fpyltvtkpkrkzortucoa.supabase.co/rest/v1/album_media_link \"HTTP/1.1 201 Created\"\n"
                    ]
                },
                {
                    "name": "stdout",
                    "output_type": "stream",
                    "text": [
                        "[]\n",
                        "Media_id 195 does not exist in album_id 114\n",
                        "{'id': 101, 'created_at': '2023-09-12T16:39:37.54028+00:00', 'project_id': 18, 'scene_order_position': 5, 'uuid': 'f85e303c-5992-4672-b9bc-ed22dacf122c', 'scene_text': 'But as the final note echoed, Emily vanished, leaving only the ancient violin on the empty stage.', 'status': 'Active', 'album_id': 115, 'theme_keywords': ['Sudden disappearance', 'Empty stage with a violin', 'Shock and confusion', 'Echoing final note', 'Left behind instrument']}\n",
                        "But as the final note echoed, Emily vanished, leaving only the ancient violin on the empty stage.\n"
                    ]
                },
                {
                    "name": "stderr",
                    "output_type": "stream",
                    "text": [
                        "2023-09-12 22:10:29,117:INFO - HTTP Request: GET https://fpyltvtkpkrkzortucoa.supabase.co/rest/v1/album_media_link?select=%2A&media_id=eq.249&album_id=eq.115 \"HTTP/1.1 200 OK\"\n",
                        "2023-09-12 22:10:29,202:INFO - HTTP Request: POST https://fpyltvtkpkrkzortucoa.supabase.co/rest/v1/album_media_link \"HTTP/1.1 201 Created\"\n"
                    ]
                },
                {
                    "name": "stdout",
                    "output_type": "stream",
                    "text": [
                        "{'id': 268, 'content': 'a man sitting in front of a table with a violin', 'media_table_id': 249, 'similarity': 0.846956325847445}\n",
                        "{'id': 222, 'content': 'a violin leaning against a log in a field', 'media_table_id': 203, 'similarity': 0.84276209769365}\n",
                        "{'id': 363, 'content': 'a man holding a violin while standing next to a microphone', 'media_table_id': 344, 'similarity': 0.842409608060174}\n",
                        "{'id': 351, 'content': 'a couple of women playing violin on a stage', 'media_table_id': 332, 'similarity': 0.841946692728788}\n",
                        "{'id': 352, 'content': 'a man playing a violin in a dark room', 'media_table_id': 333, 'similarity': 0.84107235470866}\n",
                        "{'id': 350, 'content': 'a close up of a person playing a violin', 'media_table_id': 331, 'similarity': 0.838202476133998}\n",
                        "{'id': 370, 'content': 'a man holding a violin in her right hand', 'media_table_id': 351, 'similarity': 0.835480658867956}\n",
                        "{'id': 174, 'content': 'a man sitting on a bench playing a violin', 'media_table_id': 155, 'similarity': 0.826484341692478}\n",
                        "{'id': 265, 'content': 'a man holding a violin in his right hand', 'media_table_id': 246, 'similarity': 0.82501782694642}\n",
                        "{'id': 173, 'content': 'a man in a red shirt playing a violin', 'media_table_id': 154, 'similarity': 0.818927405431711}\n",
                        "{'id': 358, 'content': 'a man with dreadlocks is playing a violin', 'media_table_id': 339, 'similarity': 0.811875252359087}\n",
                        "{'id': 264, 'content': 'a close up of a person playing a piano', 'media_table_id': 245, 'similarity': 0.808290558575744}\n",
                        "[249, 203, 344, 332, 333, 331, 351, 155, 246, 154, 339, 245]\n",
                        "{'album_id': 115, 'media_id': 249}\n",
                        "[]\n",
                        "Media_id 249 does not exist in album_id 115\n",
                        "{'album_id': 115, 'media_id': 203}\n"
                    ]
                },
                {
                    "name": "stderr",
                    "output_type": "stream",
                    "text": [
                        "2023-09-12 22:10:29,273:INFO - HTTP Request: GET https://fpyltvtkpkrkzortucoa.supabase.co/rest/v1/album_media_link?select=%2A&media_id=eq.203&album_id=eq.115 \"HTTP/1.1 200 OK\"\n",
                        "2023-09-12 22:10:29,376:INFO - HTTP Request: POST https://fpyltvtkpkrkzortucoa.supabase.co/rest/v1/album_media_link \"HTTP/1.1 201 Created\"\n",
                        "2023-09-12 22:10:29,453:INFO - HTTP Request: GET https://fpyltvtkpkrkzortucoa.supabase.co/rest/v1/album_media_link?select=%2A&media_id=eq.344&album_id=eq.115 \"HTTP/1.1 200 OK\"\n"
                    ]
                },
                {
                    "name": "stdout",
                    "output_type": "stream",
                    "text": [
                        "[]\n",
                        "Media_id 203 does not exist in album_id 115\n",
                        "{'album_id': 115, 'media_id': 344}\n",
                        "[]\n",
                        "Media_id 344 does not exist in album_id 115\n"
                    ]
                },
                {
                    "name": "stderr",
                    "output_type": "stream",
                    "text": [
                        "2023-09-12 22:10:29,519:INFO - HTTP Request: POST https://fpyltvtkpkrkzortucoa.supabase.co/rest/v1/album_media_link \"HTTP/1.1 201 Created\"\n",
                        "2023-09-12 22:10:29,590:INFO - HTTP Request: GET https://fpyltvtkpkrkzortucoa.supabase.co/rest/v1/album_media_link?select=%2A&media_id=eq.332&album_id=eq.115 \"HTTP/1.1 200 OK\"\n",
                        "2023-09-12 22:10:29,669:INFO - HTTP Request: POST https://fpyltvtkpkrkzortucoa.supabase.co/rest/v1/album_media_link \"HTTP/1.1 201 Created\"\n"
                    ]
                },
                {
                    "name": "stdout",
                    "output_type": "stream",
                    "text": [
                        "{'album_id': 115, 'media_id': 332}\n",
                        "[]\n",
                        "Media_id 332 does not exist in album_id 115\n",
                        "{'album_id': 115, 'media_id': 333}\n"
                    ]
                },
                {
                    "name": "stderr",
                    "output_type": "stream",
                    "text": [
                        "2023-09-12 22:10:29,731:INFO - HTTP Request: GET https://fpyltvtkpkrkzortucoa.supabase.co/rest/v1/album_media_link?select=%2A&media_id=eq.333&album_id=eq.115 \"HTTP/1.1 200 OK\"\n",
                        "2023-09-12 22:10:29,801:INFO - HTTP Request: POST https://fpyltvtkpkrkzortucoa.supabase.co/rest/v1/album_media_link \"HTTP/1.1 201 Created\"\n",
                        "2023-09-12 22:10:29,878:INFO - HTTP Request: GET https://fpyltvtkpkrkzortucoa.supabase.co/rest/v1/album_media_link?select=%2A&media_id=eq.331&album_id=eq.115 \"HTTP/1.1 200 OK\"\n"
                    ]
                },
                {
                    "name": "stdout",
                    "output_type": "stream",
                    "text": [
                        "[]\n",
                        "Media_id 333 does not exist in album_id 115\n",
                        "{'album_id': 115, 'media_id': 331}\n",
                        "[]\n",
                        "Media_id 331 does not exist in album_id 115\n"
                    ]
                },
                {
                    "name": "stderr",
                    "output_type": "stream",
                    "text": [
                        "2023-09-12 22:10:29,969:INFO - HTTP Request: POST https://fpyltvtkpkrkzortucoa.supabase.co/rest/v1/album_media_link \"HTTP/1.1 201 Created\"\n",
                        "2023-09-12 22:10:30,039:INFO - HTTP Request: GET https://fpyltvtkpkrkzortucoa.supabase.co/rest/v1/album_media_link?select=%2A&media_id=eq.351&album_id=eq.115 \"HTTP/1.1 200 OK\"\n",
                        "2023-09-12 22:10:30,112:INFO - HTTP Request: POST https://fpyltvtkpkrkzortucoa.supabase.co/rest/v1/album_media_link \"HTTP/1.1 201 Created\"\n"
                    ]
                },
                {
                    "name": "stdout",
                    "output_type": "stream",
                    "text": [
                        "{'album_id': 115, 'media_id': 351}\n",
                        "[]\n",
                        "Media_id 351 does not exist in album_id 115\n",
                        "{'album_id': 115, 'media_id': 155}\n"
                    ]
                },
                {
                    "name": "stderr",
                    "output_type": "stream",
                    "text": [
                        "2023-09-12 22:10:30,177:INFO - HTTP Request: GET https://fpyltvtkpkrkzortucoa.supabase.co/rest/v1/album_media_link?select=%2A&media_id=eq.155&album_id=eq.115 \"HTTP/1.1 200 OK\"\n",
                        "2023-09-12 22:10:30,242:INFO - HTTP Request: POST https://fpyltvtkpkrkzortucoa.supabase.co/rest/v1/album_media_link \"HTTP/1.1 201 Created\"\n",
                        "2023-09-12 22:10:30,320:INFO - HTTP Request: GET https://fpyltvtkpkrkzortucoa.supabase.co/rest/v1/album_media_link?select=%2A&media_id=eq.246&album_id=eq.115 \"HTTP/1.1 200 OK\"\n"
                    ]
                },
                {
                    "name": "stdout",
                    "output_type": "stream",
                    "text": [
                        "[]\n",
                        "Media_id 155 does not exist in album_id 115\n",
                        "{'album_id': 115, 'media_id': 246}\n",
                        "[]\n",
                        "Media_id 246 does not exist in album_id 115\n"
                    ]
                },
                {
                    "name": "stderr",
                    "output_type": "stream",
                    "text": [
                        "2023-09-12 22:10:30,383:INFO - HTTP Request: POST https://fpyltvtkpkrkzortucoa.supabase.co/rest/v1/album_media_link \"HTTP/1.1 201 Created\"\n",
                        "2023-09-12 22:10:30,457:INFO - HTTP Request: GET https://fpyltvtkpkrkzortucoa.supabase.co/rest/v1/album_media_link?select=%2A&media_id=eq.154&album_id=eq.115 \"HTTP/1.1 200 OK\"\n",
                        "2023-09-12 22:10:30,531:INFO - HTTP Request: POST https://fpyltvtkpkrkzortucoa.supabase.co/rest/v1/album_media_link \"HTTP/1.1 201 Created\"\n"
                    ]
                },
                {
                    "name": "stdout",
                    "output_type": "stream",
                    "text": [
                        "{'album_id': 115, 'media_id': 154}\n",
                        "[]\n",
                        "Media_id 154 does not exist in album_id 115\n",
                        "{'album_id': 115, 'media_id': 339}\n"
                    ]
                },
                {
                    "name": "stderr",
                    "output_type": "stream",
                    "text": [
                        "2023-09-12 22:10:30,596:INFO - HTTP Request: GET https://fpyltvtkpkrkzortucoa.supabase.co/rest/v1/album_media_link?select=%2A&media_id=eq.339&album_id=eq.115 \"HTTP/1.1 200 OK\"\n",
                        "2023-09-12 22:10:30,677:INFO - HTTP Request: POST https://fpyltvtkpkrkzortucoa.supabase.co/rest/v1/album_media_link \"HTTP/1.1 201 Created\"\n",
                        "2023-09-12 22:10:30,745:INFO - HTTP Request: GET https://fpyltvtkpkrkzortucoa.supabase.co/rest/v1/album_media_link?select=%2A&media_id=eq.245&album_id=eq.115 \"HTTP/1.1 200 OK\"\n"
                    ]
                },
                {
                    "name": "stdout",
                    "output_type": "stream",
                    "text": [
                        "[]\n",
                        "Media_id 339 does not exist in album_id 115\n",
                        "{'album_id': 115, 'media_id': 245}\n",
                        "[]\n",
                        "Media_id 245 does not exist in album_id 115\n"
                    ]
                },
                {
                    "name": "stderr",
                    "output_type": "stream",
                    "text": [
                        "2023-09-12 22:10:30,835:INFO - HTTP Request: POST https://fpyltvtkpkrkzortucoa.supabase.co/rest/v1/album_media_link \"HTTP/1.1 201 Created\"\n"
                    ]
                },
                {
                    "name": "stdout",
                    "output_type": "stream",
                    "text": [
                        "{'id': 102, 'created_at': '2023-09-12T16:39:37.753689+00:00', 'project_id': 18, 'scene_order_position': 6, 'uuid': 'a8960564-b3a8-4230-af13-b6b587f9f2b6', 'scene_text': 'It was returned to the attic, silently awaiting the next musician brave enough to unlock its mystical power.', 'status': 'Active', 'album_id': 116, 'theme_keywords': ['Dark attic', 'Forgotten instrument', 'Silent wait', 'Promising risk', 'Locked mystical power']}\n",
                        "It was returned to the attic, silently awaiting the next musician brave enough to unlock its mystical power.\n"
                    ]
                },
                {
                    "name": "stderr",
                    "output_type": "stream",
                    "text": [
                        "2023-09-12 22:10:31,633:INFO - HTTP Request: GET https://fpyltvtkpkrkzortucoa.supabase.co/rest/v1/album_media_link?select=%2A&media_id=eq.203&album_id=eq.116 \"HTTP/1.1 200 OK\"\n",
                        "2023-09-12 22:10:31,697:INFO - HTTP Request: POST https://fpyltvtkpkrkzortucoa.supabase.co/rest/v1/album_media_link \"HTTP/1.1 201 Created\"\n"
                    ]
                },
                {
                    "name": "stdout",
                    "output_type": "stream",
                    "text": [
                        "{'id': 222, 'content': 'a violin leaning against a log in a field', 'media_table_id': 203, 'similarity': 0.80648011100099}\n",
                        "{'id': 352, 'content': 'a man playing a violin in a dark room', 'media_table_id': 333, 'similarity': 0.803441267663711}\n",
                        "{'id': 262, 'content': 'a close up of a glowing keyboard in the dark', 'media_table_id': 243, 'similarity': 0.802602755414514}\n",
                        "{'id': 205, 'content': 'a person playing a guitar in a room', 'media_table_id': 186, 'similarity': 0.802224008786891}\n",
                        "[203, 333, 243, 186]\n",
                        "{'album_id': 116, 'media_id': 203}\n",
                        "[]\n",
                        "Media_id 203 does not exist in album_id 116\n",
                        "{'album_id': 116, 'media_id': 333}\n"
                    ]
                },
                {
                    "name": "stderr",
                    "output_type": "stream",
                    "text": [
                        "2023-09-12 22:10:31,776:INFO - HTTP Request: GET https://fpyltvtkpkrkzortucoa.supabase.co/rest/v1/album_media_link?select=%2A&media_id=eq.333&album_id=eq.116 \"HTTP/1.1 200 OK\"\n",
                        "2023-09-12 22:10:31,836:INFO - HTTP Request: POST https://fpyltvtkpkrkzortucoa.supabase.co/rest/v1/album_media_link \"HTTP/1.1 201 Created\"\n",
                        "2023-09-12 22:10:31,903:INFO - HTTP Request: GET https://fpyltvtkpkrkzortucoa.supabase.co/rest/v1/album_media_link?select=%2A&media_id=eq.243&album_id=eq.116 \"HTTP/1.1 200 OK\"\n",
                        "2023-09-12 22:10:31,974:INFO - HTTP Request: POST https://fpyltvtkpkrkzortucoa.supabase.co/rest/v1/album_media_link \"HTTP/1.1 201 Created\"\n"
                    ]
                },
                {
                    "name": "stdout",
                    "output_type": "stream",
                    "text": [
                        "[]\n",
                        "Media_id 333 does not exist in album_id 116\n",
                        "{'album_id': 116, 'media_id': 243}\n",
                        "[]\n",
                        "Media_id 243 does not exist in album_id 116\n",
                        "{'album_id': 116, 'media_id': 186}\n"
                    ]
                },
                {
                    "name": "stderr",
                    "output_type": "stream",
                    "text": [
                        "2023-09-12 22:10:32,061:INFO - HTTP Request: GET https://fpyltvtkpkrkzortucoa.supabase.co/rest/v1/album_media_link?select=%2A&media_id=eq.186&album_id=eq.116 \"HTTP/1.1 200 OK\"\n",
                        "2023-09-12 22:10:32,129:INFO - HTTP Request: POST https://fpyltvtkpkrkzortucoa.supabase.co/rest/v1/album_media_link \"HTTP/1.1 201 Created\"\n"
                    ]
                },
                {
                    "name": "stdout",
                    "output_type": "stream",
                    "text": [
                        "[]\n",
                        "Media_id 186 does not exist in album_id 116\n",
                        "{'id': 96, 'created_at': '2023-09-12T16:39:36.604397+00:00', 'project_id': 18, 'scene_order_position': 0, 'uuid': 'c7160f52-d52b-42b5-9bbe-b575c1ef9dec', 'scene_text': \"Once a renowned violinist named Emily discovered an old, dusty violin in her grandmother's attic, its strings frayed but its wood still glowing with potential.\", 'status': 'Active', 'album_id': 110, 'theme_keywords': ['Old violin in an attic', 'Untouched potential', 'Dusty relics', 'Mysteries of the past', 'Hidden treasure']}\n",
                        "Once a renowned violinist named Emily discovered an old, dusty violin in her grandmother's attic, its strings frayed but its wood still glowing with potential.\n"
                    ]
                },
                {
                    "name": "stderr",
                    "output_type": "stream",
                    "text": [
                        "2023-09-12 22:10:32,759:INFO - HTTP Request: GET https://fpyltvtkpkrkzortucoa.supabase.co/rest/v1/album_media_link?select=%2A&media_id=eq.249&album_id=eq.110 \"HTTP/1.1 200 OK\"\n",
                        "2023-09-12 22:10:32,834:INFO - HTTP Request: POST https://fpyltvtkpkrkzortucoa.supabase.co/rest/v1/album_media_link \"HTTP/1.1 201 Created\"\n",
                        "2023-09-12 22:10:32,895:INFO - HTTP Request: GET https://fpyltvtkpkrkzortucoa.supabase.co/rest/v1/album_media_link?select=%2A&media_id=eq.203&album_id=eq.110 \"HTTP/1.1 200 OK\"\n"
                    ]
                },
                {
                    "name": "stdout",
                    "output_type": "stream",
                    "text": [
                        "{'id': 268, 'content': 'a man sitting in front of a table with a violin', 'media_table_id': 249, 'similarity': 0.87605568277005}\n",
                        "{'id': 222, 'content': 'a violin leaning against a log in a field', 'media_table_id': 203, 'similarity': 0.873949281455611}\n",
                        "{'id': 370, 'content': 'a man holding a violin in her right hand', 'media_table_id': 351, 'similarity': 0.870085428656908}\n",
                        "{'id': 352, 'content': 'a man playing a violin in a dark room', 'media_table_id': 333, 'similarity': 0.869437275252995}\n",
                        "{'id': 350, 'content': 'a close up of a person playing a violin', 'media_table_id': 331, 'similarity': 0.868819548891933}\n",
                        "{'id': 363, 'content': 'a man holding a violin while standing next to a microphone', 'media_table_id': 344, 'similarity': 0.861641537306483}\n",
                        "{'id': 265, 'content': 'a man holding a violin in his right hand', 'media_table_id': 246, 'similarity': 0.86084587820562}\n",
                        "{'id': 174, 'content': 'a man sitting on a bench playing a violin', 'media_table_id': 155, 'similarity': 0.855955568829945}\n",
                        "{'id': 173, 'content': 'a man in a red shirt playing a violin', 'media_table_id': 154, 'similarity': 0.854800288787995}\n",
                        "{'id': 358, 'content': 'a man with dreadlocks is playing a violin', 'media_table_id': 339, 'similarity': 0.852360475218498}\n",
                        "{'id': 351, 'content': 'a couple of women playing violin on a stage', 'media_table_id': 332, 'similarity': 0.845863907455866}\n",
                        "{'id': 229, 'content': 'a young boy sitting in a wicker chair playing a ukulele', 'media_table_id': 210, 'similarity': 0.826748730458782}\n",
                        "{'id': 264, 'content': 'a close up of a person playing a piano', 'media_table_id': 245, 'similarity': 0.826703709937135}\n",
                        "{'id': 226, 'content': 'a blurry photo of a person playing a guitar', 'media_table_id': 207, 'similarity': 0.821115678562266}\n",
                        "{'id': 205, 'content': 'a person playing a guitar in a room', 'media_table_id': 186, 'similarity': 0.820911748542182}\n",
                        "{'id': 359, 'content': 'a group of people playing instruments in a room', 'media_table_id': 340, 'similarity': 0.817814929603663}\n",
                        "{'id': 210, 'content': 'a man playing a guitar in a recording studio', 'media_table_id': 191, 'similarity': 0.817022193539466}\n",
                        "{'id': 214, 'content': 'a close up of a person playing a guitar', 'media_table_id': 195, 'similarity': 0.81361476229322}\n",
                        "{'id': 204, 'content': 'a close up of a person playing a guitar', 'media_table_id': 185, 'similarity': 0.813603340886347}\n",
                        "{'id': 212, 'content': 'a close up of a person playing a guitar', 'media_table_id': 193, 'similarity': 0.813603340886347}\n",
                        "[249, 203, 351, 333, 331, 344, 246, 155, 154, 339, 332, 210, 245, 207, 186, 340, 191, 195, 185, 193]\n",
                        "{'album_id': 110, 'media_id': 249}\n",
                        "[]\n",
                        "Media_id 249 does not exist in album_id 110\n",
                        "{'album_id': 110, 'media_id': 203}\n"
                    ]
                },
                {
                    "name": "stderr",
                    "output_type": "stream",
                    "text": [
                        "2023-09-12 22:10:32,964:INFO - HTTP Request: POST https://fpyltvtkpkrkzortucoa.supabase.co/rest/v1/album_media_link \"HTTP/1.1 201 Created\"\n",
                        "2023-09-12 22:10:33,025:INFO - HTTP Request: GET https://fpyltvtkpkrkzortucoa.supabase.co/rest/v1/album_media_link?select=%2A&media_id=eq.351&album_id=eq.110 \"HTTP/1.1 200 OK\"\n"
                    ]
                },
                {
                    "name": "stdout",
                    "output_type": "stream",
                    "text": [
                        "[]\n",
                        "Media_id 203 does not exist in album_id 110\n",
                        "{'album_id': 110, 'media_id': 351}\n",
                        "[]\n",
                        "Media_id 351 does not exist in album_id 110\n"
                    ]
                },
                {
                    "name": "stderr",
                    "output_type": "stream",
                    "text": [
                        "2023-09-12 22:10:33,104:INFO - HTTP Request: POST https://fpyltvtkpkrkzortucoa.supabase.co/rest/v1/album_media_link \"HTTP/1.1 201 Created\"\n",
                        "2023-09-12 22:10:33,182:INFO - HTTP Request: GET https://fpyltvtkpkrkzortucoa.supabase.co/rest/v1/album_media_link?select=%2A&media_id=eq.333&album_id=eq.110 \"HTTP/1.1 200 OK\"\n",
                        "2023-09-12 22:10:33,246:INFO - HTTP Request: POST https://fpyltvtkpkrkzortucoa.supabase.co/rest/v1/album_media_link \"HTTP/1.1 201 Created\"\n"
                    ]
                },
                {
                    "name": "stdout",
                    "output_type": "stream",
                    "text": [
                        "{'album_id': 110, 'media_id': 333}\n",
                        "[]\n",
                        "Media_id 333 does not exist in album_id 110\n",
                        "{'album_id': 110, 'media_id': 331}\n"
                    ]
                },
                {
                    "name": "stderr",
                    "output_type": "stream",
                    "text": [
                        "2023-09-12 22:10:33,311:INFO - HTTP Request: GET https://fpyltvtkpkrkzortucoa.supabase.co/rest/v1/album_media_link?select=%2A&media_id=eq.331&album_id=eq.110 \"HTTP/1.1 200 OK\"\n",
                        "2023-09-12 22:10:33,394:INFO - HTTP Request: POST https://fpyltvtkpkrkzortucoa.supabase.co/rest/v1/album_media_link \"HTTP/1.1 201 Created\"\n",
                        "2023-09-12 22:10:33,469:INFO - HTTP Request: GET https://fpyltvtkpkrkzortucoa.supabase.co/rest/v1/album_media_link?select=%2A&media_id=eq.344&album_id=eq.110 \"HTTP/1.1 200 OK\"\n"
                    ]
                },
                {
                    "name": "stdout",
                    "output_type": "stream",
                    "text": [
                        "[]\n",
                        "Media_id 331 does not exist in album_id 110\n",
                        "{'album_id': 110, 'media_id': 344}\n",
                        "[]\n",
                        "Media_id 344 does not exist in album_id 110\n"
                    ]
                },
                {
                    "name": "stderr",
                    "output_type": "stream",
                    "text": [
                        "2023-09-12 22:10:33,585:INFO - HTTP Request: POST https://fpyltvtkpkrkzortucoa.supabase.co/rest/v1/album_media_link \"HTTP/1.1 201 Created\"\n",
                        "2023-09-12 22:10:33,643:INFO - HTTP Request: GET https://fpyltvtkpkrkzortucoa.supabase.co/rest/v1/album_media_link?select=%2A&media_id=eq.246&album_id=eq.110 \"HTTP/1.1 200 OK\"\n",
                        "2023-09-12 22:10:33,722:INFO - HTTP Request: POST https://fpyltvtkpkrkzortucoa.supabase.co/rest/v1/album_media_link \"HTTP/1.1 201 Created\"\n"
                    ]
                },
                {
                    "name": "stdout",
                    "output_type": "stream",
                    "text": [
                        "{'album_id': 110, 'media_id': 246}\n",
                        "[]\n",
                        "Media_id 246 does not exist in album_id 110\n",
                        "{'album_id': 110, 'media_id': 155}\n"
                    ]
                },
                {
                    "name": "stderr",
                    "output_type": "stream",
                    "text": [
                        "2023-09-12 22:10:33,794:INFO - HTTP Request: GET https://fpyltvtkpkrkzortucoa.supabase.co/rest/v1/album_media_link?select=%2A&media_id=eq.155&album_id=eq.110 \"HTTP/1.1 200 OK\"\n",
                        "2023-09-12 22:10:33,852:INFO - HTTP Request: POST https://fpyltvtkpkrkzortucoa.supabase.co/rest/v1/album_media_link \"HTTP/1.1 201 Created\"\n",
                        "2023-09-12 22:10:33,953:INFO - HTTP Request: GET https://fpyltvtkpkrkzortucoa.supabase.co/rest/v1/album_media_link?select=%2A&media_id=eq.154&album_id=eq.110 \"HTTP/1.1 200 OK\"\n"
                    ]
                },
                {
                    "name": "stdout",
                    "output_type": "stream",
                    "text": [
                        "[]\n",
                        "Media_id 155 does not exist in album_id 110\n",
                        "{'album_id': 110, 'media_id': 154}\n",
                        "[]\n",
                        "Media_id 154 does not exist in album_id 110\n"
                    ]
                },
                {
                    "name": "stderr",
                    "output_type": "stream",
                    "text": [
                        "2023-09-12 22:10:34,028:INFO - HTTP Request: POST https://fpyltvtkpkrkzortucoa.supabase.co/rest/v1/album_media_link \"HTTP/1.1 201 Created\"\n",
                        "2023-09-12 22:10:34,107:INFO - HTTP Request: GET https://fpyltvtkpkrkzortucoa.supabase.co/rest/v1/album_media_link?select=%2A&media_id=eq.339&album_id=eq.110 \"HTTP/1.1 200 OK\"\n",
                        "2023-09-12 22:10:34,189:INFO - HTTP Request: POST https://fpyltvtkpkrkzortucoa.supabase.co/rest/v1/album_media_link \"HTTP/1.1 201 Created\"\n"
                    ]
                },
                {
                    "name": "stdout",
                    "output_type": "stream",
                    "text": [
                        "{'album_id': 110, 'media_id': 339}\n",
                        "[]\n",
                        "Media_id 339 does not exist in album_id 110\n",
                        "{'album_id': 110, 'media_id': 332}\n"
                    ]
                },
                {
                    "name": "stderr",
                    "output_type": "stream",
                    "text": [
                        "2023-09-12 22:10:34,265:INFO - HTTP Request: GET https://fpyltvtkpkrkzortucoa.supabase.co/rest/v1/album_media_link?select=%2A&media_id=eq.332&album_id=eq.110 \"HTTP/1.1 200 OK\"\n",
                        "2023-09-12 22:10:34,337:INFO - HTTP Request: POST https://fpyltvtkpkrkzortucoa.supabase.co/rest/v1/album_media_link \"HTTP/1.1 201 Created\"\n",
                        "2023-09-12 22:10:34,411:INFO - HTTP Request: GET https://fpyltvtkpkrkzortucoa.supabase.co/rest/v1/album_media_link?select=%2A&media_id=eq.210&album_id=eq.110 \"HTTP/1.1 200 OK\"\n"
                    ]
                },
                {
                    "name": "stdout",
                    "output_type": "stream",
                    "text": [
                        "[]\n",
                        "Media_id 332 does not exist in album_id 110\n",
                        "{'album_id': 110, 'media_id': 210}\n",
                        "[]\n",
                        "Media_id 210 does not exist in album_id 110\n"
                    ]
                },
                {
                    "name": "stderr",
                    "output_type": "stream",
                    "text": [
                        "2023-09-12 22:10:34,477:INFO - HTTP Request: POST https://fpyltvtkpkrkzortucoa.supabase.co/rest/v1/album_media_link \"HTTP/1.1 201 Created\"\n",
                        "2023-09-12 22:10:34,539:INFO - HTTP Request: GET https://fpyltvtkpkrkzortucoa.supabase.co/rest/v1/album_media_link?select=%2A&media_id=eq.245&album_id=eq.110 \"HTTP/1.1 200 OK\"\n",
                        "2023-09-12 22:10:34,614:INFO - HTTP Request: POST https://fpyltvtkpkrkzortucoa.supabase.co/rest/v1/album_media_link \"HTTP/1.1 201 Created\"\n",
                        "2023-09-12 22:10:34,680:INFO - HTTP Request: GET https://fpyltvtkpkrkzortucoa.supabase.co/rest/v1/album_media_link?select=%2A&media_id=eq.207&album_id=eq.110 \"HTTP/1.1 200 OK\"\n"
                    ]
                },
                {
                    "name": "stdout",
                    "output_type": "stream",
                    "text": [
                        "{'album_id': 110, 'media_id': 245}\n",
                        "[]\n",
                        "Media_id 245 does not exist in album_id 110\n",
                        "{'album_id': 110, 'media_id': 207}\n"
                    ]
                },
                {
                    "name": "stderr",
                    "output_type": "stream",
                    "text": [
                        "2023-09-12 22:10:34,746:INFO - HTTP Request: POST https://fpyltvtkpkrkzortucoa.supabase.co/rest/v1/album_media_link \"HTTP/1.1 201 Created\"\n",
                        "2023-09-12 22:10:34,836:INFO - HTTP Request: GET https://fpyltvtkpkrkzortucoa.supabase.co/rest/v1/album_media_link?select=%2A&media_id=eq.186&album_id=eq.110 \"HTTP/1.1 200 OK\"\n"
                    ]
                },
                {
                    "name": "stdout",
                    "output_type": "stream",
                    "text": [
                        "[]\n",
                        "Media_id 207 does not exist in album_id 110\n",
                        "{'album_id': 110, 'media_id': 186}\n",
                        "[]\n",
                        "Media_id 186 does not exist in album_id 110\n"
                    ]
                },
                {
                    "name": "stderr",
                    "output_type": "stream",
                    "text": [
                        "2023-09-12 22:10:34,909:INFO - HTTP Request: POST https://fpyltvtkpkrkzortucoa.supabase.co/rest/v1/album_media_link \"HTTP/1.1 201 Created\"\n",
                        "2023-09-12 22:10:34,987:INFO - HTTP Request: GET https://fpyltvtkpkrkzortucoa.supabase.co/rest/v1/album_media_link?select=%2A&media_id=eq.340&album_id=eq.110 \"HTTP/1.1 200 OK\"\n",
                        "2023-09-12 22:10:35,067:INFO - HTTP Request: POST https://fpyltvtkpkrkzortucoa.supabase.co/rest/v1/album_media_link \"HTTP/1.1 201 Created\"\n"
                    ]
                },
                {
                    "name": "stdout",
                    "output_type": "stream",
                    "text": [
                        "{'album_id': 110, 'media_id': 340}\n",
                        "[]\n",
                        "Media_id 340 does not exist in album_id 110\n",
                        "{'album_id': 110, 'media_id': 191}\n"
                    ]
                },
                {
                    "name": "stderr",
                    "output_type": "stream",
                    "text": [
                        "2023-09-12 22:10:35,149:INFO - HTTP Request: GET https://fpyltvtkpkrkzortucoa.supabase.co/rest/v1/album_media_link?select=%2A&media_id=eq.191&album_id=eq.110 \"HTTP/1.1 200 OK\"\n",
                        "2023-09-12 22:10:35,220:INFO - HTTP Request: POST https://fpyltvtkpkrkzortucoa.supabase.co/rest/v1/album_media_link \"HTTP/1.1 201 Created\"\n",
                        "2023-09-12 22:10:35,288:INFO - HTTP Request: GET https://fpyltvtkpkrkzortucoa.supabase.co/rest/v1/album_media_link?select=%2A&media_id=eq.195&album_id=eq.110 \"HTTP/1.1 200 OK\"\n",
                        "2023-09-12 22:10:35,351:INFO - HTTP Request: POST https://fpyltvtkpkrkzortucoa.supabase.co/rest/v1/album_media_link \"HTTP/1.1 201 Created\"\n"
                    ]
                },
                {
                    "name": "stdout",
                    "output_type": "stream",
                    "text": [
                        "[]\n",
                        "Media_id 191 does not exist in album_id 110\n",
                        "{'album_id': 110, 'media_id': 195}\n",
                        "[]\n",
                        "Media_id 195 does not exist in album_id 110\n"
                    ]
                },
                {
                    "name": "stderr",
                    "output_type": "stream",
                    "text": [
                        "2023-09-12 22:10:35,422:INFO - HTTP Request: GET https://fpyltvtkpkrkzortucoa.supabase.co/rest/v1/album_media_link?select=%2A&media_id=eq.185&album_id=eq.110 \"HTTP/1.1 200 OK\"\n",
                        "2023-09-12 22:10:35,510:INFO - HTTP Request: POST https://fpyltvtkpkrkzortucoa.supabase.co/rest/v1/album_media_link \"HTTP/1.1 201 Created\"\n"
                    ]
                },
                {
                    "name": "stdout",
                    "output_type": "stream",
                    "text": [
                        "{'album_id': 110, 'media_id': 185}\n",
                        "[]\n",
                        "Media_id 185 does not exist in album_id 110\n",
                        "{'album_id': 110, 'media_id': 193}\n"
                    ]
                },
                {
                    "name": "stderr",
                    "output_type": "stream",
                    "text": [
                        "2023-09-12 22:10:35,606:INFO - HTTP Request: GET https://fpyltvtkpkrkzortucoa.supabase.co/rest/v1/album_media_link?select=%2A&media_id=eq.193&album_id=eq.110 \"HTTP/1.1 200 OK\"\n",
                        "2023-09-12 22:10:35,671:INFO - HTTP Request: POST https://fpyltvtkpkrkzortucoa.supabase.co/rest/v1/album_media_link \"HTTP/1.1 201 Created\"\n"
                    ]
                },
                {
                    "name": "stdout",
                    "output_type": "stream",
                    "text": [
                        "[]\n",
                        "Media_id 193 does not exist in album_id 110\n"
                    ]
                }
            ],
            "source": [
                "scenes = funcs_supabase.select_data('scenes', 'project_id', project_id)\n",
                "for scene in scenes:\n",
                "    print(scene)\n",
                "\n",
                "    scene_text = scene['scene_text']\n",
                "    album_id = scene['album_id']\n",
                "    print(scene_text)\n",
                "    scene_text_embedding = vector_search.get_embeddings(scene_text)\n",
                "\n",
                "    media_id_list = vector_search_results(scene_text_embedding)\n",
                "    print(media_id_list)\n",
                "    link_media_to_album(album_id, media_id_list)\n",
                "    "
            ]
        },
        {
            "cell_type": "code",
            "execution_count": null,
            "metadata": {},
            "outputs": [],
            "source": [
                "import funcs_supabase\n",
                "\n",
                "def delete_album_media_link_ids(ids_list):\n",
                "    \"\"\"\n",
                "    Deletes album media links based on their IDs.\n",
                "\n",
                "    :param ids_list: List of IDs to delete.\n",
                "    :return: List of responses from delete action.\n",
                "    \"\"\"\n",
                "    return [funcs_supabase.delete_data(\"album_media_link\", id_) for id_ in ids_list]\n",
                "\n",
                "\n",
                "def find_album_media_ids(album_id, media_id):\n",
                "    \"\"\"\n",
                "    Find IDs in album_media_link table for a given album and media ID.\n",
                "\n",
                "    :param album_id: ID of the album.\n",
                "    :param media_id: ID of the media.\n",
                "    :return: List of IDs that match the conditions.\n",
                "    \"\"\"\n",
                "    conditions = [\n",
                "        {\"column\": \"album_id\", \"operator\": \"eq\", \"value\": album_id},\n",
                "        {\"column\": \"media_id\", \"operator\": \"eq\", \"value\": media_id}\n",
                "    ]\n",
                "    records = funcs_supabase.select_data_with_conditions(\"album_media_link\", conditions)\n",
                "    return [item['id'] for item in records]\n",
                "\n",
                "\n",
                "def remove_media_from_album(album_id, media_id=None):\n",
                "    \"\"\"\n",
                "    Removes media from an album. If media_id is None, it removes all media from the album.\n",
                "\n",
                "    :param album_id: ID of the album.\n",
                "    :param media_id: ID(s) of the media to remove.\n",
                "    \"\"\"\n",
                "    if media_id is None:\n",
                "        # Remove all media from the album\n",
                "        records = funcs_supabase.select_data(\"album_media_link\", \"album_id\", album_id)\n",
                "        ids_list = [item['id'] for item in records]\n",
                "        delete_album_media_link_ids(ids_list)\n",
                "\n",
                "    elif isinstance(media_id, int):\n",
                "        # Remove a single media from the album\n",
                "        ids_list = find_album_media_ids(album_id, media_id)\n",
                "        delete_album_media_link_ids(ids_list)\n",
                "\n",
                "    elif isinstance(media_id, list):\n",
                "        # Remove multiple media items from the album\n",
                "        ids_list = [id_ for media in media_id for id_ in find_album_media_ids(album_id, media)]\n",
                "        delete_album_media_link_ids(ids_list)\n",
                "\n",
                "    else:\n",
                "        print(f\"Unsupported type for media_id: {type(media_id)}\")\n",
                "\n",
                "\n",
                "# # Sample usage\n",
                "# album_id = 110\n",
                "# result = remove_media_from_album(album_id)\n",
                "# print(result)\n"
            ]
        },
        {
            "cell_type": "code",
            "execution_count": null,
            "metadata": {},
            "outputs": [],
            "source": []
        }
    ],
    "metadata": {
        "kernelspec": {
            "display_name": "myenv",
            "language": "python",
            "name": "python3"
        },
        "language_info": {
            "codemirror_mode": {
                "name": "ipython",
                "version": 3
            },
            "file_extension": ".py",
            "mimetype": "text/x-python",
            "name": "python",
            "nbconvert_exporter": "python",
            "pygments_lexer": "ipython3",
            "version": "3.10.6"
        },
        "orig_nbformat": 4
    },
    "nbformat": 4,
    "nbformat_minor": 2
}