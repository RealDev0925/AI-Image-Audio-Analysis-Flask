{
 "cells": [
  {
   "cell_type": "code",
   "execution_count": 6,
   "metadata": {},
   "outputs": [],
   "source": [
    "# import actions \n",
    "# project_id  = 27\n",
    "# active_scenes = actions.get_active_scenes(project_id)\n",
    "# # print(active_scenes)\n",
    "# scenes_words_count_list = []\n",
    "# for scene in active_scenes:\n",
    "#     scene_text = scene.get(\"scene_text\")\n",
    "#     no_words_in_scene = len(scene_text.split())\n",
    "#     scenes_words_count_list.append(no_words_in_scene)\n",
    "\n",
    "# print(scenes_words_count_list)\n",
    "# total_words_in_project = sum(scenes_words_count_list)\n",
    "# print(total_words_in_project)\n",
    "\n",
    "\n",
    "\n",
    "# import funcs_supabase\n",
    "# words_list = funcs_supabase.select_data(\"video_creator_projects\", \"id\", project_id)[0].get(\"words_list\")\n",
    "# print(len(words_list))\n"
   ]
  },
  {
   "cell_type": "code",
   "execution_count": 20,
   "metadata": {},
   "outputs": [
    {
     "name": "stderr",
     "output_type": "stream",
     "text": [
      "2023-11-01 18:00:34,263:INFO - HTTP Request: GET https://fpyltvtkpkrkzortucoa.supabase.co/rest/v1/scenes?select=%2A&project_id=eq.27&status=eq.Active \"HTTP/1.1 200 OK\"\n"
     ]
    },
    {
     "name": "stdout",
     "output_type": "stream",
     "text": [
      "['One', 'day', 'there', 'was', 'a', 'cute', 'dog', 'called', 'Dorris.', 'she', 'went', 'out', 'to', 'play', 'in', 'the', 'rain.', 'At', 'first,', 'she', \"didn't\", 'like', 'the', 'rain.', 'Then', 'she', 'overcame', 'her', 'fear.', 'Now', 'she', 'is', 'always', 'muddy!']\n",
      "34\n"
     ]
    },
    {
     "name": "stderr",
     "output_type": "stream",
     "text": [
      "2023-11-01 18:00:34,476:INFO - HTTP Request: GET https://fpyltvtkpkrkzortucoa.supabase.co/rest/v1/video_creator_projects?select=%2A&id=eq.27 \"HTTP/1.1 200 OK\"\n"
     ]
    },
    {
     "name": "stdout",
     "output_type": "stream",
     "text": [
      "[{'end': 0.188, 'word': 'One', 'score': 0.716, 'start': 0.088}, {'end': 0.428, 'word': 'day', 'score': 0.83, 'start': 0.228}, {'end': 0.628, 'word': 'there', 'score': 0.924, 'start': 0.488}, {'end': 0.768, 'word': 'was', 'score': 0.78, 'start': 0.668}, {'end': 0.848, 'word': 'a', 'score': 1, 'start': 0.828}, {'end': 1.169, 'word': 'cute', 'score': 0.732, 'start': 0.908}, {'end': 1.529, 'word': 'dog', 'score': 0.86, 'start': 1.209}, {'end': 1.809, 'word': 'called', 'score': 0.778, 'start': 1.569}, {'end': 2.309, 'word': 'Doris.', 'score': 0.881, 'start': 1.869}, {'end': 2.929, 'word': 'She', 'score': 0.983, 'start': 2.849}, {'end': 3.089, 'word': 'went', 'score': 1, 'start': 2.969}, {'end': 3.249, 'word': 'out', 'score': 0.85, 'start': 3.149}, {'end': 3.37, 'word': 'to', 'score': 0.75, 'start': 3.29}, {'end': 3.65, 'word': 'play', 'score': 0.872, 'start': 3.41}, {'end': 3.75, 'word': 'in', 'score': 0.829, 'start': 3.67}, {'end': 3.85, 'word': 'the', 'score': 0.834, 'start': 3.77}, {'end': 4.19, 'word': 'rain.', 'score': 0.735, 'start': 3.89}, {'end': 4.87, 'word': 'At', 'score': 0.637, 'start': 4.79}, {'end': 5.33, 'word': 'first', 'score': 0.765, 'start': 4.95}, {'end': 5.551, 'word': 'she', 'score': 0.814, 'start': 5.451}, {'end': 5.771, 'word': \"didn't\", 'score': 0.831, 'start': 5.571}, {'end': 6.051, 'word': 'like', 'score': 0.886, 'start': 5.831}, {'end': 6.191, 'word': 'the', 'score': 0.833, 'start': 6.091}, {'end': 6.471, 'word': 'rain.', 'score': 0.786, 'start': 6.231}, {'end': 7.211, 'word': 'Then', 'score': 0.768, 'start': 6.951}, {'end': 7.531, 'word': 'she', 'score': 0.649, 'start': 7.391}, {'end': 8.112, 'word': 'overcame', 'score': 0.908, 'start': 7.652}, {'end': 8.292, 'word': 'her', 'score': 0.669, 'start': 8.172}, {'end': 8.592, 'word': 'fear.', 'score': 0.839, 'start': 8.352}, {'end': 9.412, 'word': 'Now', 'score': 0.836, 'start': 9.172}, {'end': 9.632, 'word': 'she', 'score': 0.672, 'start': 9.532}, {'end': 9.772, 'word': 'is', 'score': 0.668, 'start': 9.692}, {'end': 10.273, 'word': 'always', 'score': 0.824, 'start': 9.933}, {'end': 10.593, 'word': 'muddy.', 'score': 0.984, 'start': 10.353}]\n",
      "['One', 'day', 'there', 'was', 'a', 'cute', 'dog', 'called', 'Doris.', 'She', 'went', 'out', 'to', 'play', 'in', 'the', 'rain.', 'At', 'first', 'she', \"didn't\", 'like', 'the', 'rain.', 'Then', 'she', 'overcame', 'her', 'fear.', 'Now', 'she', 'is', 'always', 'muddy.']\n",
      "34\n"
     ]
    }
   ],
   "source": [
    "import actions\n",
    "import funcs_supabase\n",
    "\n",
    "def scene_words_len_match(project_id):\n",
    "    active_scenes = actions.get_active_scenes(project_id)\n",
    "    scene_text_list = []\n",
    "    for scene in active_scenes:\n",
    "        scene_text = scene.get(\"scene_text\")\n",
    "        # print(scene_text)\n",
    "        scene_split = scene_text.split()\n",
    "        # print(scene_split)\n",
    "        scene_text_list = scene_text_list + scene_split\n",
    "    # print(scene_text_list)\n",
    "    # print(len(scene_text_list))\n",
    "\n",
    "    words_list = funcs_supabase.select_data(\"video_creator_projects\", \"id\", project_id)[0].get(\"words_list\")\n",
    "    # print(words_list)\n",
    "    # Extract words that contain letters or numbers\n",
    "    words = [item['word'] for item in words_list if any(char.isalnum() for char in item['word'])]\n",
    "    # print(words)\n",
    "    # print(len(words))\n",
    "\n",
    "    if len(scene_text_list) == len(words):\n",
    "        return True\n",
    "    else:\n",
    "        return False\n",
    "    \n",
    "\n",
    "\n",
    "\n"
   ]
  },
  {
   "cell_type": "code",
   "execution_count": 7,
   "metadata": {},
   "outputs": [],
   "source": [
    "\n",
    "import actions\n",
    "import funcs_supabase\n",
    "\n",
    "def process_project_scenes(project_id):\n",
    "\n",
    "    scene_timings_raw = []\n",
    "\n",
    "    active_scenes = actions.get_active_scenes(project_id)\n",
    "\n",
    "    # Check if active_scenes is None or empty before proceeding\n",
    "    if not active_scenes:\n",
    "        return \"No active scenes available for this project.\"\n",
    "\n",
    "    total_words_in_project = 0\n",
    "\n",
    "    for scene_counter, scene in enumerate(active_scenes):\n",
    "        scene_text = scene.get(\"scene_text\", \"\")\n",
    "        scene_id = scene.get(\"id\")\n",
    "\n",
    "        # If scene_text or scene_id is missing, skip to next iteration\n",
    "        if not scene_text or scene_id is None:\n",
    "            continue\n",
    "\n",
    "        # print(scene_text)\n",
    "        words_in_scene = scene_text.split()\n",
    "        no_words_in_scene = len(words_in_scene)\n",
    "\n",
    "        # print(f\"scene has {no_words_in_scene} words\")\n",
    "        # print(f\"the first word is {words_in_scene[0]}\")\n",
    "        # print(f\"the last word is {words_in_scene[-1]}\")\n",
    "\n",
    "        total_words_in_project += no_words_in_scene\n",
    "        first_word_location = total_words_in_project - no_words_in_scene\n",
    "        last_word_location = total_words_in_project - 1\n",
    "\n",
    "        # print(f\"first word location: {first_word_location}\")\n",
    "        # print(f\"last word location: {last_word_location}\")\n",
    "\n",
    "        words_list = funcs_supabase.select_data(\"video_creator_projects\", \"id\", project_id)[0].get(\"words_list\")\n",
    "\n",
    "        try:\n",
    "            first_word_from_words_list = words_list[first_word_location]\n",
    "            last_word_from_words_list = words_list[last_word_location]\n",
    "        except IndexError:\n",
    "            # Handle this error if word locations are out of bounds\n",
    "            continue\n",
    "\n",
    "        # print(f\"first word from words list: {first_word_from_words_list}\")\n",
    "        # print(f\"last word from words list: {last_word_from_words_list}\")\n",
    "\n",
    "        if scene_counter == 0:\n",
    "            words_list[first_word_location][\"start\"] = 0\n",
    "\n",
    "        scene_length = last_word_from_words_list[\"end\"] - first_word_from_words_list[\"end\"]\n",
    "        scene_length = round(scene_length, 3)\n",
    "\n",
    "        data_to_update = {\n",
    "            \"length\": scene_length,\n",
    "            \"start\": first_word_from_words_list[\"start\"],\n",
    "            \"end\": last_word_from_words_list[\"end\"]\n",
    "        }\n",
    "\n",
    "        # funcs_supabase.update_data(\"scenes\", scene_id, {\"timings\": data_to_update})\n",
    "        # print(f\"scene length: {scene_length}\")\n",
    "        # print(\"\\n\")\n",
    "\n",
    "        scene_timings_raw.append(data_to_update)\n",
    "\n",
    "    return scene_timings_raw\n",
    "    \n",
    "    \n",
    "\n"
   ]
  },
  {
   "cell_type": "code",
   "execution_count": 8,
   "metadata": {},
   "outputs": [],
   "source": [
    "import os\n",
    "from pydub import AudioSegment\n",
    "import requests\n",
    "\n",
    "def get_audio_duration(project_id):\n",
    "    # Assume funcs_supabase.select_data() returns the necessary data\n",
    "    audio_file_url = funcs_supabase.select_data(\"video_creator_projects\", \"id\", project_id)[0].get(\"speech_audio\")\n",
    "\n",
    "    # Specify the folder where the audio file will be downloaded\n",
    "    download_folder = \"downloaded_audio\"\n",
    "    os.makedirs(download_folder, exist_ok=True)\n",
    "\n",
    "    # Extract the filename and create a path for the downloaded file\n",
    "    filename = os.path.basename(audio_file_url)\n",
    "    file_path = os.path.join(download_folder, filename)\n",
    "\n",
    "    # Download the audio file\n",
    "    response = requests.get(audio_file_url)\n",
    "    if response.status_code == 200:\n",
    "        with open(file_path, 'wb') as file:\n",
    "            file.write(response.content)\n",
    "    else:\n",
    "        raise Exception(\"Failed to download the audio file\")\n",
    "\n",
    "    try:\n",
    "        # Load the audio file and get its duration\n",
    "        audio = AudioSegment.from_file(file_path)\n",
    "        duration_seconds = len(audio) / 1000  # pydub calculates in millisec\n",
    "    finally:\n",
    "        # Delete the audio file after processing\n",
    "        if os.path.exists(file_path):\n",
    "            os.remove(file_path)\n",
    "\n",
    "    return duration_seconds\n",
    "\n",
    "\n",
    "# # Usage example\n",
    "# duration = get_audio_duration(27)\n",
    "# print(f\"The audio duration is {duration} seconds.\")\n",
    "\n",
    "\n"
   ]
  },
  {
   "cell_type": "code",
   "execution_count": null,
   "metadata": {},
   "outputs": [],
   "source": []
  },
  {
   "cell_type": "code",
   "execution_count": 9,
   "metadata": {},
   "outputs": [],
   "source": [
    "def process_scene_timings(scene_timings_raw, project_id):\n",
    "    audio_duration = get_audio_duration(project_id)\n",
    "    \n",
    "    scene_timings_processed = []\n",
    "    for i, scene in enumerate(scene_timings_raw):\n",
    "\n",
    "        # print(scene)\n",
    "\n",
    "        # first scene starts at 0\n",
    "        if i == 0:\n",
    "            scene[\"start\"] = 0\n",
    "       \n",
    "        # if not the first scene, the start time is the end time of the previous scene\n",
    "        else:\n",
    "            scene[\"start\"] = scene_timings_raw[i-1][\"end\"]\n",
    "        \n",
    "        # if not the last scene, the end time is the start time of the next scene\n",
    "        if i < len(scene_timings_raw) - 1:\n",
    "            scene[\"end\"] = scene_timings_raw[i+1][\"start\"]\n",
    "\n",
    "\n",
    "        # if the last scene, end at the end of the audio\n",
    "        else:\n",
    "            scene[\"end\"] = audio_duration\n",
    "\n",
    "        \n",
    "        \n",
    "        scene[\"start\"] = round(scene[\"start\"], 3)\n",
    "        scene[\"end\"] = round(scene[\"end\"], 3)\n",
    "\n",
    "        # recalculate the length \n",
    "        scene[\"length\"] = scene[\"end\"] - scene[\"start\"]\n",
    "\n",
    "        # round the length to 3 decimal places\n",
    "        scene[\"length\"] = round(scene[\"length\"], 3)\n",
    "\n",
    "\n",
    "        scene_timings_processed.append(scene)\n",
    "\n",
    "    return scene_timings_processed\n"
   ]
  },
  {
   "cell_type": "code",
   "execution_count": 10,
   "metadata": {},
   "outputs": [],
   "source": [
    "def update_timings_database(processed_scene_timings, project_id):\n",
    "    resp = []\n",
    "    active_scenes = actions.get_active_scenes(project_id)\n",
    "\n",
    "    if len(active_scenes) != len(processed_scene_timings):\n",
    "        print(\"The number of scenes in the database and the number of scenes in the processed scene timings do not match.\")\n",
    "        return\n",
    "    \n",
    "    for i, scene in enumerate(processed_scene_timings):\n",
    "\n",
    "        data_to_update = {\n",
    "        \"length\": scene[\"length\"],\n",
    "        \"start\": scene[\"start\"],\n",
    "        \"end\": scene[\"end\"]\n",
    "        }\n",
    "\n",
    "        scene_id = active_scenes[i][\"id\"]\n",
    "        print(f\"updating scene {scene_id} with {data_to_update}\")\n",
    "        update = funcs_supabase.update_data(\"scenes\", scene_id, {\"timings\": data_to_update})\n",
    "        print(update)\n",
    "        print(\"\\n\")\n",
    "        resp.append(update)\n",
    "\n",
    "    return resp\n"
   ]
  },
  {
   "cell_type": "code",
   "execution_count": 11,
   "metadata": {},
   "outputs": [
    {
     "name": "stderr",
     "output_type": "stream",
     "text": [
      "2023-11-01 16:48:18,773:INFO - HTTP Request: GET https://fpyltvtkpkrkzortucoa.supabase.co/rest/v1/scenes?select=%2A&project_id=eq.27&status=eq.Active \"HTTP/1.1 200 OK\"\n",
      "2023-11-01 16:48:18,897:INFO - HTTP Request: GET https://fpyltvtkpkrkzortucoa.supabase.co/rest/v1/video_creator_projects?select=%2A&id=eq.27 \"HTTP/1.1 200 OK\"\n",
      "2023-11-01 16:48:19,079:INFO - HTTP Request: GET https://fpyltvtkpkrkzortucoa.supabase.co/rest/v1/video_creator_projects?select=%2A&id=eq.27 \"HTTP/1.1 200 OK\"\n",
      "2023-11-01 16:48:19,187:INFO - HTTP Request: GET https://fpyltvtkpkrkzortucoa.supabase.co/rest/v1/video_creator_projects?select=%2A&id=eq.27 \"HTTP/1.1 200 OK\"\n",
      "2023-11-01 16:48:19,289:INFO - HTTP Request: GET https://fpyltvtkpkrkzortucoa.supabase.co/rest/v1/video_creator_projects?select=%2A&id=eq.27 \"HTTP/1.1 200 OK\"\n",
      "2023-11-01 16:48:19,408:INFO - HTTP Request: GET https://fpyltvtkpkrkzortucoa.supabase.co/rest/v1/video_creator_projects?select=%2A&id=eq.27 \"HTTP/1.1 200 OK\"\n",
      "2023-11-01 16:48:19,490:INFO - HTTP Request: GET https://fpyltvtkpkrkzortucoa.supabase.co/rest/v1/video_creator_projects?select=%2A&id=eq.27 \"HTTP/1.1 200 OK\"\n",
      "2023-11-01 16:48:19,943:INFO - HTTP Request: GET https://fpyltvtkpkrkzortucoa.supabase.co/rest/v1/scenes?select=%2A&project_id=eq.27&status=eq.Active \"HTTP/1.1 200 OK\"\n",
      "2023-11-01 16:48:20,067:INFO - HTTP Request: PATCH https://fpyltvtkpkrkzortucoa.supabase.co/rest/v1/scenes?id=eq.207 \"HTTP/1.1 200 OK\"\n"
     ]
    },
    {
     "name": "stdout",
     "output_type": "stream",
     "text": [
      "updating scene 207 with {'length': 2.849, 'start': 0, 'end': 2.849}\n",
      "[{'id': 207, 'created_at': '2023-10-31T22:12:47.813861+00:00', 'project_id': 27, 'scene_order_position': 1, 'scene_text': 'One day there was a cute dog called Dorris.', 'status': 'Active', 'album_id': 221, 'theme_keywords': ['Adorable canine creature', 'Empty dog bed', 'Bright sunny weather', 'Tail wagging excitement', 'Moments of peace'], 'sd_prompts': ['(Small fluffy dog, cute), sitting, house front porch, daytime'], 'final_clip': 849, 'timings': {'end': 2.849, 'start': 0, 'length': 2.849}}]\n",
      "\n",
      "\n",
      "updating scene 208 with {'length': 1.941, 'start': 2.849, 'end': 4.79}\n"
     ]
    },
    {
     "name": "stderr",
     "output_type": "stream",
     "text": [
      "2023-11-01 16:48:20,152:INFO - HTTP Request: PATCH https://fpyltvtkpkrkzortucoa.supabase.co/rest/v1/scenes?id=eq.208 \"HTTP/1.1 200 OK\"\n",
      "2023-11-01 16:48:20,237:INFO - HTTP Request: PATCH https://fpyltvtkpkrkzortucoa.supabase.co/rest/v1/scenes?id=eq.209 \"HTTP/1.1 200 OK\"\n"
     ]
    },
    {
     "name": "stdout",
     "output_type": "stream",
     "text": [
      "[{'id': 208, 'created_at': '2023-10-31T22:12:47.985469+00:00', 'project_id': 27, 'scene_order_position': 2, 'scene_text': 'she went out to play in the rain.', 'status': 'Active', 'album_id': 222, 'theme_keywords': ['Rain dancing droplets', 'Muddy playfield', 'Joyous bouncing outdoors', 'Rainswept landscape', 'Unleashed freedom'], 'sd_prompts': ['(Small fluffy dog), stepping timidly, rain falling, garden, puddles everywhere'], 'final_clip': 949, 'timings': {'end': 4.79, 'start': 2.849, 'length': 1.941}}]\n",
      "\n",
      "\n",
      "updating scene 209 with {'length': 2.161, 'start': 4.79, 'end': 6.951}\n",
      "[{'id': 209, 'created_at': '2023-10-31T22:12:48.187687+00:00', 'project_id': 27, 'scene_order_position': 2, 'scene_text': \"At first, she didn't like the rain.\", 'status': 'Active', 'album_id': 223, 'theme_keywords': ['Dog shielding under tree', 'Frightened canine expression', 'Distinct dislike', 'Avoidance of rain puddles', 'Wet fur discomfort'], 'sd_prompts': ['(Small fluffy dog), Sitting in the rain, unhappy expression, wet fur, garden backdrop'], 'final_clip': 951, 'timings': {'end': 6.951, 'start': 4.79, 'length': 2.161}}]\n",
      "\n",
      "\n",
      "updating scene 210 with {'length': 2.221, 'start': 6.951, 'end': 9.172}\n"
     ]
    },
    {
     "name": "stderr",
     "output_type": "stream",
     "text": [
      "2023-11-01 16:48:20,383:INFO - HTTP Request: PATCH https://fpyltvtkpkrkzortucoa.supabase.co/rest/v1/scenes?id=eq.210 \"HTTP/1.1 200 OK\"\n",
      "2023-11-01 16:48:20,475:INFO - HTTP Request: PATCH https://fpyltvtkpkrkzortucoa.supabase.co/rest/v1/scenes?id=eq.211 \"HTTP/1.1 200 OK\"\n"
     ]
    },
    {
     "name": "stdout",
     "output_type": "stream",
     "text": [
      "[{'id': 210, 'created_at': '2023-10-31T22:12:48.365005+00:00', 'project_id': 27, 'scene_order_position': 3, 'scene_text': 'Then she overcame her fear.', 'status': 'Active', 'album_id': 224, 'theme_keywords': ['Overcoming obstacles', 'Bravery step into rain', 'Change in perception', 'Fearlessness against the weather', 'Acceptance of change'], 'sd_prompts': ['(Small fluffy dog), closed eyes, shaking off rain, expression of surprise and enjoyment, bright colors'], 'final_clip': 566, 'timings': {'end': 9.172, 'start': 6.951, 'length': 2.221}}]\n",
      "\n",
      "\n",
      "updating scene 211 with {'length': 1.773, 'start': 9.172, 'end': 10.945}\n",
      "[{'id': 211, 'created_at': '2023-10-31T22:12:48.589199+00:00', 'project_id': 27, 'scene_order_position': 4, 'scene_text': 'Now she is always muddy!', 'status': 'Active', 'album_id': 225, 'theme_keywords': ['Muddy pawprints', 'Happy dirty dog', 'Everyday is a muddy playday', 'Love for mud', 'Filthy fun canine'], 'sd_prompts': ['(Small fluffy dog), covered in mud, happy expression, wagging tail, muddy paw prints around'], 'final_clip': 675, 'timings': {'end': 10.945, 'start': 9.172, 'length': 1.773}}]\n",
      "\n",
      "\n"
     ]
    }
   ],
   "source": [
    "# Usage\n",
    "project_id = 27\n",
    "scene_timings_raw = process_project_scenes(project_id)\n",
    "scene_timings_processed = process_scene_timings(scene_timings_raw, project_id)\n",
    "update = update_timings_database(scene_timings_processed, project_id)"
   ]
  }
 ],
 "metadata": {
  "kernelspec": {
   "display_name": "myenv",
   "language": "python",
   "name": "python3"
  },
  "language_info": {
   "codemirror_mode": {
    "name": "ipython",
    "version": 3
   },
   "file_extension": ".py",
   "mimetype": "text/x-python",
   "name": "python",
   "nbconvert_exporter": "python",
   "pygments_lexer": "ipython3",
   "version": "3.11.6"
  }
 },
 "nbformat": 4,
 "nbformat_minor": 2
}
