{
 "cells": [
  {
   "cell_type": "code",
   "execution_count": null,
   "metadata": {},
   "outputs": [],
   "source": [
    "from elevenlabs import set_api_key\n",
    "set_api_key(\"d9824f8752565ea5e909ff4c45bc4693\")"
   ]
  },
  {
   "cell_type": "code",
   "execution_count": null,
   "metadata": {},
   "outputs": [],
   "source": [
    "from elevenlabs import voices, generate\n",
    "\n",
    "voices = voices()\n",
    "audio = generate(text=\"Hello there!\", voice=voices[0])\n",
    "for voice in voices:\n",
    "    print(voice)\n",
    "\n",
    "# voice_id='CYw3kZ02Hs0563khs1Fj' name='Dave' category='premade' description=None labels={'accent': 'british-essex', 'description': 'conversational', 'age': 'young', 'gender': 'male', 'use case': 'video games'} samples=None design=None preview_url='https://storage.googleapis.com/eleven-public-prod/premade/voices/CYw3kZ02Hs0563khs1Fj/872cb056-45d3-419e-b5c6-de2b387a93a0.mp3' settings=None\n"
   ]
  },
  {
   "cell_type": "code",
   "execution_count": null,
   "metadata": {},
   "outputs": [],
   "source": [
    "from elevenlabs import generate, play\n",
    "\n",
    "audio = generate(\n",
    "  text=\"Hello! 你好! Hola! नमस्ते! Bonjour! こんにちは! مرحبا! 안녕하세요! Ciao! Cześć! Привіт! வணக்கம்!\",\n",
    "  voice=\"Bella\",\n",
    "  model=\"eleven_multilingual_v2\"\n",
    ")\n",
    "\n",
    "print(audio)"
   ]
  },
  {
   "cell_type": "code",
   "execution_count": null,
   "metadata": {},
   "outputs": [],
   "source": [
    "from elevenlabs import Voice, VoiceSettings, generate\n",
    "\n",
    "audio = generate(\n",
    "    text=\"Hello! My name is Bella.\",\n",
    "    voice=Voice(\n",
    "        voice_id='EXAVITQu4vr4xnSDxMaL',\n",
    "        settings=VoiceSettings(stability=0.71, similarity_boost=0.5, style=0.0, use_speaker_boost=True)\n",
    "    )\n",
    ")\n",
    "\n",
    "play(audio)"
   ]
  },
  {
   "cell_type": "code",
   "execution_count": null,
   "metadata": {},
   "outputs": [],
   "source": [
    "    # result = funcs_elevenlabs.text_to_speech(voice_id, joined_string, stability, similarity_boost, style, use_speaker_boost)\n",
    "http://127.0.0.1:5000/button5_api?stability=0.5&clarity=0.5&style=0.5&speakerBoost=on&voice_id=AZnzlk1XvdvUeBnXmlld&project_id=19\n"
   ]
  },
  {
   "cell_type": "code",
   "execution_count": 1,
   "metadata": {},
   "outputs": [
    {
     "name": "stderr",
     "output_type": "stream",
     "text": [
      "[nltk_data] Downloading package punkt to\n",
      "[nltk_data]     /Users/georgebennett/nltk_data...\n",
      "[nltk_data]   Package punkt is already up-to-date!\n",
      "2023-09-20 16:00:27,657:INFO - HTTP Request: GET https://fpyltvtkpkrkzortucoa.supabase.co/rest/v1/scenes?select=%2A&project_id=eq.19&status=eq.Active \"HTTP/1.1 200 OK\"\n"
     ]
    },
    {
     "name": "stdout",
     "output_type": "stream",
     "text": [
      "Once upon a time, Emily faced the colossal mountain of student debt, feeling overwhelmed and suffocated by the numbers. Each bill in the mailbox served as a constant reminder of her inability to pursue her true passion: wildlife photography. Then one day, inspired by a lecture from a famous photographer, she took out her old camera and began capturing the beauty of the local forests. She used her small social media following to display her work, and soon enough, she attracted the attention of a local art gallery. The gallery offered to host an exhibition of her photography, and it was a resounding success. Using the funds from the sold pieces, Emily managed to pay off a significant chunk of her debt, liberating her to take more daring trips for even better shots. More exhibitions followed, each more successful than the last, until she was finally free of debt. With her newfound financial freedom, Emily established a wildlife sanctuary, combining her passion for photography and conservation. Her story spread, and soon she was invited to give lectures, inspiring the next generation to conquer their obstacles just as she had. Emily looked at her life, realizing that she had transformed her mountain of debt into a mountain of dreams, climbed and conquered. \n"
     ]
    }
   ],
   "source": [
    "import funcs_elevenlabs\n",
    "import actions \n",
    "project =19\n",
    "\n",
    "scenes_list = actions.get_active_scenes(project)\n",
    "joined_scenes_text = \"\"\n",
    "for scene in scenes_list:\n",
    "    scene_text = scene[\"scene_text\"]\n",
    "    joined_scenes_text = joined_scenes_text + scene_text + \" \"\n",
    "\n",
    "print(joined_scenes_text)"
   ]
  },
  {
   "cell_type": "code",
   "execution_count": 2,
   "metadata": {},
   "outputs": [
    {
     "name": "stdout",
     "output_type": "stream",
     "text": [
      ".png\n"
     ]
    },
    {
     "name": "stderr",
     "output_type": "stream",
     "text": [
      "2023-09-20 16:20:16,095:INFO - HTTP Request: POST https://fpyltvtkpkrkzortucoa.supabase.co/storage/v1/object/media/881570195154368.mp3 \"HTTP/1.1 200 OK\"\n"
     ]
    },
    {
     "name": "stdout",
     "output_type": "stream",
     "text": [
      "<Response [200 OK]>\n",
      "https://fpyltvtkpkrkzortucoa.supabase.co/storage/v1/object/public/media/881570195154368.mp3\n"
     ]
    }
   ],
   "source": [
    "import media\n",
    "import funcs_elevenlabs\n",
    "import random \n",
    "rand_no = random.randint(0, 1000000000000000)\n",
    "audio_bin = funcs_elevenlabs.text_to_speech(voice_id=\"AZnzlk1XvdvUeBnXmlld\", text=\"Hello George and hannah\")\n",
    "filename = f\"{rand_no}.mp3\"\n",
    "url = media.upload_to_supabase(\"media\", audio_bin, is_binary=True, custom_filename=filename)\n",
    "print(url)\n"
   ]
  }
 ],
 "metadata": {
  "kernelspec": {
   "display_name": "myenv",
   "language": "python",
   "name": "python3"
  },
  "language_info": {
   "codemirror_mode": {
    "name": "ipython",
    "version": 3
   },
   "file_extension": ".py",
   "mimetype": "text/x-python",
   "name": "python",
   "nbconvert_exporter": "python",
   "pygments_lexer": "ipython3",
   "version": "3.10.6"
  },
  "orig_nbformat": 4
 },
 "nbformat": 4,
 "nbformat_minor": 2
}
