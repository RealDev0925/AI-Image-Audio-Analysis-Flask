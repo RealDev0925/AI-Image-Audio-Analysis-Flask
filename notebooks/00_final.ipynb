{
 "cells": [
  {
   "cell_type": "code",
   "execution_count": 31,
   "metadata": {},
   "outputs": [
    {
     "name": "stdout",
     "output_type": "stream",
     "text": [
      "[{'name': 'scene_id', 'value': '113'}, {'name': 'scene_text', 'value': 'Once upon a time, Emily faced the colossal mountain of student debt, feeling overwhelmed and suffocated by the numbers.'}, {'name': 'scene_keywords[0][keyword]', 'value': 'Stifled by debt'}, {'name': 'scene_keywords[1][keyword]', 'value': 'Suffocating numbers'}, {'name': 'scene_keywords[2][keyword]', 'value': 'Colossal mountain'}, {'name': 'scene_keywords[3][keyword]', 'value': 'Sense of Overwhelm'}, {'name': 'scene_keywords[4][keyword]', 'value': 'Gloomy outlook'}, {'name': 'scene_prompts[0][prompt]', 'value': '(Female, 20s, brown hair, stressed, glasses), sitting at kitchen table, bills and calculator, mountain-shaped shadow'}]\n"
     ]
    }
   ],
   "source": [
    "data = [{'name': 'scene_id', 'value': '113'}, {'name': 'scene_text', 'value': 'Once upon a time, Emily faced the colossal mountain of student debt, feeling overwhelmed and suffocated by the numbers.'}, {'name': 'scene_keywords[0][keyword]', 'value': 'Stifled by debt'}, {'name': 'scene_keywords[1][keyword]', 'value': 'Suffocating numbers'}, {'name': 'scene_keywords[2][keyword]', 'value': 'Colossal mountain'}, {'name': 'scene_keywords[3][keyword]', 'value': 'Sense of Overwhelm'}, {'name': 'scene_keywords[4][keyword]', 'value': 'Gloomy outlook'}, {'name': 'scene_prompts[0][prompt]', 'value': '(Female, 20s, brown hair, stressed, glasses), sitting at kitchen table, bills and calculator, mountain-shaped shadow'}]\n",
    "print(data)"
   ]
  },
  {
   "cell_type": "code",
   "execution_count": 32,
   "metadata": {},
   "outputs": [
    {
     "name": "stdout",
     "output_type": "stream",
     "text": [
      "scene_id 113\n",
      "scene_text Once upon a time, Emily faced the colossal mountain of student debt, feeling overwhelmed and suffocated by the numbers.\n",
      "scene_keywords [{'keyword': 'Stifled by debt'}, {'keyword': 'Suffocating numbers'}, {'keyword': 'Colossal mountain'}, {'keyword': 'Sense of Overwhelm'}, {'keyword': 'Gloomy outlook'}]\n",
      "scene_prompts [{'prompt': '(Female, 20s, brown hair, stressed, glasses), sitting at kitchen table, bills and calculator, mountain-shaped shadow'}]\n"
     ]
    }
   ],
   "source": [
    "def convert_to_dict(js_data):\n",
    "    python_dict = {}\n",
    "\n",
    "    for item in js_data:\n",
    "        key = item['name']\n",
    "        value = item['value']\n",
    "\n",
    "        if '[' in key and ']' in key:\n",
    "            # Extract base key and sub-keys\n",
    "            base_key, rest = key.split('[', 1)\n",
    "            sub_key = rest.split(']', 1)[0]\n",
    "\n",
    "            if base_key not in python_dict:\n",
    "                python_dict[base_key] = []\n",
    "\n",
    "            # Convert sub_key to int if possible\n",
    "            try:\n",
    "                sub_key = int(sub_key)\n",
    "            except ValueError:\n",
    "                pass\n",
    "\n",
    "            # Expand the list if necessary\n",
    "            while len(python_dict[base_key]) <= sub_key:\n",
    "                python_dict[base_key].append(None)\n",
    "\n",
    "            # Further nesting\n",
    "            if '][' in rest:\n",
    "                _, nested_key = rest.split('][')\n",
    "                nested_key = nested_key.replace(']', '').replace('[', '')\n",
    "\n",
    "                # If the final list item is None or not a dictionary, create a dictionary\n",
    "                if not isinstance(python_dict[base_key][sub_key], dict):\n",
    "                    python_dict[base_key][sub_key] = {}\n",
    "\n",
    "                python_dict[base_key][sub_key][nested_key] = value\n",
    "            else:\n",
    "                # Directly assign the value for simple list scenarios\n",
    "                python_dict[base_key][sub_key] = value\n",
    "        else:\n",
    "            python_dict[key] = value\n",
    "\n",
    "    return python_dict\n",
    "\n",
    "# Your data\n",
    "js_data = [\n",
    "    {'name': 'scene_id', 'value': '113'},\n",
    "    {'name': 'scene_text', 'value': 'Once upon a time, Emily faced the colossal mountain of student debt, feeling overwhelmed and suffocated by the numbers.'},\n",
    "    {'name': 'scene_keywords[0][keyword]', 'value': 'Stifled by debt'},\n",
    "    {'name': 'scene_keywords[1][keyword]', 'value': 'Suffocating numbers'},\n",
    "    {'name': 'scene_keywords[2][keyword]', 'value': 'Colossal mountain'},\n",
    "    {'name': 'scene_keywords[3][keyword]', 'value': 'Sense of Overwhelm'},\n",
    "    {'name': 'scene_keywords[4][keyword]', 'value': 'Gloomy outlook'},\n",
    "    {'name': 'scene_prompts[0][prompt]', 'value': '(Female, 20s, brown hair, stressed, glasses), sitting at kitchen table, bills and calculator, mountain-shaped shadow'}\n",
    "]\n",
    "\n",
    "pythonic_dict = convert_to_dict(js_data)\n",
    "for item in pythonic_dict:\n",
    "    print(item, pythonic_dict[item])"
   ]
  },
  {
   "cell_type": "code",
   "execution_count": 33,
   "metadata": {},
   "outputs": [
    {
     "name": "stdout",
     "output_type": "stream",
     "text": [
      "{'scene_id': '113', 'scene_text': 'Once upon a time, Emily faced the colossal mountain of student debt, feeling overwhelmed and suffocated by the numbers.', 'scene_keywords': ['Stifled by debt', 'Suffocating numbers', 'Colossal mountain', 'Sense of Overwhelm', 'Gloomy outlook'], 'scene_prompts': ['(Female, 20s, brown hair, stressed, glasses), sitting at kitchen table, bills and calculator, mountain-shaped shadow']}\n"
     ]
    }
   ],
   "source": [
    "def extract_values_if_same_key(dict_list):\n",
    "    if not dict_list:\n",
    "        return []\n",
    "\n",
    "    # Check if all dictionaries have the same single key\n",
    "    all_keys = {list(d.keys())[0] for d in dict_list if d}\n",
    "    if len(all_keys) == 1:\n",
    "        key = all_keys.pop()\n",
    "        return [d[key] for d in dict_list if key in d]\n",
    "    else:\n",
    "        raise ValueError(\"Not all dictionaries have the same single key\")\n",
    "\n",
    "\n",
    "processed_dict = {}\n",
    "\n",
    "for item in pythonic_dict:\n",
    "    value = pythonic_dict[item]\n",
    "\n",
    "\n",
    "    if type(value) == list:\n",
    "        # print(item)\n",
    "        values = extract_values_if_same_key(value)\n",
    "        # print(values)\n",
    "\n",
    "        processed_dict[item] = values\n",
    "\n",
    "    else:\n",
    "        processed_dict[item] = value\n",
    "\n",
    "\n",
    "\n",
    "\n",
    "print(processed_dict)\n",
    "\n",
    "\n",
    "\n"
   ]
  }
 ],
 "metadata": {
  "kernelspec": {
   "display_name": "myenv",
   "language": "python",
   "name": "python3"
  },
  "language_info": {
   "codemirror_mode": {
    "name": "ipython",
    "version": 3
   },
   "file_extension": ".py",
   "mimetype": "text/x-python",
   "name": "python",
   "nbconvert_exporter": "python",
   "pygments_lexer": "ipython3",
   "version": "3.11.6"
  }
 },
 "nbformat": 4,
 "nbformat_minor": 2
}
